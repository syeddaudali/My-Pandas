{
 "cells": [
  {
   "cell_type": "code",
   "execution_count": 4,
   "id": "df3f5e13",
   "metadata": {},
   "outputs": [],
   "source": [
    "import pandas as pd"
   ]
  },
  {
   "cell_type": "code",
   "execution_count": 5,
   "id": "9c07d6cb",
   "metadata": {},
   "outputs": [],
   "source": [
    "df=pd.read_csv(\"Ecommerce Purchases.csv\")"
   ]
  },
  {
   "cell_type": "markdown",
   "id": "bf5a2902",
   "metadata": {},
   "source": [
    "# Sample Rows"
   ]
  },
  {
   "cell_type": "code",
   "execution_count": 6,
   "id": "e786afb4",
   "metadata": {},
   "outputs": [
    {
     "data": {
      "text/html": [
       "<div>\n",
       "<style scoped>\n",
       "    .dataframe tbody tr th:only-of-type {\n",
       "        vertical-align: middle;\n",
       "    }\n",
       "\n",
       "    .dataframe tbody tr th {\n",
       "        vertical-align: top;\n",
       "    }\n",
       "\n",
       "    .dataframe thead th {\n",
       "        text-align: right;\n",
       "    }\n",
       "</style>\n",
       "<table border=\"1\" class=\"dataframe\">\n",
       "  <thead>\n",
       "    <tr style=\"text-align: right;\">\n",
       "      <th></th>\n",
       "      <th>Address</th>\n",
       "      <th>Lot</th>\n",
       "      <th>AM or PM</th>\n",
       "      <th>Browser Info</th>\n",
       "      <th>Company</th>\n",
       "      <th>Credit Card</th>\n",
       "      <th>CC Exp Date</th>\n",
       "      <th>CC Security Code</th>\n",
       "      <th>CC Provider</th>\n",
       "      <th>Email</th>\n",
       "      <th>Job</th>\n",
       "      <th>IP Address</th>\n",
       "      <th>Language</th>\n",
       "      <th>Purchase Price</th>\n",
       "    </tr>\n",
       "  </thead>\n",
       "  <tbody>\n",
       "    <tr>\n",
       "      <th>1007</th>\n",
       "      <td>651 Oneal Ways Suite 156\\nNew Deniseshire, HI ...</td>\n",
       "      <td>79 TC</td>\n",
       "      <td>PM</td>\n",
       "      <td>Mozilla/5.0 (iPod; U; CPU iPhone OS 3_0 like M...</td>\n",
       "      <td>Howe, Jones and Hughes</td>\n",
       "      <td>630477481505</td>\n",
       "      <td>10/18</td>\n",
       "      <td>580</td>\n",
       "      <td>Diners Club / Carte Blanche</td>\n",
       "      <td>sheryl55@gmail.com</td>\n",
       "      <td>Education officer, environmental</td>\n",
       "      <td>247.29.32.164</td>\n",
       "      <td>zh</td>\n",
       "      <td>95.10</td>\n",
       "    </tr>\n",
       "    <tr>\n",
       "      <th>5290</th>\n",
       "      <td>66279 Christina Port\\nDylanstad, ME 45072-8978</td>\n",
       "      <td>17 IC</td>\n",
       "      <td>AM</td>\n",
       "      <td>Mozilla/5.0 (Windows NT 6.0) AppleWebKit/5311 ...</td>\n",
       "      <td>Salinas LLC</td>\n",
       "      <td>4640508903135044</td>\n",
       "      <td>05/26</td>\n",
       "      <td>677</td>\n",
       "      <td>Maestro</td>\n",
       "      <td>sharonbell@pena.biz</td>\n",
       "      <td>Chartered legal executive (England and Wales)</td>\n",
       "      <td>148.45.104.29</td>\n",
       "      <td>fr</td>\n",
       "      <td>41.80</td>\n",
       "    </tr>\n",
       "    <tr>\n",
       "      <th>6995</th>\n",
       "      <td>911 Smith Mountains\\nCurtisland, ME 42357</td>\n",
       "      <td>58 LZ</td>\n",
       "      <td>PM</td>\n",
       "      <td>Mozilla/5.0 (compatible; MSIE 9.0; Windows NT ...</td>\n",
       "      <td>Gallagher, Edwards and Moore</td>\n",
       "      <td>4278333060521</td>\n",
       "      <td>04/18</td>\n",
       "      <td>147</td>\n",
       "      <td>Maestro</td>\n",
       "      <td>erica61@deleon-ayala.biz</td>\n",
       "      <td>Musician</td>\n",
       "      <td>105.166.134.222</td>\n",
       "      <td>pt</td>\n",
       "      <td>22.34</td>\n",
       "    </tr>\n",
       "  </tbody>\n",
       "</table>\n",
       "</div>"
      ],
      "text/plain": [
       "                                                Address    Lot AM or PM  \\\n",
       "1007  651 Oneal Ways Suite 156\\nNew Deniseshire, HI ...  79 TC       PM   \n",
       "5290     66279 Christina Port\\nDylanstad, ME 45072-8978  17 IC       AM   \n",
       "6995          911 Smith Mountains\\nCurtisland, ME 42357  58 LZ       PM   \n",
       "\n",
       "                                           Browser Info  \\\n",
       "1007  Mozilla/5.0 (iPod; U; CPU iPhone OS 3_0 like M...   \n",
       "5290  Mozilla/5.0 (Windows NT 6.0) AppleWebKit/5311 ...   \n",
       "6995  Mozilla/5.0 (compatible; MSIE 9.0; Windows NT ...   \n",
       "\n",
       "                           Company       Credit Card CC Exp Date  \\\n",
       "1007        Howe, Jones and Hughes      630477481505       10/18   \n",
       "5290                   Salinas LLC  4640508903135044       05/26   \n",
       "6995  Gallagher, Edwards and Moore     4278333060521       04/18   \n",
       "\n",
       "      CC Security Code                  CC Provider                     Email  \\\n",
       "1007               580  Diners Club / Carte Blanche        sheryl55@gmail.com   \n",
       "5290               677                      Maestro       sharonbell@pena.biz   \n",
       "6995               147                      Maestro  erica61@deleon-ayala.biz   \n",
       "\n",
       "                                                Job       IP Address Language  \\\n",
       "1007               Education officer, environmental    247.29.32.164       zh   \n",
       "5290  Chartered legal executive (England and Wales)    148.45.104.29       fr   \n",
       "6995                                       Musician  105.166.134.222       pt   \n",
       "\n",
       "      Purchase Price  \n",
       "1007           95.10  \n",
       "5290           41.80  \n",
       "6995           22.34  "
      ]
     },
     "execution_count": 6,
     "metadata": {},
     "output_type": "execute_result"
    }
   ],
   "source": [
    "df.sample(3)"
   ]
  },
  {
   "cell_type": "markdown",
   "id": "623c883f",
   "metadata": {},
   "source": [
    "# Data Types of Each Column"
   ]
  },
  {
   "cell_type": "code",
   "execution_count": 7,
   "id": "5dd87bd4",
   "metadata": {},
   "outputs": [
    {
     "data": {
      "text/plain": [
       "Address              object\n",
       "Lot                  object\n",
       "AM or PM             object\n",
       "Browser Info         object\n",
       "Company              object\n",
       "Credit Card           int64\n",
       "CC Exp Date          object\n",
       "CC Security Code      int64\n",
       "CC Provider          object\n",
       "Email                object\n",
       "Job                  object\n",
       "IP Address           object\n",
       "Language             object\n",
       "Purchase Price      float64\n",
       "dtype: object"
      ]
     },
     "execution_count": 7,
     "metadata": {},
     "output_type": "execute_result"
    }
   ],
   "source": [
    "df.dtypes"
   ]
  },
  {
   "cell_type": "markdown",
   "id": "26acc459",
   "metadata": {},
   "source": [
    "# Null Values in Each Column "
   ]
  },
  {
   "cell_type": "code",
   "execution_count": 8,
   "id": "69a357ec",
   "metadata": {},
   "outputs": [
    {
     "data": {
      "text/plain": [
       "Address             0\n",
       "Lot                 0\n",
       "AM or PM            0\n",
       "Browser Info        0\n",
       "Company             0\n",
       "Credit Card         0\n",
       "CC Exp Date         0\n",
       "CC Security Code    0\n",
       "CC Provider         0\n",
       "Email               0\n",
       "Job                 0\n",
       "IP Address          0\n",
       "Language            0\n",
       "Purchase Price      0\n",
       "dtype: int64"
      ]
     },
     "execution_count": 8,
     "metadata": {},
     "output_type": "execute_result"
    }
   ],
   "source": [
    "df.isnull().sum()"
   ]
  },
  {
   "cell_type": "markdown",
   "id": "4e1ee01a",
   "metadata": {},
   "source": [
    "# Number of Rows in My Data-Set"
   ]
  },
  {
   "cell_type": "code",
   "execution_count": 9,
   "id": "1caa4b29",
   "metadata": {},
   "outputs": [
    {
     "data": {
      "text/plain": [
       "RangeIndex(start=0, stop=10000, step=1)"
      ]
     },
     "execution_count": 9,
     "metadata": {},
     "output_type": "execute_result"
    }
   ],
   "source": [
    "df.index"
   ]
  },
  {
   "cell_type": "markdown",
   "id": "05c277d5",
   "metadata": {},
   "source": [
    "# No of Columns in My Data-Set"
   ]
  },
  {
   "cell_type": "code",
   "execution_count": 10,
   "id": "0aa6048f",
   "metadata": {},
   "outputs": [
    {
     "data": {
      "text/plain": [
       "Index(['Address', 'Lot', 'AM or PM', 'Browser Info', 'Company', 'Credit Card',\n",
       "       'CC Exp Date', 'CC Security Code', 'CC Provider', 'Email', 'Job',\n",
       "       'IP Address', 'Language', 'Purchase Price'],\n",
       "      dtype='object')"
      ]
     },
     "execution_count": 10,
     "metadata": {},
     "output_type": "execute_result"
    }
   ],
   "source": [
    "df.columns"
   ]
  },
  {
   "cell_type": "markdown",
   "id": "53d1b658",
   "metadata": {},
   "source": [
    "# Info about My Data_Set"
   ]
  },
  {
   "cell_type": "code",
   "execution_count": 11,
   "id": "58c4e756",
   "metadata": {},
   "outputs": [
    {
     "name": "stdout",
     "output_type": "stream",
     "text": [
      "<class 'pandas.core.frame.DataFrame'>\n",
      "RangeIndex: 10000 entries, 0 to 9999\n",
      "Data columns (total 14 columns):\n",
      " #   Column            Non-Null Count  Dtype  \n",
      "---  ------            --------------  -----  \n",
      " 0   Address           10000 non-null  object \n",
      " 1   Lot               10000 non-null  object \n",
      " 2   AM or PM          10000 non-null  object \n",
      " 3   Browser Info      10000 non-null  object \n",
      " 4   Company           10000 non-null  object \n",
      " 5   Credit Card       10000 non-null  int64  \n",
      " 6   CC Exp Date       10000 non-null  object \n",
      " 7   CC Security Code  10000 non-null  int64  \n",
      " 8   CC Provider       10000 non-null  object \n",
      " 9   Email             10000 non-null  object \n",
      " 10  Job               10000 non-null  object \n",
      " 11  IP Address        10000 non-null  object \n",
      " 12  Language          10000 non-null  object \n",
      " 13  Purchase Price    10000 non-null  float64\n",
      "dtypes: float64(1), int64(2), object(11)\n",
      "memory usage: 1.1+ MB\n"
     ]
    }
   ],
   "source": [
    "df.info()"
   ]
  },
  {
   "cell_type": "markdown",
   "id": "d4f884e0",
   "metadata": {},
   "source": [
    "# Highest and Lowest Purchase Price"
   ]
  },
  {
   "cell_type": "code",
   "execution_count": 12,
   "id": "79e4097d",
   "metadata": {},
   "outputs": [
    {
     "data": {
      "text/plain": [
       "99.99"
      ]
     },
     "execution_count": 12,
     "metadata": {},
     "output_type": "execute_result"
    }
   ],
   "source": [
    "df['Purchase Price'].max()"
   ]
  },
  {
   "cell_type": "code",
   "execution_count": 13,
   "id": "f79c78cf",
   "metadata": {},
   "outputs": [
    {
     "data": {
      "text/plain": [
       "0.0"
      ]
     },
     "execution_count": 13,
     "metadata": {},
     "output_type": "execute_result"
    }
   ],
   "source": [
    "df['Purchase Price'].min()"
   ]
  },
  {
   "cell_type": "markdown",
   "id": "f7b20447",
   "metadata": {},
   "source": [
    "# Average Price of Purchase Price"
   ]
  },
  {
   "cell_type": "code",
   "execution_count": 14,
   "id": "856ea0a7",
   "metadata": {},
   "outputs": [
    {
     "data": {
      "text/plain": [
       "50.34730200000025"
      ]
     },
     "execution_count": 14,
     "metadata": {},
     "output_type": "execute_result"
    }
   ],
   "source": [
    "df['Purchase Price'].mean()"
   ]
  },
  {
   "cell_type": "markdown",
   "id": "f4b96ff3",
   "metadata": {},
   "source": [
    "#  How Many People Have French 'fr' as their Language?"
   ]
  },
  {
   "cell_type": "code",
   "execution_count": 15,
   "id": "64b9fff4",
   "metadata": {},
   "outputs": [
    {
     "data": {
      "text/plain": [
       "Index(['Address', 'Lot', 'AM or PM', 'Browser Info', 'Company', 'Credit Card',\n",
       "       'CC Exp Date', 'CC Security Code', 'CC Provider', 'Email', 'Job',\n",
       "       'IP Address', 'Language', 'Purchase Price'],\n",
       "      dtype='object')"
      ]
     },
     "execution_count": 15,
     "metadata": {},
     "output_type": "execute_result"
    }
   ],
   "source": [
    "df.columns"
   ]
  },
  {
   "cell_type": "code",
   "execution_count": null,
   "id": "60f253cf",
   "metadata": {},
   "outputs": [],
   "source": []
  },
  {
   "cell_type": "code",
   "execution_count": 16,
   "id": "1ebe1817",
   "metadata": {},
   "outputs": [
    {
     "data": {
      "text/plain": [
       "1097"
      ]
     },
     "execution_count": 16,
     "metadata": {},
     "output_type": "execute_result"
    }
   ],
   "source": [
    "len(df[df['Language']=='fr'])"
   ]
  },
  {
   "cell_type": "code",
   "execution_count": 18,
   "id": "9ccaf787",
   "metadata": {},
   "outputs": [
    {
     "data": {
      "text/html": [
       "<div>\n",
       "<style scoped>\n",
       "    .dataframe tbody tr th:only-of-type {\n",
       "        vertical-align: middle;\n",
       "    }\n",
       "\n",
       "    .dataframe tbody tr th {\n",
       "        vertical-align: top;\n",
       "    }\n",
       "\n",
       "    .dataframe thead th {\n",
       "        text-align: right;\n",
       "    }\n",
       "</style>\n",
       "<table border=\"1\" class=\"dataframe\">\n",
       "  <thead>\n",
       "    <tr style=\"text-align: right;\">\n",
       "      <th></th>\n",
       "      <th>Address</th>\n",
       "      <th>Lot</th>\n",
       "      <th>AM or PM</th>\n",
       "      <th>Browser Info</th>\n",
       "      <th>Company</th>\n",
       "      <th>Credit Card</th>\n",
       "      <th>CC Exp Date</th>\n",
       "      <th>CC Security Code</th>\n",
       "      <th>CC Provider</th>\n",
       "      <th>Email</th>\n",
       "      <th>Job</th>\n",
       "      <th>IP Address</th>\n",
       "      <th>Language</th>\n",
       "      <th>Purchase Price</th>\n",
       "    </tr>\n",
       "  </thead>\n",
       "  <tbody>\n",
       "    <tr>\n",
       "      <th>1</th>\n",
       "      <td>9374 Jasmine Spurs Suite 508\\nSouth John, TN 8...</td>\n",
       "      <td>28 rn</td>\n",
       "      <td>PM</td>\n",
       "      <td>Opera/8.93.(Windows 98; Win 9x 4.90; en-US) Pr...</td>\n",
       "      <td>Fletcher, Richards and Whitaker</td>\n",
       "      <td>3337758169645356</td>\n",
       "      <td>11/18</td>\n",
       "      <td>561</td>\n",
       "      <td>Mastercard</td>\n",
       "      <td>anthony41@reed.com</td>\n",
       "      <td>Drilling engineer</td>\n",
       "      <td>15.160.41.51</td>\n",
       "      <td>fr</td>\n",
       "      <td>70.73</td>\n",
       "    </tr>\n",
       "    <tr>\n",
       "      <th>19</th>\n",
       "      <td>125 Hall Summit\\nBoothton, IL 41721</td>\n",
       "      <td>99 CU</td>\n",
       "      <td>PM</td>\n",
       "      <td>Mozilla/5.0 (compatible; MSIE 7.0; Windows NT ...</td>\n",
       "      <td>Turner-Mckinney</td>\n",
       "      <td>676343504830</td>\n",
       "      <td>02/20</td>\n",
       "      <td>440</td>\n",
       "      <td>VISA 16 digit</td>\n",
       "      <td>ruiznicole@gmail.com</td>\n",
       "      <td>Designer, interior/spatial</td>\n",
       "      <td>25.105.209.214</td>\n",
       "      <td>fr</td>\n",
       "      <td>58.39</td>\n",
       "    </tr>\n",
       "    <tr>\n",
       "      <th>53</th>\n",
       "      <td>PSC 9431, Box 7059\\nAPO AA 29285-1363</td>\n",
       "      <td>14 qD</td>\n",
       "      <td>AM</td>\n",
       "      <td>Opera/9.34.(X11; Linux x86_64; it-IT) Presto/2...</td>\n",
       "      <td>Higgins, Cardenas and Kennedy</td>\n",
       "      <td>869972604798355</td>\n",
       "      <td>08/17</td>\n",
       "      <td>157</td>\n",
       "      <td>JCB 16 digit</td>\n",
       "      <td>amorales@yahoo.com</td>\n",
       "      <td>Technical author</td>\n",
       "      <td>44.108.117.122</td>\n",
       "      <td>fr</td>\n",
       "      <td>10.41</td>\n",
       "    </tr>\n",
       "    <tr>\n",
       "      <th>76</th>\n",
       "      <td>49206 Campbell Port\\nNorth Cliffordshire, HI 3...</td>\n",
       "      <td>71 iu</td>\n",
       "      <td>PM</td>\n",
       "      <td>Mozilla/5.0 (Macintosh; U; PPC Mac OS X 10_5_9...</td>\n",
       "      <td>Jacobs-Tucker</td>\n",
       "      <td>6011343518820988</td>\n",
       "      <td>01/17</td>\n",
       "      <td>806</td>\n",
       "      <td>Voyager</td>\n",
       "      <td>eperez@hotmail.com</td>\n",
       "      <td>Paramedic</td>\n",
       "      <td>210.207.58.168</td>\n",
       "      <td>fr</td>\n",
       "      <td>57.34</td>\n",
       "    </tr>\n",
       "    <tr>\n",
       "      <th>82</th>\n",
       "      <td>493 Smith Valleys Suite 004\\nNew Madelineville...</td>\n",
       "      <td>35 ls</td>\n",
       "      <td>PM</td>\n",
       "      <td>Mozilla/5.0 (iPod; U; CPU iPhone OS 4_0 like M...</td>\n",
       "      <td>Robinson, Johnston and Valdez</td>\n",
       "      <td>4351359627548412</td>\n",
       "      <td>06/17</td>\n",
       "      <td>937</td>\n",
       "      <td>VISA 13 digit</td>\n",
       "      <td>amendez@yahoo.com</td>\n",
       "      <td>Engineer, materials</td>\n",
       "      <td>163.129.163.100</td>\n",
       "      <td>fr</td>\n",
       "      <td>49.04</td>\n",
       "    </tr>\n",
       "    <tr>\n",
       "      <th>...</th>\n",
       "      <td>...</td>\n",
       "      <td>...</td>\n",
       "      <td>...</td>\n",
       "      <td>...</td>\n",
       "      <td>...</td>\n",
       "      <td>...</td>\n",
       "      <td>...</td>\n",
       "      <td>...</td>\n",
       "      <td>...</td>\n",
       "      <td>...</td>\n",
       "      <td>...</td>\n",
       "      <td>...</td>\n",
       "      <td>...</td>\n",
       "      <td>...</td>\n",
       "    </tr>\n",
       "    <tr>\n",
       "      <th>9941</th>\n",
       "      <td>43757 Brown Lodge\\nValerieberg, PR 88518</td>\n",
       "      <td>68 DG</td>\n",
       "      <td>AM</td>\n",
       "      <td>Mozilla/5.0 (compatible; MSIE 5.0; Windows NT ...</td>\n",
       "      <td>Jones, Williams and Dunn</td>\n",
       "      <td>6011508474487291</td>\n",
       "      <td>04/26</td>\n",
       "      <td>906</td>\n",
       "      <td>Mastercard</td>\n",
       "      <td>christian55@gmail.com</td>\n",
       "      <td>Secondary school teacher</td>\n",
       "      <td>216.118.235.145</td>\n",
       "      <td>fr</td>\n",
       "      <td>60.03</td>\n",
       "    </tr>\n",
       "    <tr>\n",
       "      <th>9947</th>\n",
       "      <td>32827 Carl Inlet\\nSouth Nicole, NY 38081-6636</td>\n",
       "      <td>40 Dp</td>\n",
       "      <td>PM</td>\n",
       "      <td>Mozilla/5.0 (Windows; U; Windows 95) AppleWebK...</td>\n",
       "      <td>Pruitt-Flores</td>\n",
       "      <td>3158564208754951</td>\n",
       "      <td>03/17</td>\n",
       "      <td>386</td>\n",
       "      <td>Mastercard</td>\n",
       "      <td>josephsmith@gmail.com</td>\n",
       "      <td>Textile designer</td>\n",
       "      <td>198.68.38.23</td>\n",
       "      <td>fr</td>\n",
       "      <td>49.61</td>\n",
       "    </tr>\n",
       "    <tr>\n",
       "      <th>9951</th>\n",
       "      <td>518 Brown Dam\\nGarciaside, IN 33057</td>\n",
       "      <td>71 wq</td>\n",
       "      <td>AM</td>\n",
       "      <td>Mozilla/5.0 (compatible; MSIE 8.0; Windows NT ...</td>\n",
       "      <td>Crosby, Vasquez and Ballard</td>\n",
       "      <td>5256758441931287</td>\n",
       "      <td>12/17</td>\n",
       "      <td>146</td>\n",
       "      <td>VISA 16 digit</td>\n",
       "      <td>cjennings@yahoo.com</td>\n",
       "      <td>Lighting technician, broadcasting/film/video</td>\n",
       "      <td>58.12.83.1</td>\n",
       "      <td>fr</td>\n",
       "      <td>57.59</td>\n",
       "    </tr>\n",
       "    <tr>\n",
       "      <th>9977</th>\n",
       "      <td>02182 Keith Expressway\\nEast Shannon, CT 20578...</td>\n",
       "      <td>34 RL</td>\n",
       "      <td>AM</td>\n",
       "      <td>Mozilla/5.0 (compatible; MSIE 9.0; Windows NT ...</td>\n",
       "      <td>Deleon, Jacobson and Benton</td>\n",
       "      <td>4186094003664688</td>\n",
       "      <td>06/21</td>\n",
       "      <td>397</td>\n",
       "      <td>JCB 16 digit</td>\n",
       "      <td>daltoncarter@yahoo.com</td>\n",
       "      <td>Biomedical engineer</td>\n",
       "      <td>146.238.118.2</td>\n",
       "      <td>fr</td>\n",
       "      <td>94.93</td>\n",
       "    </tr>\n",
       "    <tr>\n",
       "      <th>9980</th>\n",
       "      <td>6061 Dave Lights\\nPhillipsview, UT 40500</td>\n",
       "      <td>25 Mv</td>\n",
       "      <td>AM</td>\n",
       "      <td>Opera/8.58.(Windows NT 5.0; it-IT) Presto/2.9....</td>\n",
       "      <td>Cortez-Frye</td>\n",
       "      <td>6011944199756993</td>\n",
       "      <td>12/24</td>\n",
       "      <td>755</td>\n",
       "      <td>JCB 15 digit</td>\n",
       "      <td>mark74@kirby-stewart.org</td>\n",
       "      <td>Textile designer</td>\n",
       "      <td>110.103.77.195</td>\n",
       "      <td>fr</td>\n",
       "      <td>16.05</td>\n",
       "    </tr>\n",
       "  </tbody>\n",
       "</table>\n",
       "<p>1097 rows × 14 columns</p>\n",
       "</div>"
      ],
      "text/plain": [
       "                                                Address    Lot AM or PM  \\\n",
       "1     9374 Jasmine Spurs Suite 508\\nSouth John, TN 8...  28 rn       PM   \n",
       "19                  125 Hall Summit\\nBoothton, IL 41721  99 CU       PM   \n",
       "53                PSC 9431, Box 7059\\nAPO AA 29285-1363  14 qD       AM   \n",
       "76    49206 Campbell Port\\nNorth Cliffordshire, HI 3...  71 iu       PM   \n",
       "82    493 Smith Valleys Suite 004\\nNew Madelineville...  35 ls       PM   \n",
       "...                                                 ...    ...      ...   \n",
       "9941           43757 Brown Lodge\\nValerieberg, PR 88518  68 DG       AM   \n",
       "9947      32827 Carl Inlet\\nSouth Nicole, NY 38081-6636  40 Dp       PM   \n",
       "9951                518 Brown Dam\\nGarciaside, IN 33057  71 wq       AM   \n",
       "9977  02182 Keith Expressway\\nEast Shannon, CT 20578...  34 RL       AM   \n",
       "9980           6061 Dave Lights\\nPhillipsview, UT 40500  25 Mv       AM   \n",
       "\n",
       "                                           Browser Info  \\\n",
       "1     Opera/8.93.(Windows 98; Win 9x 4.90; en-US) Pr...   \n",
       "19    Mozilla/5.0 (compatible; MSIE 7.0; Windows NT ...   \n",
       "53    Opera/9.34.(X11; Linux x86_64; it-IT) Presto/2...   \n",
       "76    Mozilla/5.0 (Macintosh; U; PPC Mac OS X 10_5_9...   \n",
       "82    Mozilla/5.0 (iPod; U; CPU iPhone OS 4_0 like M...   \n",
       "...                                                 ...   \n",
       "9941  Mozilla/5.0 (compatible; MSIE 5.0; Windows NT ...   \n",
       "9947  Mozilla/5.0 (Windows; U; Windows 95) AppleWebK...   \n",
       "9951  Mozilla/5.0 (compatible; MSIE 8.0; Windows NT ...   \n",
       "9977  Mozilla/5.0 (compatible; MSIE 9.0; Windows NT ...   \n",
       "9980  Opera/8.58.(Windows NT 5.0; it-IT) Presto/2.9....   \n",
       "\n",
       "                              Company       Credit Card CC Exp Date  \\\n",
       "1     Fletcher, Richards and Whitaker  3337758169645356       11/18   \n",
       "19                    Turner-Mckinney      676343504830       02/20   \n",
       "53      Higgins, Cardenas and Kennedy   869972604798355       08/17   \n",
       "76                      Jacobs-Tucker  6011343518820988       01/17   \n",
       "82      Robinson, Johnston and Valdez  4351359627548412       06/17   \n",
       "...                               ...               ...         ...   \n",
       "9941         Jones, Williams and Dunn  6011508474487291       04/26   \n",
       "9947                    Pruitt-Flores  3158564208754951       03/17   \n",
       "9951      Crosby, Vasquez and Ballard  5256758441931287       12/17   \n",
       "9977      Deleon, Jacobson and Benton  4186094003664688       06/21   \n",
       "9980                      Cortez-Frye  6011944199756993       12/24   \n",
       "\n",
       "      CC Security Code    CC Provider                     Email  \\\n",
       "1                  561     Mastercard        anthony41@reed.com   \n",
       "19                 440  VISA 16 digit      ruiznicole@gmail.com   \n",
       "53                 157   JCB 16 digit        amorales@yahoo.com   \n",
       "76                 806        Voyager        eperez@hotmail.com   \n",
       "82                 937  VISA 13 digit         amendez@yahoo.com   \n",
       "...                ...            ...                       ...   \n",
       "9941               906     Mastercard     christian55@gmail.com   \n",
       "9947               386     Mastercard     josephsmith@gmail.com   \n",
       "9951               146  VISA 16 digit       cjennings@yahoo.com   \n",
       "9977               397   JCB 16 digit    daltoncarter@yahoo.com   \n",
       "9980               755   JCB 15 digit  mark74@kirby-stewart.org   \n",
       "\n",
       "                                               Job       IP Address Language  \\\n",
       "1                                Drilling engineer     15.160.41.51       fr   \n",
       "19                      Designer, interior/spatial   25.105.209.214       fr   \n",
       "53                                Technical author   44.108.117.122       fr   \n",
       "76                                       Paramedic   210.207.58.168       fr   \n",
       "82                             Engineer, materials  163.129.163.100       fr   \n",
       "...                                            ...              ...      ...   \n",
       "9941                      Secondary school teacher  216.118.235.145       fr   \n",
       "9947                              Textile designer     198.68.38.23       fr   \n",
       "9951  Lighting technician, broadcasting/film/video       58.12.83.1       fr   \n",
       "9977                           Biomedical engineer    146.238.118.2       fr   \n",
       "9980                              Textile designer   110.103.77.195       fr   \n",
       "\n",
       "      Purchase Price  \n",
       "1              70.73  \n",
       "19             58.39  \n",
       "53             10.41  \n",
       "76             57.34  \n",
       "82             49.04  \n",
       "...              ...  \n",
       "9941           60.03  \n",
       "9947           49.61  \n",
       "9951           57.59  \n",
       "9977           94.93  \n",
       "9980           16.05  \n",
       "\n",
       "[1097 rows x 14 columns]"
      ]
     },
     "execution_count": 18,
     "metadata": {},
     "output_type": "execute_result"
    }
   ],
   "source": [
    "df[df['Language']=='fr']"
   ]
  },
  {
   "cell_type": "code",
   "execution_count": 19,
   "id": "3cb0b2a2",
   "metadata": {},
   "outputs": [
    {
     "data": {
      "text/plain": [
       "Address             1097\n",
       "Lot                 1097\n",
       "AM or PM            1097\n",
       "Browser Info        1097\n",
       "Company             1097\n",
       "Credit Card         1097\n",
       "CC Exp Date         1097\n",
       "CC Security Code    1097\n",
       "CC Provider         1097\n",
       "Email               1097\n",
       "Job                 1097\n",
       "IP Address          1097\n",
       "Language            1097\n",
       "Purchase Price      1097\n",
       "dtype: int64"
      ]
     },
     "execution_count": 19,
     "metadata": {},
     "output_type": "execute_result"
    }
   ],
   "source": [
    "df[df['Language']=='fr'].count()"
   ]
  },
  {
   "cell_type": "markdown",
   "id": "26a0cc40",
   "metadata": {},
   "source": [
    "# Job Title contain Engineers"
   ]
  },
  {
   "cell_type": "code",
   "execution_count": 22,
   "id": "617613df",
   "metadata": {},
   "outputs": [
    {
     "data": {
      "text/html": [
       "<div>\n",
       "<style scoped>\n",
       "    .dataframe tbody tr th:only-of-type {\n",
       "        vertical-align: middle;\n",
       "    }\n",
       "\n",
       "    .dataframe tbody tr th {\n",
       "        vertical-align: top;\n",
       "    }\n",
       "\n",
       "    .dataframe thead th {\n",
       "        text-align: right;\n",
       "    }\n",
       "</style>\n",
       "<table border=\"1\" class=\"dataframe\">\n",
       "  <thead>\n",
       "    <tr style=\"text-align: right;\">\n",
       "      <th></th>\n",
       "      <th>Address</th>\n",
       "      <th>Lot</th>\n",
       "      <th>AM or PM</th>\n",
       "      <th>Browser Info</th>\n",
       "      <th>Company</th>\n",
       "      <th>Credit Card</th>\n",
       "      <th>CC Exp Date</th>\n",
       "      <th>CC Security Code</th>\n",
       "      <th>CC Provider</th>\n",
       "      <th>Email</th>\n",
       "      <th>Job</th>\n",
       "      <th>IP Address</th>\n",
       "      <th>Language</th>\n",
       "      <th>Purchase Price</th>\n",
       "    </tr>\n",
       "  </thead>\n",
       "  <tbody>\n",
       "    <tr>\n",
       "      <th>1</th>\n",
       "      <td>9374 Jasmine Spurs Suite 508\\nSouth John, TN 8...</td>\n",
       "      <td>28 rn</td>\n",
       "      <td>PM</td>\n",
       "      <td>Opera/8.93.(Windows 98; Win 9x 4.90; en-US) Pr...</td>\n",
       "      <td>Fletcher, Richards and Whitaker</td>\n",
       "      <td>3337758169645356</td>\n",
       "      <td>11/18</td>\n",
       "      <td>561</td>\n",
       "      <td>Mastercard</td>\n",
       "      <td>anthony41@reed.com</td>\n",
       "      <td>Drilling engineer</td>\n",
       "      <td>15.160.41.51</td>\n",
       "      <td>fr</td>\n",
       "      <td>70.73</td>\n",
       "    </tr>\n",
       "    <tr>\n",
       "      <th>3</th>\n",
       "      <td>7780 Julia Fords\\nNew Stacy, WA 45798</td>\n",
       "      <td>36 vm</td>\n",
       "      <td>PM</td>\n",
       "      <td>Mozilla/5.0 (Macintosh; Intel Mac OS X 10_8_0 ...</td>\n",
       "      <td>Williams, Marshall and Buchanan</td>\n",
       "      <td>6011578504430710</td>\n",
       "      <td>02/24</td>\n",
       "      <td>384</td>\n",
       "      <td>Discover</td>\n",
       "      <td>brent16@olson-robinson.info</td>\n",
       "      <td>Drilling engineer</td>\n",
       "      <td>30.250.74.19</td>\n",
       "      <td>es</td>\n",
       "      <td>78.04</td>\n",
       "    </tr>\n",
       "    <tr>\n",
       "      <th>50</th>\n",
       "      <td>41159 Michael Centers\\nAdamsfort, RI 37108-6674</td>\n",
       "      <td>46 Ce</td>\n",
       "      <td>PM</td>\n",
       "      <td>Mozilla/5.0 (Windows 98; Win 9x 4.90; sl-SI; r...</td>\n",
       "      <td>Wright, Williams and Mendez</td>\n",
       "      <td>4008586485908075</td>\n",
       "      <td>05/19</td>\n",
       "      <td>945</td>\n",
       "      <td>JCB 16 digit</td>\n",
       "      <td>susanvalentine@obrien.org</td>\n",
       "      <td>Mechanical engineer</td>\n",
       "      <td>213.203.143.215</td>\n",
       "      <td>de</td>\n",
       "      <td>36.85</td>\n",
       "    </tr>\n",
       "    <tr>\n",
       "      <th>55</th>\n",
       "      <td>27635 Maureen Bypass Apt. 883\\nSandraview, SD ...</td>\n",
       "      <td>59 LJ</td>\n",
       "      <td>AM</td>\n",
       "      <td>Mozilla/5.0 (iPod; U; CPU iPhone OS 3_3 like M...</td>\n",
       "      <td>Sims-Lyons</td>\n",
       "      <td>3158113629128344</td>\n",
       "      <td>09/19</td>\n",
       "      <td>857</td>\n",
       "      <td>VISA 16 digit</td>\n",
       "      <td>adkinsarthur@yahoo.com</td>\n",
       "      <td>Engineer, broadcasting (operations)</td>\n",
       "      <td>227.235.89.210</td>\n",
       "      <td>pt</td>\n",
       "      <td>48.74</td>\n",
       "    </tr>\n",
       "    <tr>\n",
       "      <th>60</th>\n",
       "      <td>7126 Katherine Squares\\nPerkinsview, CO 97299-...</td>\n",
       "      <td>63 qu</td>\n",
       "      <td>AM</td>\n",
       "      <td>Opera/8.68.(X11; Linux x86_64; en-US) Presto/2...</td>\n",
       "      <td>Marshall-Fernandez</td>\n",
       "      <td>349767747049645</td>\n",
       "      <td>05/20</td>\n",
       "      <td>672</td>\n",
       "      <td>JCB 15 digit</td>\n",
       "      <td>sweeneyhannah@jones.biz</td>\n",
       "      <td>Engineer, agricultural</td>\n",
       "      <td>197.144.142.102</td>\n",
       "      <td>de</td>\n",
       "      <td>20.43</td>\n",
       "    </tr>\n",
       "    <tr>\n",
       "      <th>...</th>\n",
       "      <td>...</td>\n",
       "      <td>...</td>\n",
       "      <td>...</td>\n",
       "      <td>...</td>\n",
       "      <td>...</td>\n",
       "      <td>...</td>\n",
       "      <td>...</td>\n",
       "      <td>...</td>\n",
       "      <td>...</td>\n",
       "      <td>...</td>\n",
       "      <td>...</td>\n",
       "      <td>...</td>\n",
       "      <td>...</td>\n",
       "      <td>...</td>\n",
       "    </tr>\n",
       "    <tr>\n",
       "      <th>9948</th>\n",
       "      <td>95544 Johnson Isle Suite 939\\nMichaelberg, RI ...</td>\n",
       "      <td>91 bW</td>\n",
       "      <td>AM</td>\n",
       "      <td>Opera/8.36.(X11; Linux x86_64; sl-SI) Presto/2...</td>\n",
       "      <td>Fox-Peterson</td>\n",
       "      <td>4762924304307</td>\n",
       "      <td>03/17</td>\n",
       "      <td>567</td>\n",
       "      <td>Mastercard</td>\n",
       "      <td>haleybenjamin@gmail.com</td>\n",
       "      <td>Structural engineer</td>\n",
       "      <td>120.36.140.58</td>\n",
       "      <td>en</td>\n",
       "      <td>71.89</td>\n",
       "    </tr>\n",
       "    <tr>\n",
       "      <th>9952</th>\n",
       "      <td>9991 Vaughn Hills\\nRacheltown, PA 55409</td>\n",
       "      <td>36 KC</td>\n",
       "      <td>PM</td>\n",
       "      <td>Mozilla/5.0 (X11; Linux i686; rv:1.9.5.20) Gec...</td>\n",
       "      <td>Ward, Smith and Castillo</td>\n",
       "      <td>6011679271321726</td>\n",
       "      <td>09/19</td>\n",
       "      <td>964</td>\n",
       "      <td>Voyager</td>\n",
       "      <td>jonesjennifer@olson.com</td>\n",
       "      <td>Engineer, energy</td>\n",
       "      <td>116.228.12.42</td>\n",
       "      <td>es</td>\n",
       "      <td>39.63</td>\n",
       "    </tr>\n",
       "    <tr>\n",
       "      <th>9970</th>\n",
       "      <td>0060 Keith Stream\\nWestport, CO 47097</td>\n",
       "      <td>11 nt</td>\n",
       "      <td>PM</td>\n",
       "      <td>Mozilla/5.0 (Macintosh; U; Intel Mac OS X 10_8...</td>\n",
       "      <td>Carpenter, Good and Hart</td>\n",
       "      <td>6011485664704662</td>\n",
       "      <td>07/19</td>\n",
       "      <td>543</td>\n",
       "      <td>Discover</td>\n",
       "      <td>rangelbrian@hotmail.com</td>\n",
       "      <td>Electrical engineer</td>\n",
       "      <td>242.8.85.205</td>\n",
       "      <td>en</td>\n",
       "      <td>17.76</td>\n",
       "    </tr>\n",
       "    <tr>\n",
       "      <th>9977</th>\n",
       "      <td>02182 Keith Expressway\\nEast Shannon, CT 20578...</td>\n",
       "      <td>34 RL</td>\n",
       "      <td>AM</td>\n",
       "      <td>Mozilla/5.0 (compatible; MSIE 9.0; Windows NT ...</td>\n",
       "      <td>Deleon, Jacobson and Benton</td>\n",
       "      <td>4186094003664688</td>\n",
       "      <td>06/21</td>\n",
       "      <td>397</td>\n",
       "      <td>JCB 16 digit</td>\n",
       "      <td>daltoncarter@yahoo.com</td>\n",
       "      <td>Biomedical engineer</td>\n",
       "      <td>146.238.118.2</td>\n",
       "      <td>fr</td>\n",
       "      <td>94.93</td>\n",
       "    </tr>\n",
       "    <tr>\n",
       "      <th>9996</th>\n",
       "      <td>832 Curtis Dam Suite 785\\nNorth Edwardburgh, T...</td>\n",
       "      <td>41 JY</td>\n",
       "      <td>AM</td>\n",
       "      <td>Mozilla/5.0 (compatible; MSIE 9.0; Windows NT ...</td>\n",
       "      <td>Hale, Collins and Wilson</td>\n",
       "      <td>210033169205009</td>\n",
       "      <td>07/25</td>\n",
       "      <td>207</td>\n",
       "      <td>JCB 16 digit</td>\n",
       "      <td>mary85@hotmail.com</td>\n",
       "      <td>Energy engineer</td>\n",
       "      <td>121.133.168.51</td>\n",
       "      <td>pt</td>\n",
       "      <td>25.63</td>\n",
       "    </tr>\n",
       "  </tbody>\n",
       "</table>\n",
       "<p>984 rows × 14 columns</p>\n",
       "</div>"
      ],
      "text/plain": [
       "                                                Address    Lot AM or PM  \\\n",
       "1     9374 Jasmine Spurs Suite 508\\nSouth John, TN 8...  28 rn       PM   \n",
       "3                 7780 Julia Fords\\nNew Stacy, WA 45798  36 vm       PM   \n",
       "50      41159 Michael Centers\\nAdamsfort, RI 37108-6674  46 Ce       PM   \n",
       "55    27635 Maureen Bypass Apt. 883\\nSandraview, SD ...  59 LJ       AM   \n",
       "60    7126 Katherine Squares\\nPerkinsview, CO 97299-...  63 qu       AM   \n",
       "...                                                 ...    ...      ...   \n",
       "9948  95544 Johnson Isle Suite 939\\nMichaelberg, RI ...  91 bW       AM   \n",
       "9952            9991 Vaughn Hills\\nRacheltown, PA 55409  36 KC       PM   \n",
       "9970              0060 Keith Stream\\nWestport, CO 47097  11 nt       PM   \n",
       "9977  02182 Keith Expressway\\nEast Shannon, CT 20578...  34 RL       AM   \n",
       "9996  832 Curtis Dam Suite 785\\nNorth Edwardburgh, T...  41 JY       AM   \n",
       "\n",
       "                                           Browser Info  \\\n",
       "1     Opera/8.93.(Windows 98; Win 9x 4.90; en-US) Pr...   \n",
       "3     Mozilla/5.0 (Macintosh; Intel Mac OS X 10_8_0 ...   \n",
       "50    Mozilla/5.0 (Windows 98; Win 9x 4.90; sl-SI; r...   \n",
       "55    Mozilla/5.0 (iPod; U; CPU iPhone OS 3_3 like M...   \n",
       "60    Opera/8.68.(X11; Linux x86_64; en-US) Presto/2...   \n",
       "...                                                 ...   \n",
       "9948  Opera/8.36.(X11; Linux x86_64; sl-SI) Presto/2...   \n",
       "9952  Mozilla/5.0 (X11; Linux i686; rv:1.9.5.20) Gec...   \n",
       "9970  Mozilla/5.0 (Macintosh; U; Intel Mac OS X 10_8...   \n",
       "9977  Mozilla/5.0 (compatible; MSIE 9.0; Windows NT ...   \n",
       "9996  Mozilla/5.0 (compatible; MSIE 9.0; Windows NT ...   \n",
       "\n",
       "                              Company       Credit Card CC Exp Date  \\\n",
       "1     Fletcher, Richards and Whitaker  3337758169645356       11/18   \n",
       "3     Williams, Marshall and Buchanan  6011578504430710       02/24   \n",
       "50        Wright, Williams and Mendez  4008586485908075       05/19   \n",
       "55                         Sims-Lyons  3158113629128344       09/19   \n",
       "60                 Marshall-Fernandez   349767747049645       05/20   \n",
       "...                               ...               ...         ...   \n",
       "9948                     Fox-Peterson     4762924304307       03/17   \n",
       "9952         Ward, Smith and Castillo  6011679271321726       09/19   \n",
       "9970         Carpenter, Good and Hart  6011485664704662       07/19   \n",
       "9977      Deleon, Jacobson and Benton  4186094003664688       06/21   \n",
       "9996         Hale, Collins and Wilson   210033169205009       07/25   \n",
       "\n",
       "      CC Security Code    CC Provider                        Email  \\\n",
       "1                  561     Mastercard           anthony41@reed.com   \n",
       "3                  384       Discover  brent16@olson-robinson.info   \n",
       "50                 945   JCB 16 digit    susanvalentine@obrien.org   \n",
       "55                 857  VISA 16 digit       adkinsarthur@yahoo.com   \n",
       "60                 672   JCB 15 digit      sweeneyhannah@jones.biz   \n",
       "...                ...            ...                          ...   \n",
       "9948               567     Mastercard      haleybenjamin@gmail.com   \n",
       "9952               964        Voyager      jonesjennifer@olson.com   \n",
       "9970               543       Discover      rangelbrian@hotmail.com   \n",
       "9977               397   JCB 16 digit       daltoncarter@yahoo.com   \n",
       "9996               207   JCB 16 digit           mary85@hotmail.com   \n",
       "\n",
       "                                      Job       IP Address Language  \\\n",
       "1                       Drilling engineer     15.160.41.51       fr   \n",
       "3                       Drilling engineer     30.250.74.19       es   \n",
       "50                    Mechanical engineer  213.203.143.215       de   \n",
       "55    Engineer, broadcasting (operations)   227.235.89.210       pt   \n",
       "60                 Engineer, agricultural  197.144.142.102       de   \n",
       "...                                   ...              ...      ...   \n",
       "9948                  Structural engineer    120.36.140.58       en   \n",
       "9952                     Engineer, energy    116.228.12.42       es   \n",
       "9970                  Electrical engineer     242.8.85.205       en   \n",
       "9977                  Biomedical engineer    146.238.118.2       fr   \n",
       "9996                      Energy engineer   121.133.168.51       pt   \n",
       "\n",
       "      Purchase Price  \n",
       "1              70.73  \n",
       "3              78.04  \n",
       "50             36.85  \n",
       "55             48.74  \n",
       "60             20.43  \n",
       "...              ...  \n",
       "9948           71.89  \n",
       "9952           39.63  \n",
       "9970           17.76  \n",
       "9977           94.93  \n",
       "9996           25.63  \n",
       "\n",
       "[984 rows x 14 columns]"
      ]
     },
     "execution_count": 22,
     "metadata": {},
     "output_type": "execute_result"
    }
   ],
   "source": [
    "df[df['Job'].str.contains(\"engineer\",case=False)]"
   ]
  },
  {
   "cell_type": "code",
   "execution_count": 20,
   "id": "9ceda6a7",
   "metadata": {},
   "outputs": [
    {
     "data": {
      "text/plain": [
       "Address             984\n",
       "Lot                 984\n",
       "AM or PM            984\n",
       "Browser Info        984\n",
       "Company             984\n",
       "Credit Card         984\n",
       "CC Exp Date         984\n",
       "CC Security Code    984\n",
       "CC Provider         984\n",
       "Email               984\n",
       "Job                 984\n",
       "IP Address          984\n",
       "Language            984\n",
       "Purchase Price      984\n",
       "dtype: int64"
      ]
     },
     "execution_count": 20,
     "metadata": {},
     "output_type": "execute_result"
    }
   ],
   "source": [
    "df[df['Job'].str.contains(\"engineer\",case=False)].count()"
   ]
  },
  {
   "cell_type": "code",
   "execution_count": 21,
   "id": "2b8b2b6b",
   "metadata": {},
   "outputs": [
    {
     "data": {
      "text/plain": [
       "984"
      ]
     },
     "execution_count": 21,
     "metadata": {},
     "output_type": "execute_result"
    }
   ],
   "source": [
    "len(df[df['Job'].str.contains(\"engineer\",case=False)])"
   ]
  },
  {
   "cell_type": "markdown",
   "id": "d53944f5",
   "metadata": {},
   "source": [
    "# Find The emails of the person With the following Email Address: 132.207.160.22  "
   ]
  },
  {
   "cell_type": "code",
   "execution_count": 50,
   "id": "67a92459",
   "metadata": {},
   "outputs": [
    {
     "data": {
      "text/html": [
       "<div>\n",
       "<style scoped>\n",
       "    .dataframe tbody tr th:only-of-type {\n",
       "        vertical-align: middle;\n",
       "    }\n",
       "\n",
       "    .dataframe tbody tr th {\n",
       "        vertical-align: top;\n",
       "    }\n",
       "\n",
       "    .dataframe thead th {\n",
       "        text-align: right;\n",
       "    }\n",
       "</style>\n",
       "<table border=\"1\" class=\"dataframe\">\n",
       "  <thead>\n",
       "    <tr style=\"text-align: right;\">\n",
       "      <th></th>\n",
       "      <th>Address</th>\n",
       "      <th>Lot</th>\n",
       "      <th>AM or PM</th>\n",
       "      <th>Browser Info</th>\n",
       "      <th>Company</th>\n",
       "      <th>Credit Card</th>\n",
       "      <th>CC Exp Date</th>\n",
       "      <th>CC Security Code</th>\n",
       "      <th>CC Provider</th>\n",
       "      <th>Email</th>\n",
       "      <th>Job</th>\n",
       "      <th>IP Address</th>\n",
       "      <th>Language</th>\n",
       "      <th>Purchase Price</th>\n",
       "    </tr>\n",
       "  </thead>\n",
       "  <tbody>\n",
       "    <tr>\n",
       "      <th>2</th>\n",
       "      <td>Unit 0065 Box 5052\\nDPO AP 27450</td>\n",
       "      <td>94 vE</td>\n",
       "      <td>PM</td>\n",
       "      <td>Mozilla/5.0 (compatible; MSIE 9.0; Windows NT ...</td>\n",
       "      <td>Simpson, Williams and Pham</td>\n",
       "      <td>675957666125</td>\n",
       "      <td>08/19</td>\n",
       "      <td>699</td>\n",
       "      <td>JCB 16 digit</td>\n",
       "      <td>amymiller@morales-harrison.com</td>\n",
       "      <td>Customer service manager</td>\n",
       "      <td>132.207.160.22</td>\n",
       "      <td>de</td>\n",
       "      <td>0.95</td>\n",
       "    </tr>\n",
       "  </tbody>\n",
       "</table>\n",
       "</div>"
      ],
      "text/plain": [
       "                            Address    Lot AM or PM  \\\n",
       "2  Unit 0065 Box 5052\\nDPO AP 27450  94 vE       PM   \n",
       "\n",
       "                                        Browser Info  \\\n",
       "2  Mozilla/5.0 (compatible; MSIE 9.0; Windows NT ...   \n",
       "\n",
       "                      Company   Credit Card CC Exp Date  CC Security Code  \\\n",
       "2  Simpson, Williams and Pham  675957666125       08/19               699   \n",
       "\n",
       "    CC Provider                           Email                       Job  \\\n",
       "2  JCB 16 digit  amymiller@morales-harrison.com  Customer service manager   \n",
       "\n",
       "       IP Address Language  Purchase Price  \n",
       "2  132.207.160.22       de            0.95  "
      ]
     },
     "execution_count": 50,
     "metadata": {},
     "output_type": "execute_result"
    }
   ],
   "source": [
    "df[df['IP Address']=='132.207.160.22']"
   ]
  },
  {
   "cell_type": "code",
   "execution_count": 51,
   "id": "03f7240e",
   "metadata": {},
   "outputs": [
    {
     "data": {
      "text/plain": [
       "2    amymiller@morales-harrison.com\n",
       "Name: Email, dtype: object"
      ]
     },
     "execution_count": 51,
     "metadata": {},
     "output_type": "execute_result"
    }
   ],
   "source": [
    "df[df['IP Address']=='132.207.160.22']['Email']"
   ]
  },
  {
   "cell_type": "code",
   "execution_count": null,
   "id": "b782767e",
   "metadata": {},
   "outputs": [],
   "source": []
  }
 ],
 "metadata": {
  "kernelspec": {
   "display_name": "Python 3",
   "language": "python",
   "name": "python3"
  },
  "language_info": {
   "codemirror_mode": {
    "name": "ipython",
    "version": 3
   },
   "file_extension": ".py",
   "mimetype": "text/x-python",
   "name": "python",
   "nbconvert_exporter": "python",
   "pygments_lexer": "ipython3",
   "version": "3.8.8"
  }
 },
 "nbformat": 4,
 "nbformat_minor": 5
}
