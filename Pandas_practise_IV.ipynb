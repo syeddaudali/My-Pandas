{
 "cells": [
  {
   "cell_type": "markdown",
   "metadata": {
    "id": "NIjiNewjikKW"
   },
   "source": [
    "# Lecture 4 –Fall 2024\n",
    "\n",
    "A demonstration of advanced `pandas` syntax to accompany Lecture 4."
   ]
  },
  {
   "cell_type": "code",
   "execution_count": null,
   "metadata": {
    "id": "cgdnHZXjimq0"
   },
   "outputs": [],
   "source": [
    "from google.colab import drive\n",
    "drive.mount('/content/drive')"
   ]
  },
  {
   "cell_type": "code",
   "execution_count": 26,
   "metadata": {},
   "outputs": [
    {
     "name": "stdout",
     "output_type": "stream",
     "text": [
      "Requirement already satisfied: plotly in c:\\downloaded software\\lib\\site-packages (5.22.0)\n",
      "Requirement already satisfied: tenacity>=6.2.0 in c:\\downloaded software\\lib\\site-packages (from plotly) (8.2.2)\n",
      "Requirement already satisfied: packaging in c:\\downloaded software\\lib\\site-packages (from plotly) (23.1)\n"
     ]
    }
   ],
   "source": [
    "!pip install plotly"
   ]
  },
  {
   "cell_type": "code",
   "execution_count": 36,
   "metadata": {
    "id": "iMMkYGl7ikKa"
   },
   "outputs": [],
   "source": [
    "import numpy as np\n",
    "import pandas as pd\n",
    "import plotly.express as px\n"
   ]
  },
  {
   "cell_type": "markdown",
   "metadata": {
    "id": "iD2Qu34XikKi"
   },
   "source": [
    "## Dataset: California baby names\n",
    "\n",
    "In today's lecture, we'll work with the `babynames` dataset, which contains information about the names of infants born in California.\n",
    "\n",
    "The cell below pulls census data from a government website and then loads it into a usable form. The code shown here is outside of the scope of Data 100, but you're encouraged to dig into it if you are interested!"
   ]
  },
  {
   "cell_type": "code",
   "execution_count": 162,
   "metadata": {
    "colab": {
     "base_uri": "https://localhost:8080/",
     "height": 206
    },
    "id": "PXW2WryKikKi",
    "outputId": "f10843bb-d2d0-4a61-c59f-96cfba6825b3"
   },
   "outputs": [
    {
     "data": {
      "text/html": [
       "<div>\n",
       "<style scoped>\n",
       "    .dataframe tbody tr th:only-of-type {\n",
       "        vertical-align: middle;\n",
       "    }\n",
       "\n",
       "    .dataframe tbody tr th {\n",
       "        vertical-align: top;\n",
       "    }\n",
       "\n",
       "    .dataframe thead th {\n",
       "        text-align: right;\n",
       "    }\n",
       "</style>\n",
       "<table border=\"1\" class=\"dataframe\">\n",
       "  <thead>\n",
       "    <tr style=\"text-align: right;\">\n",
       "      <th></th>\n",
       "      <th>State</th>\n",
       "      <th>Sex</th>\n",
       "      <th>Year</th>\n",
       "      <th>Name</th>\n",
       "      <th>Count</th>\n",
       "    </tr>\n",
       "  </thead>\n",
       "  <tbody>\n",
       "    <tr>\n",
       "      <th>0</th>\n",
       "      <td>CA</td>\n",
       "      <td>F</td>\n",
       "      <td>1910</td>\n",
       "      <td>Mary</td>\n",
       "      <td>295</td>\n",
       "    </tr>\n",
       "    <tr>\n",
       "      <th>1</th>\n",
       "      <td>CA</td>\n",
       "      <td>F</td>\n",
       "      <td>1910</td>\n",
       "      <td>Helen</td>\n",
       "      <td>239</td>\n",
       "    </tr>\n",
       "    <tr>\n",
       "      <th>2</th>\n",
       "      <td>CA</td>\n",
       "      <td>F</td>\n",
       "      <td>1910</td>\n",
       "      <td>Dorothy</td>\n",
       "      <td>220</td>\n",
       "    </tr>\n",
       "    <tr>\n",
       "      <th>3</th>\n",
       "      <td>CA</td>\n",
       "      <td>F</td>\n",
       "      <td>1910</td>\n",
       "      <td>Margaret</td>\n",
       "      <td>163</td>\n",
       "    </tr>\n",
       "    <tr>\n",
       "      <th>4</th>\n",
       "      <td>CA</td>\n",
       "      <td>F</td>\n",
       "      <td>1910</td>\n",
       "      <td>Frances</td>\n",
       "      <td>134</td>\n",
       "    </tr>\n",
       "  </tbody>\n",
       "</table>\n",
       "</div>"
      ],
      "text/plain": [
       "  State Sex  Year      Name  Count\n",
       "0    CA   F  1910      Mary    295\n",
       "1    CA   F  1910     Helen    239\n",
       "2    CA   F  1910   Dorothy    220\n",
       "3    CA   F  1910  Margaret    163\n",
       "4    CA   F  1910   Frances    134"
      ]
     },
     "execution_count": 162,
     "metadata": {},
     "output_type": "execute_result"
    }
   ],
   "source": [
    "import urllib.request\n",
    "import os.path\n",
    "import zipfile\n",
    "\n",
    "data_url = \"https://www.ssa.gov/oact/babynames/state/namesbystate.zip\"\n",
    "local_filename = \"babynamesbystate.zip\"\n",
    "if not os.path.exists(local_filename): # If the data exists don't download again\n",
    "    with urllib.request.urlopen(data_url) as resp, open(local_filename, 'wb') as f:\n",
    "        f.write(resp.read())\n",
    "\n",
    "zf = zipfile.ZipFile(local_filename, 'r')\n",
    "\n",
    "ca_name = 'CA.TXT'\n",
    "field_names = ['State', 'Sex', 'Year', 'Name', 'Count']\n",
    "with zf.open(ca_name) as fh:\n",
    "    babynames = pd.read_csv(fh, header=None, names=field_names)\n",
    "\n",
    "babynames.head()"
   ]
  },
  {
   "cell_type": "markdown",
   "metadata": {
    "id": "gHIddj3IikKl"
   },
   "source": [
    "### Exercises\n",
    "We want to obtain the first three baby names with `count > 250`.\n",
    "\n",
    "1.Code this using head()\n",
    "\n",
    "2.Code this using loc\n",
    "\n",
    "3.Code this using iloc\n",
    "\n",
    "4.Code this using []\n"
   ]
  },
  {
   "cell_type": "code",
   "execution_count": 3,
   "metadata": {
    "colab": {
     "base_uri": "https://localhost:8080/",
     "height": 143
    },
    "id": "vy62CYWpikKl",
    "outputId": "dbec2a15-ee8a-4956-87fe-b7ee3ef72907"
   },
   "outputs": [
    {
     "data": {
      "text/html": [
       "<div>\n",
       "<style scoped>\n",
       "    .dataframe tbody tr th:only-of-type {\n",
       "        vertical-align: middle;\n",
       "    }\n",
       "\n",
       "    .dataframe tbody tr th {\n",
       "        vertical-align: top;\n",
       "    }\n",
       "\n",
       "    .dataframe thead th {\n",
       "        text-align: right;\n",
       "    }\n",
       "</style>\n",
       "<table border=\"1\" class=\"dataframe\">\n",
       "  <thead>\n",
       "    <tr style=\"text-align: right;\">\n",
       "      <th></th>\n",
       "      <th>State</th>\n",
       "      <th>Sex</th>\n",
       "      <th>Year</th>\n",
       "      <th>Name</th>\n",
       "      <th>Count</th>\n",
       "    </tr>\n",
       "  </thead>\n",
       "  <tbody>\n",
       "    <tr>\n",
       "      <th>0</th>\n",
       "      <td>CA</td>\n",
       "      <td>F</td>\n",
       "      <td>1910</td>\n",
       "      <td>Mary</td>\n",
       "      <td>295</td>\n",
       "    </tr>\n",
       "    <tr>\n",
       "      <th>233</th>\n",
       "      <td>CA</td>\n",
       "      <td>F</td>\n",
       "      <td>1911</td>\n",
       "      <td>Mary</td>\n",
       "      <td>390</td>\n",
       "    </tr>\n",
       "    <tr>\n",
       "      <th>484</th>\n",
       "      <td>CA</td>\n",
       "      <td>F</td>\n",
       "      <td>1912</td>\n",
       "      <td>Mary</td>\n",
       "      <td>534</td>\n",
       "    </tr>\n",
       "  </tbody>\n",
       "</table>\n",
       "</div>"
      ],
      "text/plain": [
       "    State Sex  Year  Name  Count\n",
       "0      CA   F  1910  Mary    295\n",
       "233    CA   F  1911  Mary    390\n",
       "484    CA   F  1912  Mary    534"
      ]
     },
     "execution_count": 3,
     "metadata": {},
     "output_type": "execute_result"
    }
   ],
   "source": [
    "# Answer Here\n",
    "\n",
    "baby1=babynames[babynames[\"Count\"]>250]\n",
    "baby1.head(3)"
   ]
  },
  {
   "cell_type": "code",
   "execution_count": 4,
   "metadata": {
    "colab": {
     "base_uri": "https://localhost:8080/",
     "height": 143
    },
    "id": "DrXbEdNxpaME",
    "outputId": "1d69cf55-a3c5-4f30-e47b-ec1c1b32cb88"
   },
   "outputs": [
    {
     "data": {
      "text/html": [
       "<div>\n",
       "<style scoped>\n",
       "    .dataframe tbody tr th:only-of-type {\n",
       "        vertical-align: middle;\n",
       "    }\n",
       "\n",
       "    .dataframe tbody tr th {\n",
       "        vertical-align: top;\n",
       "    }\n",
       "\n",
       "    .dataframe thead th {\n",
       "        text-align: right;\n",
       "    }\n",
       "</style>\n",
       "<table border=\"1\" class=\"dataframe\">\n",
       "  <thead>\n",
       "    <tr style=\"text-align: right;\">\n",
       "      <th></th>\n",
       "      <th>State</th>\n",
       "      <th>Sex</th>\n",
       "      <th>Year</th>\n",
       "      <th>Name</th>\n",
       "      <th>Count</th>\n",
       "    </tr>\n",
       "  </thead>\n",
       "  <tbody>\n",
       "    <tr>\n",
       "      <th>0</th>\n",
       "      <td>CA</td>\n",
       "      <td>F</td>\n",
       "      <td>1910</td>\n",
       "      <td>Mary</td>\n",
       "      <td>295</td>\n",
       "    </tr>\n",
       "    <tr>\n",
       "      <th>233</th>\n",
       "      <td>CA</td>\n",
       "      <td>F</td>\n",
       "      <td>1911</td>\n",
       "      <td>Mary</td>\n",
       "      <td>390</td>\n",
       "    </tr>\n",
       "    <tr>\n",
       "      <th>484</th>\n",
       "      <td>CA</td>\n",
       "      <td>F</td>\n",
       "      <td>1912</td>\n",
       "      <td>Mary</td>\n",
       "      <td>534</td>\n",
       "    </tr>\n",
       "  </tbody>\n",
       "</table>\n",
       "</div>"
      ],
      "text/plain": [
       "    State Sex  Year  Name  Count\n",
       "0      CA   F  1910  Mary    295\n",
       "233    CA   F  1911  Mary    390\n",
       "484    CA   F  1912  Mary    534"
      ]
     },
     "execution_count": 4,
     "metadata": {},
     "output_type": "execute_result"
    }
   ],
   "source": [
    "# Answer Here\n",
    "locc=baby1.loc[baby1.index[0:3],:]\n",
    "locc"
   ]
  },
  {
   "cell_type": "code",
   "execution_count": null,
   "metadata": {},
   "outputs": [],
   "source": []
  },
  {
   "cell_type": "code",
   "execution_count": 5,
   "metadata": {
    "colab": {
     "base_uri": "https://localhost:8080/",
     "height": 143
    },
    "id": "73W1d6o5cFye",
    "outputId": "0df04336-d756-404c-fa5e-9b1d828d964c",
    "scrolled": true
   },
   "outputs": [
    {
     "data": {
      "text/html": [
       "<div>\n",
       "<style scoped>\n",
       "    .dataframe tbody tr th:only-of-type {\n",
       "        vertical-align: middle;\n",
       "    }\n",
       "\n",
       "    .dataframe tbody tr th {\n",
       "        vertical-align: top;\n",
       "    }\n",
       "\n",
       "    .dataframe thead th {\n",
       "        text-align: right;\n",
       "    }\n",
       "</style>\n",
       "<table border=\"1\" class=\"dataframe\">\n",
       "  <thead>\n",
       "    <tr style=\"text-align: right;\">\n",
       "      <th></th>\n",
       "      <th>State</th>\n",
       "      <th>Sex</th>\n",
       "      <th>Year</th>\n",
       "      <th>Name</th>\n",
       "      <th>Count</th>\n",
       "    </tr>\n",
       "  </thead>\n",
       "  <tbody>\n",
       "    <tr>\n",
       "      <th>0</th>\n",
       "      <td>CA</td>\n",
       "      <td>F</td>\n",
       "      <td>1910</td>\n",
       "      <td>Mary</td>\n",
       "      <td>295</td>\n",
       "    </tr>\n",
       "    <tr>\n",
       "      <th>233</th>\n",
       "      <td>CA</td>\n",
       "      <td>F</td>\n",
       "      <td>1911</td>\n",
       "      <td>Mary</td>\n",
       "      <td>390</td>\n",
       "    </tr>\n",
       "    <tr>\n",
       "      <th>484</th>\n",
       "      <td>CA</td>\n",
       "      <td>F</td>\n",
       "      <td>1912</td>\n",
       "      <td>Mary</td>\n",
       "      <td>534</td>\n",
       "    </tr>\n",
       "  </tbody>\n",
       "</table>\n",
       "</div>"
      ],
      "text/plain": [
       "    State Sex  Year  Name  Count\n",
       "0      CA   F  1910  Mary    295\n",
       "233    CA   F  1911  Mary    390\n",
       "484    CA   F  1912  Mary    534"
      ]
     },
     "execution_count": 5,
     "metadata": {},
     "output_type": "execute_result"
    }
   ],
   "source": [
    "# Answer Here\n",
    "#baby1.index[0:3]\n",
    "filter_babynames  = babynames[babynames['Count']>250]\n",
    "filter_babynames.iloc[[0,1,2],:]"
   ]
  },
  {
   "cell_type": "code",
   "execution_count": 6,
   "metadata": {
    "colab": {
     "base_uri": "https://localhost:8080/",
     "height": 143
    },
    "id": "jdiy9AVeBkvd",
    "outputId": "086d077f-4221-4ca2-90a3-fc53f9778973"
   },
   "outputs": [
    {
     "data": {
      "text/html": [
       "<div>\n",
       "<style scoped>\n",
       "    .dataframe tbody tr th:only-of-type {\n",
       "        vertical-align: middle;\n",
       "    }\n",
       "\n",
       "    .dataframe tbody tr th {\n",
       "        vertical-align: top;\n",
       "    }\n",
       "\n",
       "    .dataframe thead th {\n",
       "        text-align: right;\n",
       "    }\n",
       "</style>\n",
       "<table border=\"1\" class=\"dataframe\">\n",
       "  <thead>\n",
       "    <tr style=\"text-align: right;\">\n",
       "      <th></th>\n",
       "      <th>State</th>\n",
       "      <th>Sex</th>\n",
       "      <th>Year</th>\n",
       "      <th>Name</th>\n",
       "      <th>Count</th>\n",
       "    </tr>\n",
       "  </thead>\n",
       "  <tbody>\n",
       "    <tr>\n",
       "      <th>0</th>\n",
       "      <td>CA</td>\n",
       "      <td>F</td>\n",
       "      <td>1910</td>\n",
       "      <td>Mary</td>\n",
       "      <td>295</td>\n",
       "    </tr>\n",
       "    <tr>\n",
       "      <th>233</th>\n",
       "      <td>CA</td>\n",
       "      <td>F</td>\n",
       "      <td>1911</td>\n",
       "      <td>Mary</td>\n",
       "      <td>390</td>\n",
       "    </tr>\n",
       "    <tr>\n",
       "      <th>484</th>\n",
       "      <td>CA</td>\n",
       "      <td>F</td>\n",
       "      <td>1912</td>\n",
       "      <td>Mary</td>\n",
       "      <td>534</td>\n",
       "    </tr>\n",
       "  </tbody>\n",
       "</table>\n",
       "</div>"
      ],
      "text/plain": [
       "    State Sex  Year  Name  Count\n",
       "0      CA   F  1910  Mary    295\n",
       "233    CA   F  1911  Mary    390\n",
       "484    CA   F  1912  Mary    534"
      ]
     },
     "execution_count": 6,
     "metadata": {},
     "output_type": "execute_result"
    }
   ],
   "source": [
    "# Answer Here\n",
    "babynames[babynames[\"Count\"]>250][:3]"
   ]
  },
  {
   "cell_type": "markdown",
   "metadata": {
    "id": "pKOoifhQikKl"
   },
   "source": [
    "### `.isin` for Selection based on a list, array, or `Series`"
   ]
  },
  {
   "cell_type": "code",
   "execution_count": 7,
   "metadata": {
    "colab": {
     "base_uri": "https://localhost:8080/",
     "height": 423
    },
    "id": "gsZokeo6ikKl",
    "outputId": "90872f04-67de-4314-e05b-7dad8a6c6460"
   },
   "outputs": [
    {
     "data": {
      "text/html": [
       "<div>\n",
       "<style scoped>\n",
       "    .dataframe tbody tr th:only-of-type {\n",
       "        vertical-align: middle;\n",
       "    }\n",
       "\n",
       "    .dataframe tbody tr th {\n",
       "        vertical-align: top;\n",
       "    }\n",
       "\n",
       "    .dataframe thead th {\n",
       "        text-align: right;\n",
       "    }\n",
       "</style>\n",
       "<table border=\"1\" class=\"dataframe\">\n",
       "  <thead>\n",
       "    <tr style=\"text-align: right;\">\n",
       "      <th></th>\n",
       "      <th>State</th>\n",
       "      <th>Sex</th>\n",
       "      <th>Year</th>\n",
       "      <th>Name</th>\n",
       "      <th>Count</th>\n",
       "    </tr>\n",
       "  </thead>\n",
       "  <tbody>\n",
       "    <tr>\n",
       "      <th>6289</th>\n",
       "      <td>CA</td>\n",
       "      <td>F</td>\n",
       "      <td>1923</td>\n",
       "      <td>Bella</td>\n",
       "      <td>5</td>\n",
       "    </tr>\n",
       "    <tr>\n",
       "      <th>7512</th>\n",
       "      <td>CA</td>\n",
       "      <td>F</td>\n",
       "      <td>1925</td>\n",
       "      <td>Bella</td>\n",
       "      <td>8</td>\n",
       "    </tr>\n",
       "    <tr>\n",
       "      <th>12368</th>\n",
       "      <td>CA</td>\n",
       "      <td>F</td>\n",
       "      <td>1932</td>\n",
       "      <td>Lisa</td>\n",
       "      <td>5</td>\n",
       "    </tr>\n",
       "    <tr>\n",
       "      <th>14741</th>\n",
       "      <td>CA</td>\n",
       "      <td>F</td>\n",
       "      <td>1936</td>\n",
       "      <td>Lisa</td>\n",
       "      <td>8</td>\n",
       "    </tr>\n",
       "    <tr>\n",
       "      <th>17084</th>\n",
       "      <td>CA</td>\n",
       "      <td>F</td>\n",
       "      <td>1939</td>\n",
       "      <td>Lisa</td>\n",
       "      <td>5</td>\n",
       "    </tr>\n",
       "    <tr>\n",
       "      <th>...</th>\n",
       "      <td>...</td>\n",
       "      <td>...</td>\n",
       "      <td>...</td>\n",
       "      <td>...</td>\n",
       "      <td>...</td>\n",
       "    </tr>\n",
       "    <tr>\n",
       "      <th>399773</th>\n",
       "      <td>CA</td>\n",
       "      <td>M</td>\n",
       "      <td>2019</td>\n",
       "      <td>Alex</td>\n",
       "      <td>438</td>\n",
       "    </tr>\n",
       "    <tr>\n",
       "      <th>402648</th>\n",
       "      <td>CA</td>\n",
       "      <td>M</td>\n",
       "      <td>2020</td>\n",
       "      <td>Alex</td>\n",
       "      <td>379</td>\n",
       "    </tr>\n",
       "    <tr>\n",
       "      <th>405452</th>\n",
       "      <td>CA</td>\n",
       "      <td>M</td>\n",
       "      <td>2021</td>\n",
       "      <td>Alex</td>\n",
       "      <td>334</td>\n",
       "    </tr>\n",
       "    <tr>\n",
       "      <th>408335</th>\n",
       "      <td>CA</td>\n",
       "      <td>M</td>\n",
       "      <td>2022</td>\n",
       "      <td>Alex</td>\n",
       "      <td>345</td>\n",
       "    </tr>\n",
       "    <tr>\n",
       "      <th>411228</th>\n",
       "      <td>CA</td>\n",
       "      <td>M</td>\n",
       "      <td>2023</td>\n",
       "      <td>Alex</td>\n",
       "      <td>329</td>\n",
       "    </tr>\n",
       "  </tbody>\n",
       "</table>\n",
       "<p>321 rows × 5 columns</p>\n",
       "</div>"
      ],
      "text/plain": [
       "       State Sex  Year   Name  Count\n",
       "6289      CA   F  1923  Bella      5\n",
       "7512      CA   F  1925  Bella      8\n",
       "12368     CA   F  1932   Lisa      5\n",
       "14741     CA   F  1936   Lisa      8\n",
       "17084     CA   F  1939   Lisa      5\n",
       "...      ...  ..   ...    ...    ...\n",
       "399773    CA   M  2019   Alex    438\n",
       "402648    CA   M  2020   Alex    379\n",
       "405452    CA   M  2021   Alex    334\n",
       "408335    CA   M  2022   Alex    345\n",
       "411228    CA   M  2023   Alex    329\n",
       "\n",
       "[321 rows x 5 columns]"
      ]
     },
     "execution_count": 7,
     "metadata": {},
     "output_type": "execute_result"
    }
   ],
   "source": [
    "# Note: The parentheses surrounding the code make it possible to break the code into multiple lines for readability\n",
    "babynames[(babynames[\"Name\"] == \"Bella\") |\n",
    "              (babynames[\"Name\"] == \"Alex\") |\n",
    "              (babynames[\"Name\"] == \"Narges\") |\n",
    "              (babynames[\"Name\"] == \"Lisa\")]\n"
   ]
  },
  {
   "cell_type": "code",
   "execution_count": 8,
   "metadata": {
    "colab": {
     "base_uri": "https://localhost:8080/",
     "height": 423
    },
    "id": "MVp7TZUlikKm",
    "outputId": "8147e498-2c14-4bf4-f993-2d7456627280"
   },
   "outputs": [
    {
     "data": {
      "text/html": [
       "<div>\n",
       "<style scoped>\n",
       "    .dataframe tbody tr th:only-of-type {\n",
       "        vertical-align: middle;\n",
       "    }\n",
       "\n",
       "    .dataframe tbody tr th {\n",
       "        vertical-align: top;\n",
       "    }\n",
       "\n",
       "    .dataframe thead th {\n",
       "        text-align: right;\n",
       "    }\n",
       "</style>\n",
       "<table border=\"1\" class=\"dataframe\">\n",
       "  <thead>\n",
       "    <tr style=\"text-align: right;\">\n",
       "      <th></th>\n",
       "      <th>State</th>\n",
       "      <th>Sex</th>\n",
       "      <th>Year</th>\n",
       "      <th>Name</th>\n",
       "      <th>Count</th>\n",
       "    </tr>\n",
       "  </thead>\n",
       "  <tbody>\n",
       "    <tr>\n",
       "      <th>6289</th>\n",
       "      <td>CA</td>\n",
       "      <td>F</td>\n",
       "      <td>1923</td>\n",
       "      <td>Bella</td>\n",
       "      <td>5</td>\n",
       "    </tr>\n",
       "    <tr>\n",
       "      <th>7512</th>\n",
       "      <td>CA</td>\n",
       "      <td>F</td>\n",
       "      <td>1925</td>\n",
       "      <td>Bella</td>\n",
       "      <td>8</td>\n",
       "    </tr>\n",
       "    <tr>\n",
       "      <th>12368</th>\n",
       "      <td>CA</td>\n",
       "      <td>F</td>\n",
       "      <td>1932</td>\n",
       "      <td>Lisa</td>\n",
       "      <td>5</td>\n",
       "    </tr>\n",
       "    <tr>\n",
       "      <th>14741</th>\n",
       "      <td>CA</td>\n",
       "      <td>F</td>\n",
       "      <td>1936</td>\n",
       "      <td>Lisa</td>\n",
       "      <td>8</td>\n",
       "    </tr>\n",
       "    <tr>\n",
       "      <th>17084</th>\n",
       "      <td>CA</td>\n",
       "      <td>F</td>\n",
       "      <td>1939</td>\n",
       "      <td>Lisa</td>\n",
       "      <td>5</td>\n",
       "    </tr>\n",
       "    <tr>\n",
       "      <th>...</th>\n",
       "      <td>...</td>\n",
       "      <td>...</td>\n",
       "      <td>...</td>\n",
       "      <td>...</td>\n",
       "      <td>...</td>\n",
       "    </tr>\n",
       "    <tr>\n",
       "      <th>399773</th>\n",
       "      <td>CA</td>\n",
       "      <td>M</td>\n",
       "      <td>2019</td>\n",
       "      <td>Alex</td>\n",
       "      <td>438</td>\n",
       "    </tr>\n",
       "    <tr>\n",
       "      <th>402648</th>\n",
       "      <td>CA</td>\n",
       "      <td>M</td>\n",
       "      <td>2020</td>\n",
       "      <td>Alex</td>\n",
       "      <td>379</td>\n",
       "    </tr>\n",
       "    <tr>\n",
       "      <th>405452</th>\n",
       "      <td>CA</td>\n",
       "      <td>M</td>\n",
       "      <td>2021</td>\n",
       "      <td>Alex</td>\n",
       "      <td>334</td>\n",
       "    </tr>\n",
       "    <tr>\n",
       "      <th>408335</th>\n",
       "      <td>CA</td>\n",
       "      <td>M</td>\n",
       "      <td>2022</td>\n",
       "      <td>Alex</td>\n",
       "      <td>345</td>\n",
       "    </tr>\n",
       "    <tr>\n",
       "      <th>411228</th>\n",
       "      <td>CA</td>\n",
       "      <td>M</td>\n",
       "      <td>2023</td>\n",
       "      <td>Alex</td>\n",
       "      <td>329</td>\n",
       "    </tr>\n",
       "  </tbody>\n",
       "</table>\n",
       "<p>321 rows × 5 columns</p>\n",
       "</div>"
      ],
      "text/plain": [
       "       State Sex  Year   Name  Count\n",
       "6289      CA   F  1923  Bella      5\n",
       "7512      CA   F  1925  Bella      8\n",
       "12368     CA   F  1932   Lisa      5\n",
       "14741     CA   F  1936   Lisa      8\n",
       "17084     CA   F  1939   Lisa      5\n",
       "...      ...  ..   ...    ...    ...\n",
       "399773    CA   M  2019   Alex    438\n",
       "402648    CA   M  2020   Alex    379\n",
       "405452    CA   M  2021   Alex    334\n",
       "408335    CA   M  2022   Alex    345\n",
       "411228    CA   M  2023   Alex    329\n",
       "\n",
       "[321 rows x 5 columns]"
      ]
     },
     "execution_count": 8,
     "metadata": {},
     "output_type": "execute_result"
    }
   ],
   "source": [
    "# A more concise method to achieve the above: .isin\n",
    "#Answer Here\n",
    "\n",
    "babynames[babynames[\"Name\"].isin([\"Bella\",\"Alex\",\"Narges\",\"Lisa\"])]"
   ]
  },
  {
   "cell_type": "markdown",
   "metadata": {
    "id": "FAfz6N3qikKm"
   },
   "source": [
    "### `.str` Functions for Defining a Condition"
   ]
  },
  {
   "cell_type": "code",
   "execution_count": 9,
   "metadata": {
    "colab": {
     "base_uri": "https://localhost:8080/",
     "height": 423
    },
    "id": "xYCh8K0qikKm",
    "outputId": "c286c195-fc40-4925-d678-ba78aec677af"
   },
   "outputs": [
    {
     "data": {
      "text/html": [
       "<div>\n",
       "<style scoped>\n",
       "    .dataframe tbody tr th:only-of-type {\n",
       "        vertical-align: middle;\n",
       "    }\n",
       "\n",
       "    .dataframe tbody tr th {\n",
       "        vertical-align: top;\n",
       "    }\n",
       "\n",
       "    .dataframe thead th {\n",
       "        text-align: right;\n",
       "    }\n",
       "</style>\n",
       "<table border=\"1\" class=\"dataframe\">\n",
       "  <thead>\n",
       "    <tr style=\"text-align: right;\">\n",
       "      <th></th>\n",
       "      <th>State</th>\n",
       "      <th>Sex</th>\n",
       "      <th>Year</th>\n",
       "      <th>Name</th>\n",
       "      <th>Count</th>\n",
       "    </tr>\n",
       "  </thead>\n",
       "  <tbody>\n",
       "    <tr>\n",
       "      <th>16</th>\n",
       "      <td>CA</td>\n",
       "      <td>F</td>\n",
       "      <td>1910</td>\n",
       "      <td>Josephine</td>\n",
       "      <td>66</td>\n",
       "    </tr>\n",
       "    <tr>\n",
       "      <th>44</th>\n",
       "      <td>CA</td>\n",
       "      <td>F</td>\n",
       "      <td>1910</td>\n",
       "      <td>Jean</td>\n",
       "      <td>35</td>\n",
       "    </tr>\n",
       "    <tr>\n",
       "      <th>46</th>\n",
       "      <td>CA</td>\n",
       "      <td>F</td>\n",
       "      <td>1910</td>\n",
       "      <td>Jessie</td>\n",
       "      <td>32</td>\n",
       "    </tr>\n",
       "    <tr>\n",
       "      <th>59</th>\n",
       "      <td>CA</td>\n",
       "      <td>F</td>\n",
       "      <td>1910</td>\n",
       "      <td>Julia</td>\n",
       "      <td>28</td>\n",
       "    </tr>\n",
       "    <tr>\n",
       "      <th>66</th>\n",
       "      <td>CA</td>\n",
       "      <td>F</td>\n",
       "      <td>1910</td>\n",
       "      <td>Juanita</td>\n",
       "      <td>25</td>\n",
       "    </tr>\n",
       "    <tr>\n",
       "      <th>...</th>\n",
       "      <td>...</td>\n",
       "      <td>...</td>\n",
       "      <td>...</td>\n",
       "      <td>...</td>\n",
       "      <td>...</td>\n",
       "    </tr>\n",
       "    <tr>\n",
       "      <th>413714</th>\n",
       "      <td>CA</td>\n",
       "      <td>M</td>\n",
       "      <td>2023</td>\n",
       "      <td>Jj</td>\n",
       "      <td>5</td>\n",
       "    </tr>\n",
       "    <tr>\n",
       "      <th>413715</th>\n",
       "      <td>CA</td>\n",
       "      <td>M</td>\n",
       "      <td>2023</td>\n",
       "      <td>Johnathon</td>\n",
       "      <td>5</td>\n",
       "    </tr>\n",
       "    <tr>\n",
       "      <th>413716</th>\n",
       "      <td>CA</td>\n",
       "      <td>M</td>\n",
       "      <td>2023</td>\n",
       "      <td>Jorden</td>\n",
       "      <td>5</td>\n",
       "    </tr>\n",
       "    <tr>\n",
       "      <th>413717</th>\n",
       "      <td>CA</td>\n",
       "      <td>M</td>\n",
       "      <td>2023</td>\n",
       "      <td>Jozef</td>\n",
       "      <td>5</td>\n",
       "    </tr>\n",
       "    <tr>\n",
       "      <th>413718</th>\n",
       "      <td>CA</td>\n",
       "      <td>M</td>\n",
       "      <td>2023</td>\n",
       "      <td>Juliano</td>\n",
       "      <td>5</td>\n",
       "    </tr>\n",
       "  </tbody>\n",
       "</table>\n",
       "<p>35170 rows × 5 columns</p>\n",
       "</div>"
      ],
      "text/plain": [
       "       State Sex  Year       Name  Count\n",
       "16        CA   F  1910  Josephine     66\n",
       "44        CA   F  1910       Jean     35\n",
       "46        CA   F  1910     Jessie     32\n",
       "59        CA   F  1910      Julia     28\n",
       "66        CA   F  1910    Juanita     25\n",
       "...      ...  ..   ...        ...    ...\n",
       "413714    CA   M  2023         Jj      5\n",
       "413715    CA   M  2023  Johnathon      5\n",
       "413716    CA   M  2023     Jorden      5\n",
       "413717    CA   M  2023      Jozef      5\n",
       "413718    CA   M  2023    Juliano      5\n",
       "\n",
       "[35170 rows x 5 columns]"
      ]
     },
     "execution_count": 9,
     "metadata": {},
     "output_type": "execute_result"
    }
   ],
   "source": [
    "# What if we only want names that start with \"J\"?\n",
    "#Answer Here\n",
    "babynames[babynames[\"Name\"].str.startswith(\"J\")]\n"
   ]
  },
  {
   "cell_type": "markdown",
   "metadata": {
    "id": "jVetySbcC4_b"
   },
   "source": [
    "# Custom Sort"
   ]
  },
  {
   "cell_type": "code",
   "execution_count": 10,
   "metadata": {
    "colab": {
     "base_uri": "https://localhost:8080/"
    },
    "id": "_jngqWCtrvTe",
    "outputId": "13c9535f-5b78-457b-9fc1-2c434f8d0d7c"
   },
   "outputs": [
    {
     "data": {
      "text/plain": [
       "387660      Aadan\n",
       "369654      Aadan\n",
       "372774      Aadan\n",
       "401876    Aadarsh\n",
       "388799      Aaden\n",
       "           ...   \n",
       "232190      Zyrah\n",
       "220708      Zyrah\n",
       "217445      Zyrah\n",
       "197542      Zyrah\n",
       "408216      Zyrus\n",
       "Name: Name, Length: 413894, dtype: object"
      ]
     },
     "execution_count": 10,
     "metadata": {},
     "output_type": "execute_result"
    }
   ],
   "source": [
    "# Sort a Series Containing Names\n",
    "babynames[\"Name\"].sort_values()"
   ]
  },
  {
   "cell_type": "code",
   "execution_count": 13,
   "metadata": {},
   "outputs": [
    {
     "data": {
      "text/html": [
       "<div>\n",
       "<style scoped>\n",
       "    .dataframe tbody tr th:only-of-type {\n",
       "        vertical-align: middle;\n",
       "    }\n",
       "\n",
       "    .dataframe tbody tr th {\n",
       "        vertical-align: top;\n",
       "    }\n",
       "\n",
       "    .dataframe thead th {\n",
       "        text-align: right;\n",
       "    }\n",
       "</style>\n",
       "<table border=\"1\" class=\"dataframe\">\n",
       "  <thead>\n",
       "    <tr style=\"text-align: right;\">\n",
       "      <th></th>\n",
       "      <th>State</th>\n",
       "      <th>Sex</th>\n",
       "      <th>Year</th>\n",
       "      <th>Name</th>\n",
       "      <th>Count</th>\n",
       "    </tr>\n",
       "  </thead>\n",
       "  <tbody>\n",
       "    <tr>\n",
       "      <th>0</th>\n",
       "      <td>CA</td>\n",
       "      <td>F</td>\n",
       "      <td>1910</td>\n",
       "      <td>Mary</td>\n",
       "      <td>295</td>\n",
       "    </tr>\n",
       "    <tr>\n",
       "      <th>3</th>\n",
       "      <td>CA</td>\n",
       "      <td>F</td>\n",
       "      <td>1910</td>\n",
       "      <td>Margaret</td>\n",
       "      <td>163</td>\n",
       "    </tr>\n",
       "    <tr>\n",
       "      <th>11</th>\n",
       "      <td>CA</td>\n",
       "      <td>F</td>\n",
       "      <td>1910</td>\n",
       "      <td>Marie</td>\n",
       "      <td>90</td>\n",
       "    </tr>\n",
       "    <tr>\n",
       "      <th>12</th>\n",
       "      <td>CA</td>\n",
       "      <td>F</td>\n",
       "      <td>1910</td>\n",
       "      <td>Mildred</td>\n",
       "      <td>90</td>\n",
       "    </tr>\n",
       "    <tr>\n",
       "      <th>22</th>\n",
       "      <td>CA</td>\n",
       "      <td>F</td>\n",
       "      <td>1910</td>\n",
       "      <td>Marjorie</td>\n",
       "      <td>60</td>\n",
       "    </tr>\n",
       "    <tr>\n",
       "      <th>...</th>\n",
       "      <td>...</td>\n",
       "      <td>...</td>\n",
       "      <td>...</td>\n",
       "      <td>...</td>\n",
       "      <td>...</td>\n",
       "    </tr>\n",
       "    <tr>\n",
       "      <th>413783</th>\n",
       "      <td>CA</td>\n",
       "      <td>M</td>\n",
       "      <td>2023</td>\n",
       "      <td>Momin</td>\n",
       "      <td>5</td>\n",
       "    </tr>\n",
       "    <tr>\n",
       "      <th>413784</th>\n",
       "      <td>CA</td>\n",
       "      <td>M</td>\n",
       "      <td>2023</td>\n",
       "      <td>Murray</td>\n",
       "      <td>5</td>\n",
       "    </tr>\n",
       "    <tr>\n",
       "      <th>413785</th>\n",
       "      <td>CA</td>\n",
       "      <td>M</td>\n",
       "      <td>2023</td>\n",
       "      <td>Murtaza</td>\n",
       "      <td>5</td>\n",
       "    </tr>\n",
       "    <tr>\n",
       "      <th>413786</th>\n",
       "      <td>CA</td>\n",
       "      <td>M</td>\n",
       "      <td>2023</td>\n",
       "      <td>Mycah</td>\n",
       "      <td>5</td>\n",
       "    </tr>\n",
       "    <tr>\n",
       "      <th>413787</th>\n",
       "      <td>CA</td>\n",
       "      <td>M</td>\n",
       "      <td>2023</td>\n",
       "      <td>Mylan</td>\n",
       "      <td>5</td>\n",
       "    </tr>\n",
       "  </tbody>\n",
       "</table>\n",
       "<p>35348 rows × 5 columns</p>\n",
       "</div>"
      ],
      "text/plain": [
       "       State Sex  Year      Name  Count\n",
       "0         CA   F  1910      Mary    295\n",
       "3         CA   F  1910  Margaret    163\n",
       "11        CA   F  1910     Marie     90\n",
       "12        CA   F  1910   Mildred     90\n",
       "22        CA   F  1910  Marjorie     60\n",
       "...      ...  ..   ...       ...    ...\n",
       "413783    CA   M  2023     Momin      5\n",
       "413784    CA   M  2023    Murray      5\n",
       "413785    CA   M  2023   Murtaza      5\n",
       "413786    CA   M  2023     Mycah      5\n",
       "413787    CA   M  2023     Mylan      5\n",
       "\n",
       "[35348 rows x 5 columns]"
      ]
     },
     "execution_count": 13,
     "metadata": {},
     "output_type": "execute_result"
    }
   ],
   "source": [
    "babynames[babynames[\"Name\"].str.contains(\"M\")]\n"
   ]
  },
  {
   "cell_type": "code",
   "execution_count": null,
   "metadata": {
    "colab": {
     "base_uri": "https://localhost:8080/",
     "height": 423
    },
    "id": "XdXTg7pDikKq",
    "outputId": "70d91d28-1be5-4c9c-bb7a-929f8392e3bd"
   },
   "outputs": [
    {
     "data": {
      "application/vnd.google.colaboratory.intrinsic+json": {
       "type": "dataframe"
      },
      "text/html": [
       "\n",
       "  <div id=\"df-c69c9be4-af02-4bea-a614-114237d0fc1a\" class=\"colab-df-container\">\n",
       "    <div>\n",
       "<style scoped>\n",
       "    .dataframe tbody tr th:only-of-type {\n",
       "        vertical-align: middle;\n",
       "    }\n",
       "\n",
       "    .dataframe tbody tr th {\n",
       "        vertical-align: top;\n",
       "    }\n",
       "\n",
       "    .dataframe thead th {\n",
       "        text-align: right;\n",
       "    }\n",
       "</style>\n",
       "<table border=\"1\" class=\"dataframe\">\n",
       "  <thead>\n",
       "    <tr style=\"text-align: right;\">\n",
       "      <th></th>\n",
       "      <th>State</th>\n",
       "      <th>Sex</th>\n",
       "      <th>Year</th>\n",
       "      <th>Name</th>\n",
       "      <th>Count</th>\n",
       "    </tr>\n",
       "  </thead>\n",
       "  <tbody>\n",
       "    <tr>\n",
       "      <th>271693</th>\n",
       "      <td>CA</td>\n",
       "      <td>M</td>\n",
       "      <td>1957</td>\n",
       "      <td>Michael</td>\n",
       "      <td>8263</td>\n",
       "    </tr>\n",
       "    <tr>\n",
       "      <th>270669</th>\n",
       "      <td>CA</td>\n",
       "      <td>M</td>\n",
       "      <td>1956</td>\n",
       "      <td>Michael</td>\n",
       "      <td>8257</td>\n",
       "    </tr>\n",
       "    <tr>\n",
       "      <th>321036</th>\n",
       "      <td>CA</td>\n",
       "      <td>M</td>\n",
       "      <td>1990</td>\n",
       "      <td>Michael</td>\n",
       "      <td>8247</td>\n",
       "    </tr>\n",
       "    <tr>\n",
       "      <th>285500</th>\n",
       "      <td>CA</td>\n",
       "      <td>M</td>\n",
       "      <td>1969</td>\n",
       "      <td>Michael</td>\n",
       "      <td>8244</td>\n",
       "    </tr>\n",
       "    <tr>\n",
       "      <th>286795</th>\n",
       "      <td>CA</td>\n",
       "      <td>M</td>\n",
       "      <td>1970</td>\n",
       "      <td>Michael</td>\n",
       "      <td>8197</td>\n",
       "    </tr>\n",
       "    <tr>\n",
       "      <th>...</th>\n",
       "      <td>...</td>\n",
       "      <td>...</td>\n",
       "      <td>...</td>\n",
       "      <td>...</td>\n",
       "      <td>...</td>\n",
       "    </tr>\n",
       "    <tr>\n",
       "      <th>294982</th>\n",
       "      <td>CA</td>\n",
       "      <td>M</td>\n",
       "      <td>1975</td>\n",
       "      <td>Michaelangelo</td>\n",
       "      <td>5</td>\n",
       "    </tr>\n",
       "    <tr>\n",
       "      <th>294981</th>\n",
       "      <td>CA</td>\n",
       "      <td>M</td>\n",
       "      <td>1975</td>\n",
       "      <td>Micha</td>\n",
       "      <td>5</td>\n",
       "    </tr>\n",
       "    <tr>\n",
       "      <th>294980</th>\n",
       "      <td>CA</td>\n",
       "      <td>M</td>\n",
       "      <td>1975</td>\n",
       "      <td>Markus</td>\n",
       "      <td>5</td>\n",
       "    </tr>\n",
       "    <tr>\n",
       "      <th>294979</th>\n",
       "      <td>CA</td>\n",
       "      <td>M</td>\n",
       "      <td>1975</td>\n",
       "      <td>Marcoantonio</td>\n",
       "      <td>5</td>\n",
       "    </tr>\n",
       "    <tr>\n",
       "      <th>413893</th>\n",
       "      <td>CA</td>\n",
       "      <td>M</td>\n",
       "      <td>2023</td>\n",
       "      <td>Zyir</td>\n",
       "      <td>5</td>\n",
       "    </tr>\n",
       "  </tbody>\n",
       "</table>\n",
       "<p>413894 rows × 5 columns</p>\n",
       "</div>\n",
       "    <div class=\"colab-df-buttons\">\n",
       "\n",
       "  <div class=\"colab-df-container\">\n",
       "    <button class=\"colab-df-convert\" onclick=\"convertToInteractive('df-c69c9be4-af02-4bea-a614-114237d0fc1a')\"\n",
       "            title=\"Convert this dataframe to an interactive table.\"\n",
       "            style=\"display:none;\">\n",
       "\n",
       "  <svg xmlns=\"http://www.w3.org/2000/svg\" height=\"24px\" viewBox=\"0 -960 960 960\">\n",
       "    <path d=\"M120-120v-720h720v720H120Zm60-500h600v-160H180v160Zm220 220h160v-160H400v160Zm0 220h160v-160H400v160ZM180-400h160v-160H180v160Zm440 0h160v-160H620v160ZM180-180h160v-160H180v160Zm440 0h160v-160H620v160Z\"/>\n",
       "  </svg>\n",
       "    </button>\n",
       "\n",
       "  <style>\n",
       "    .colab-df-container {\n",
       "      display:flex;\n",
       "      gap: 12px;\n",
       "    }\n",
       "\n",
       "    .colab-df-convert {\n",
       "      background-color: #E8F0FE;\n",
       "      border: none;\n",
       "      border-radius: 50%;\n",
       "      cursor: pointer;\n",
       "      display: none;\n",
       "      fill: #1967D2;\n",
       "      height: 32px;\n",
       "      padding: 0 0 0 0;\n",
       "      width: 32px;\n",
       "    }\n",
       "\n",
       "    .colab-df-convert:hover {\n",
       "      background-color: #E2EBFA;\n",
       "      box-shadow: 0px 1px 2px rgba(60, 64, 67, 0.3), 0px 1px 3px 1px rgba(60, 64, 67, 0.15);\n",
       "      fill: #174EA6;\n",
       "    }\n",
       "\n",
       "    .colab-df-buttons div {\n",
       "      margin-bottom: 4px;\n",
       "    }\n",
       "\n",
       "    [theme=dark] .colab-df-convert {\n",
       "      background-color: #3B4455;\n",
       "      fill: #D2E3FC;\n",
       "    }\n",
       "\n",
       "    [theme=dark] .colab-df-convert:hover {\n",
       "      background-color: #434B5C;\n",
       "      box-shadow: 0px 1px 3px 1px rgba(0, 0, 0, 0.15);\n",
       "      filter: drop-shadow(0px 1px 2px rgba(0, 0, 0, 0.3));\n",
       "      fill: #FFFFFF;\n",
       "    }\n",
       "  </style>\n",
       "\n",
       "    <script>\n",
       "      const buttonEl =\n",
       "        document.querySelector('#df-c69c9be4-af02-4bea-a614-114237d0fc1a button.colab-df-convert');\n",
       "      buttonEl.style.display =\n",
       "        google.colab.kernel.accessAllowed ? 'block' : 'none';\n",
       "\n",
       "      async function convertToInteractive(key) {\n",
       "        const element = document.querySelector('#df-c69c9be4-af02-4bea-a614-114237d0fc1a');\n",
       "        const dataTable =\n",
       "          await google.colab.kernel.invokeFunction('convertToInteractive',\n",
       "                                                    [key], {});\n",
       "        if (!dataTable) return;\n",
       "\n",
       "        const docLinkHtml = 'Like what you see? Visit the ' +\n",
       "          '<a target=\"_blank\" href=https://colab.research.google.com/notebooks/data_table.ipynb>data table notebook</a>'\n",
       "          + ' to learn more about interactive tables.';\n",
       "        element.innerHTML = '';\n",
       "        dataTable['output_type'] = 'display_data';\n",
       "        await google.colab.output.renderOutput(dataTable, element);\n",
       "        const docLink = document.createElement('div');\n",
       "        docLink.innerHTML = docLinkHtml;\n",
       "        element.appendChild(docLink);\n",
       "      }\n",
       "    </script>\n",
       "  </div>\n",
       "\n",
       "\n",
       "<div id=\"df-2552c965-dba1-437e-aff9-9c49bcfd5be9\">\n",
       "  <button class=\"colab-df-quickchart\" onclick=\"quickchart('df-2552c965-dba1-437e-aff9-9c49bcfd5be9')\"\n",
       "            title=\"Suggest charts\"\n",
       "            style=\"display:none;\">\n",
       "\n",
       "<svg xmlns=\"http://www.w3.org/2000/svg\" height=\"24px\"viewBox=\"0 0 24 24\"\n",
       "     width=\"24px\">\n",
       "    <g>\n",
       "        <path d=\"M19 3H5c-1.1 0-2 .9-2 2v14c0 1.1.9 2 2 2h14c1.1 0 2-.9 2-2V5c0-1.1-.9-2-2-2zM9 17H7v-7h2v7zm4 0h-2V7h2v10zm4 0h-2v-4h2v4z\"/>\n",
       "    </g>\n",
       "</svg>\n",
       "  </button>\n",
       "\n",
       "<style>\n",
       "  .colab-df-quickchart {\n",
       "      --bg-color: #E8F0FE;\n",
       "      --fill-color: #1967D2;\n",
       "      --hover-bg-color: #E2EBFA;\n",
       "      --hover-fill-color: #174EA6;\n",
       "      --disabled-fill-color: #AAA;\n",
       "      --disabled-bg-color: #DDD;\n",
       "  }\n",
       "\n",
       "  [theme=dark] .colab-df-quickchart {\n",
       "      --bg-color: #3B4455;\n",
       "      --fill-color: #D2E3FC;\n",
       "      --hover-bg-color: #434B5C;\n",
       "      --hover-fill-color: #FFFFFF;\n",
       "      --disabled-bg-color: #3B4455;\n",
       "      --disabled-fill-color: #666;\n",
       "  }\n",
       "\n",
       "  .colab-df-quickchart {\n",
       "    background-color: var(--bg-color);\n",
       "    border: none;\n",
       "    border-radius: 50%;\n",
       "    cursor: pointer;\n",
       "    display: none;\n",
       "    fill: var(--fill-color);\n",
       "    height: 32px;\n",
       "    padding: 0;\n",
       "    width: 32px;\n",
       "  }\n",
       "\n",
       "  .colab-df-quickchart:hover {\n",
       "    background-color: var(--hover-bg-color);\n",
       "    box-shadow: 0 1px 2px rgba(60, 64, 67, 0.3), 0 1px 3px 1px rgba(60, 64, 67, 0.15);\n",
       "    fill: var(--button-hover-fill-color);\n",
       "  }\n",
       "\n",
       "  .colab-df-quickchart-complete:disabled,\n",
       "  .colab-df-quickchart-complete:disabled:hover {\n",
       "    background-color: var(--disabled-bg-color);\n",
       "    fill: var(--disabled-fill-color);\n",
       "    box-shadow: none;\n",
       "  }\n",
       "\n",
       "  .colab-df-spinner {\n",
       "    border: 2px solid var(--fill-color);\n",
       "    border-color: transparent;\n",
       "    border-bottom-color: var(--fill-color);\n",
       "    animation:\n",
       "      spin 1s steps(1) infinite;\n",
       "  }\n",
       "\n",
       "  @keyframes spin {\n",
       "    0% {\n",
       "      border-color: transparent;\n",
       "      border-bottom-color: var(--fill-color);\n",
       "      border-left-color: var(--fill-color);\n",
       "    }\n",
       "    20% {\n",
       "      border-color: transparent;\n",
       "      border-left-color: var(--fill-color);\n",
       "      border-top-color: var(--fill-color);\n",
       "    }\n",
       "    30% {\n",
       "      border-color: transparent;\n",
       "      border-left-color: var(--fill-color);\n",
       "      border-top-color: var(--fill-color);\n",
       "      border-right-color: var(--fill-color);\n",
       "    }\n",
       "    40% {\n",
       "      border-color: transparent;\n",
       "      border-right-color: var(--fill-color);\n",
       "      border-top-color: var(--fill-color);\n",
       "    }\n",
       "    60% {\n",
       "      border-color: transparent;\n",
       "      border-right-color: var(--fill-color);\n",
       "    }\n",
       "    80% {\n",
       "      border-color: transparent;\n",
       "      border-right-color: var(--fill-color);\n",
       "      border-bottom-color: var(--fill-color);\n",
       "    }\n",
       "    90% {\n",
       "      border-color: transparent;\n",
       "      border-bottom-color: var(--fill-color);\n",
       "    }\n",
       "  }\n",
       "</style>\n",
       "\n",
       "  <script>\n",
       "    async function quickchart(key) {\n",
       "      const quickchartButtonEl =\n",
       "        document.querySelector('#' + key + ' button');\n",
       "      quickchartButtonEl.disabled = true;  // To prevent multiple clicks.\n",
       "      quickchartButtonEl.classList.add('colab-df-spinner');\n",
       "      try {\n",
       "        const charts = await google.colab.kernel.invokeFunction(\n",
       "            'suggestCharts', [key], {});\n",
       "      } catch (error) {\n",
       "        console.error('Error during call to suggestCharts:', error);\n",
       "      }\n",
       "      quickchartButtonEl.classList.remove('colab-df-spinner');\n",
       "      quickchartButtonEl.classList.add('colab-df-quickchart-complete');\n",
       "    }\n",
       "    (() => {\n",
       "      let quickchartButtonEl =\n",
       "        document.querySelector('#df-2552c965-dba1-437e-aff9-9c49bcfd5be9 button');\n",
       "      quickchartButtonEl.style.display =\n",
       "        google.colab.kernel.accessAllowed ? 'block' : 'none';\n",
       "    })();\n",
       "  </script>\n",
       "</div>\n",
       "\n",
       "    </div>\n",
       "  </div>\n"
      ],
      "text/plain": [
       "       State Sex  Year           Name  Count\n",
       "271693    CA   M  1957        Michael   8263\n",
       "270669    CA   M  1956        Michael   8257\n",
       "321036    CA   M  1990        Michael   8247\n",
       "285500    CA   M  1969        Michael   8244\n",
       "286795    CA   M  1970        Michael   8197\n",
       "...      ...  ..   ...            ...    ...\n",
       "294982    CA   M  1975  Michaelangelo      5\n",
       "294981    CA   M  1975          Micha      5\n",
       "294980    CA   M  1975         Markus      5\n",
       "294979    CA   M  1975   Marcoantonio      5\n",
       "413893    CA   M  2023           Zyir      5\n",
       "\n",
       "[413894 rows x 5 columns]"
      ]
     },
     "execution_count": 37,
     "metadata": {},
     "output_type": "execute_result"
    }
   ],
   "source": [
    "# Sort a DataFrame – there are lots of Michaels in California\n"
   ]
  },
  {
   "cell_type": "markdown",
   "metadata": {
    "id": "_ZVFY3dHsfOb"
   },
   "source": [
    "### Approach 1: Create a temporary column"
   ]
  },
  {
   "cell_type": "code",
   "execution_count": null,
   "metadata": {},
   "outputs": [],
   "source": []
  },
  {
   "cell_type": "code",
   "execution_count": 11,
   "metadata": {
    "colab": {
     "base_uri": "https://localhost:8080/",
     "height": 423
    },
    "id": "C3-jQTR7ikKr",
    "outputId": "283c5ab2-cd2b-4299-8853-a3ff799af4e2"
   },
   "outputs": [
    {
     "data": {
      "text/html": [
       "<div>\n",
       "<style scoped>\n",
       "    .dataframe tbody tr th:only-of-type {\n",
       "        vertical-align: middle;\n",
       "    }\n",
       "\n",
       "    .dataframe tbody tr th {\n",
       "        vertical-align: top;\n",
       "    }\n",
       "\n",
       "    .dataframe thead th {\n",
       "        text-align: right;\n",
       "    }\n",
       "</style>\n",
       "<table border=\"1\" class=\"dataframe\">\n",
       "  <thead>\n",
       "    <tr style=\"text-align: right;\">\n",
       "      <th></th>\n",
       "      <th>State</th>\n",
       "      <th>Sex</th>\n",
       "      <th>Year</th>\n",
       "      <th>Name</th>\n",
       "      <th>Count</th>\n",
       "      <th>Len_name</th>\n",
       "    </tr>\n",
       "  </thead>\n",
       "  <tbody>\n",
       "    <tr>\n",
       "      <th>83016</th>\n",
       "      <td>CA</td>\n",
       "      <td>F</td>\n",
       "      <td>1979</td>\n",
       "      <td>Ji</td>\n",
       "      <td>5</td>\n",
       "      <td>2</td>\n",
       "    </tr>\n",
       "    <tr>\n",
       "      <th>331174</th>\n",
       "      <td>CA</td>\n",
       "      <td>M</td>\n",
       "      <td>1993</td>\n",
       "      <td>Vu</td>\n",
       "      <td>5</td>\n",
       "      <td>2</td>\n",
       "    </tr>\n",
       "    <tr>\n",
       "      <th>298821</th>\n",
       "      <td>CA</td>\n",
       "      <td>M</td>\n",
       "      <td>1978</td>\n",
       "      <td>Al</td>\n",
       "      <td>13</td>\n",
       "      <td>2</td>\n",
       "    </tr>\n",
       "    <tr>\n",
       "      <th>277555</th>\n",
       "      <td>CA</td>\n",
       "      <td>M</td>\n",
       "      <td>1962</td>\n",
       "      <td>Ty</td>\n",
       "      <td>55</td>\n",
       "      <td>2</td>\n",
       "    </tr>\n",
       "    <tr>\n",
       "      <th>404824</th>\n",
       "      <td>CA</td>\n",
       "      <td>M</td>\n",
       "      <td>2020</td>\n",
       "      <td>Jj</td>\n",
       "      <td>6</td>\n",
       "      <td>2</td>\n",
       "    </tr>\n",
       "    <tr>\n",
       "      <th>...</th>\n",
       "      <td>...</td>\n",
       "      <td>...</td>\n",
       "      <td>...</td>\n",
       "      <td>...</td>\n",
       "      <td>...</td>\n",
       "      <td>...</td>\n",
       "    </tr>\n",
       "    <tr>\n",
       "      <th>337819</th>\n",
       "      <td>CA</td>\n",
       "      <td>M</td>\n",
       "      <td>1996</td>\n",
       "      <td>Franciscojavier</td>\n",
       "      <td>8</td>\n",
       "      <td>15</td>\n",
       "    </tr>\n",
       "    <tr>\n",
       "      <th>325562</th>\n",
       "      <td>CA</td>\n",
       "      <td>M</td>\n",
       "      <td>1991</td>\n",
       "      <td>Franciscojavier</td>\n",
       "      <td>6</td>\n",
       "      <td>15</td>\n",
       "    </tr>\n",
       "    <tr>\n",
       "      <th>316193</th>\n",
       "      <td>CA</td>\n",
       "      <td>M</td>\n",
       "      <td>1987</td>\n",
       "      <td>Franciscojavier</td>\n",
       "      <td>5</td>\n",
       "      <td>15</td>\n",
       "    </tr>\n",
       "    <tr>\n",
       "      <th>317627</th>\n",
       "      <td>CA</td>\n",
       "      <td>M</td>\n",
       "      <td>1988</td>\n",
       "      <td>Franciscojavier</td>\n",
       "      <td>10</td>\n",
       "      <td>15</td>\n",
       "    </tr>\n",
       "    <tr>\n",
       "      <th>102512</th>\n",
       "      <td>CA</td>\n",
       "      <td>F</td>\n",
       "      <td>1986</td>\n",
       "      <td>Mariadelosangel</td>\n",
       "      <td>5</td>\n",
       "      <td>15</td>\n",
       "    </tr>\n",
       "  </tbody>\n",
       "</table>\n",
       "<p>413894 rows × 6 columns</p>\n",
       "</div>"
      ],
      "text/plain": [
       "       State Sex  Year             Name  Count  Len_name\n",
       "83016     CA   F  1979               Ji      5         2\n",
       "331174    CA   M  1993               Vu      5         2\n",
       "298821    CA   M  1978               Al     13         2\n",
       "277555    CA   M  1962               Ty     55         2\n",
       "404824    CA   M  2020               Jj      6         2\n",
       "...      ...  ..   ...              ...    ...       ...\n",
       "337819    CA   M  1996  Franciscojavier      8        15\n",
       "325562    CA   M  1991  Franciscojavier      6        15\n",
       "316193    CA   M  1987  Franciscojavier      5        15\n",
       "317627    CA   M  1988  Franciscojavier     10        15\n",
       "102512    CA   F  1986  Mariadelosangel      5        15\n",
       "\n",
       "[413894 rows x 6 columns]"
      ]
     },
     "execution_count": 11,
     "metadata": {},
     "output_type": "execute_result"
    }
   ],
   "source": [
    "# Create a Series of the length of each name\n",
    "ser = babynames[\"Name\"].str.len()\n",
    "\n",
    "# Add the Series as a new column to the DataFrame\n",
    "babynames[\"Len_name\"]=ser\n",
    "\n",
    "# Sort the DataFrame by the new column\n",
    "babynames.sort_values(by=\"Len_name\")"
   ]
  },
  {
   "cell_type": "code",
   "execution_count": 12,
   "metadata": {
    "colab": {
     "base_uri": "https://localhost:8080/",
     "height": 423
    },
    "id": "ahtA1iWrikKr",
    "outputId": "8bf17ed3-3a09-490a-9ba5-77a036902267",
    "tags": []
   },
   "outputs": [
    {
     "data": {
      "text/html": [
       "<div>\n",
       "<style scoped>\n",
       "    .dataframe tbody tr th:only-of-type {\n",
       "        vertical-align: middle;\n",
       "    }\n",
       "\n",
       "    .dataframe tbody tr th {\n",
       "        vertical-align: top;\n",
       "    }\n",
       "\n",
       "    .dataframe thead th {\n",
       "        text-align: right;\n",
       "    }\n",
       "</style>\n",
       "<table border=\"1\" class=\"dataframe\">\n",
       "  <thead>\n",
       "    <tr style=\"text-align: right;\">\n",
       "      <th></th>\n",
       "      <th>State</th>\n",
       "      <th>Sex</th>\n",
       "      <th>Year</th>\n",
       "      <th>Name</th>\n",
       "      <th>Count</th>\n",
       "    </tr>\n",
       "  </thead>\n",
       "  <tbody>\n",
       "    <tr>\n",
       "      <th>0</th>\n",
       "      <td>CA</td>\n",
       "      <td>F</td>\n",
       "      <td>1910</td>\n",
       "      <td>Mary</td>\n",
       "      <td>295</td>\n",
       "    </tr>\n",
       "    <tr>\n",
       "      <th>1</th>\n",
       "      <td>CA</td>\n",
       "      <td>F</td>\n",
       "      <td>1910</td>\n",
       "      <td>Helen</td>\n",
       "      <td>239</td>\n",
       "    </tr>\n",
       "    <tr>\n",
       "      <th>2</th>\n",
       "      <td>CA</td>\n",
       "      <td>F</td>\n",
       "      <td>1910</td>\n",
       "      <td>Dorothy</td>\n",
       "      <td>220</td>\n",
       "    </tr>\n",
       "    <tr>\n",
       "      <th>3</th>\n",
       "      <td>CA</td>\n",
       "      <td>F</td>\n",
       "      <td>1910</td>\n",
       "      <td>Margaret</td>\n",
       "      <td>163</td>\n",
       "    </tr>\n",
       "    <tr>\n",
       "      <th>4</th>\n",
       "      <td>CA</td>\n",
       "      <td>F</td>\n",
       "      <td>1910</td>\n",
       "      <td>Frances</td>\n",
       "      <td>134</td>\n",
       "    </tr>\n",
       "    <tr>\n",
       "      <th>...</th>\n",
       "      <td>...</td>\n",
       "      <td>...</td>\n",
       "      <td>...</td>\n",
       "      <td>...</td>\n",
       "      <td>...</td>\n",
       "    </tr>\n",
       "    <tr>\n",
       "      <th>413889</th>\n",
       "      <td>CA</td>\n",
       "      <td>M</td>\n",
       "      <td>2023</td>\n",
       "      <td>Ziah</td>\n",
       "      <td>5</td>\n",
       "    </tr>\n",
       "    <tr>\n",
       "      <th>413890</th>\n",
       "      <td>CA</td>\n",
       "      <td>M</td>\n",
       "      <td>2023</td>\n",
       "      <td>Ziaire</td>\n",
       "      <td>5</td>\n",
       "    </tr>\n",
       "    <tr>\n",
       "      <th>413891</th>\n",
       "      <td>CA</td>\n",
       "      <td>M</td>\n",
       "      <td>2023</td>\n",
       "      <td>Zidane</td>\n",
       "      <td>5</td>\n",
       "    </tr>\n",
       "    <tr>\n",
       "      <th>413892</th>\n",
       "      <td>CA</td>\n",
       "      <td>M</td>\n",
       "      <td>2023</td>\n",
       "      <td>Zyan</td>\n",
       "      <td>5</td>\n",
       "    </tr>\n",
       "    <tr>\n",
       "      <th>413893</th>\n",
       "      <td>CA</td>\n",
       "      <td>M</td>\n",
       "      <td>2023</td>\n",
       "      <td>Zyir</td>\n",
       "      <td>5</td>\n",
       "    </tr>\n",
       "  </tbody>\n",
       "</table>\n",
       "<p>413894 rows × 5 columns</p>\n",
       "</div>"
      ],
      "text/plain": [
       "       State Sex  Year      Name  Count\n",
       "0         CA   F  1910      Mary    295\n",
       "1         CA   F  1910     Helen    239\n",
       "2         CA   F  1910   Dorothy    220\n",
       "3         CA   F  1910  Margaret    163\n",
       "4         CA   F  1910   Frances    134\n",
       "...      ...  ..   ...       ...    ...\n",
       "413889    CA   M  2023      Ziah      5\n",
       "413890    CA   M  2023    Ziaire      5\n",
       "413891    CA   M  2023    Zidane      5\n",
       "413892    CA   M  2023      Zyan      5\n",
       "413893    CA   M  2023      Zyir      5\n",
       "\n",
       "[413894 rows x 5 columns]"
      ]
     },
     "execution_count": 12,
     "metadata": {},
     "output_type": "execute_result"
    }
   ],
   "source": [
    "# drop new column\n",
    "babynames.drop(\"Len_name\",axis=1,inplace=True)\n",
    "babynames"
   ]
  },
  {
   "cell_type": "markdown",
   "metadata": {
    "id": "yRv15FHqikKr"
   },
   "source": [
    "### Approach 2: Sorting using the `key` argument\n",
    "\n",
    "---\n",
    "\n"
   ]
  },
  {
   "cell_type": "code",
   "execution_count": 13,
   "metadata": {
    "colab": {
     "base_uri": "https://localhost:8080/",
     "height": 423
    },
    "id": "AQYcQ_hRikKr",
    "outputId": "c1fe14c4-45e6-475a-8752-1ec5752fbac4"
   },
   "outputs": [
    {
     "data": {
      "text/html": [
       "<div>\n",
       "<style scoped>\n",
       "    .dataframe tbody tr th:only-of-type {\n",
       "        vertical-align: middle;\n",
       "    }\n",
       "\n",
       "    .dataframe tbody tr th {\n",
       "        vertical-align: top;\n",
       "    }\n",
       "\n",
       "    .dataframe thead th {\n",
       "        text-align: right;\n",
       "    }\n",
       "</style>\n",
       "<table border=\"1\" class=\"dataframe\">\n",
       "  <thead>\n",
       "    <tr style=\"text-align: right;\">\n",
       "      <th></th>\n",
       "      <th>State</th>\n",
       "      <th>Sex</th>\n",
       "      <th>Year</th>\n",
       "      <th>Name</th>\n",
       "      <th>Count</th>\n",
       "    </tr>\n",
       "  </thead>\n",
       "  <tbody>\n",
       "    <tr>\n",
       "      <th>83016</th>\n",
       "      <td>CA</td>\n",
       "      <td>F</td>\n",
       "      <td>1979</td>\n",
       "      <td>Ji</td>\n",
       "      <td>5</td>\n",
       "    </tr>\n",
       "    <tr>\n",
       "      <th>331174</th>\n",
       "      <td>CA</td>\n",
       "      <td>M</td>\n",
       "      <td>1993</td>\n",
       "      <td>Vu</td>\n",
       "      <td>5</td>\n",
       "    </tr>\n",
       "    <tr>\n",
       "      <th>298821</th>\n",
       "      <td>CA</td>\n",
       "      <td>M</td>\n",
       "      <td>1978</td>\n",
       "      <td>Al</td>\n",
       "      <td>13</td>\n",
       "    </tr>\n",
       "    <tr>\n",
       "      <th>277555</th>\n",
       "      <td>CA</td>\n",
       "      <td>M</td>\n",
       "      <td>1962</td>\n",
       "      <td>Ty</td>\n",
       "      <td>55</td>\n",
       "    </tr>\n",
       "    <tr>\n",
       "      <th>404824</th>\n",
       "      <td>CA</td>\n",
       "      <td>M</td>\n",
       "      <td>2020</td>\n",
       "      <td>Jj</td>\n",
       "      <td>6</td>\n",
       "    </tr>\n",
       "    <tr>\n",
       "      <th>...</th>\n",
       "      <td>...</td>\n",
       "      <td>...</td>\n",
       "      <td>...</td>\n",
       "      <td>...</td>\n",
       "      <td>...</td>\n",
       "    </tr>\n",
       "    <tr>\n",
       "      <th>337819</th>\n",
       "      <td>CA</td>\n",
       "      <td>M</td>\n",
       "      <td>1996</td>\n",
       "      <td>Franciscojavier</td>\n",
       "      <td>8</td>\n",
       "    </tr>\n",
       "    <tr>\n",
       "      <th>325562</th>\n",
       "      <td>CA</td>\n",
       "      <td>M</td>\n",
       "      <td>1991</td>\n",
       "      <td>Franciscojavier</td>\n",
       "      <td>6</td>\n",
       "    </tr>\n",
       "    <tr>\n",
       "      <th>316193</th>\n",
       "      <td>CA</td>\n",
       "      <td>M</td>\n",
       "      <td>1987</td>\n",
       "      <td>Franciscojavier</td>\n",
       "      <td>5</td>\n",
       "    </tr>\n",
       "    <tr>\n",
       "      <th>317627</th>\n",
       "      <td>CA</td>\n",
       "      <td>M</td>\n",
       "      <td>1988</td>\n",
       "      <td>Franciscojavier</td>\n",
       "      <td>10</td>\n",
       "    </tr>\n",
       "    <tr>\n",
       "      <th>102512</th>\n",
       "      <td>CA</td>\n",
       "      <td>F</td>\n",
       "      <td>1986</td>\n",
       "      <td>Mariadelosangel</td>\n",
       "      <td>5</td>\n",
       "    </tr>\n",
       "  </tbody>\n",
       "</table>\n",
       "<p>413894 rows × 5 columns</p>\n",
       "</div>"
      ],
      "text/plain": [
       "       State Sex  Year             Name  Count\n",
       "83016     CA   F  1979               Ji      5\n",
       "331174    CA   M  1993               Vu      5\n",
       "298821    CA   M  1978               Al     13\n",
       "277555    CA   M  1962               Ty     55\n",
       "404824    CA   M  2020               Jj      6\n",
       "...      ...  ..   ...              ...    ...\n",
       "337819    CA   M  1996  Franciscojavier      8\n",
       "325562    CA   M  1991  Franciscojavier      6\n",
       "316193    CA   M  1987  Franciscojavier      5\n",
       "317627    CA   M  1988  Franciscojavier     10\n",
       "102512    CA   F  1986  Mariadelosangel      5\n",
       "\n",
       "[413894 rows x 5 columns]"
      ]
     },
     "execution_count": 13,
     "metadata": {},
     "output_type": "execute_result"
    }
   ],
   "source": [
    "# Answer Here\n",
    "babynames.sort_values(by=\"Name\",key= lambda x:x.str.len())"
   ]
  },
  {
   "cell_type": "code",
   "execution_count": 14,
   "metadata": {},
   "outputs": [
    {
     "name": "stdout",
     "output_type": "stream",
     "text": [
      "0         False\n",
      "1         False\n",
      "2         False\n",
      "3         False\n",
      "4         False\n",
      "          ...  \n",
      "413889    False\n",
      "413890    False\n",
      "413891    False\n",
      "413892    False\n",
      "413893    False\n",
      "Name: Name, Length: 413894, dtype: bool\n"
     ]
    }
   ],
   "source": [
    "def count1(names):\n",
    "    print(names.str.contains(\"dr\"))\n",
    "    \n",
    "count1(babynames[\"Name\"])\n"
   ]
  },
  {
   "cell_type": "code",
   "execution_count": 15,
   "metadata": {},
   "outputs": [
    {
     "data": {
      "text/html": [
       "<div>\n",
       "<style scoped>\n",
       "    .dataframe tbody tr th:only-of-type {\n",
       "        vertical-align: middle;\n",
       "    }\n",
       "\n",
       "    .dataframe tbody tr th {\n",
       "        vertical-align: top;\n",
       "    }\n",
       "\n",
       "    .dataframe thead th {\n",
       "        text-align: right;\n",
       "    }\n",
       "</style>\n",
       "<table border=\"1\" class=\"dataframe\">\n",
       "  <thead>\n",
       "    <tr style=\"text-align: right;\">\n",
       "      <th></th>\n",
       "      <th>Name</th>\n",
       "    </tr>\n",
       "  </thead>\n",
       "  <tbody>\n",
       "    <tr>\n",
       "      <th>12</th>\n",
       "      <td>Mildred</td>\n",
       "    </tr>\n",
       "    <tr>\n",
       "      <th>21</th>\n",
       "      <td>Eleanor</td>\n",
       "    </tr>\n",
       "    <tr>\n",
       "      <th>40</th>\n",
       "      <td>Beatrice</td>\n",
       "    </tr>\n",
       "    <tr>\n",
       "      <th>44</th>\n",
       "      <td>Jean</td>\n",
       "    </tr>\n",
       "    <tr>\n",
       "      <th>64</th>\n",
       "      <td>Pearl</td>\n",
       "    </tr>\n",
       "    <tr>\n",
       "      <th>...</th>\n",
       "      <td>...</td>\n",
       "    </tr>\n",
       "    <tr>\n",
       "      <th>413624</th>\n",
       "      <td>Deanthony</td>\n",
       "    </tr>\n",
       "    <tr>\n",
       "      <th>413733</th>\n",
       "      <td>Kendrix</td>\n",
       "    </tr>\n",
       "    <tr>\n",
       "      <th>413750</th>\n",
       "      <td>Landry</td>\n",
       "    </tr>\n",
       "    <tr>\n",
       "      <th>413761</th>\n",
       "      <td>Lizandro</td>\n",
       "    </tr>\n",
       "    <tr>\n",
       "      <th>413853</th>\n",
       "      <td>Teagan</td>\n",
       "    </tr>\n",
       "  </tbody>\n",
       "</table>\n",
       "<p>14529 rows × 1 columns</p>\n",
       "</div>"
      ],
      "text/plain": [
       "             Name\n",
       "12        Mildred\n",
       "21        Eleanor\n",
       "40       Beatrice\n",
       "44           Jean\n",
       "64          Pearl\n",
       "...           ...\n",
       "413624  Deanthony\n",
       "413733    Kendrix\n",
       "413750     Landry\n",
       "413761   Lizandro\n",
       "413853     Teagan\n",
       "\n",
       "[14529 rows x 1 columns]"
      ]
     },
     "execution_count": 15,
     "metadata": {},
     "output_type": "execute_result"
    }
   ],
   "source": [
    "babynames[[\"Name\"]][(babynames[\"Name\"].str.contains(\"dr\")) | (babynames[\"Name\"].str.contains(\"ea\"))]"
   ]
  },
  {
   "cell_type": "code",
   "execution_count": 16,
   "metadata": {},
   "outputs": [
    {
     "data": {
      "text/html": [
       "<div>\n",
       "<style scoped>\n",
       "    .dataframe tbody tr th:only-of-type {\n",
       "        vertical-align: middle;\n",
       "    }\n",
       "\n",
       "    .dataframe tbody tr th {\n",
       "        vertical-align: top;\n",
       "    }\n",
       "\n",
       "    .dataframe thead th {\n",
       "        text-align: right;\n",
       "    }\n",
       "</style>\n",
       "<table border=\"1\" class=\"dataframe\">\n",
       "  <thead>\n",
       "    <tr style=\"text-align: right;\">\n",
       "      <th></th>\n",
       "      <th>State</th>\n",
       "      <th>Sex</th>\n",
       "      <th>Year</th>\n",
       "      <th>Name</th>\n",
       "      <th>Count</th>\n",
       "    </tr>\n",
       "  </thead>\n",
       "  <tbody>\n",
       "    <tr>\n",
       "      <th>12</th>\n",
       "      <td>CA</td>\n",
       "      <td>F</td>\n",
       "      <td>1910</td>\n",
       "      <td>Mildred</td>\n",
       "      <td>90</td>\n",
       "    </tr>\n",
       "    <tr>\n",
       "      <th>21</th>\n",
       "      <td>CA</td>\n",
       "      <td>F</td>\n",
       "      <td>1910</td>\n",
       "      <td>Eleanor</td>\n",
       "      <td>60</td>\n",
       "    </tr>\n",
       "    <tr>\n",
       "      <th>40</th>\n",
       "      <td>CA</td>\n",
       "      <td>F</td>\n",
       "      <td>1910</td>\n",
       "      <td>Beatrice</td>\n",
       "      <td>37</td>\n",
       "    </tr>\n",
       "    <tr>\n",
       "      <th>44</th>\n",
       "      <td>CA</td>\n",
       "      <td>F</td>\n",
       "      <td>1910</td>\n",
       "      <td>Jean</td>\n",
       "      <td>35</td>\n",
       "    </tr>\n",
       "    <tr>\n",
       "      <th>64</th>\n",
       "      <td>CA</td>\n",
       "      <td>F</td>\n",
       "      <td>1910</td>\n",
       "      <td>Pearl</td>\n",
       "      <td>26</td>\n",
       "    </tr>\n",
       "    <tr>\n",
       "      <th>...</th>\n",
       "      <td>...</td>\n",
       "      <td>...</td>\n",
       "      <td>...</td>\n",
       "      <td>...</td>\n",
       "      <td>...</td>\n",
       "    </tr>\n",
       "    <tr>\n",
       "      <th>413624</th>\n",
       "      <td>CA</td>\n",
       "      <td>M</td>\n",
       "      <td>2023</td>\n",
       "      <td>Deanthony</td>\n",
       "      <td>5</td>\n",
       "    </tr>\n",
       "    <tr>\n",
       "      <th>413733</th>\n",
       "      <td>CA</td>\n",
       "      <td>M</td>\n",
       "      <td>2023</td>\n",
       "      <td>Kendrix</td>\n",
       "      <td>5</td>\n",
       "    </tr>\n",
       "    <tr>\n",
       "      <th>413750</th>\n",
       "      <td>CA</td>\n",
       "      <td>M</td>\n",
       "      <td>2023</td>\n",
       "      <td>Landry</td>\n",
       "      <td>5</td>\n",
       "    </tr>\n",
       "    <tr>\n",
       "      <th>413761</th>\n",
       "      <td>CA</td>\n",
       "      <td>M</td>\n",
       "      <td>2023</td>\n",
       "      <td>Lizandro</td>\n",
       "      <td>5</td>\n",
       "    </tr>\n",
       "    <tr>\n",
       "      <th>413853</th>\n",
       "      <td>CA</td>\n",
       "      <td>M</td>\n",
       "      <td>2023</td>\n",
       "      <td>Teagan</td>\n",
       "      <td>5</td>\n",
       "    </tr>\n",
       "  </tbody>\n",
       "</table>\n",
       "<p>14529 rows × 5 columns</p>\n",
       "</div>"
      ],
      "text/plain": [
       "       State Sex  Year       Name  Count\n",
       "12        CA   F  1910    Mildred     90\n",
       "21        CA   F  1910    Eleanor     60\n",
       "40        CA   F  1910   Beatrice     37\n",
       "44        CA   F  1910       Jean     35\n",
       "64        CA   F  1910      Pearl     26\n",
       "...      ...  ..   ...        ...    ...\n",
       "413624    CA   M  2023  Deanthony      5\n",
       "413733    CA   M  2023    Kendrix      5\n",
       "413750    CA   M  2023     Landry      5\n",
       "413761    CA   M  2023   Lizandro      5\n",
       "413853    CA   M  2023     Teagan      5\n",
       "\n",
       "[14529 rows x 5 columns]"
      ]
     },
     "execution_count": 16,
     "metadata": {},
     "output_type": "execute_result"
    }
   ],
   "source": [
    "babynames[babynames[\"Name\"].str.contains(\"dr\") | babynames[\"Name\"].str.contains(\"ea\")]"
   ]
  },
  {
   "cell_type": "code",
   "execution_count": 17,
   "metadata": {},
   "outputs": [],
   "source": [
    "def fun1(string):\n",
    "    return string.count(\"dr\") + string.count(\"ea\")"
   ]
  },
  {
   "cell_type": "code",
   "execution_count": 18,
   "metadata": {},
   "outputs": [
    {
     "data": {
      "text/html": [
       "<div>\n",
       "<style scoped>\n",
       "    .dataframe tbody tr th:only-of-type {\n",
       "        vertical-align: middle;\n",
       "    }\n",
       "\n",
       "    .dataframe tbody tr th {\n",
       "        vertical-align: top;\n",
       "    }\n",
       "\n",
       "    .dataframe thead th {\n",
       "        text-align: right;\n",
       "    }\n",
       "</style>\n",
       "<table border=\"1\" class=\"dataframe\">\n",
       "  <thead>\n",
       "    <tr style=\"text-align: right;\">\n",
       "      <th></th>\n",
       "      <th>State</th>\n",
       "      <th>Sex</th>\n",
       "      <th>Year</th>\n",
       "      <th>Name</th>\n",
       "      <th>Count</th>\n",
       "      <th>Count_dr_ea</th>\n",
       "    </tr>\n",
       "  </thead>\n",
       "  <tbody>\n",
       "    <tr>\n",
       "      <th>101982</th>\n",
       "      <td>CA</td>\n",
       "      <td>F</td>\n",
       "      <td>1986</td>\n",
       "      <td>Deandrea</td>\n",
       "      <td>6</td>\n",
       "      <td>3</td>\n",
       "    </tr>\n",
       "    <tr>\n",
       "      <th>108738</th>\n",
       "      <td>CA</td>\n",
       "      <td>F</td>\n",
       "      <td>1988</td>\n",
       "      <td>Deandrea</td>\n",
       "      <td>5</td>\n",
       "      <td>3</td>\n",
       "    </tr>\n",
       "    <tr>\n",
       "      <th>115965</th>\n",
       "      <td>CA</td>\n",
       "      <td>F</td>\n",
       "      <td>1990</td>\n",
       "      <td>Deandrea</td>\n",
       "      <td>5</td>\n",
       "      <td>3</td>\n",
       "    </tr>\n",
       "    <tr>\n",
       "      <th>131037</th>\n",
       "      <td>CA</td>\n",
       "      <td>F</td>\n",
       "      <td>1994</td>\n",
       "      <td>Leandrea</td>\n",
       "      <td>5</td>\n",
       "      <td>3</td>\n",
       "    </tr>\n",
       "    <tr>\n",
       "      <th>311780</th>\n",
       "      <td>CA</td>\n",
       "      <td>M</td>\n",
       "      <td>1985</td>\n",
       "      <td>Deandrea</td>\n",
       "      <td>6</td>\n",
       "      <td>3</td>\n",
       "    </tr>\n",
       "  </tbody>\n",
       "</table>\n",
       "</div>"
      ],
      "text/plain": [
       "       State Sex  Year      Name  Count  Count_dr_ea\n",
       "101982    CA   F  1986  Deandrea      6            3\n",
       "108738    CA   F  1988  Deandrea      5            3\n",
       "115965    CA   F  1990  Deandrea      5            3\n",
       "131037    CA   F  1994  Leandrea      5            3\n",
       "311780    CA   M  1985  Deandrea      6            3"
      ]
     },
     "execution_count": 18,
     "metadata": {},
     "output_type": "execute_result"
    }
   ],
   "source": [
    "babynames[\"Count_dr_ea\"]=babynames[\"Name\"].map(fun1)\n",
    "babynames[babynames[\"Count_dr_ea\"]==3]"
   ]
  },
  {
   "cell_type": "markdown",
   "metadata": {
    "id": "g0cmkQEOikKr"
   },
   "source": [
    "### Approach 3: Sorting Using the `map` Function\n",
    "\n",
    "We can also use the Python map function if we want to use an arbitrarily defined function. Suppose we want to sort by the number of occurrences of \"dr\" plus the number of occurences of \"ea\"."
   ]
  },
  {
   "cell_type": "code",
   "execution_count": 19,
   "metadata": {
    "colab": {
     "base_uri": "https://localhost:8080/",
     "height": 206
    },
    "id": "cK1AbRrCikKr",
    "outputId": "c573dd81-449c-4d01-800d-5cc78701465b"
   },
   "outputs": [],
   "source": [
    "\n",
    "# Define a function to count occurrences of 'dr' and 'ea'\n",
    "def fun1(string):\n",
    "    return string.count(\"dr\") + string.count(\"ea\")\n",
    "\n",
    "# Apply the function to each name in the \"Name\" column and add as a new column\n",
    "babynames[\"Count_dr_ea\"]=babynames[\"Name\"].map(fun1)\n",
    "\n",
    "\n",
    "# Sort the DataFrame by the new column in descending order\n",
    "\n",
    "\n",
    "# Display the top rows\n"
   ]
  },
  {
   "cell_type": "code",
   "execution_count": null,
   "metadata": {
    "id": "asoXYCpNikKs"
   },
   "outputs": [],
   "source": [
    "# Drop the `dr_ea_count` column\n"
   ]
  },
  {
   "cell_type": "markdown",
   "metadata": {
    "id": "1b5vXusiikKs"
   },
   "source": [
    "## Grouping\n",
    "\n",
    "Group rows that share a common feature, then aggregate data across the group.\n",
    "\n",
    "In this example, we count the total number of babies born in each year (considering only a small subset of the data, for simplicity).\n",
    "\n",
    "<img src=\"images/groupby.png\" width=\"800\"/>"
   ]
  },
  {
   "cell_type": "code",
   "execution_count": 56,
   "metadata": {},
   "outputs": [],
   "source": [
    "# DataFrame with baby gril names only\n",
    "f_babynames = babynames[babynames[\"Sex\"] == 'F']\n",
    "\n",
    "# Answer Here\n",
    "\n",
    "#Groupby similar features like year and apply aggregate\n",
    "babynames_f_count = f_babynames.groupby('Year')[[\"Count\"]].agg('sum')\n",
    "babynames_f_count\n",
    "# Answer Here\n",
    "\n",
    "# Sort by Count\n",
    "#babynames_f_count.sort_values(by = 'Count')\n",
    "\n",
    "# Sort by Count in descending order\n",
    "babynames_f_count.sort_values(by = 'Count' , ascending = False,inplace=True)\n",
    "\n",
    "\n",
    "# Answer Here\n",
    "# Display the top rows\n",
    "#babynames_f_count"
   ]
  },
  {
   "cell_type": "code",
   "execution_count": 67,
   "metadata": {},
   "outputs": [
    {
     "data": {
      "text/plain": [
       "array([1990, 1991, 1992, 1993, 1989, 1994, 2007, 2006, 1995, 2005, 1996,\n",
       "       2008, 2004, 1988, 2003, 2000, 1997, 2002, 2001, 1998, 1999, 2009,\n",
       "       1987, 2010, 2014, 2012, 1986, 2011, 2015, 2013, 2016, 1985, 2017,\n",
       "       1984, 2018, 1983, 1982, 2019, 1981, 1961, 2021, 1963, 2020, 1980,\n",
       "       1962, 2022, 1960, 1964, 1959, 1970, 1957, 2023, 1979, 1958, 1965,\n",
       "       1969, 1956, 1968, 1966, 1978, 1967, 1977, 1971, 1955, 1976, 1954,\n",
       "       1953, 1975, 1972, 1974, 1952, 1973, 1951, 1950, 1949, 1947, 1948,\n",
       "       1946, 1945, 1944, 1943, 1942, 1941, 1940, 1939, 1938, 1937, 1924,\n",
       "       1930, 1925, 1936, 1927, 1928, 1926, 1929, 1931, 1935, 1932, 1934,\n",
       "       1923, 1933, 1922, 1921, 1920, 1919, 1918, 1917, 1916, 1915, 1914,\n",
       "       1913, 1912, 1911, 1910], dtype=int64)"
      ]
     },
     "execution_count": 67,
     "metadata": {},
     "output_type": "execute_result"
    }
   ],
   "source": [
    "n_i=np.array(babynames_f_count.index)\n",
    "n_i"
   ]
  },
  {
   "cell_type": "code",
   "execution_count": 68,
   "metadata": {},
   "outputs": [
    {
     "data": {
      "text/plain": [
       "array([262422, 261497, 256788, 249572, 243985, 242484, 236219, 234748,\n",
       "       234581, 230396, 229765, 229286, 228812, 228418, 226646, 223811,\n",
       "       222838, 222716, 222271, 220997, 219050, 218255, 215096, 210949,\n",
       "       209570, 209033, 207684, 207594, 205240, 205076, 203609, 202242,\n",
       "       195631, 192592, 189315, 187709, 185729, 184384, 181283, 175086,\n",
       "       174190, 174116, 173966, 173700, 173453, 173353, 172639, 171882,\n",
       "       166334, 164023, 163971, 163845, 163322, 162977, 161666, 159855,\n",
       "       156425, 153806, 153737, 153324, 152934, 149570, 148400, 146163,\n",
       "       143871, 143480, 138851, 138455, 137069, 136617, 131352, 130788,\n",
       "       120923, 113538, 113220, 112887, 111420,  99288,  83507,  79836,\n",
       "        77976,  69019,  55744,  49922,  45615,  44521,  40590,  37890,\n",
       "        37245,  36913,  36816,  36783,  36751,  36129,  35731,  35102,\n",
       "        34919,  34230,  34208,  34123,  32895,  30917,  30478,  28136,\n",
       "        23288,  23052,  20864,  19555,  18643,  13815,  11860,   9804,\n",
       "         6602,   5950], dtype=int64)"
      ]
     },
     "execution_count": 68,
     "metadata": {},
     "output_type": "execute_result"
    }
   ],
   "source": [
    "num_array=np.array(babynames_f_count[\"Count\"])\n",
    "num_array"
   ]
  },
  {
   "cell_type": "code",
   "execution_count": 72,
   "metadata": {},
   "outputs": [
    {
     "data": {
      "text/plain": [
       "<matplotlib.collections.PathCollection at 0x1fb37f0d610>"
      ]
     },
     "execution_count": 72,
     "metadata": {},
     "output_type": "execute_result"
    },
    {
     "data": {
      "image/png": "[encoded data removed]",
      "text/plain": [
       "<Figure size 1008x288 with 1 Axes>"
      ]
     },
     "metadata": {
      "needs_background": "light"
     },
     "output_type": "display_data"
    }
   ],
   "source": [
    "import matplotlib.pyplot as plt\n",
    "fig,ax=plt.subplots(figsize=(14,4))\n",
    "plt.scatter(n_i,num_array)"
   ]
  },
  {
   "cell_type": "code",
   "execution_count": 28,
   "metadata": {
    "id": "9EGgvBXG4ii4"
   },
   "outputs": [
    {
     "data": {
      "text/html": [
       "<div>\n",
       "<style scoped>\n",
       "    .dataframe tbody tr th:only-of-type {\n",
       "        vertical-align: middle;\n",
       "    }\n",
       "\n",
       "    .dataframe tbody tr th {\n",
       "        vertical-align: top;\n",
       "    }\n",
       "\n",
       "    .dataframe thead th {\n",
       "        text-align: right;\n",
       "    }\n",
       "</style>\n",
       "<table border=\"1\" class=\"dataframe\">\n",
       "  <thead>\n",
       "    <tr style=\"text-align: right;\">\n",
       "      <th></th>\n",
       "      <th>State</th>\n",
       "      <th>Sex</th>\n",
       "      <th>Year</th>\n",
       "      <th>Name</th>\n",
       "      <th>Count</th>\n",
       "      <th>Count_dr_ea</th>\n",
       "    </tr>\n",
       "  </thead>\n",
       "  <tbody>\n",
       "    <tr>\n",
       "      <th>0</th>\n",
       "      <td>CA</td>\n",
       "      <td>F</td>\n",
       "      <td>1910</td>\n",
       "      <td>Mary</td>\n",
       "      <td>295</td>\n",
       "      <td>0</td>\n",
       "    </tr>\n",
       "    <tr>\n",
       "      <th>1</th>\n",
       "      <td>CA</td>\n",
       "      <td>F</td>\n",
       "      <td>1910</td>\n",
       "      <td>Helen</td>\n",
       "      <td>239</td>\n",
       "      <td>0</td>\n",
       "    </tr>\n",
       "    <tr>\n",
       "      <th>2</th>\n",
       "      <td>CA</td>\n",
       "      <td>F</td>\n",
       "      <td>1910</td>\n",
       "      <td>Dorothy</td>\n",
       "      <td>220</td>\n",
       "      <td>0</td>\n",
       "    </tr>\n",
       "    <tr>\n",
       "      <th>3</th>\n",
       "      <td>CA</td>\n",
       "      <td>F</td>\n",
       "      <td>1910</td>\n",
       "      <td>Margaret</td>\n",
       "      <td>163</td>\n",
       "      <td>0</td>\n",
       "    </tr>\n",
       "    <tr>\n",
       "      <th>4</th>\n",
       "      <td>CA</td>\n",
       "      <td>F</td>\n",
       "      <td>1910</td>\n",
       "      <td>Frances</td>\n",
       "      <td>134</td>\n",
       "      <td>0</td>\n",
       "    </tr>\n",
       "    <tr>\n",
       "      <th>5</th>\n",
       "      <td>CA</td>\n",
       "      <td>F</td>\n",
       "      <td>1910</td>\n",
       "      <td>Ruth</td>\n",
       "      <td>128</td>\n",
       "      <td>0</td>\n",
       "    </tr>\n",
       "    <tr>\n",
       "      <th>6</th>\n",
       "      <td>CA</td>\n",
       "      <td>F</td>\n",
       "      <td>1910</td>\n",
       "      <td>Evelyn</td>\n",
       "      <td>126</td>\n",
       "      <td>0</td>\n",
       "    </tr>\n",
       "    <tr>\n",
       "      <th>7</th>\n",
       "      <td>CA</td>\n",
       "      <td>F</td>\n",
       "      <td>1910</td>\n",
       "      <td>Alice</td>\n",
       "      <td>118</td>\n",
       "      <td>0</td>\n",
       "    </tr>\n",
       "    <tr>\n",
       "      <th>8</th>\n",
       "      <td>CA</td>\n",
       "      <td>F</td>\n",
       "      <td>1910</td>\n",
       "      <td>Virginia</td>\n",
       "      <td>101</td>\n",
       "      <td>0</td>\n",
       "    </tr>\n",
       "    <tr>\n",
       "      <th>9</th>\n",
       "      <td>CA</td>\n",
       "      <td>F</td>\n",
       "      <td>1910</td>\n",
       "      <td>Elizabeth</td>\n",
       "      <td>93</td>\n",
       "      <td>0</td>\n",
       "    </tr>\n",
       "  </tbody>\n",
       "</table>\n",
       "</div>"
      ],
      "text/plain": [
       "  State Sex  Year       Name  Count  Count_dr_ea\n",
       "0    CA   F  1910       Mary    295            0\n",
       "1    CA   F  1910      Helen    239            0\n",
       "2    CA   F  1910    Dorothy    220            0\n",
       "3    CA   F  1910   Margaret    163            0\n",
       "4    CA   F  1910    Frances    134            0\n",
       "5    CA   F  1910       Ruth    128            0\n",
       "6    CA   F  1910     Evelyn    126            0\n",
       "7    CA   F  1910      Alice    118            0\n",
       "8    CA   F  1910   Virginia    101            0\n",
       "9    CA   F  1910  Elizabeth     93            0"
      ]
     },
     "execution_count": 28,
     "metadata": {},
     "output_type": "execute_result"
    }
   ],
   "source": [
    "# print first 10 entries\n",
    "f_babynames.head(10)"
   ]
  },
  {
   "cell_type": "code",
   "execution_count": 29,
   "metadata": {
    "id": "MeZ7klFJikKs"
   },
   "outputs": [
    {
     "data": {
      "text/html": [
       "<div>\n",
       "<style scoped>\n",
       "    .dataframe tbody tr th:only-of-type {\n",
       "        vertical-align: middle;\n",
       "    }\n",
       "\n",
       "    .dataframe tbody tr th {\n",
       "        vertical-align: top;\n",
       "    }\n",
       "\n",
       "    .dataframe thead th {\n",
       "        text-align: right;\n",
       "    }\n",
       "</style>\n",
       "<table border=\"1\" class=\"dataframe\">\n",
       "  <thead>\n",
       "    <tr style=\"text-align: right;\">\n",
       "      <th></th>\n",
       "      <th>Count</th>\n",
       "    </tr>\n",
       "    <tr>\n",
       "      <th>Year</th>\n",
       "      <th></th>\n",
       "    </tr>\n",
       "  </thead>\n",
       "  <tbody>\n",
       "    <tr>\n",
       "      <th>1990</th>\n",
       "      <td>262422</td>\n",
       "    </tr>\n",
       "    <tr>\n",
       "      <th>1991</th>\n",
       "      <td>261497</td>\n",
       "    </tr>\n",
       "    <tr>\n",
       "      <th>1992</th>\n",
       "      <td>256788</td>\n",
       "    </tr>\n",
       "    <tr>\n",
       "      <th>1993</th>\n",
       "      <td>249572</td>\n",
       "    </tr>\n",
       "    <tr>\n",
       "      <th>1989</th>\n",
       "      <td>243985</td>\n",
       "    </tr>\n",
       "    <tr>\n",
       "      <th>...</th>\n",
       "      <td>...</td>\n",
       "    </tr>\n",
       "    <tr>\n",
       "      <th>1914</th>\n",
       "      <td>13815</td>\n",
       "    </tr>\n",
       "    <tr>\n",
       "      <th>1913</th>\n",
       "      <td>11860</td>\n",
       "    </tr>\n",
       "    <tr>\n",
       "      <th>1912</th>\n",
       "      <td>9804</td>\n",
       "    </tr>\n",
       "    <tr>\n",
       "      <th>1911</th>\n",
       "      <td>6602</td>\n",
       "    </tr>\n",
       "    <tr>\n",
       "      <th>1910</th>\n",
       "      <td>5950</td>\n",
       "    </tr>\n",
       "  </tbody>\n",
       "</table>\n",
       "<p>114 rows × 1 columns</p>\n",
       "</div>"
      ],
      "text/plain": [
       "       Count\n",
       "Year        \n",
       "1990  262422\n",
       "1991  261497\n",
       "1992  256788\n",
       "1993  249572\n",
       "1989  243985\n",
       "...      ...\n",
       "1914   13815\n",
       "1913   11860\n",
       "1912    9804\n",
       "1911    6602\n",
       "1910    5950\n",
       "\n",
       "[114 rows x 1 columns]"
      ]
     },
     "execution_count": 29,
     "metadata": {},
     "output_type": "execute_result"
    }
   ],
   "source": [
    "# the total baby count in each year\n",
    "# Answer Here\n",
    "babynames_f_count"
   ]
  },
  {
   "cell_type": "markdown",
   "metadata": {
    "id": "dgGxE-GJikKs"
   },
   "source": [
    "There are many different aggregation functions we can use, all of which are useful in different applications."
   ]
  },
  {
   "cell_type": "code",
   "execution_count": 95,
   "metadata": {},
   "outputs": [
    {
     "data": {
      "text/plain": [
       "1910"
      ]
     },
     "execution_count": 95,
     "metadata": {},
     "output_type": "execute_result"
    }
   ],
   "source": [
    "babynames[\"Year\"].min()"
   ]
  },
  {
   "cell_type": "code",
   "execution_count": 126,
   "metadata": {},
   "outputs": [
    {
     "data": {
      "text/html": [
       "<div>\n",
       "<style scoped>\n",
       "    .dataframe tbody tr th:only-of-type {\n",
       "        vertical-align: middle;\n",
       "    }\n",
       "\n",
       "    .dataframe tbody tr th {\n",
       "        vertical-align: top;\n",
       "    }\n",
       "\n",
       "    .dataframe thead th {\n",
       "        text-align: right;\n",
       "    }\n",
       "</style>\n",
       "<table border=\"1\" class=\"dataframe\">\n",
       "  <thead>\n",
       "    <tr style=\"text-align: right;\">\n",
       "      <th></th>\n",
       "      <th>State</th>\n",
       "      <th>Sex</th>\n",
       "      <th>Year</th>\n",
       "      <th>Name</th>\n",
       "      <th>Count</th>\n",
       "      <th>Count_dr_ea</th>\n",
       "    </tr>\n",
       "  </thead>\n",
       "  <tbody>\n",
       "    <tr>\n",
       "      <th>175397</th>\n",
       "      <td>CA</td>\n",
       "      <td>F</td>\n",
       "      <td>2006</td>\n",
       "      <td>Aadya</td>\n",
       "      <td>7</td>\n",
       "      <td>0</td>\n",
       "    </tr>\n",
       "    <tr>\n",
       "      <th>188118</th>\n",
       "      <td>CA</td>\n",
       "      <td>F</td>\n",
       "      <td>2009</td>\n",
       "      <td>Aadya</td>\n",
       "      <td>7</td>\n",
       "      <td>0</td>\n",
       "    </tr>\n",
       "    <tr>\n",
       "      <th>192293</th>\n",
       "      <td>CA</td>\n",
       "      <td>F</td>\n",
       "      <td>2010</td>\n",
       "      <td>Aadya</td>\n",
       "      <td>7</td>\n",
       "      <td>0</td>\n",
       "    </tr>\n",
       "    <tr>\n",
       "      <th>195611</th>\n",
       "      <td>CA</td>\n",
       "      <td>F</td>\n",
       "      <td>2011</td>\n",
       "      <td>Aadya</td>\n",
       "      <td>11</td>\n",
       "      <td>0</td>\n",
       "    </tr>\n",
       "    <tr>\n",
       "      <th>199391</th>\n",
       "      <td>CA</td>\n",
       "      <td>F</td>\n",
       "      <td>2012</td>\n",
       "      <td>Aadya</td>\n",
       "      <td>13</td>\n",
       "      <td>0</td>\n",
       "    </tr>\n",
       "    <tr>\n",
       "      <th>203795</th>\n",
       "      <td>CA</td>\n",
       "      <td>F</td>\n",
       "      <td>2013</td>\n",
       "      <td>Aadya</td>\n",
       "      <td>10</td>\n",
       "      <td>0</td>\n",
       "    </tr>\n",
       "    <tr>\n",
       "      <th>206887</th>\n",
       "      <td>CA</td>\n",
       "      <td>F</td>\n",
       "      <td>2014</td>\n",
       "      <td>Aadya</td>\n",
       "      <td>23</td>\n",
       "      <td>0</td>\n",
       "    </tr>\n",
       "    <tr>\n",
       "      <th>210773</th>\n",
       "      <td>CA</td>\n",
       "      <td>F</td>\n",
       "      <td>2015</td>\n",
       "      <td>Aadya</td>\n",
       "      <td>26</td>\n",
       "      <td>0</td>\n",
       "    </tr>\n",
       "    <tr>\n",
       "      <th>214636</th>\n",
       "      <td>CA</td>\n",
       "      <td>F</td>\n",
       "      <td>2016</td>\n",
       "      <td>Aadya</td>\n",
       "      <td>29</td>\n",
       "      <td>0</td>\n",
       "    </tr>\n",
       "    <tr>\n",
       "      <th>218634</th>\n",
       "      <td>CA</td>\n",
       "      <td>F</td>\n",
       "      <td>2017</td>\n",
       "      <td>Aadya</td>\n",
       "      <td>24</td>\n",
       "      <td>0</td>\n",
       "    </tr>\n",
       "    <tr>\n",
       "      <th>222333</th>\n",
       "      <td>CA</td>\n",
       "      <td>F</td>\n",
       "      <td>2018</td>\n",
       "      <td>Aadya</td>\n",
       "      <td>25</td>\n",
       "      <td>0</td>\n",
       "    </tr>\n",
       "    <tr>\n",
       "      <th>226097</th>\n",
       "      <td>CA</td>\n",
       "      <td>F</td>\n",
       "      <td>2019</td>\n",
       "      <td>Aadya</td>\n",
       "      <td>23</td>\n",
       "      <td>0</td>\n",
       "    </tr>\n",
       "    <tr>\n",
       "      <th>229675</th>\n",
       "      <td>CA</td>\n",
       "      <td>F</td>\n",
       "      <td>2020</td>\n",
       "      <td>Aadya</td>\n",
       "      <td>25</td>\n",
       "      <td>0</td>\n",
       "    </tr>\n",
       "    <tr>\n",
       "      <th>233428</th>\n",
       "      <td>CA</td>\n",
       "      <td>F</td>\n",
       "      <td>2021</td>\n",
       "      <td>Aadya</td>\n",
       "      <td>21</td>\n",
       "      <td>0</td>\n",
       "    </tr>\n",
       "    <tr>\n",
       "      <th>237322</th>\n",
       "      <td>CA</td>\n",
       "      <td>F</td>\n",
       "      <td>2022</td>\n",
       "      <td>Aadya</td>\n",
       "      <td>17</td>\n",
       "      <td>0</td>\n",
       "    </tr>\n",
       "    <tr>\n",
       "      <th>240739</th>\n",
       "      <td>CA</td>\n",
       "      <td>F</td>\n",
       "      <td>2023</td>\n",
       "      <td>Aadya</td>\n",
       "      <td>22</td>\n",
       "      <td>0</td>\n",
       "    </tr>\n",
       "  </tbody>\n",
       "</table>\n",
       "</div>"
      ],
      "text/plain": [
       "       State Sex  Year   Name  Count  Count_dr_ea\n",
       "175397    CA   F  2006  Aadya      7            0\n",
       "188118    CA   F  2009  Aadya      7            0\n",
       "192293    CA   F  2010  Aadya      7            0\n",
       "195611    CA   F  2011  Aadya     11            0\n",
       "199391    CA   F  2012  Aadya     13            0\n",
       "203795    CA   F  2013  Aadya     10            0\n",
       "206887    CA   F  2014  Aadya     23            0\n",
       "210773    CA   F  2015  Aadya     26            0\n",
       "214636    CA   F  2016  Aadya     29            0\n",
       "218634    CA   F  2017  Aadya     24            0\n",
       "222333    CA   F  2018  Aadya     25            0\n",
       "226097    CA   F  2019  Aadya     23            0\n",
       "229675    CA   F  2020  Aadya     25            0\n",
       "233428    CA   F  2021  Aadya     21            0\n",
       "237322    CA   F  2022  Aadya     17            0\n",
       "240739    CA   F  2023  Aadya     22            0"
      ]
     },
     "execution_count": 126,
     "metadata": {},
     "output_type": "execute_result"
    }
   ],
   "source": [
    "babynames[babynames[\"Name\"]==\"Aadya\"]"
   ]
  },
  {
   "cell_type": "code",
   "execution_count": 97,
   "metadata": {
    "id": "Bf_9Eu1XikKs"
   },
   "outputs": [
    {
     "data": {
      "text/html": [
       "<div>\n",
       "<style scoped>\n",
       "    .dataframe tbody tr th:only-of-type {\n",
       "        vertical-align: middle;\n",
       "    }\n",
       "\n",
       "    .dataframe tbody tr th {\n",
       "        vertical-align: top;\n",
       "    }\n",
       "\n",
       "    .dataframe thead th {\n",
       "        text-align: right;\n",
       "    }\n",
       "</style>\n",
       "<table border=\"1\" class=\"dataframe\">\n",
       "  <thead>\n",
       "    <tr style=\"text-align: right;\">\n",
       "      <th></th>\n",
       "      <th>Year</th>\n",
       "      <th>Count</th>\n",
       "    </tr>\n",
       "    <tr>\n",
       "      <th>Name</th>\n",
       "      <th></th>\n",
       "      <th></th>\n",
       "    </tr>\n",
       "  </thead>\n",
       "  <tbody>\n",
       "    <tr>\n",
       "      <th>Aadhini</th>\n",
       "      <td>2022</td>\n",
       "      <td>6</td>\n",
       "    </tr>\n",
       "    <tr>\n",
       "      <th>Aadhira</th>\n",
       "      <td>2017</td>\n",
       "      <td>6</td>\n",
       "    </tr>\n",
       "    <tr>\n",
       "      <th>Aadhya</th>\n",
       "      <td>2007</td>\n",
       "      <td>5</td>\n",
       "    </tr>\n",
       "    <tr>\n",
       "      <th>Aadya</th>\n",
       "      <td>2006</td>\n",
       "      <td>7</td>\n",
       "    </tr>\n",
       "    <tr>\n",
       "      <th>Aahana</th>\n",
       "      <td>2007</td>\n",
       "      <td>6</td>\n",
       "    </tr>\n",
       "    <tr>\n",
       "      <th>...</th>\n",
       "      <td>...</td>\n",
       "      <td>...</td>\n",
       "    </tr>\n",
       "    <tr>\n",
       "      <th>Zyanya</th>\n",
       "      <td>1986</td>\n",
       "      <td>6</td>\n",
       "    </tr>\n",
       "    <tr>\n",
       "      <th>Zyla</th>\n",
       "      <td>2008</td>\n",
       "      <td>5</td>\n",
       "    </tr>\n",
       "    <tr>\n",
       "      <th>Zylah</th>\n",
       "      <td>2008</td>\n",
       "      <td>5</td>\n",
       "    </tr>\n",
       "    <tr>\n",
       "      <th>Zyra</th>\n",
       "      <td>2012</td>\n",
       "      <td>6</td>\n",
       "    </tr>\n",
       "    <tr>\n",
       "      <th>Zyrah</th>\n",
       "      <td>2011</td>\n",
       "      <td>5</td>\n",
       "    </tr>\n",
       "  </tbody>\n",
       "</table>\n",
       "<p>13930 rows × 2 columns</p>\n",
       "</div>"
      ],
      "text/plain": [
       "         Year  Count\n",
       "Name                \n",
       "Aadhini  2022      6\n",
       "Aadhira  2017      6\n",
       "Aadhya   2007      5\n",
       "Aadya    2006      7\n",
       "Aahana   2007      6\n",
       "...       ...    ...\n",
       "Zyanya   1986      6\n",
       "Zyla     2008      5\n",
       "Zylah    2008      5\n",
       "Zyra     2012      6\n",
       "Zyrah    2011      5\n",
       "\n",
       "[13930 rows x 2 columns]"
      ]
     },
     "execution_count": 97,
     "metadata": {},
     "output_type": "execute_result"
    }
   ],
   "source": [
    "# What is the earliest year in which each name appeared?\n",
    "# Answer Here\n",
    "f_babynames.groupby('Name')[['Year',\"Count\"]].agg(\"first\")"
   ]
  },
  {
   "cell_type": "code",
   "execution_count": null,
   "metadata": {},
   "outputs": [],
   "source": []
  },
  {
   "cell_type": "code",
   "execution_count": 107,
   "metadata": {
    "id": "ZYRMSMWQikKs"
   },
   "outputs": [
    {
     "data": {
      "text/html": [
       "<div>\n",
       "<style scoped>\n",
       "    .dataframe tbody tr th:only-of-type {\n",
       "        vertical-align: middle;\n",
       "    }\n",
       "\n",
       "    .dataframe tbody tr th {\n",
       "        vertical-align: top;\n",
       "    }\n",
       "\n",
       "    .dataframe thead th {\n",
       "        text-align: right;\n",
       "    }\n",
       "</style>\n",
       "<table border=\"1\" class=\"dataframe\">\n",
       "  <thead>\n",
       "    <tr style=\"text-align: right;\">\n",
       "      <th></th>\n",
       "      <th>Year</th>\n",
       "      <th>Count</th>\n",
       "    </tr>\n",
       "    <tr>\n",
       "      <th>Name</th>\n",
       "      <th></th>\n",
       "      <th></th>\n",
       "    </tr>\n",
       "  </thead>\n",
       "  <tbody>\n",
       "    <tr>\n",
       "      <th>Aadhini</th>\n",
       "      <td>2022</td>\n",
       "      <td>6</td>\n",
       "    </tr>\n",
       "    <tr>\n",
       "      <th>Aadhira</th>\n",
       "      <td>2022</td>\n",
       "      <td>10</td>\n",
       "    </tr>\n",
       "    <tr>\n",
       "      <th>Aadhya</th>\n",
       "      <td>2023</td>\n",
       "      <td>50</td>\n",
       "    </tr>\n",
       "    <tr>\n",
       "      <th>Aadya</th>\n",
       "      <td>2023</td>\n",
       "      <td>29</td>\n",
       "    </tr>\n",
       "    <tr>\n",
       "      <th>Aahana</th>\n",
       "      <td>2022</td>\n",
       "      <td>26</td>\n",
       "    </tr>\n",
       "    <tr>\n",
       "      <th>...</th>\n",
       "      <td>...</td>\n",
       "      <td>...</td>\n",
       "    </tr>\n",
       "    <tr>\n",
       "      <th>Zyanya</th>\n",
       "      <td>2023</td>\n",
       "      <td>15</td>\n",
       "    </tr>\n",
       "    <tr>\n",
       "      <th>Zyla</th>\n",
       "      <td>2023</td>\n",
       "      <td>35</td>\n",
       "    </tr>\n",
       "    <tr>\n",
       "      <th>Zylah</th>\n",
       "      <td>2023</td>\n",
       "      <td>20</td>\n",
       "    </tr>\n",
       "    <tr>\n",
       "      <th>Zyra</th>\n",
       "      <td>2023</td>\n",
       "      <td>28</td>\n",
       "    </tr>\n",
       "    <tr>\n",
       "      <th>Zyrah</th>\n",
       "      <td>2020</td>\n",
       "      <td>6</td>\n",
       "    </tr>\n",
       "  </tbody>\n",
       "</table>\n",
       "<p>13930 rows × 2 columns</p>\n",
       "</div>"
      ],
      "text/plain": [
       "         Year  Count\n",
       "Name                \n",
       "Aadhini  2022      6\n",
       "Aadhira  2022     10\n",
       "Aadhya   2023     50\n",
       "Aadya    2023     29\n",
       "Aahana   2022     26\n",
       "...       ...    ...\n",
       "Zyanya   2023     15\n",
       "Zyla     2023     35\n",
       "Zylah    2023     20\n",
       "Zyra     2023     28\n",
       "Zyrah    2020      6\n",
       "\n",
       "[13930 rows x 2 columns]"
      ]
     },
     "execution_count": 107,
     "metadata": {},
     "output_type": "execute_result"
    }
   ],
   "source": [
    "# What is the largest single-year count of each name?\n",
    "# Answer Here\n",
    "f_babynames.groupby(\"Name\")[[\"Year\",\"Count\"]].agg(max)\n"
   ]
  },
  {
   "cell_type": "code",
   "execution_count": 113,
   "metadata": {},
   "outputs": [
    {
     "data": {
      "text/plain": [
       "<bound method Series.items of Year\n",
       "1910         0\n",
       "1911       233\n",
       "1912       484\n",
       "1913    243717\n",
       "1914      1120\n",
       "         ...  \n",
       "2019    399666\n",
       "2020    402534\n",
       "2021    405331\n",
       "2022    408217\n",
       "2023    411112\n",
       "Name: Count, Length: 114, dtype: int64>"
      ]
     },
     "execution_count": 113,
     "metadata": {},
     "output_type": "execute_result"
    }
   ],
   "source": [
    "#Can you find the most popular baby name in the state of California (CA) for each year? use idxmax function.\n",
    "#Provide a list of years along with the corresponding most popular names.\"\n",
    "result = babynames.groupby(\"Year\")['Count'].idxmax()\n",
    "#Answer Here\n",
    "'''for i,j in result.items():\n",
    "    print(i,babynames.loc[j,'Name'])'''\n",
    "result.items"
   ]
  },
  {
   "cell_type": "code",
   "execution_count": 119,
   "metadata": {},
   "outputs": [
    {
     "data": {
      "text/plain": [
       "Year\n",
       "1910         0\n",
       "1911       233\n",
       "1912       484\n",
       "1913    243717\n",
       "1914      1120\n",
       "         ...  \n",
       "2019    399666\n",
       "2020    402534\n",
       "2021    405331\n",
       "2022    408217\n",
       "2023    411112\n",
       "Name: Count, Length: 114, dtype: int64"
      ]
     },
     "execution_count": 119,
     "metadata": {},
     "output_type": "execute_result"
    }
   ],
   "source": [
    "#Can you find the most popular baby name in the state of California (CA) for each year? use idxmax function.\n",
    "#Provide a list of years along with the corresponding most popular names.\"\n",
    "result = babynames.groupby(\"Year\")['Count'].idxmax()\n",
    "#Answer Here\n",
    "'''for i,j in result.items():\n",
    "    print(i,babynames.loc[j,'Name'])'''\n",
    "result"
   ]
  },
  {
   "cell_type": "markdown",
   "metadata": {
    "id": "xnszvDOfikKt"
   },
   "source": [
    "## Case Study: Name \"Popularity\""
   ]
  },
  {
   "cell_type": "markdown",
   "metadata": {
    "id": "tbOi1sfmikKt"
   },
   "source": [
    "In this exercise, let's find the name with sex \"F\" that has dropped most in popularity since its peak usage. We'll start by filtering `babynames` to only include names corresponding to sex \"F\"."
   ]
  },
  {
   "cell_type": "code",
   "execution_count": 127,
   "metadata": {
    "id": "BIMyQ0W9ikKt"
   },
   "outputs": [
    {
     "data": {
      "text/html": [
       "<div>\n",
       "<style scoped>\n",
       "    .dataframe tbody tr th:only-of-type {\n",
       "        vertical-align: middle;\n",
       "    }\n",
       "\n",
       "    .dataframe tbody tr th {\n",
       "        vertical-align: top;\n",
       "    }\n",
       "\n",
       "    .dataframe thead th {\n",
       "        text-align: right;\n",
       "    }\n",
       "</style>\n",
       "<table border=\"1\" class=\"dataframe\">\n",
       "  <thead>\n",
       "    <tr style=\"text-align: right;\">\n",
       "      <th></th>\n",
       "      <th>State</th>\n",
       "      <th>Sex</th>\n",
       "      <th>Year</th>\n",
       "      <th>Name</th>\n",
       "      <th>Count</th>\n",
       "      <th>Count_dr_ea</th>\n",
       "    </tr>\n",
       "  </thead>\n",
       "  <tbody>\n",
       "    <tr>\n",
       "      <th>0</th>\n",
       "      <td>CA</td>\n",
       "      <td>F</td>\n",
       "      <td>1910</td>\n",
       "      <td>Mary</td>\n",
       "      <td>295</td>\n",
       "      <td>0</td>\n",
       "    </tr>\n",
       "    <tr>\n",
       "      <th>1</th>\n",
       "      <td>CA</td>\n",
       "      <td>F</td>\n",
       "      <td>1910</td>\n",
       "      <td>Helen</td>\n",
       "      <td>239</td>\n",
       "      <td>0</td>\n",
       "    </tr>\n",
       "    <tr>\n",
       "      <th>2</th>\n",
       "      <td>CA</td>\n",
       "      <td>F</td>\n",
       "      <td>1910</td>\n",
       "      <td>Dorothy</td>\n",
       "      <td>220</td>\n",
       "      <td>0</td>\n",
       "    </tr>\n",
       "    <tr>\n",
       "      <th>3</th>\n",
       "      <td>CA</td>\n",
       "      <td>F</td>\n",
       "      <td>1910</td>\n",
       "      <td>Margaret</td>\n",
       "      <td>163</td>\n",
       "      <td>0</td>\n",
       "    </tr>\n",
       "    <tr>\n",
       "      <th>4</th>\n",
       "      <td>CA</td>\n",
       "      <td>F</td>\n",
       "      <td>1910</td>\n",
       "      <td>Frances</td>\n",
       "      <td>134</td>\n",
       "      <td>0</td>\n",
       "    </tr>\n",
       "    <tr>\n",
       "      <th>...</th>\n",
       "      <td>...</td>\n",
       "      <td>...</td>\n",
       "      <td>...</td>\n",
       "      <td>...</td>\n",
       "      <td>...</td>\n",
       "      <td>...</td>\n",
       "    </tr>\n",
       "    <tr>\n",
       "      <th>243185</th>\n",
       "      <td>CA</td>\n",
       "      <td>F</td>\n",
       "      <td>2023</td>\n",
       "      <td>Zeppelin</td>\n",
       "      <td>5</td>\n",
       "      <td>0</td>\n",
       "    </tr>\n",
       "    <tr>\n",
       "      <th>243186</th>\n",
       "      <td>CA</td>\n",
       "      <td>F</td>\n",
       "      <td>2023</td>\n",
       "      <td>Zhamira</td>\n",
       "      <td>5</td>\n",
       "      <td>0</td>\n",
       "    </tr>\n",
       "    <tr>\n",
       "      <th>243187</th>\n",
       "      <td>CA</td>\n",
       "      <td>F</td>\n",
       "      <td>2023</td>\n",
       "      <td>Zina</td>\n",
       "      <td>5</td>\n",
       "      <td>0</td>\n",
       "    </tr>\n",
       "    <tr>\n",
       "      <th>243188</th>\n",
       "      <td>CA</td>\n",
       "      <td>F</td>\n",
       "      <td>2023</td>\n",
       "      <td>Zooey</td>\n",
       "      <td>5</td>\n",
       "      <td>0</td>\n",
       "    </tr>\n",
       "    <tr>\n",
       "      <th>243189</th>\n",
       "      <td>CA</td>\n",
       "      <td>F</td>\n",
       "      <td>2023</td>\n",
       "      <td>Zosia</td>\n",
       "      <td>5</td>\n",
       "      <td>0</td>\n",
       "    </tr>\n",
       "  </tbody>\n",
       "</table>\n",
       "<p>243190 rows × 6 columns</p>\n",
       "</div>"
      ],
      "text/plain": [
       "       State Sex  Year      Name  Count  Count_dr_ea\n",
       "0         CA   F  1910      Mary    295            0\n",
       "1         CA   F  1910     Helen    239            0\n",
       "2         CA   F  1910   Dorothy    220            0\n",
       "3         CA   F  1910  Margaret    163            0\n",
       "4         CA   F  1910   Frances    134            0\n",
       "...      ...  ..   ...       ...    ...          ...\n",
       "243185    CA   F  2023  Zeppelin      5            0\n",
       "243186    CA   F  2023   Zhamira      5            0\n",
       "243187    CA   F  2023      Zina      5            0\n",
       "243188    CA   F  2023     Zooey      5            0\n",
       "243189    CA   F  2023     Zosia      5            0\n",
       "\n",
       "[243190 rows x 6 columns]"
      ]
     },
     "execution_count": 127,
     "metadata": {},
     "output_type": "execute_result"
    }
   ],
   "source": [
    "#Answer Here\n",
    "\n",
    "f_babynames"
   ]
  },
  {
   "cell_type": "code",
   "execution_count": 128,
   "metadata": {
    "id": "hQNgSJsxikKt"
   },
   "outputs": [
    {
     "data": {
      "text/html": [
       "<div>\n",
       "<style scoped>\n",
       "    .dataframe tbody tr th:only-of-type {\n",
       "        vertical-align: middle;\n",
       "    }\n",
       "\n",
       "    .dataframe tbody tr th {\n",
       "        vertical-align: top;\n",
       "    }\n",
       "\n",
       "    .dataframe thead th {\n",
       "        text-align: right;\n",
       "    }\n",
       "</style>\n",
       "<table border=\"1\" class=\"dataframe\">\n",
       "  <thead>\n",
       "    <tr style=\"text-align: right;\">\n",
       "      <th></th>\n",
       "      <th>State</th>\n",
       "      <th>Sex</th>\n",
       "      <th>Year</th>\n",
       "      <th>Name</th>\n",
       "      <th>Count</th>\n",
       "      <th>Count_dr_ea</th>\n",
       "    </tr>\n",
       "  </thead>\n",
       "  <tbody>\n",
       "    <tr>\n",
       "      <th>0</th>\n",
       "      <td>CA</td>\n",
       "      <td>F</td>\n",
       "      <td>1910</td>\n",
       "      <td>Mary</td>\n",
       "      <td>295</td>\n",
       "      <td>0</td>\n",
       "    </tr>\n",
       "    <tr>\n",
       "      <th>243306</th>\n",
       "      <td>CA</td>\n",
       "      <td>M</td>\n",
       "      <td>1910</td>\n",
       "      <td>Floyd</td>\n",
       "      <td>5</td>\n",
       "      <td>0</td>\n",
       "    </tr>\n",
       "    <tr>\n",
       "      <th>243307</th>\n",
       "      <td>CA</td>\n",
       "      <td>M</td>\n",
       "      <td>1910</td>\n",
       "      <td>Franklin</td>\n",
       "      <td>5</td>\n",
       "      <td>0</td>\n",
       "    </tr>\n",
       "    <tr>\n",
       "      <th>243308</th>\n",
       "      <td>CA</td>\n",
       "      <td>M</td>\n",
       "      <td>1910</td>\n",
       "      <td>Guadalupe</td>\n",
       "      <td>5</td>\n",
       "      <td>0</td>\n",
       "    </tr>\n",
       "    <tr>\n",
       "      <th>243309</th>\n",
       "      <td>CA</td>\n",
       "      <td>M</td>\n",
       "      <td>1910</td>\n",
       "      <td>Leland</td>\n",
       "      <td>5</td>\n",
       "      <td>0</td>\n",
       "    </tr>\n",
       "    <tr>\n",
       "      <th>...</th>\n",
       "      <td>...</td>\n",
       "      <td>...</td>\n",
       "      <td>...</td>\n",
       "      <td>...</td>\n",
       "      <td>...</td>\n",
       "      <td>...</td>\n",
       "    </tr>\n",
       "    <tr>\n",
       "      <th>240783</th>\n",
       "      <td>CA</td>\n",
       "      <td>F</td>\n",
       "      <td>2023</td>\n",
       "      <td>Zayna</td>\n",
       "      <td>22</td>\n",
       "      <td>0</td>\n",
       "    </tr>\n",
       "    <tr>\n",
       "      <th>240784</th>\n",
       "      <td>CA</td>\n",
       "      <td>F</td>\n",
       "      <td>2023</td>\n",
       "      <td>Aashvi</td>\n",
       "      <td>21</td>\n",
       "      <td>0</td>\n",
       "    </tr>\n",
       "    <tr>\n",
       "      <th>240785</th>\n",
       "      <td>CA</td>\n",
       "      <td>F</td>\n",
       "      <td>2023</td>\n",
       "      <td>Aida</td>\n",
       "      <td>21</td>\n",
       "      <td>0</td>\n",
       "    </tr>\n",
       "    <tr>\n",
       "      <th>240759</th>\n",
       "      <td>CA</td>\n",
       "      <td>F</td>\n",
       "      <td>2023</td>\n",
       "      <td>Eimy</td>\n",
       "      <td>22</td>\n",
       "      <td>0</td>\n",
       "    </tr>\n",
       "    <tr>\n",
       "      <th>413893</th>\n",
       "      <td>CA</td>\n",
       "      <td>M</td>\n",
       "      <td>2023</td>\n",
       "      <td>Zyir</td>\n",
       "      <td>5</td>\n",
       "      <td>0</td>\n",
       "    </tr>\n",
       "  </tbody>\n",
       "</table>\n",
       "<p>413894 rows × 6 columns</p>\n",
       "</div>"
      ],
      "text/plain": [
       "       State Sex  Year       Name  Count  Count_dr_ea\n",
       "0         CA   F  1910       Mary    295            0\n",
       "243306    CA   M  1910      Floyd      5            0\n",
       "243307    CA   M  1910   Franklin      5            0\n",
       "243308    CA   M  1910  Guadalupe      5            0\n",
       "243309    CA   M  1910     Leland      5            0\n",
       "...      ...  ..   ...        ...    ...          ...\n",
       "240783    CA   F  2023      Zayna     22            0\n",
       "240784    CA   F  2023     Aashvi     21            0\n",
       "240785    CA   F  2023       Aida     21            0\n",
       "240759    CA   F  2023       Eimy     22            0\n",
       "413893    CA   M  2023       Zyir      5            0\n",
       "\n",
       "[413894 rows x 6 columns]"
      ]
     },
     "execution_count": 128,
     "metadata": {},
     "output_type": "execute_result"
    }
   ],
   "source": [
    "# We sort the data by year\n",
    "f_babynames=babynames.sort_values(\"Year\")\n",
    "f_babynames"
   ]
  },
  {
   "cell_type": "code",
   "execution_count": 171,
   "metadata": {},
   "outputs": [
    {
     "name": "stderr",
     "output_type": "stream",
     "text": [
      "<ipython-input-171-f695e3a98ab1>:2: SettingWithCopyWarning:\n",
      "\n",
      "\n",
      "A value is trying to be set on a copy of a slice from a DataFrame\n",
      "\n",
      "See the caveats in the documentation: https://pandas.pydata.org/pandas-docs/stable/user_guide/indexing.html#returning-a-view-versus-a-copy\n",
      "\n"
     ]
    },
    {
     "data": {
      "text/html": [
       "<div>\n",
       "<style scoped>\n",
       "    .dataframe tbody tr th:only-of-type {\n",
       "        vertical-align: middle;\n",
       "    }\n",
       "\n",
       "    .dataframe tbody tr th {\n",
       "        vertical-align: top;\n",
       "    }\n",
       "\n",
       "    .dataframe thead th {\n",
       "        text-align: right;\n",
       "    }\n",
       "</style>\n",
       "<table border=\"1\" class=\"dataframe\">\n",
       "  <thead>\n",
       "    <tr style=\"text-align: right;\">\n",
       "      <th></th>\n",
       "      <th>State</th>\n",
       "      <th>Sex</th>\n",
       "      <th>Year</th>\n",
       "      <th>Name</th>\n",
       "      <th>Count</th>\n",
       "    </tr>\n",
       "  </thead>\n",
       "  <tbody>\n",
       "    <tr>\n",
       "      <th>116387</th>\n",
       "      <td>CA</td>\n",
       "      <td>F</td>\n",
       "      <td>1991</td>\n",
       "      <td>Jessica</td>\n",
       "      <td>6951</td>\n",
       "    </tr>\n",
       "    <tr>\n",
       "      <th>102698</th>\n",
       "      <td>CA</td>\n",
       "      <td>F</td>\n",
       "      <td>1987</td>\n",
       "      <td>Jessica</td>\n",
       "      <td>6847</td>\n",
       "    </tr>\n",
       "    <tr>\n",
       "      <th>23823</th>\n",
       "      <td>CA</td>\n",
       "      <td>F</td>\n",
       "      <td>1947</td>\n",
       "      <td>Linda</td>\n",
       "      <td>6759</td>\n",
       "    </tr>\n",
       "    <tr>\n",
       "      <th>112642</th>\n",
       "      <td>CA</td>\n",
       "      <td>F</td>\n",
       "      <td>1990</td>\n",
       "      <td>Jessica</td>\n",
       "      <td>6633</td>\n",
       "    </tr>\n",
       "  </tbody>\n",
       "</table>\n",
       "</div>"
      ],
      "text/plain": [
       "       State Sex  Year     Name  Count\n",
       "116387    CA   F  1991  Jessica   6951\n",
       "102698    CA   F  1987  Jessica   6847\n",
       "23823     CA   F  1947    Linda   6759\n",
       "112642    CA   F  1990  Jessica   6633"
      ]
     },
     "execution_count": 171,
     "metadata": {},
     "output_type": "execute_result"
    }
   ],
   "source": [
    "# We sort the data by year\n",
    "f_babynames.sort_values(by = 'Count', ascending = False, inplace=True)\n",
    "f_babynames.head(4)"
   ]
  },
  {
   "cell_type": "markdown",
   "metadata": {
    "id": "g9qc5bgGikKt"
   },
   "source": [
    "To build our intuition on how to answer our research question, let's visualize the prevalence of the name \"Jennifer\" over time."
   ]
  },
  {
   "cell_type": "code",
   "execution_count": 177,
   "metadata": {},
   "outputs": [
    {
     "data": {
      "text/html": [
       "<div>\n",
       "<style scoped>\n",
       "    .dataframe tbody tr th:only-of-type {\n",
       "        vertical-align: middle;\n",
       "    }\n",
       "\n",
       "    .dataframe tbody tr th {\n",
       "        vertical-align: top;\n",
       "    }\n",
       "\n",
       "    .dataframe thead th {\n",
       "        text-align: right;\n",
       "    }\n",
       "</style>\n",
       "<table border=\"1\" class=\"dataframe\">\n",
       "  <thead>\n",
       "    <tr style=\"text-align: right;\">\n",
       "      <th></th>\n",
       "      <th>State</th>\n",
       "      <th>Sex</th>\n",
       "      <th>Year</th>\n",
       "      <th>Name</th>\n",
       "      <th>Count</th>\n",
       "    </tr>\n",
       "  </thead>\n",
       "  <tbody>\n",
       "    <tr>\n",
       "      <th>0</th>\n",
       "      <td>CA</td>\n",
       "      <td>F</td>\n",
       "      <td>1910</td>\n",
       "      <td>Mary</td>\n",
       "      <td>295</td>\n",
       "    </tr>\n",
       "    <tr>\n",
       "      <th>1</th>\n",
       "      <td>CA</td>\n",
       "      <td>F</td>\n",
       "      <td>1910</td>\n",
       "      <td>Helen</td>\n",
       "      <td>239</td>\n",
       "    </tr>\n",
       "    <tr>\n",
       "      <th>2</th>\n",
       "      <td>CA</td>\n",
       "      <td>F</td>\n",
       "      <td>1910</td>\n",
       "      <td>Dorothy</td>\n",
       "      <td>220</td>\n",
       "    </tr>\n",
       "    <tr>\n",
       "      <th>3</th>\n",
       "      <td>CA</td>\n",
       "      <td>F</td>\n",
       "      <td>1910</td>\n",
       "      <td>Margaret</td>\n",
       "      <td>163</td>\n",
       "    </tr>\n",
       "    <tr>\n",
       "      <th>4</th>\n",
       "      <td>CA</td>\n",
       "      <td>F</td>\n",
       "      <td>1910</td>\n",
       "      <td>Frances</td>\n",
       "      <td>134</td>\n",
       "    </tr>\n",
       "    <tr>\n",
       "      <th>...</th>\n",
       "      <td>...</td>\n",
       "      <td>...</td>\n",
       "      <td>...</td>\n",
       "      <td>...</td>\n",
       "      <td>...</td>\n",
       "    </tr>\n",
       "    <tr>\n",
       "      <th>243185</th>\n",
       "      <td>CA</td>\n",
       "      <td>F</td>\n",
       "      <td>2023</td>\n",
       "      <td>Zeppelin</td>\n",
       "      <td>5</td>\n",
       "    </tr>\n",
       "    <tr>\n",
       "      <th>243186</th>\n",
       "      <td>CA</td>\n",
       "      <td>F</td>\n",
       "      <td>2023</td>\n",
       "      <td>Zhamira</td>\n",
       "      <td>5</td>\n",
       "    </tr>\n",
       "    <tr>\n",
       "      <th>243187</th>\n",
       "      <td>CA</td>\n",
       "      <td>F</td>\n",
       "      <td>2023</td>\n",
       "      <td>Zina</td>\n",
       "      <td>5</td>\n",
       "    </tr>\n",
       "    <tr>\n",
       "      <th>243188</th>\n",
       "      <td>CA</td>\n",
       "      <td>F</td>\n",
       "      <td>2023</td>\n",
       "      <td>Zooey</td>\n",
       "      <td>5</td>\n",
       "    </tr>\n",
       "    <tr>\n",
       "      <th>243189</th>\n",
       "      <td>CA</td>\n",
       "      <td>F</td>\n",
       "      <td>2023</td>\n",
       "      <td>Zosia</td>\n",
       "      <td>5</td>\n",
       "    </tr>\n",
       "  </tbody>\n",
       "</table>\n",
       "<p>243190 rows × 5 columns</p>\n",
       "</div>"
      ],
      "text/plain": [
       "       State Sex  Year      Name  Count\n",
       "0         CA   F  1910      Mary    295\n",
       "1         CA   F  1910     Helen    239\n",
       "2         CA   F  1910   Dorothy    220\n",
       "3         CA   F  1910  Margaret    163\n",
       "4         CA   F  1910   Frances    134\n",
       "...      ...  ..   ...       ...    ...\n",
       "243185    CA   F  2023  Zeppelin      5\n",
       "243186    CA   F  2023   Zhamira      5\n",
       "243187    CA   F  2023      Zina      5\n",
       "243188    CA   F  2023     Zooey      5\n",
       "243189    CA   F  2023     Zosia      5\n",
       "\n",
       "[243190 rows x 5 columns]"
      ]
     },
     "execution_count": 177,
     "metadata": {},
     "output_type": "execute_result"
    }
   ],
   "source": [
    "f_babynames = babynames[babynames['Sex']=='F']\n",
    "f_babynames"
   ]
  },
  {
   "cell_type": "code",
   "execution_count": 172,
   "metadata": {
    "id": "FLZPoz0sikKt"
   },
   "outputs": [
    {
     "name": "stderr",
     "output_type": "stream",
     "text": [
      "<ipython-input-172-0a4e812f48f5>:3: SettingWithCopyWarning:\n",
      "\n",
      "\n",
      "A value is trying to be set on a copy of a slice from a DataFrame\n",
      "\n",
      "See the caveats in the documentation: https://pandas.pydata.org/pandas-docs/stable/user_guide/indexing.html#returning-a-view-versus-a-copy\n",
      "\n"
     ]
    },
    {
     "data": {
      "application/vnd.plotly.v1+json": {
       "config": {
        "plotlyServerURL": "https://plot.ly"
       },
       "data": [
        {
         "hovertemplate": "Year=%{x}<br>Count=%{y}<extra></extra>",
         "legendgroup": "",
         "marker": {
          "color": "#636efa",
          "symbol": "circle"
         },
         "mode": "markers",
         "name": "",
         "orientation": "v",
         "showlegend": false,
         "type": "scatter",
         "x": [
          1934,
          1938,
          1939,
          1940,
          1941,
          1942,
          1943,
          1944,
          1945,
          1946,
          1947,
          1948,
          1949,
          1950,
          1951,
          1952,
          1953,
          1954,
          1955,
          1956,
          1957,
          1958,
          1959,
          1960,
          1961,
          1962,
          1963,
          1964,
          1965,
          1966,
          1967,
          1968,
          1969,
          1970,
          1971,
          1972,
          1973,
          1974,
          1975,
          1976,
          1977,
          1978,
          1979,
          1980,
          1981,
          1982,
          1983,
          1984,
          1985,
          1986,
          1987,
          1988,
          1989,
          1990,
          1991,
          1992,
          1993,
          1994,
          1995,
          1996,
          1997,
          1998,
          1999,
          2000,
          2001,
          2002,
          2003,
          2004,
          2005,
          2006,
          2007,
          2008,
          2009,
          2010,
          2011,
          2012,
          2013,
          2014,
          2015,
          2016,
          2017,
          2018,
          2019,
          2020,
          2021,
          2022,
          2023
         ],
         "xaxis": "x",
         "y": [
          5,
          5,
          6,
          13,
          24,
          22,
          30,
          80,
          99,
          147,
          163,
          159,
          233,
          247,
          284,
          350,
          384,
          412,
          440,
          509,
          635,
          739,
          707,
          869,
          1174,
          1256,
          1385,
          1516,
          1649,
          1919,
          1902,
          2908,
          3477,
          4696,
          5456,
          6065,
          5649,
          5673,
          5323,
          5569,
          5543,
          5295,
          5461,
          5612,
          5628,
          5813,
          5831,
          5521,
          4965,
          4306,
          4285,
          3875,
          3529,
          3610,
          3579,
          3382,
          3003,
          2940,
          2696,
          2529,
          2817,
          2561,
          2675,
          2265,
          2027,
          1987,
          1699,
          1485,
          1297,
          1144,
          1035,
          808,
          641,
          515,
          474,
          421,
          354,
          286,
          243,
          239,
          226,
          168,
          145,
          141,
          91,
          115,
          88
         ],
         "yaxis": "y"
        }
       ],
       "layout": {
        "autosize": false,
        "font": {
         "size": 18
        },
        "height": 400,
        "legend": {
         "tracegroupgap": 0
        },
        "margin": {
         "t": 60
        },
        "template": {
         "data": {
          "bar": [
           {
            "error_x": {
             "color": "#2a3f5f"
            },
            "error_y": {
             "color": "#2a3f5f"
            },
            "marker": {
             "line": {
              "color": "#E5ECF6",
              "width": 0.5
             },
             "pattern": {
              "fillmode": "overlay",
              "size": 10,
              "solidity": 0.2
             }
            },
            "type": "bar"
           }
          ],
          "barpolar": [
           {
            "marker": {
             "line": {
              "color": "#E5ECF6",
              "width": 0.5
             },
             "pattern": {
              "fillmode": "overlay",
              "size": 10,
              "solidity": 0.2
             }
            },
            "type": "barpolar"
           }
          ],
          "carpet": [
           {
            "aaxis": {
             "endlinecolor": "#2a3f5f",
             "gridcolor": "white",
             "linecolor": "white",
             "minorgridcolor": "white",
             "startlinecolor": "#2a3f5f"
            },
            "baxis": {
             "endlinecolor": "#2a3f5f",
             "gridcolor": "white",
             "linecolor": "white",
             "minorgridcolor": "white",
             "startlinecolor": "#2a3f5f"
            },
            "type": "carpet"
           }
          ],
          "choropleth": [
           {
            "colorbar": {
             "outlinewidth": 0,
             "ticks": ""
            },
            "type": "choropleth"
           }
          ],
          "contour": [
           {
            "colorbar": {
             "outlinewidth": 0,
             "ticks": ""
            },
            "colorscale": [
             [
              0,
              "#0d0887"
             ],
             [
              0.1111111111111111,
              "#46039f"
             ],
             [
              0.2222222222222222,
              "#7201a8"
             ],
             [
              0.3333333333333333,
              "#9c179e"
             ],
             [
              0.4444444444444444,
              "#bd3786"
             ],
             [
              0.5555555555555556,
              "#d8576b"
             ],
             [
              0.6666666666666666,
              "#ed7953"
             ],
             [
              0.7777777777777778,
              "#fb9f3a"
             ],
             [
              0.8888888888888888,
              "#fdca26"
             ],
             [
              1,
              "#f0f921"
             ]
            ],
            "type": "contour"
           }
          ],
          "contourcarpet": [
           {
            "colorbar": {
             "outlinewidth": 0,
             "ticks": ""
            },
            "type": "contourcarpet"
           }
          ],
          "heatmap": [
           {
            "colorbar": {
             "outlinewidth": 0,
             "ticks": ""
            },
            "colorscale": [
             [
              0,
              "#0d0887"
             ],
             [
              0.1111111111111111,
              "#46039f"
             ],
             [
              0.2222222222222222,
              "#7201a8"
             ],
             [
              0.3333333333333333,
              "#9c179e"
             ],
             [
              0.4444444444444444,
              "#bd3786"
             ],
             [
              0.5555555555555556,
              "#d8576b"
             ],
             [
              0.6666666666666666,
              "#ed7953"
             ],
             [
              0.7777777777777778,
              "#fb9f3a"
             ],
             [
              0.8888888888888888,
              "#fdca26"
             ],
             [
              1,
              "#f0f921"
             ]
            ],
            "type": "heatmap"
           }
          ],
          "heatmapgl": [
           {
            "colorbar": {
             "outlinewidth": 0,
             "ticks": ""
            },
            "colorscale": [
             [
              0,
              "#0d0887"
             ],
             [
              0.1111111111111111,
              "#46039f"
             ],
             [
              0.2222222222222222,
              "#7201a8"
             ],
             [
              0.3333333333333333,
              "#9c179e"
             ],
             [
              0.4444444444444444,
              "#bd3786"
             ],
             [
              0.5555555555555556,
              "#d8576b"
             ],
             [
              0.6666666666666666,
              "#ed7953"
             ],
             [
              0.7777777777777778,
              "#fb9f3a"
             ],
             [
              0.8888888888888888,
              "#fdca26"
             ],
             [
              1,
              "#f0f921"
             ]
            ],
            "type": "heatmapgl"
           }
          ],
          "histogram": [
           {
            "marker": {
             "pattern": {
              "fillmode": "overlay",
              "size": 10,
              "solidity": 0.2
             }
            },
            "type": "histogram"
           }
          ],
          "histogram2d": [
           {
            "colorbar": {
             "outlinewidth": 0,
             "ticks": ""
            },
            "colorscale": [
             [
              0,
              "#0d0887"
             ],
             [
              0.1111111111111111,
              "#46039f"
             ],
             [
              0.2222222222222222,
              "#7201a8"
             ],
             [
              0.3333333333333333,
              "#9c179e"
             ],
             [
              0.4444444444444444,
              "#bd3786"
             ],
             [
              0.5555555555555556,
              "#d8576b"
             ],
             [
              0.6666666666666666,
              "#ed7953"
             ],
             [
              0.7777777777777778,
              "#fb9f3a"
             ],
             [
              0.8888888888888888,
              "#fdca26"
             ],
             [
              1,
              "#f0f921"
             ]
            ],
            "type": "histogram2d"
           }
          ],
          "histogram2dcontour": [
           {
            "colorbar": {
             "outlinewidth": 0,
             "ticks": ""
            },
            "colorscale": [
             [
              0,
              "#0d0887"
             ],
             [
              0.1111111111111111,
              "#46039f"
             ],
             [
              0.2222222222222222,
              "#7201a8"
             ],
             [
              0.3333333333333333,
              "#9c179e"
             ],
             [
              0.4444444444444444,
              "#bd3786"
             ],
             [
              0.5555555555555556,
              "#d8576b"
             ],
             [
              0.6666666666666666,
              "#ed7953"
             ],
             [
              0.7777777777777778,
              "#fb9f3a"
             ],
             [
              0.8888888888888888,
              "#fdca26"
             ],
             [
              1,
              "#f0f921"
             ]
            ],
            "type": "histogram2dcontour"
           }
          ],
          "mesh3d": [
           {
            "colorbar": {
             "outlinewidth": 0,
             "ticks": ""
            },
            "type": "mesh3d"
           }
          ],
          "parcoords": [
           {
            "line": {
             "colorbar": {
              "outlinewidth": 0,
              "ticks": ""
             }
            },
            "type": "parcoords"
           }
          ],
          "pie": [
           {
            "automargin": true,
            "type": "pie"
           }
          ],
          "scatter": [
           {
            "fillpattern": {
             "fillmode": "overlay",
             "size": 10,
             "solidity": 0.2
            },
            "type": "scatter"
           }
          ],
          "scatter3d": [
           {
            "line": {
             "colorbar": {
              "outlinewidth": 0,
              "ticks": ""
             }
            },
            "marker": {
             "colorbar": {
              "outlinewidth": 0,
              "ticks": ""
             }
            },
            "type": "scatter3d"
           }
          ],
          "scattercarpet": [
           {
            "marker": {
             "colorbar": {
              "outlinewidth": 0,
              "ticks": ""
             }
            },
            "type": "scattercarpet"
           }
          ],
          "scattergeo": [
           {
            "marker": {
             "colorbar": {
              "outlinewidth": 0,
              "ticks": ""
             }
            },
            "type": "scattergeo"
           }
          ],
          "scattergl": [
           {
            "marker": {
             "colorbar": {
              "outlinewidth": 0,
              "ticks": ""
             }
            },
            "type": "scattergl"
           }
          ],
          "scattermapbox": [
           {
            "marker": {
             "colorbar": {
              "outlinewidth": 0,
              "ticks": ""
             }
            },
            "type": "scattermapbox"
           }
          ],
          "scatterpolar": [
           {
            "marker": {
             "colorbar": {
              "outlinewidth": 0,
              "ticks": ""
             }
            },
            "type": "scatterpolar"
           }
          ],
          "scatterpolargl": [
           {
            "marker": {
             "colorbar": {
              "outlinewidth": 0,
              "ticks": ""
             }
            },
            "type": "scatterpolargl"
           }
          ],
          "scatterternary": [
           {
            "marker": {
             "colorbar": {
              "outlinewidth": 0,
              "ticks": ""
             }
            },
            "type": "scatterternary"
           }
          ],
          "surface": [
           {
            "colorbar": {
             "outlinewidth": 0,
             "ticks": ""
            },
            "colorscale": [
             [
              0,
              "#0d0887"
             ],
             [
              0.1111111111111111,
              "#46039f"
             ],
             [
              0.2222222222222222,
              "#7201a8"
             ],
             [
              0.3333333333333333,
              "#9c179e"
             ],
             [
              0.4444444444444444,
              "#bd3786"
             ],
             [
              0.5555555555555556,
              "#d8576b"
             ],
             [
              0.6666666666666666,
              "#ed7953"
             ],
             [
              0.7777777777777778,
              "#fb9f3a"
             ],
             [
              0.8888888888888888,
              "#fdca26"
             ],
             [
              1,
              "#f0f921"
             ]
            ],
            "type": "surface"
           }
          ],
          "table": [
           {
            "cells": {
             "fill": {
              "color": "#EBF0F8"
             },
             "line": {
              "color": "white"
             }
            },
            "header": {
             "fill": {
              "color": "#C8D4E3"
             },
             "line": {
              "color": "white"
             }
            },
            "type": "table"
           }
          ]
         },
         "layout": {
          "annotationdefaults": {
           "arrowcolor": "#2a3f5f",
           "arrowhead": 0,
           "arrowwidth": 1
          },
          "autotypenumbers": "strict",
          "coloraxis": {
           "colorbar": {
            "outlinewidth": 0,
            "ticks": ""
           }
          },
          "colorscale": {
           "diverging": [
            [
             0,
             "#8e0152"
            ],
            [
             0.1,
             "#c51b7d"
            ],
            [
             0.2,
             "#de77ae"
            ],
            [
             0.3,
             "#f1b6da"
            ],
            [
             0.4,
             "#fde0ef"
            ],
            [
             0.5,
             "#f7f7f7"
            ],
            [
             0.6,
             "#e6f5d0"
            ],
            [
             0.7,
             "#b8e186"
            ],
            [
             0.8,
             "#7fbc41"
            ],
            [
             0.9,
             "#4d9221"
            ],
            [
             1,
             "#276419"
            ]
           ],
           "sequential": [
            [
             0,
             "#0d0887"
            ],
            [
             0.1111111111111111,
             "#46039f"
            ],
            [
             0.2222222222222222,
             "#7201a8"
            ],
            [
             0.3333333333333333,
             "#9c179e"
            ],
            [
             0.4444444444444444,
             "#bd3786"
            ],
            [
             0.5555555555555556,
             "#d8576b"
            ],
            [
             0.6666666666666666,
             "#ed7953"
            ],
            [
             0.7777777777777778,
             "#fb9f3a"
            ],
            [
             0.8888888888888888,
             "#fdca26"
            ],
            [
             1,
             "#f0f921"
            ]
           ],
           "sequentialminus": [
            [
             0,
             "#0d0887"
            ],
            [
             0.1111111111111111,
             "#46039f"
            ],
            [
             0.2222222222222222,
             "#7201a8"
            ],
            [
             0.3333333333333333,
             "#9c179e"
            ],
            [
             0.4444444444444444,
             "#bd3786"
            ],
            [
             0.5555555555555556,
             "#d8576b"
            ],
            [
             0.6666666666666666,
             "#ed7953"
            ],
            [
             0.7777777777777778,
             "#fb9f3a"
            ],
            [
             0.8888888888888888,
             "#fdca26"
            ],
            [
             1,
             "#f0f921"
            ]
           ]
          },
          "colorway": [
           "#636efa",
           "#EF553B",
           "#00cc96",
           "#ab63fa",
           "#FFA15A",
           "#19d3f3",
           "#FF6692",
           "#B6E880",
           "#FF97FF",
           "#FECB52"
          ],
          "font": {
           "color": "#2a3f5f"
          },
          "geo": {
           "bgcolor": "white",
           "lakecolor": "white",
           "landcolor": "#E5ECF6",
           "showlakes": true,
           "showland": true,
           "subunitcolor": "white"
          },
          "hoverlabel": {
           "align": "left"
          },
          "hovermode": "closest",
          "mapbox": {
           "style": "light"
          },
          "paper_bgcolor": "white",
          "plot_bgcolor": "#E5ECF6",
          "polar": {
           "angularaxis": {
            "gridcolor": "white",
            "linecolor": "white",
            "ticks": ""
           },
           "bgcolor": "#E5ECF6",
           "radialaxis": {
            "gridcolor": "white",
            "linecolor": "white",
            "ticks": ""
           }
          },
          "scene": {
           "xaxis": {
            "backgroundcolor": "#E5ECF6",
            "gridcolor": "white",
            "gridwidth": 2,
            "linecolor": "white",
            "showbackground": true,
            "ticks": "",
            "zerolinecolor": "white"
           },
           "yaxis": {
            "backgroundcolor": "#E5ECF6",
            "gridcolor": "white",
            "gridwidth": 2,
            "linecolor": "white",
            "showbackground": true,
            "ticks": "",
            "zerolinecolor": "white"
           },
           "zaxis": {
            "backgroundcolor": "#E5ECF6",
            "gridcolor": "white",
            "gridwidth": 2,
            "linecolor": "white",
            "showbackground": true,
            "ticks": "",
            "zerolinecolor": "white"
           }
          },
          "shapedefaults": {
           "line": {
            "color": "#2a3f5f"
           }
          },
          "ternary": {
           "aaxis": {
            "gridcolor": "white",
            "linecolor": "white",
            "ticks": ""
           },
           "baxis": {
            "gridcolor": "white",
            "linecolor": "white",
            "ticks": ""
           },
           "bgcolor": "#E5ECF6",
           "caxis": {
            "gridcolor": "white",
            "linecolor": "white",
            "ticks": ""
           }
          },
          "title": {
           "x": 0.05
          },
          "xaxis": {
           "automargin": true,
           "gridcolor": "white",
           "linecolor": "white",
           "ticks": "",
           "title": {
            "standoff": 15
           },
           "zerolinecolor": "white",
           "zerolinewidth": 2
          },
          "yaxis": {
           "automargin": true,
           "gridcolor": "white",
           "linecolor": "white",
           "ticks": "",
           "title": {
            "standoff": 15
           },
           "zerolinecolor": "white",
           "zerolinewidth": 2
          }
         }
        },
        "width": 1000,
        "xaxis": {
         "anchor": "y",
         "domain": [
          0,
          1
         ],
         "title": {
          "text": "Year"
         }
        },
        "yaxis": {
         "anchor": "x",
         "domain": [
          0,
          1
         ],
         "title": {
          "text": "Count"
         }
        }
       }
      },
      "text/html": [
       "<div>                            <div id=\"c9b7e0fd-fcc5-4b80-80e7-d77bd5ce3b66\" class=\"plotly-graph-div\" style=\"height:400px; width:1000px;\"></div>            <script type=\"text/javascript\">                require([\"plotly\"], function(Plotly) {                    window.PLOTLYENV=window.PLOTLYENV || {};                                    if (document.getElementById(\"c9b7e0fd-fcc5-4b80-80e7-d77bd5ce3b66\")) {                    Plotly.newPlot(                        \"c9b7e0fd-fcc5-4b80-80e7-d77bd5ce3b66\",                        [{\"hovertemplate\":\"Year=%{x}\\u003cbr\\u003eCount=%{y}\\u003cextra\\u003e\\u003c\\u002fextra\\u003e\",\"legendgroup\":\"\",\"marker\":{\"color\":\"#636efa\",\"symbol\":\"circle\"},\"mode\":\"markers\",\"name\":\"\",\"orientation\":\"v\",\"showlegend\":false,\"x\":[1934,1938,1939,1940,1941,1942,1943,1944,1945,1946,1947,1948,1949,1950,1951,1952,1953,1954,1955,1956,1957,1958,1959,1960,1961,1962,1963,1964,1965,1966,1967,1968,1969,1970,1971,1972,1973,1974,1975,1976,1977,1978,1979,1980,1981,1982,1983,1984,1985,1986,1987,1988,1989,1990,1991,1992,1993,1994,1995,1996,1997,1998,1999,2000,2001,2002,2003,2004,2005,2006,2007,2008,2009,2010,2011,2012,2013,2014,2015,2016,2017,2018,2019,2020,2021,2022,2023],\"xaxis\":\"x\",\"y\":[5,5,6,13,24,22,30,80,99,147,163,159,233,247,284,350,384,412,440,509,635,739,707,869,1174,1256,1385,1516,1649,1919,1902,2908,3477,4696,5456,6065,5649,5673,5323,5569,5543,5295,5461,5612,5628,5813,5831,5521,4965,4306,4285,3875,3529,3610,3579,3382,3003,2940,2696,2529,2817,2561,2675,2265,2027,1987,1699,1485,1297,1144,1035,808,641,515,474,421,354,286,243,239,226,168,145,141,91,115,88],\"yaxis\":\"y\",\"type\":\"scatter\"}],                        {\"template\":{\"data\":{\"histogram2dcontour\":[{\"type\":\"histogram2dcontour\",\"colorbar\":{\"outlinewidth\":0,\"ticks\":\"\"},\"colorscale\":[[0.0,\"#0d0887\"],[0.1111111111111111,\"#46039f\"],[0.2222222222222222,\"#7201a8\"],[0.3333333333333333,\"#9c179e\"],[0.4444444444444444,\"#bd3786\"],[0.5555555555555556,\"#d8576b\"],[0.6666666666666666,\"#ed7953\"],[0.7777777777777778,\"#fb9f3a\"],[0.8888888888888888,\"#fdca26\"],[1.0,\"#f0f921\"]]}],\"choropleth\":[{\"type\":\"choropleth\",\"colorbar\":{\"outlinewidth\":0,\"ticks\":\"\"}}],\"histogram2d\":[{\"type\":\"histogram2d\",\"colorbar\":{\"outlinewidth\":0,\"ticks\":\"\"},\"colorscale\":[[0.0,\"#0d0887\"],[0.1111111111111111,\"#46039f\"],[0.2222222222222222,\"#7201a8\"],[0.3333333333333333,\"#9c179e\"],[0.4444444444444444,\"#bd3786\"],[0.5555555555555556,\"#d8576b\"],[0.6666666666666666,\"#ed7953\"],[0.7777777777777778,\"#fb9f3a\"],[0.8888888888888888,\"#fdca26\"],[1.0,\"#f0f921\"]]}],\"heatmap\":[{\"type\":\"heatmap\",\"colorbar\":{\"outlinewidth\":0,\"ticks\":\"\"},\"colorscale\":[[0.0,\"#0d0887\"],[0.1111111111111111,\"#46039f\"],[0.2222222222222222,\"#7201a8\"],[0.3333333333333333,\"#9c179e\"],[0.4444444444444444,\"#bd3786\"],[0.5555555555555556,\"#d8576b\"],[0.6666666666666666,\"#ed7953\"],[0.7777777777777778,\"#fb9f3a\"],[0.8888888888888888,\"#fdca26\"],[1.0,\"#f0f921\"]]}],\"heatmapgl\":[{\"type\":\"heatmapgl\",\"colorbar\":{\"outlinewidth\":0,\"ticks\":\"\"},\"colorscale\":[[0.0,\"#0d0887\"],[0.1111111111111111,\"#46039f\"],[0.2222222222222222,\"#7201a8\"],[0.3333333333333333,\"#9c179e\"],[0.4444444444444444,\"#bd3786\"],[0.5555555555555556,\"#d8576b\"],[0.6666666666666666,\"#ed7953\"],[0.7777777777777778,\"#fb9f3a\"],[0.8888888888888888,\"#fdca26\"],[1.0,\"#f0f921\"]]}],\"contourcarpet\":[{\"type\":\"contourcarpet\",\"colorbar\":{\"outlinewidth\":0,\"ticks\":\"\"}}],\"contour\":[{\"type\":\"contour\",\"colorbar\":{\"outlinewidth\":0,\"ticks\":\"\"},\"colorscale\":[[0.0,\"#0d0887\"],[0.1111111111111111,\"#46039f\"],[0.2222222222222222,\"#7201a8\"],[0.3333333333333333,\"#9c179e\"],[0.4444444444444444,\"#bd3786\"],[0.5555555555555556,\"#d8576b\"],[0.6666666666666666,\"#ed7953\"],[0.7777777777777778,\"#fb9f3a\"],[0.8888888888888888,\"#fdca26\"],[1.0,\"#f0f921\"]]}],\"surface\":[{\"type\":\"surface\",\"colorbar\":{\"outlinewidth\":0,\"ticks\":\"\"},\"colorscale\":[[0.0,\"#0d0887\"],[0.1111111111111111,\"#46039f\"],[0.2222222222222222,\"#7201a8\"],[0.3333333333333333,\"#9c179e\"],[0.4444444444444444,\"#bd3786\"],[0.5555555555555556,\"#d8576b\"],[0.6666666666666666,\"#ed7953\"],[0.7777777777777778,\"#fb9f3a\"],[0.8888888888888888,\"#fdca26\"],[1.0,\"#f0f921\"]]}],\"mesh3d\":[{\"type\":\"mesh3d\",\"colorbar\":{\"outlinewidth\":0,\"ticks\":\"\"}}],\"scatter\":[{\"fillpattern\":{\"fillmode\":\"overlay\",\"size\":10,\"solidity\":0.2},\"type\":\"scatter\"}],\"parcoords\":[{\"type\":\"parcoords\",\"line\":{\"colorbar\":{\"outlinewidth\":0,\"ticks\":\"\"}}}],\"scatterpolargl\":[{\"type\":\"scatterpolargl\",\"marker\":{\"colorbar\":{\"outlinewidth\":0,\"ticks\":\"\"}}}],\"bar\":[{\"error_x\":{\"color\":\"#2a3f5f\"},\"error_y\":{\"color\":\"#2a3f5f\"},\"marker\":{\"line\":{\"color\":\"#E5ECF6\",\"width\":0.5},\"pattern\":{\"fillmode\":\"overlay\",\"size\":10,\"solidity\":0.2}},\"type\":\"bar\"}],\"scattergeo\":[{\"type\":\"scattergeo\",\"marker\":{\"colorbar\":{\"outlinewidth\":0,\"ticks\":\"\"}}}],\"scatterpolar\":[{\"type\":\"scatterpolar\",\"marker\":{\"colorbar\":{\"outlinewidth\":0,\"ticks\":\"\"}}}],\"histogram\":[{\"marker\":{\"pattern\":{\"fillmode\":\"overlay\",\"size\":10,\"solidity\":0.2}},\"type\":\"histogram\"}],\"scattergl\":[{\"type\":\"scattergl\",\"marker\":{\"colorbar\":{\"outlinewidth\":0,\"ticks\":\"\"}}}],\"scatter3d\":[{\"type\":\"scatter3d\",\"line\":{\"colorbar\":{\"outlinewidth\":0,\"ticks\":\"\"}},\"marker\":{\"colorbar\":{\"outlinewidth\":0,\"ticks\":\"\"}}}],\"scattermapbox\":[{\"type\":\"scattermapbox\",\"marker\":{\"colorbar\":{\"outlinewidth\":0,\"ticks\":\"\"}}}],\"scatterternary\":[{\"type\":\"scatterternary\",\"marker\":{\"colorbar\":{\"outlinewidth\":0,\"ticks\":\"\"}}}],\"scattercarpet\":[{\"type\":\"scattercarpet\",\"marker\":{\"colorbar\":{\"outlinewidth\":0,\"ticks\":\"\"}}}],\"carpet\":[{\"aaxis\":{\"endlinecolor\":\"#2a3f5f\",\"gridcolor\":\"white\",\"linecolor\":\"white\",\"minorgridcolor\":\"white\",\"startlinecolor\":\"#2a3f5f\"},\"baxis\":{\"endlinecolor\":\"#2a3f5f\",\"gridcolor\":\"white\",\"linecolor\":\"white\",\"minorgridcolor\":\"white\",\"startlinecolor\":\"#2a3f5f\"},\"type\":\"carpet\"}],\"table\":[{\"cells\":{\"fill\":{\"color\":\"#EBF0F8\"},\"line\":{\"color\":\"white\"}},\"header\":{\"fill\":{\"color\":\"#C8D4E3\"},\"line\":{\"color\":\"white\"}},\"type\":\"table\"}],\"barpolar\":[{\"marker\":{\"line\":{\"color\":\"#E5ECF6\",\"width\":0.5},\"pattern\":{\"fillmode\":\"overlay\",\"size\":10,\"solidity\":0.2}},\"type\":\"barpolar\"}],\"pie\":[{\"automargin\":true,\"type\":\"pie\"}]},\"layout\":{\"autotypenumbers\":\"strict\",\"colorway\":[\"#636efa\",\"#EF553B\",\"#00cc96\",\"#ab63fa\",\"#FFA15A\",\"#19d3f3\",\"#FF6692\",\"#B6E880\",\"#FF97FF\",\"#FECB52\"],\"font\":{\"color\":\"#2a3f5f\"},\"hovermode\":\"closest\",\"hoverlabel\":{\"align\":\"left\"},\"paper_bgcolor\":\"white\",\"plot_bgcolor\":\"#E5ECF6\",\"polar\":{\"bgcolor\":\"#E5ECF6\",\"angularaxis\":{\"gridcolor\":\"white\",\"linecolor\":\"white\",\"ticks\":\"\"},\"radialaxis\":{\"gridcolor\":\"white\",\"linecolor\":\"white\",\"ticks\":\"\"}},\"ternary\":{\"bgcolor\":\"#E5ECF6\",\"aaxis\":{\"gridcolor\":\"white\",\"linecolor\":\"white\",\"ticks\":\"\"},\"baxis\":{\"gridcolor\":\"white\",\"linecolor\":\"white\",\"ticks\":\"\"},\"caxis\":{\"gridcolor\":\"white\",\"linecolor\":\"white\",\"ticks\":\"\"}},\"coloraxis\":{\"colorbar\":{\"outlinewidth\":0,\"ticks\":\"\"}},\"colorscale\":{\"sequential\":[[0.0,\"#0d0887\"],[0.1111111111111111,\"#46039f\"],[0.2222222222222222,\"#7201a8\"],[0.3333333333333333,\"#9c179e\"],[0.4444444444444444,\"#bd3786\"],[0.5555555555555556,\"#d8576b\"],[0.6666666666666666,\"#ed7953\"],[0.7777777777777778,\"#fb9f3a\"],[0.8888888888888888,\"#fdca26\"],[1.0,\"#f0f921\"]],\"sequentialminus\":[[0.0,\"#0d0887\"],[0.1111111111111111,\"#46039f\"],[0.2222222222222222,\"#7201a8\"],[0.3333333333333333,\"#9c179e\"],[0.4444444444444444,\"#bd3786\"],[0.5555555555555556,\"#d8576b\"],[0.6666666666666666,\"#ed7953\"],[0.7777777777777778,\"#fb9f3a\"],[0.8888888888888888,\"#fdca26\"],[1.0,\"#f0f921\"]],\"diverging\":[[0,\"#8e0152\"],[0.1,\"#c51b7d\"],[0.2,\"#de77ae\"],[0.3,\"#f1b6da\"],[0.4,\"#fde0ef\"],[0.5,\"#f7f7f7\"],[0.6,\"#e6f5d0\"],[0.7,\"#b8e186\"],[0.8,\"#7fbc41\"],[0.9,\"#4d9221\"],[1,\"#276419\"]]},\"xaxis\":{\"gridcolor\":\"white\",\"linecolor\":\"white\",\"ticks\":\"\",\"title\":{\"standoff\":15},\"zerolinecolor\":\"white\",\"automargin\":true,\"zerolinewidth\":2},\"yaxis\":{\"gridcolor\":\"white\",\"linecolor\":\"white\",\"ticks\":\"\",\"title\":{\"standoff\":15},\"zerolinecolor\":\"white\",\"automargin\":true,\"zerolinewidth\":2},\"scene\":{\"xaxis\":{\"backgroundcolor\":\"#E5ECF6\",\"gridcolor\":\"white\",\"linecolor\":\"white\",\"showbackground\":true,\"ticks\":\"\",\"zerolinecolor\":\"white\",\"gridwidth\":2},\"yaxis\":{\"backgroundcolor\":\"#E5ECF6\",\"gridcolor\":\"white\",\"linecolor\":\"white\",\"showbackground\":true,\"ticks\":\"\",\"zerolinecolor\":\"white\",\"gridwidth\":2},\"zaxis\":{\"backgroundcolor\":\"#E5ECF6\",\"gridcolor\":\"white\",\"linecolor\":\"white\",\"showbackground\":true,\"ticks\":\"\",\"zerolinecolor\":\"white\",\"gridwidth\":2}},\"shapedefaults\":{\"line\":{\"color\":\"#2a3f5f\"}},\"annotationdefaults\":{\"arrowcolor\":\"#2a3f5f\",\"arrowhead\":0,\"arrowwidth\":1},\"geo\":{\"bgcolor\":\"white\",\"landcolor\":\"#E5ECF6\",\"subunitcolor\":\"white\",\"showland\":true,\"showlakes\":true,\"lakecolor\":\"white\"},\"title\":{\"x\":0.05},\"mapbox\":{\"style\":\"light\"}}},\"xaxis\":{\"anchor\":\"y\",\"domain\":[0.0,1.0],\"title\":{\"text\":\"Year\"}},\"yaxis\":{\"anchor\":\"x\",\"domain\":[0.0,1.0],\"title\":{\"text\":\"Count\"}},\"legend\":{\"tracegroupgap\":0},\"margin\":{\"t\":60},\"font\":{\"size\":18},\"autosize\":false,\"width\":1000,\"height\":400},                        {\"responsive\": true}                    ).then(function(){\n",
       "                            \n",
       "var gd = document.getElementById('c9b7e0fd-fcc5-4b80-80e7-d77bd5ce3b66');\n",
       "var x = new MutationObserver(function (mutations, observer) {{\n",
       "        var display = window.getComputedStyle(gd).display;\n",
       "        if (!display || display === 'none') {{\n",
       "            console.log([gd, 'removed!']);\n",
       "            Plotly.purge(gd);\n",
       "            observer.disconnect();\n",
       "        }}\n",
       "}});\n",
       "\n",
       "// Listen for the removal of the full notebook cells\n",
       "var notebookContainer = gd.closest('#notebook-container');\n",
       "if (notebookContainer) {{\n",
       "    x.observe(notebookContainer, {childList: true});\n",
       "}}\n",
       "\n",
       "// Listen for the clearing of the current output cell\n",
       "var outputEl = gd.closest('.output');\n",
       "if (outputEl) {{\n",
       "    x.observe(outputEl, {childList: true});\n",
       "}}\n",
       "\n",
       "                        })                };                });            </script>        </div>"
      ]
     },
     "metadata": {},
     "output_type": "display_data"
    }
   ],
   "source": [
    "# We'll talk about how to generate plots in a later lecture\n",
    "jennifer_name = f_babynames[f_babynames[\"Name\"] == \"Jennifer\"]\n",
    "jennifer_name.sort_values(by = 'Year', inplace= True)\n",
    "fig = px.scatter(jennifer_name,\n",
    "              x = \"Year\", y = \"Count\")\n",
    "fig.update_layout(font_size = 18,\n",
    "                  autosize=False,\n",
    "                 width=1000,\n",
    "                  height=400)\n",
    "fig.show()"
   ]
  },
  {
   "cell_type": "markdown",
   "metadata": {
    "id": "SrSXOygjikKt"
   },
   "source": [
    "We'll need a mathematical definition for the change in popularity of a name.\n",
    "\n",
    "Define the metric \"ratio to peak\" (RTP). We'll calculate this as the count of the name in 2022 (the most recent year for which we have data) divided by the largest count of this name in *any* year.\n",
    "\n",
    "A demo calculation for Jennifer:"
   ]
  },
  {
   "cell_type": "code",
   "execution_count": 176,
   "metadata": {
    "id": "IVsnEdtiikKu"
   },
   "outputs": [
    {
     "data": {
      "text/plain": [
       "6065"
      ]
     },
     "execution_count": 176,
     "metadata": {},
     "output_type": "execute_result"
    }
   ],
   "source": [
    "# Find the highest Jennifer 'count'\n",
    "high_J = f_babynames[f_babynames[\"Name\"] == \"Jennifer\"][\"Count\"].max()\n",
    "high_J"
   ]
  },
  {
   "cell_type": "code",
   "execution_count": 180,
   "metadata": {
    "id": "b9tFhrtYikKu",
    "scrolled": true,
    "tags": []
   },
   "outputs": [
    {
     "data": {
      "text/plain": [
       "Count    88\n",
       "Name: 239956, dtype: int64"
      ]
     },
     "execution_count": 180,
     "metadata": {},
     "output_type": "execute_result"
    }
   ],
   "source": [
    "# Remember that we sorted f_babynames by year.\n",
    "# This means that grabbing the final entry gives us the most recent count of Jennifers: 114\n",
    "# In 2022, the most recent year for which we have data, 114 Jennifers were born\n",
    "J2023 = f_babynames[f_babynames[\"Name\"] == \"Jennifer\"][[\"Count\"]].iloc[-1]\n",
    "J2023"
   ]
  },
  {
   "cell_type": "code",
   "execution_count": 181,
   "metadata": {
    "id": "EPykMViiikKu",
    "tags": []
   },
   "outputs": [
    {
     "name": "stdout",
     "output_type": "stream",
     "text": [
      "The RTP ratio is : 0.018961253091508656\n"
     ]
    }
   ],
   "source": [
    "# Compute the RTP\n",
    "rtp = JIn22 / high_J\n",
    "print(f\"The RTP ratio is : {rtp}\")"
   ]
  },
  {
   "cell_type": "markdown",
   "metadata": {
    "id": "GzWdNXmiikKu"
   },
   "source": [
    "We can also write a function that produces the `ratio_to_peak`for a given `Series`. This will allow us to use `.groupby` to speed up our computation for all names in the dataset."
   ]
  },
  {
   "cell_type": "code",
   "execution_count": 140,
   "metadata": {
    "id": "kAuuKE8gikKu"
   },
   "outputs": [
    {
     "data": {
      "text/plain": [
       "'\\nCompute the RTP for a Series containing the counts per year for a single name\\n'"
      ]
     },
     "execution_count": 140,
     "metadata": {},
     "output_type": "execute_result"
    }
   ],
   "source": [
    "# define the function for RTP\n",
    " # Assuming most recent year is at the end\n",
    "def ratio_to_peak(series):\n",
    "    return  series.iloc[-1] / series.max()\n",
    "\n",
    "\n",
    "\n",
    "\"\"\"\n",
    "Compute the RTP for a Series containing the counts per year for a single name\n",
    "\"\"\""
   ]
  },
  {
   "cell_type": "code",
   "execution_count": 141,
   "metadata": {
    "id": "-EV_VpRAikKu"
   },
   "outputs": [
    {
     "data": {
      "text/plain": [
       "0.0008244023083264633"
      ]
     },
     "execution_count": 141,
     "metadata": {},
     "output_type": "execute_result"
    }
   ],
   "source": [
    "# Construct a Series containing our Jennifer count data\n",
    "jenn_count = f_babynames[f_babynames[\"Name\"] == \"Jennifer\"][\"Count\"]\n",
    "\n",
    "\n",
    "\n",
    "# Then, find the RTP using the function define above\n",
    "ratio_to_peak(jenn_count)"
   ]
  },
  {
   "cell_type": "markdown",
   "metadata": {
    "id": "DCLu7luhikKv"
   },
   "source": [
    "Now, let's use `.groupby` to compute the RTPs for *all* names in the dataset.\n",
    "\n",
    "You may see a warning message when running the cell below. As discussed in lecture, `pandas` can't apply an aggregation function to non-numeric data (it doens't make sense to divide \"CA\" by a number). By default, `.groupby` will drop any columns that cannot be aggregated."
   ]
  },
  {
   "cell_type": "code",
   "execution_count": 155,
   "metadata": {
    "id": "Ce_dpVKjbhFv"
   },
   "outputs": [],
   "source": [
    "# Results in a TypeError\n",
    "#rtp_table = f_babynames.groupby(\"Name\").agg(ratio_to_peak)\n",
    "#rtp_table"
   ]
  },
  {
   "cell_type": "code",
   "execution_count": 156,
   "metadata": {
    "id": "AUa5jCLFikKv",
    "tags": []
   },
   "outputs": [
    {
     "data": {
      "text/html": [
       "<div>\n",
       "<style scoped>\n",
       "    .dataframe tbody tr th:only-of-type {\n",
       "        vertical-align: middle;\n",
       "    }\n",
       "\n",
       "    .dataframe tbody tr th {\n",
       "        vertical-align: top;\n",
       "    }\n",
       "\n",
       "    .dataframe thead th {\n",
       "        text-align: right;\n",
       "    }\n",
       "</style>\n",
       "<table border=\"1\" class=\"dataframe\">\n",
       "  <thead>\n",
       "    <tr style=\"text-align: right;\">\n",
       "      <th></th>\n",
       "      <th>Year</th>\n",
       "      <th>Count</th>\n",
       "    </tr>\n",
       "    <tr>\n",
       "      <th>Name</th>\n",
       "      <th></th>\n",
       "      <th></th>\n",
       "    </tr>\n",
       "  </thead>\n",
       "  <tbody>\n",
       "    <tr>\n",
       "      <th>Aadan</th>\n",
       "      <td>1.000000</td>\n",
       "      <td>0.714286</td>\n",
       "    </tr>\n",
       "    <tr>\n",
       "      <th>Aadarsh</th>\n",
       "      <td>1.000000</td>\n",
       "      <td>1.000000</td>\n",
       "    </tr>\n",
       "    <tr>\n",
       "      <th>Aaden</th>\n",
       "      <td>0.999505</td>\n",
       "      <td>0.063291</td>\n",
       "    </tr>\n",
       "    <tr>\n",
       "      <th>Aadhav</th>\n",
       "      <td>0.997524</td>\n",
       "      <td>0.750000</td>\n",
       "    </tr>\n",
       "    <tr>\n",
       "      <th>Aadhini</th>\n",
       "      <td>1.000000</td>\n",
       "      <td>1.000000</td>\n",
       "    </tr>\n",
       "    <tr>\n",
       "      <th>...</th>\n",
       "      <td>...</td>\n",
       "      <td>...</td>\n",
       "    </tr>\n",
       "    <tr>\n",
       "      <th>Zymir</th>\n",
       "      <td>1.000000</td>\n",
       "      <td>1.000000</td>\n",
       "    </tr>\n",
       "    <tr>\n",
       "      <th>Zyon</th>\n",
       "      <td>0.992585</td>\n",
       "      <td>0.238095</td>\n",
       "    </tr>\n",
       "    <tr>\n",
       "      <th>Zyra</th>\n",
       "      <td>0.995551</td>\n",
       "      <td>0.178571</td>\n",
       "    </tr>\n",
       "    <tr>\n",
       "      <th>Zyrah</th>\n",
       "      <td>1.000000</td>\n",
       "      <td>0.833333</td>\n",
       "    </tr>\n",
       "    <tr>\n",
       "      <th>Zyrus</th>\n",
       "      <td>1.000000</td>\n",
       "      <td>1.000000</td>\n",
       "    </tr>\n",
       "  </tbody>\n",
       "</table>\n",
       "<p>20629 rows × 2 columns</p>\n",
       "</div>"
      ],
      "text/plain": [
       "             Year     Count\n",
       "Name                       \n",
       "Aadan    1.000000  0.714286\n",
       "Aadarsh  1.000000  1.000000\n",
       "Aaden    0.999505  0.063291\n",
       "Aadhav   0.997524  0.750000\n",
       "Aadhini  1.000000  1.000000\n",
       "...           ...       ...\n",
       "Zymir    1.000000  1.000000\n",
       "Zyon     0.992585  0.238095\n",
       "Zyra     0.995551  0.178571\n",
       "Zyrah    1.000000  0.833333\n",
       "Zyrus    1.000000  1.000000\n",
       "\n",
       "[20629 rows x 2 columns]"
      ]
     },
     "execution_count": 156,
     "metadata": {},
     "output_type": "execute_result"
    }
   ],
   "source": [
    "# Find the RTP fro all names at once using groupby as describe in lec slides\n",
    "rtp_table = f_babynames.groupby(\"Name\")[[\"Year\",\"Count\"]].agg(ratio_to_peak)\n",
    "rtp_table"
   ]
  },
  {
   "cell_type": "markdown",
   "metadata": {
    "id": "eghHkFWEikKv"
   },
   "source": [
    "To avoid the warning message above, we explicitly extract only the columns relevant to our analysis before using `.agg`."
   ]
  },
  {
   "cell_type": "code",
   "execution_count": 158,
   "metadata": {
    "id": "2M1wSROKikKv"
   },
   "outputs": [
    {
     "data": {
      "text/plain": [
       "Name\n",
       "Michael    0.000605\n",
       "David      0.000616\n",
       "John       0.000683\n",
       "Robert     0.000705\n",
       "Jessica    0.000719\n",
       "             ...   \n",
       "Haille     1.000000\n",
       "Hailley    1.000000\n",
       "Haillie    1.000000\n",
       "Hadriel    1.000000\n",
       "Zyrus      1.000000\n",
       "Name: Count, Length: 20629, dtype: float64"
      ]
     },
     "execution_count": 158,
     "metadata": {},
     "output_type": "execute_result"
    }
   ],
   "source": [
    "# Recompute the RTPs, but only performing the calculation on the \"Count\" column\n",
    "rtp_table = f_babynames.groupby(\"Name\")['Count'].agg(ratio_to_peak)\n",
    "rtp_table.sort_values()"
   ]
  },
  {
   "cell_type": "code",
   "execution_count": 148,
   "metadata": {
    "id": "ZxH-gi2TikKv"
   },
   "outputs": [
    {
     "data": {
      "text/plain": [
       "Name\n",
       "Aadan      0.714286\n",
       "Aadarsh    1.000000\n",
       "Aaden      0.063291\n",
       "Aadhav     0.750000\n",
       "Aadhini    1.000000\n",
       "             ...   \n",
       "Zymir      1.000000\n",
       "Zyon       0.238095\n",
       "Zyra       0.178571\n",
       "Zyrah      0.833333\n",
       "Zyrus      1.000000\n",
       "Name: Count RTP, Length: 20629, dtype: float64"
      ]
     },
     "execution_count": 148,
     "metadata": {},
     "output_type": "execute_result"
    }
   ],
   "source": [
    "# Rename \"Count\" to \"Count RTP\" for clarity\n",
    "rtp_table.rename('Count RTP',inplace= True)\n",
    "rtp_table"
   ]
  },
  {
   "cell_type": "code",
   "execution_count": 149,
   "metadata": {
    "id": "t77rHbvjikKv"
   },
   "outputs": [
    {
     "data": {
      "text/plain": [
       "'Michael'"
      ]
     },
     "execution_count": 149,
     "metadata": {},
     "output_type": "execute_result"
    }
   ],
   "source": [
    "# What name has fallen the most in popularity?\n",
    "names = rtp_table.sort_values().head(1).index[0]\n",
    "names"
   ]
  },
  {
   "cell_type": "markdown",
   "metadata": {
    "id": "59cPrjlJikKw"
   },
   "source": [
    "We can visualize the decrease in the popularity of the name \"?:\""
   ]
  },
  {
   "cell_type": "code",
   "execution_count": 170,
   "metadata": {},
   "outputs": [
    {
     "data": {
      "application/vnd.plotly.v1+json": {
       "config": {
        "plotlyServerURL": "https://plot.ly"
       },
       "data": [
        {
         "hovertemplate": "Name=Michael<br>Year=%{x}<br>Count=%{y}<extra></extra>",
         "legendgroup": "Michael",
         "marker": {
          "color": "#636efa",
          "symbol": "circle"
         },
         "mode": "markers",
         "name": "Michael",
         "orientation": "v",
         "showlegend": true,
         "type": "scatter",
         "x": [
          1938,
          1939,
          1940,
          1941,
          1942,
          1943,
          1944,
          1945,
          1946,
          1947,
          1948,
          1949,
          1950,
          1951,
          1952,
          1953,
          1954,
          1955,
          1956,
          1957,
          1958,
          1959,
          1960,
          1961,
          1962,
          1963,
          1964,
          1965,
          1966,
          1967,
          1968,
          1969,
          1970,
          1971,
          1972,
          1973,
          1974,
          1975,
          1976,
          1977,
          1978,
          1979,
          1980,
          1981,
          1982,
          1983,
          1984,
          1985,
          1986,
          1987,
          1988,
          1989,
          1990,
          1991,
          1992,
          1993,
          1994,
          1995,
          1996,
          1997,
          1998,
          1999,
          2000,
          2001,
          2002,
          2003,
          2004,
          2006,
          2007,
          2015
         ],
         "xaxis": "x",
         "y": [
          7,
          9,
          12,
          8,
          25,
          22,
          20,
          22,
          25,
          20,
          15,
          20,
          18,
          19,
          18,
          23,
          25,
          28,
          15,
          21,
          23,
          23,
          32,
          38,
          43,
          45,
          36,
          44,
          36,
          48,
          47,
          55,
          39,
          52,
          57,
          45,
          56,
          45,
          53,
          63,
          64,
          62,
          53,
          55,
          42,
          70,
          52,
          64,
          74,
          55,
          66,
          65,
          68,
          55,
          54,
          46,
          52,
          20,
          27,
          13,
          24,
          19,
          17,
          12,
          10,
          9,
          10,
          9,
          7,
          5
         ],
         "yaxis": "y"
        }
       ],
       "layout": {
        "autosize": false,
        "font": {
         "size": 18
        },
        "height": 400,
        "legend": {
         "title": {
          "text": "Name"
         },
         "tracegroupgap": 0
        },
        "template": {
         "data": {
          "bar": [
           {
            "error_x": {
             "color": "#2a3f5f"
            },
            "error_y": {
             "color": "#2a3f5f"
            },
            "marker": {
             "line": {
              "color": "#E5ECF6",
              "width": 0.5
             },
             "pattern": {
              "fillmode": "overlay",
              "size": 10,
              "solidity": 0.2
             }
            },
            "type": "bar"
           }
          ],
          "barpolar": [
           {
            "marker": {
             "line": {
              "color": "#E5ECF6",
              "width": 0.5
             },
             "pattern": {
              "fillmode": "overlay",
              "size": 10,
              "solidity": 0.2
             }
            },
            "type": "barpolar"
           }
          ],
          "carpet": [
           {
            "aaxis": {
             "endlinecolor": "#2a3f5f",
             "gridcolor": "white",
             "linecolor": "white",
             "minorgridcolor": "white",
             "startlinecolor": "#2a3f5f"
            },
            "baxis": {
             "endlinecolor": "#2a3f5f",
             "gridcolor": "white",
             "linecolor": "white",
             "minorgridcolor": "white",
             "startlinecolor": "#2a3f5f"
            },
            "type": "carpet"
           }
          ],
          "choropleth": [
           {
            "colorbar": {
             "outlinewidth": 0,
             "ticks": ""
            },
            "type": "choropleth"
           }
          ],
          "contour": [
           {
            "colorbar": {
             "outlinewidth": 0,
             "ticks": ""
            },
            "colorscale": [
             [
              0,
              "#0d0887"
             ],
             [
              0.1111111111111111,
              "#46039f"
             ],
             [
              0.2222222222222222,
              "#7201a8"
             ],
             [
              0.3333333333333333,
              "#9c179e"
             ],
             [
              0.4444444444444444,
              "#bd3786"
             ],
             [
              0.5555555555555556,
              "#d8576b"
             ],
             [
              0.6666666666666666,
              "#ed7953"
             ],
             [
              0.7777777777777778,
              "#fb9f3a"
             ],
             [
              0.8888888888888888,
              "#fdca26"
             ],
             [
              1,
              "#f0f921"
             ]
            ],
            "type": "contour"
           }
          ],
          "contourcarpet": [
           {
            "colorbar": {
             "outlinewidth": 0,
             "ticks": ""
            },
            "type": "contourcarpet"
           }
          ],
          "heatmap": [
           {
            "colorbar": {
             "outlinewidth": 0,
             "ticks": ""
            },
            "colorscale": [
             [
              0,
              "#0d0887"
             ],
             [
              0.1111111111111111,
              "#46039f"
             ],
             [
              0.2222222222222222,
              "#7201a8"
             ],
             [
              0.3333333333333333,
              "#9c179e"
             ],
             [
              0.4444444444444444,
              "#bd3786"
             ],
             [
              0.5555555555555556,
              "#d8576b"
             ],
             [
              0.6666666666666666,
              "#ed7953"
             ],
             [
              0.7777777777777778,
              "#fb9f3a"
             ],
             [
              0.8888888888888888,
              "#fdca26"
             ],
             [
              1,
              "#f0f921"
             ]
            ],
            "type": "heatmap"
           }
          ],
          "heatmapgl": [
           {
            "colorbar": {
             "outlinewidth": 0,
             "ticks": ""
            },
            "colorscale": [
             [
              0,
              "#0d0887"
             ],
             [
              0.1111111111111111,
              "#46039f"
             ],
             [
              0.2222222222222222,
              "#7201a8"
             ],
             [
              0.3333333333333333,
              "#9c179e"
             ],
             [
              0.4444444444444444,
              "#bd3786"
             ],
             [
              0.5555555555555556,
              "#d8576b"
             ],
             [
              0.6666666666666666,
              "#ed7953"
             ],
             [
              0.7777777777777778,
              "#fb9f3a"
             ],
             [
              0.8888888888888888,
              "#fdca26"
             ],
             [
              1,
              "#f0f921"
             ]
            ],
            "type": "heatmapgl"
           }
          ],
          "histogram": [
           {
            "marker": {
             "pattern": {
              "fillmode": "overlay",
              "size": 10,
              "solidity": 0.2
             }
            },
            "type": "histogram"
           }
          ],
          "histogram2d": [
           {
            "colorbar": {
             "outlinewidth": 0,
             "ticks": ""
            },
            "colorscale": [
             [
              0,
              "#0d0887"
             ],
             [
              0.1111111111111111,
              "#46039f"
             ],
             [
              0.2222222222222222,
              "#7201a8"
             ],
             [
              0.3333333333333333,
              "#9c179e"
             ],
             [
              0.4444444444444444,
              "#bd3786"
             ],
             [
              0.5555555555555556,
              "#d8576b"
             ],
             [
              0.6666666666666666,
              "#ed7953"
             ],
             [
              0.7777777777777778,
              "#fb9f3a"
             ],
             [
              0.8888888888888888,
              "#fdca26"
             ],
             [
              1,
              "#f0f921"
             ]
            ],
            "type": "histogram2d"
           }
          ],
          "histogram2dcontour": [
           {
            "colorbar": {
             "outlinewidth": 0,
             "ticks": ""
            },
            "colorscale": [
             [
              0,
              "#0d0887"
             ],
             [
              0.1111111111111111,
              "#46039f"
             ],
             [
              0.2222222222222222,
              "#7201a8"
             ],
             [
              0.3333333333333333,
              "#9c179e"
             ],
             [
              0.4444444444444444,
              "#bd3786"
             ],
             [
              0.5555555555555556,
              "#d8576b"
             ],
             [
              0.6666666666666666,
              "#ed7953"
             ],
             [
              0.7777777777777778,
              "#fb9f3a"
             ],
             [
              0.8888888888888888,
              "#fdca26"
             ],
             [
              1,
              "#f0f921"
             ]
            ],
            "type": "histogram2dcontour"
           }
          ],
          "mesh3d": [
           {
            "colorbar": {
             "outlinewidth": 0,
             "ticks": ""
            },
            "type": "mesh3d"
           }
          ],
          "parcoords": [
           {
            "line": {
             "colorbar": {
              "outlinewidth": 0,
              "ticks": ""
             }
            },
            "type": "parcoords"
           }
          ],
          "pie": [
           {
            "automargin": true,
            "type": "pie"
           }
          ],
          "scatter": [
           {
            "fillpattern": {
             "fillmode": "overlay",
             "size": 10,
             "solidity": 0.2
            },
            "type": "scatter"
           }
          ],
          "scatter3d": [
           {
            "line": {
             "colorbar": {
              "outlinewidth": 0,
              "ticks": ""
             }
            },
            "marker": {
             "colorbar": {
              "outlinewidth": 0,
              "ticks": ""
             }
            },
            "type": "scatter3d"
           }
          ],
          "scattercarpet": [
           {
            "marker": {
             "colorbar": {
              "outlinewidth": 0,
              "ticks": ""
             }
            },
            "type": "scattercarpet"
           }
          ],
          "scattergeo": [
           {
            "marker": {
             "colorbar": {
              "outlinewidth": 0,
              "ticks": ""
             }
            },
            "type": "scattergeo"
           }
          ],
          "scattergl": [
           {
            "marker": {
             "colorbar": {
              "outlinewidth": 0,
              "ticks": ""
             }
            },
            "type": "scattergl"
           }
          ],
          "scattermapbox": [
           {
            "marker": {
             "colorbar": {
              "outlinewidth": 0,
              "ticks": ""
             }
            },
            "type": "scattermapbox"
           }
          ],
          "scatterpolar": [
           {
            "marker": {
             "colorbar": {
              "outlinewidth": 0,
              "ticks": ""
             }
            },
            "type": "scatterpolar"
           }
          ],
          "scatterpolargl": [
           {
            "marker": {
             "colorbar": {
              "outlinewidth": 0,
              "ticks": ""
             }
            },
            "type": "scatterpolargl"
           }
          ],
          "scatterternary": [
           {
            "marker": {
             "colorbar": {
              "outlinewidth": 0,
              "ticks": ""
             }
            },
            "type": "scatterternary"
           }
          ],
          "surface": [
           {
            "colorbar": {
             "outlinewidth": 0,
             "ticks": ""
            },
            "colorscale": [
             [
              0,
              "#0d0887"
             ],
             [
              0.1111111111111111,
              "#46039f"
             ],
             [
              0.2222222222222222,
              "#7201a8"
             ],
             [
              0.3333333333333333,
              "#9c179e"
             ],
             [
              0.4444444444444444,
              "#bd3786"
             ],
             [
              0.5555555555555556,
              "#d8576b"
             ],
             [
              0.6666666666666666,
              "#ed7953"
             ],
             [
              0.7777777777777778,
              "#fb9f3a"
             ],
             [
              0.8888888888888888,
              "#fdca26"
             ],
             [
              1,
              "#f0f921"
             ]
            ],
            "type": "surface"
           }
          ],
          "table": [
           {
            "cells": {
             "fill": {
              "color": "#EBF0F8"
             },
             "line": {
              "color": "white"
             }
            },
            "header": {
             "fill": {
              "color": "#C8D4E3"
             },
             "line": {
              "color": "white"
             }
            },
            "type": "table"
           }
          ]
         },
         "layout": {
          "annotationdefaults": {
           "arrowcolor": "#2a3f5f",
           "arrowhead": 0,
           "arrowwidth": 1
          },
          "autotypenumbers": "strict",
          "coloraxis": {
           "colorbar": {
            "outlinewidth": 0,
            "ticks": ""
           }
          },
          "colorscale": {
           "diverging": [
            [
             0,
             "#8e0152"
            ],
            [
             0.1,
             "#c51b7d"
            ],
            [
             0.2,
             "#de77ae"
            ],
            [
             0.3,
             "#f1b6da"
            ],
            [
             0.4,
             "#fde0ef"
            ],
            [
             0.5,
             "#f7f7f7"
            ],
            [
             0.6,
             "#e6f5d0"
            ],
            [
             0.7,
             "#b8e186"
            ],
            [
             0.8,
             "#7fbc41"
            ],
            [
             0.9,
             "#4d9221"
            ],
            [
             1,
             "#276419"
            ]
           ],
           "sequential": [
            [
             0,
             "#0d0887"
            ],
            [
             0.1111111111111111,
             "#46039f"
            ],
            [
             0.2222222222222222,
             "#7201a8"
            ],
            [
             0.3333333333333333,
             "#9c179e"
            ],
            [
             0.4444444444444444,
             "#bd3786"
            ],
            [
             0.5555555555555556,
             "#d8576b"
            ],
            [
             0.6666666666666666,
             "#ed7953"
            ],
            [
             0.7777777777777778,
             "#fb9f3a"
            ],
            [
             0.8888888888888888,
             "#fdca26"
            ],
            [
             1,
             "#f0f921"
            ]
           ],
           "sequentialminus": [
            [
             0,
             "#0d0887"
            ],
            [
             0.1111111111111111,
             "#46039f"
            ],
            [
             0.2222222222222222,
             "#7201a8"
            ],
            [
             0.3333333333333333,
             "#9c179e"
            ],
            [
             0.4444444444444444,
             "#bd3786"
            ],
            [
             0.5555555555555556,
             "#d8576b"
            ],
            [
             0.6666666666666666,
             "#ed7953"
            ],
            [
             0.7777777777777778,
             "#fb9f3a"
            ],
            [
             0.8888888888888888,
             "#fdca26"
            ],
            [
             1,
             "#f0f921"
            ]
           ]
          },
          "colorway": [
           "#636efa",
           "#EF553B",
           "#00cc96",
           "#ab63fa",
           "#FFA15A",
           "#19d3f3",
           "#FF6692",
           "#B6E880",
           "#FF97FF",
           "#FECB52"
          ],
          "font": {
           "color": "#2a3f5f"
          },
          "geo": {
           "bgcolor": "white",
           "lakecolor": "white",
           "landcolor": "#E5ECF6",
           "showlakes": true,
           "showland": true,
           "subunitcolor": "white"
          },
          "hoverlabel": {
           "align": "left"
          },
          "hovermode": "closest",
          "mapbox": {
           "style": "light"
          },
          "paper_bgcolor": "white",
          "plot_bgcolor": "#E5ECF6",
          "polar": {
           "angularaxis": {
            "gridcolor": "white",
            "linecolor": "white",
            "ticks": ""
           },
           "bgcolor": "#E5ECF6",
           "radialaxis": {
            "gridcolor": "white",
            "linecolor": "white",
            "ticks": ""
           }
          },
          "scene": {
           "xaxis": {
            "backgroundcolor": "#E5ECF6",
            "gridcolor": "white",
            "gridwidth": 2,
            "linecolor": "white",
            "showbackground": true,
            "ticks": "",
            "zerolinecolor": "white"
           },
           "yaxis": {
            "backgroundcolor": "#E5ECF6",
            "gridcolor": "white",
            "gridwidth": 2,
            "linecolor": "white",
            "showbackground": true,
            "ticks": "",
            "zerolinecolor": "white"
           },
           "zaxis": {
            "backgroundcolor": "#E5ECF6",
            "gridcolor": "white",
            "gridwidth": 2,
            "linecolor": "white",
            "showbackground": true,
            "ticks": "",
            "zerolinecolor": "white"
           }
          },
          "shapedefaults": {
           "line": {
            "color": "#2a3f5f"
           }
          },
          "ternary": {
           "aaxis": {
            "gridcolor": "white",
            "linecolor": "white",
            "ticks": ""
           },
           "baxis": {
            "gridcolor": "white",
            "linecolor": "white",
            "ticks": ""
           },
           "bgcolor": "#E5ECF6",
           "caxis": {
            "gridcolor": "white",
            "linecolor": "white",
            "ticks": ""
           }
          },
          "title": {
           "x": 0.05
          },
          "xaxis": {
           "automargin": true,
           "gridcolor": "white",
           "linecolor": "white",
           "ticks": "",
           "title": {
            "standoff": 15
           },
           "zerolinecolor": "white",
           "zerolinewidth": 2
          },
          "yaxis": {
           "automargin": true,
           "gridcolor": "white",
           "linecolor": "white",
           "ticks": "",
           "title": {
            "standoff": 15
           },
           "zerolinecolor": "white",
           "zerolinewidth": 2
          }
         }
        },
        "title": {
         "text": "Popularity for: ('Michael',)"
        },
        "width": 1000,
        "xaxis": {
         "anchor": "y",
         "domain": [
          0,
          1
         ],
         "title": {
          "text": "Year"
         }
        },
        "yaxis": {
         "anchor": "x",
         "domain": [
          0,
          1
         ],
         "title": {
          "text": "Count"
         }
        }
       }
      },
      "text/html": [
       "<div>                            <div id=\"ca4cfb1f-2c26-462a-9260-a4522c206123\" class=\"plotly-graph-div\" style=\"height:400px; width:1000px;\"></div>            <script type=\"text/javascript\">                require([\"plotly\"], function(Plotly) {                    window.PLOTLYENV=window.PLOTLYENV || {};                                    if (document.getElementById(\"ca4cfb1f-2c26-462a-9260-a4522c206123\")) {                    Plotly.newPlot(                        \"ca4cfb1f-2c26-462a-9260-a4522c206123\",                        [{\"hovertemplate\":\"Name=Michael\\u003cbr\\u003eYear=%{x}\\u003cbr\\u003eCount=%{y}\\u003cextra\\u003e\\u003c\\u002fextra\\u003e\",\"legendgroup\":\"Michael\",\"marker\":{\"color\":\"#636efa\",\"symbol\":\"circle\"},\"mode\":\"markers\",\"name\":\"Michael\",\"orientation\":\"v\",\"showlegend\":true,\"x\":[1938,1939,1940,1941,1942,1943,1944,1945,1946,1947,1948,1949,1950,1951,1952,1953,1954,1955,1956,1957,1958,1959,1960,1961,1962,1963,1964,1965,1966,1967,1968,1969,1970,1971,1972,1973,1974,1975,1976,1977,1978,1979,1980,1981,1982,1983,1984,1985,1986,1987,1988,1989,1990,1991,1992,1993,1994,1995,1996,1997,1998,1999,2000,2001,2002,2003,2004,2006,2007,2015],\"xaxis\":\"x\",\"y\":[7,9,12,8,25,22,20,22,25,20,15,20,18,19,18,23,25,28,15,21,23,23,32,38,43,45,36,44,36,48,47,55,39,52,57,45,56,45,53,63,64,62,53,55,42,70,52,64,74,55,66,65,68,55,54,46,52,20,27,13,24,19,17,12,10,9,10,9,7,5],\"yaxis\":\"y\",\"type\":\"scatter\"}],                        {\"template\":{\"data\":{\"histogram2dcontour\":[{\"type\":\"histogram2dcontour\",\"colorbar\":{\"outlinewidth\":0,\"ticks\":\"\"},\"colorscale\":[[0.0,\"#0d0887\"],[0.1111111111111111,\"#46039f\"],[0.2222222222222222,\"#7201a8\"],[0.3333333333333333,\"#9c179e\"],[0.4444444444444444,\"#bd3786\"],[0.5555555555555556,\"#d8576b\"],[0.6666666666666666,\"#ed7953\"],[0.7777777777777778,\"#fb9f3a\"],[0.8888888888888888,\"#fdca26\"],[1.0,\"#f0f921\"]]}],\"choropleth\":[{\"type\":\"choropleth\",\"colorbar\":{\"outlinewidth\":0,\"ticks\":\"\"}}],\"histogram2d\":[{\"type\":\"histogram2d\",\"colorbar\":{\"outlinewidth\":0,\"ticks\":\"\"},\"colorscale\":[[0.0,\"#0d0887\"],[0.1111111111111111,\"#46039f\"],[0.2222222222222222,\"#7201a8\"],[0.3333333333333333,\"#9c179e\"],[0.4444444444444444,\"#bd3786\"],[0.5555555555555556,\"#d8576b\"],[0.6666666666666666,\"#ed7953\"],[0.7777777777777778,\"#fb9f3a\"],[0.8888888888888888,\"#fdca26\"],[1.0,\"#f0f921\"]]}],\"heatmap\":[{\"type\":\"heatmap\",\"colorbar\":{\"outlinewidth\":0,\"ticks\":\"\"},\"colorscale\":[[0.0,\"#0d0887\"],[0.1111111111111111,\"#46039f\"],[0.2222222222222222,\"#7201a8\"],[0.3333333333333333,\"#9c179e\"],[0.4444444444444444,\"#bd3786\"],[0.5555555555555556,\"#d8576b\"],[0.6666666666666666,\"#ed7953\"],[0.7777777777777778,\"#fb9f3a\"],[0.8888888888888888,\"#fdca26\"],[1.0,\"#f0f921\"]]}],\"heatmapgl\":[{\"type\":\"heatmapgl\",\"colorbar\":{\"outlinewidth\":0,\"ticks\":\"\"},\"colorscale\":[[0.0,\"#0d0887\"],[0.1111111111111111,\"#46039f\"],[0.2222222222222222,\"#7201a8\"],[0.3333333333333333,\"#9c179e\"],[0.4444444444444444,\"#bd3786\"],[0.5555555555555556,\"#d8576b\"],[0.6666666666666666,\"#ed7953\"],[0.7777777777777778,\"#fb9f3a\"],[0.8888888888888888,\"#fdca26\"],[1.0,\"#f0f921\"]]}],\"contourcarpet\":[{\"type\":\"contourcarpet\",\"colorbar\":{\"outlinewidth\":0,\"ticks\":\"\"}}],\"contour\":[{\"type\":\"contour\",\"colorbar\":{\"outlinewidth\":0,\"ticks\":\"\"},\"colorscale\":[[0.0,\"#0d0887\"],[0.1111111111111111,\"#46039f\"],[0.2222222222222222,\"#7201a8\"],[0.3333333333333333,\"#9c179e\"],[0.4444444444444444,\"#bd3786\"],[0.5555555555555556,\"#d8576b\"],[0.6666666666666666,\"#ed7953\"],[0.7777777777777778,\"#fb9f3a\"],[0.8888888888888888,\"#fdca26\"],[1.0,\"#f0f921\"]]}],\"surface\":[{\"type\":\"surface\",\"colorbar\":{\"outlinewidth\":0,\"ticks\":\"\"},\"colorscale\":[[0.0,\"#0d0887\"],[0.1111111111111111,\"#46039f\"],[0.2222222222222222,\"#7201a8\"],[0.3333333333333333,\"#9c179e\"],[0.4444444444444444,\"#bd3786\"],[0.5555555555555556,\"#d8576b\"],[0.6666666666666666,\"#ed7953\"],[0.7777777777777778,\"#fb9f3a\"],[0.8888888888888888,\"#fdca26\"],[1.0,\"#f0f921\"]]}],\"mesh3d\":[{\"type\":\"mesh3d\",\"colorbar\":{\"outlinewidth\":0,\"ticks\":\"\"}}],\"scatter\":[{\"fillpattern\":{\"fillmode\":\"overlay\",\"size\":10,\"solidity\":0.2},\"type\":\"scatter\"}],\"parcoords\":[{\"type\":\"parcoords\",\"line\":{\"colorbar\":{\"outlinewidth\":0,\"ticks\":\"\"}}}],\"scatterpolargl\":[{\"type\":\"scatterpolargl\",\"marker\":{\"colorbar\":{\"outlinewidth\":0,\"ticks\":\"\"}}}],\"bar\":[{\"error_x\":{\"color\":\"#2a3f5f\"},\"error_y\":{\"color\":\"#2a3f5f\"},\"marker\":{\"line\":{\"color\":\"#E5ECF6\",\"width\":0.5},\"pattern\":{\"fillmode\":\"overlay\",\"size\":10,\"solidity\":0.2}},\"type\":\"bar\"}],\"scattergeo\":[{\"type\":\"scattergeo\",\"marker\":{\"colorbar\":{\"outlinewidth\":0,\"ticks\":\"\"}}}],\"scatterpolar\":[{\"type\":\"scatterpolar\",\"marker\":{\"colorbar\":{\"outlinewidth\":0,\"ticks\":\"\"}}}],\"histogram\":[{\"marker\":{\"pattern\":{\"fillmode\":\"overlay\",\"size\":10,\"solidity\":0.2}},\"type\":\"histogram\"}],\"scattergl\":[{\"type\":\"scattergl\",\"marker\":{\"colorbar\":{\"outlinewidth\":0,\"ticks\":\"\"}}}],\"scatter3d\":[{\"type\":\"scatter3d\",\"line\":{\"colorbar\":{\"outlinewidth\":0,\"ticks\":\"\"}},\"marker\":{\"colorbar\":{\"outlinewidth\":0,\"ticks\":\"\"}}}],\"scattermapbox\":[{\"type\":\"scattermapbox\",\"marker\":{\"colorbar\":{\"outlinewidth\":0,\"ticks\":\"\"}}}],\"scatterternary\":[{\"type\":\"scatterternary\",\"marker\":{\"colorbar\":{\"outlinewidth\":0,\"ticks\":\"\"}}}],\"scattercarpet\":[{\"type\":\"scattercarpet\",\"marker\":{\"colorbar\":{\"outlinewidth\":0,\"ticks\":\"\"}}}],\"carpet\":[{\"aaxis\":{\"endlinecolor\":\"#2a3f5f\",\"gridcolor\":\"white\",\"linecolor\":\"white\",\"minorgridcolor\":\"white\",\"startlinecolor\":\"#2a3f5f\"},\"baxis\":{\"endlinecolor\":\"#2a3f5f\",\"gridcolor\":\"white\",\"linecolor\":\"white\",\"minorgridcolor\":\"white\",\"startlinecolor\":\"#2a3f5f\"},\"type\":\"carpet\"}],\"table\":[{\"cells\":{\"fill\":{\"color\":\"#EBF0F8\"},\"line\":{\"color\":\"white\"}},\"header\":{\"fill\":{\"color\":\"#C8D4E3\"},\"line\":{\"color\":\"white\"}},\"type\":\"table\"}],\"barpolar\":[{\"marker\":{\"line\":{\"color\":\"#E5ECF6\",\"width\":0.5},\"pattern\":{\"fillmode\":\"overlay\",\"size\":10,\"solidity\":0.2}},\"type\":\"barpolar\"}],\"pie\":[{\"automargin\":true,\"type\":\"pie\"}]},\"layout\":{\"autotypenumbers\":\"strict\",\"colorway\":[\"#636efa\",\"#EF553B\",\"#00cc96\",\"#ab63fa\",\"#FFA15A\",\"#19d3f3\",\"#FF6692\",\"#B6E880\",\"#FF97FF\",\"#FECB52\"],\"font\":{\"color\":\"#2a3f5f\"},\"hovermode\":\"closest\",\"hoverlabel\":{\"align\":\"left\"},\"paper_bgcolor\":\"white\",\"plot_bgcolor\":\"#E5ECF6\",\"polar\":{\"bgcolor\":\"#E5ECF6\",\"angularaxis\":{\"gridcolor\":\"white\",\"linecolor\":\"white\",\"ticks\":\"\"},\"radialaxis\":{\"gridcolor\":\"white\",\"linecolor\":\"white\",\"ticks\":\"\"}},\"ternary\":{\"bgcolor\":\"#E5ECF6\",\"aaxis\":{\"gridcolor\":\"white\",\"linecolor\":\"white\",\"ticks\":\"\"},\"baxis\":{\"gridcolor\":\"white\",\"linecolor\":\"white\",\"ticks\":\"\"},\"caxis\":{\"gridcolor\":\"white\",\"linecolor\":\"white\",\"ticks\":\"\"}},\"coloraxis\":{\"colorbar\":{\"outlinewidth\":0,\"ticks\":\"\"}},\"colorscale\":{\"sequential\":[[0.0,\"#0d0887\"],[0.1111111111111111,\"#46039f\"],[0.2222222222222222,\"#7201a8\"],[0.3333333333333333,\"#9c179e\"],[0.4444444444444444,\"#bd3786\"],[0.5555555555555556,\"#d8576b\"],[0.6666666666666666,\"#ed7953\"],[0.7777777777777778,\"#fb9f3a\"],[0.8888888888888888,\"#fdca26\"],[1.0,\"#f0f921\"]],\"sequentialminus\":[[0.0,\"#0d0887\"],[0.1111111111111111,\"#46039f\"],[0.2222222222222222,\"#7201a8\"],[0.3333333333333333,\"#9c179e\"],[0.4444444444444444,\"#bd3786\"],[0.5555555555555556,\"#d8576b\"],[0.6666666666666666,\"#ed7953\"],[0.7777777777777778,\"#fb9f3a\"],[0.8888888888888888,\"#fdca26\"],[1.0,\"#f0f921\"]],\"diverging\":[[0,\"#8e0152\"],[0.1,\"#c51b7d\"],[0.2,\"#de77ae\"],[0.3,\"#f1b6da\"],[0.4,\"#fde0ef\"],[0.5,\"#f7f7f7\"],[0.6,\"#e6f5d0\"],[0.7,\"#b8e186\"],[0.8,\"#7fbc41\"],[0.9,\"#4d9221\"],[1,\"#276419\"]]},\"xaxis\":{\"gridcolor\":\"white\",\"linecolor\":\"white\",\"ticks\":\"\",\"title\":{\"standoff\":15},\"zerolinecolor\":\"white\",\"automargin\":true,\"zerolinewidth\":2},\"yaxis\":{\"gridcolor\":\"white\",\"linecolor\":\"white\",\"ticks\":\"\",\"title\":{\"standoff\":15},\"zerolinecolor\":\"white\",\"automargin\":true,\"zerolinewidth\":2},\"scene\":{\"xaxis\":{\"backgroundcolor\":\"#E5ECF6\",\"gridcolor\":\"white\",\"linecolor\":\"white\",\"showbackground\":true,\"ticks\":\"\",\"zerolinecolor\":\"white\",\"gridwidth\":2},\"yaxis\":{\"backgroundcolor\":\"#E5ECF6\",\"gridcolor\":\"white\",\"linecolor\":\"white\",\"showbackground\":true,\"ticks\":\"\",\"zerolinecolor\":\"white\",\"gridwidth\":2},\"zaxis\":{\"backgroundcolor\":\"#E5ECF6\",\"gridcolor\":\"white\",\"linecolor\":\"white\",\"showbackground\":true,\"ticks\":\"\",\"zerolinecolor\":\"white\",\"gridwidth\":2}},\"shapedefaults\":{\"line\":{\"color\":\"#2a3f5f\"}},\"annotationdefaults\":{\"arrowcolor\":\"#2a3f5f\",\"arrowhead\":0,\"arrowwidth\":1},\"geo\":{\"bgcolor\":\"white\",\"landcolor\":\"#E5ECF6\",\"subunitcolor\":\"white\",\"showland\":true,\"showlakes\":true,\"lakecolor\":\"white\"},\"title\":{\"x\":0.05},\"mapbox\":{\"style\":\"light\"}}},\"xaxis\":{\"anchor\":\"y\",\"domain\":[0.0,1.0],\"title\":{\"text\":\"Year\"}},\"yaxis\":{\"anchor\":\"x\",\"domain\":[0.0,1.0],\"title\":{\"text\":\"Count\"}},\"legend\":{\"title\":{\"text\":\"Name\"},\"tracegroupgap\":0},\"title\":{\"text\":\"Popularity for: ('Michael',)\"},\"font\":{\"size\":18},\"autosize\":false,\"width\":1000,\"height\":400},                        {\"responsive\": true}                    ).then(function(){\n",
       "                            \n",
       "var gd = document.getElementById('ca4cfb1f-2c26-462a-9260-a4522c206123');\n",
       "var x = new MutationObserver(function (mutations, observer) {{\n",
       "        var display = window.getComputedStyle(gd).display;\n",
       "        if (!display || display === 'none') {{\n",
       "            console.log([gd, 'removed!']);\n",
       "            Plotly.purge(gd);\n",
       "            observer.disconnect();\n",
       "        }}\n",
       "}});\n",
       "\n",
       "// Listen for the removal of the full notebook cells\n",
       "var notebookContainer = gd.closest('#notebook-container');\n",
       "if (notebookContainer) {{\n",
       "    x.observe(notebookContainer, {childList: true});\n",
       "}}\n",
       "\n",
       "// Listen for the clearing of the current output cell\n",
       "var outputEl = gd.closest('.output');\n",
       "if (outputEl) {{\n",
       "    x.observe(outputEl, {childList: true});\n",
       "}}\n",
       "\n",
       "                        })                };                });            </script>        </div>"
      ]
     },
     "metadata": {},
     "output_type": "display_data"
    }
   ],
   "source": [
    "def plot_name(*names):\n",
    "    fig = px.scatter(f_babynames[f_babynames[\"Name\"].isin(names)],\n",
    "                  x = \"Year\", y = \"Count\", color=\"Name\",\n",
    "                  title=f\"Popularity for: {names[0:]}\")\n",
    "    fig.update_layout(font_size = 18,\n",
    "                  autosize=False,\n",
    "                  width=1000,\n",
    "                  height=400)\n",
    "    return fig\n",
    "# pass the name into plot_name\n",
    "plot_name(names)"
   ]
  },
  {
   "cell_type": "code",
   "execution_count": 151,
   "metadata": {
    "id": "xlCnd6ZRikKw"
   },
   "outputs": [
    {
     "data": {
      "text/plain": [
       "Index(['Michael', 'David', 'John', 'Robert', 'Jessica', 'Linda', 'Christopher',\n",
       "       'Jennifer', 'Daniel', 'Mark'],\n",
       "      dtype='object', name='Name')"
      ]
     },
     "execution_count": 151,
     "metadata": {},
     "output_type": "execute_result"
    }
   ],
   "source": [
    "# Find the 10 names that have decreased the most in popularity\n",
    "# Answer Here\n",
    "top10 = rtp_table.sort_values().head(10).index[0:10]\n",
    "top10"
   ]
  },
  {
   "cell_type": "code",
   "execution_count": 152,
   "metadata": {
    "id": "JGpQ_fpLikKw"
   },
   "outputs": [
    {
     "data": {
      "application/vnd.plotly.v1+json": {
       "config": {
        "plotlyServerURL": "https://plot.ly"
       },
       "data": [
        {
         "hovertemplate": "Name=Michael<br>Year=%{x}<br>Count=%{y}<extra></extra>",
         "legendgroup": "Michael",
         "line": {
          "color": "#636efa",
          "dash": "solid"
         },
         "marker": {
          "symbol": "circle"
         },
         "mode": "lines",
         "name": "Michael",
         "showlegend": true,
         "type": "scattergl",
         "x": [
          1957,
          1956,
          1990,
          1969,
          1970,
          1967,
          1954,
          1968,
          1964,
          1961,
          1962,
          1955,
          1989,
          1953,
          1965,
          1963,
          1988,
          1966,
          1958,
          1991,
          1984,
          1959,
          1987,
          1983,
          1960,
          1986,
          1985,
          1982,
          1981,
          1952,
          1980,
          1971,
          1992,
          1979,
          1978,
          1972,
          1977,
          1975,
          1951,
          1976,
          1974,
          1973,
          1993,
          1950,
          1949,
          1994,
          1995,
          1947,
          1948,
          1996,
          1997,
          1946,
          1998,
          1999,
          2000,
          2001,
          2002,
          1945,
          2003,
          2004,
          1944,
          2005,
          2006,
          2007,
          2008,
          1943,
          2009,
          2011,
          2010,
          2012,
          2014,
          2013,
          1942,
          2015,
          2016,
          2017,
          1941,
          2018,
          2019,
          1940,
          2021,
          2020,
          2022,
          2023,
          1939,
          1938,
          1937,
          1936,
          1935,
          1934,
          1933,
          1932,
          1930,
          1931,
          1929,
          1928,
          1986,
          1927,
          1983,
          1925,
          1990,
          1926,
          1988,
          1989,
          1978,
          1985,
          1977,
          1979,
          1923,
          1922,
          1972,
          1974,
          1987,
          1991,
          1969,
          1981,
          1992,
          1980,
          1976,
          1971,
          1984,
          1921,
          1994,
          1920,
          1967,
          1919,
          1968,
          1993,
          1973,
          1975,
          1963,
          1924,
          1965,
          1962,
          1982,
          1915,
          1970,
          1961,
          1966,
          1964,
          1918,
          1914,
          1916,
          1960,
          1917,
          1955,
          1996,
          1954,
          1942,
          1946,
          1998,
          1913,
          1959,
          1912,
          1958,
          1953,
          1945,
          1943,
          1957,
          1944,
          1947,
          1995,
          1949,
          1951,
          1999,
          1950,
          1952,
          2000,
          1956,
          1948,
          1997,
          1910,
          2001,
          1940,
          2004,
          2002,
          1911,
          2003,
          2006,
          1939,
          1941,
          2007,
          1938,
          2015
         ],
         "xaxis": "x",
         "y": [
          8263,
          8257,
          8247,
          8244,
          8197,
          8133,
          8082,
          8080,
          7983,
          7927,
          7879,
          7869,
          7857,
          7851,
          7837,
          7824,
          7761,
          7686,
          7627,
          7576,
          7480,
          7462,
          7453,
          7397,
          7389,
          7263,
          7216,
          7161,
          7151,
          7062,
          6905,
          6824,
          6637,
          6586,
          6489,
          6345,
          6318,
          6216,
          6192,
          6181,
          6060,
          5877,
          5847,
          5533,
          5364,
          5098,
          4784,
          4782,
          4772,
          4353,
          4312,
          4166,
          4132,
          3759,
          3572,
          3295,
          3237,
          3202,
          3109,
          2873,
          2796,
          2775,
          2724,
          2555,
          2521,
          2418,
          2349,
          2108,
          2102,
          2012,
          2007,
          1983,
          1959,
          1873,
          1778,
          1524,
          1379,
          1359,
          1238,
          1124,
          1089,
          1079,
          1046,
          943,
          920,
          701,
          541,
          380,
          276,
          215,
          162,
          140,
          109,
          106,
          93,
          86,
          74,
          73,
          70,
          69,
          68,
          67,
          66,
          65,
          64,
          64,
          63,
          62,
          59,
          58,
          57,
          56,
          55,
          55,
          55,
          55,
          54,
          53,
          53,
          52,
          52,
          52,
          52,
          48,
          48,
          47,
          47,
          46,
          45,
          45,
          45,
          45,
          44,
          43,
          42,
          42,
          39,
          38,
          36,
          36,
          35,
          35,
          33,
          32,
          32,
          28,
          27,
          25,
          25,
          25,
          24,
          24,
          23,
          23,
          23,
          23,
          22,
          22,
          21,
          20,
          20,
          20,
          20,
          19,
          19,
          18,
          18,
          17,
          15,
          15,
          13,
          13,
          12,
          12,
          10,
          10,
          10,
          9,
          9,
          9,
          8,
          7,
          7,
          5
         ],
         "yaxis": "y"
        },
        {
         "hovertemplate": "Name=David<br>Year=%{x}<br>Count=%{y}<extra></extra>",
         "legendgroup": "David",
         "line": {
          "color": "#EF553B",
          "dash": "solid"
         },
         "marker": {
          "symbol": "circle"
         },
         "mode": "lines",
         "name": "David",
         "showlegend": true,
         "type": "scattergl",
         "x": [
          1961,
          1962,
          1960,
          1959,
          1963,
          1964,
          1957,
          1958,
          1955,
          1956,
          1967,
          1965,
          1966,
          1969,
          1968,
          1954,
          1953,
          1970,
          1952,
          1989,
          1990,
          1987,
          1986,
          1985,
          1971,
          1988,
          1982,
          1984,
          1980,
          1983,
          1951,
          1981,
          1979,
          1991,
          1950,
          1992,
          1972,
          1978,
          1949,
          1977,
          1993,
          1976,
          1974,
          1973,
          1975,
          1948,
          1947,
          1994,
          1995,
          1996,
          1997,
          1999,
          1998,
          2003,
          2001,
          1946,
          2000,
          2005,
          2004,
          2002,
          2006,
          2007,
          2008,
          1945,
          2009,
          1944,
          1943,
          2010,
          1942,
          2011,
          2012,
          2013,
          2014,
          2015,
          1941,
          2016,
          2017,
          1940,
          2018,
          1939,
          2019,
          1938,
          2020,
          1937,
          2021,
          2022,
          2023,
          1936,
          1935,
          1933,
          1934,
          1930,
          1931,
          1932,
          1929,
          1928,
          1927,
          1926,
          1925,
          1924,
          1923,
          1922,
          1921,
          1920,
          1918,
          1919,
          1917,
          1916,
          1915,
          1914,
          1913,
          1912,
          1988,
          1977,
          1987,
          1985,
          1970,
          1979,
          1980,
          1986,
          1968,
          1989,
          1990,
          1974,
          1978,
          1964,
          1967,
          1969,
          1992,
          1982,
          1971,
          1963,
          1991,
          1993,
          1984,
          1965,
          1994,
          1983,
          1962,
          1966,
          1961,
          1976,
          1981,
          1959,
          1972,
          1973,
          1995,
          1911,
          1960,
          1975,
          1910,
          1996,
          1958,
          2002,
          1955,
          1956,
          1957,
          1949,
          1952,
          1998,
          1954,
          2000,
          2001,
          1942,
          1997,
          1944,
          1953,
          2003,
          2005,
          1951,
          1946,
          1947,
          1948,
          1943,
          1950,
          1945,
          2007,
          1999,
          2004
         ],
         "xaxis": "x",
         "y": [
          8118,
          7950,
          7916,
          7622,
          7603,
          7535,
          7470,
          7459,
          7385,
          7116,
          6931,
          6817,
          6758,
          6565,
          6481,
          6474,
          6384,
          6374,
          5848,
          5354,
          5348,
          5304,
          5298,
          5255,
          5242,
          5158,
          5128,
          5115,
          5084,
          5001,
          4944,
          4938,
          4877,
          4857,
          4853,
          4842,
          4632,
          4580,
          4506,
          4425,
          4407,
          4348,
          4346,
          4174,
          4139,
          4121,
          4062,
          4061,
          4031,
          4001,
          3732,
          3484,
          3477,
          3354,
          3346,
          3312,
          3280,
          3274,
          3267,
          3194,
          3158,
          3123,
          2917,
          2824,
          2624,
          2590,
          2504,
          2424,
          2304,
          2303,
          2152,
          2049,
          2027,
          1949,
          1771,
          1717,
          1564,
          1554,
          1455,
          1397,
          1256,
          1195,
          1165,
          1140,
          1066,
          1036,
          928,
          834,
          709,
          657,
          647,
          638,
          637,
          631,
          616,
          525,
          493,
          433,
          430,
          424,
          366,
          314,
          270,
          251,
          197,
          194,
          156,
          136,
          130,
          121,
          63,
          56,
          49,
          47,
          44,
          42,
          42,
          42,
          40,
          40,
          39,
          38,
          38,
          38,
          37,
          36,
          36,
          35,
          33,
          33,
          32,
          32,
          32,
          31,
          31,
          30,
          30,
          30,
          30,
          30,
          28,
          28,
          28,
          27,
          24,
          24,
          23,
          22,
          21,
          20,
          19,
          18,
          15,
          14,
          14,
          13,
          13,
          12,
          10,
          10,
          10,
          10,
          9,
          9,
          9,
          8,
          8,
          8,
          8,
          7,
          7,
          7,
          7,
          6,
          6,
          6,
          5,
          5,
          5
         ],
         "yaxis": "y"
        },
        {
         "hovertemplate": "Name=John<br>Year=%{x}<br>Count=%{y}<extra></extra>",
         "legendgroup": "John",
         "line": {
          "color": "#00cc96",
          "dash": "solid"
         },
         "marker": {
          "symbol": "circle"
         },
         "mode": "lines",
         "name": "John",
         "showlegend": true,
         "type": "scattergl",
         "x": [
          1964,
          1963,
          1961,
          1962,
          1960,
          1965,
          1957,
          1956,
          1959,
          1958,
          1955,
          1954,
          1953,
          1952,
          1947,
          1966,
          1967,
          1951,
          1968,
          1948,
          1949,
          1950,
          1969,
          1970,
          1946,
          1945,
          1971,
          1944,
          1943,
          1972,
          1942,
          1981,
          1973,
          1982,
          1984,
          1983,
          1985,
          1980,
          1979,
          1974,
          1987,
          1989,
          1988,
          1978,
          1990,
          1986,
          1975,
          1976,
          1977,
          1991,
          1941,
          1992,
          1993,
          1940,
          1994,
          1995,
          1939,
          1938,
          1996,
          1937,
          1997,
          1999,
          1936,
          1924,
          1998,
          1925,
          1923,
          2000,
          1926,
          1932,
          1927,
          2001,
          1930,
          1931,
          1935,
          1929,
          1928,
          1922,
          1921,
          1934,
          1933,
          2003,
          2002,
          2004,
          2005,
          2006,
          1920,
          1919,
          2007,
          1918,
          2008,
          1916,
          1917,
          1915,
          2009,
          2010,
          2014,
          2013,
          2011,
          2012,
          2017,
          2015,
          1914,
          2016,
          2018,
          2019,
          2020,
          1913,
          2021,
          1912,
          2022,
          2023,
          1910,
          1911,
          1966,
          1968,
          1967,
          1969,
          1965,
          1970,
          1977,
          1980,
          1964,
          1963,
          1961,
          1986,
          1982,
          1962,
          1960,
          1984,
          1990,
          1971,
          1983,
          1988,
          1949,
          1974,
          1985,
          1978,
          1987,
          1972,
          1989,
          1973,
          1981,
          1954,
          1975,
          1979,
          1994,
          1956,
          1959,
          1976,
          1991,
          1992,
          1993,
          1957,
          1927,
          1947,
          1929,
          1958,
          1952,
          1955,
          1930,
          1924,
          1943,
          1939,
          1950,
          1928,
          1931,
          1933,
          1995,
          1923,
          1941,
          1932,
          1942,
          1938,
          1937,
          1944,
          1936,
          1953,
          1935,
          1921,
          2005,
          1997,
          1948,
          1940,
          1945,
          2004
         ],
         "xaxis": "x",
         "y": [
          7321,
          7036,
          6842,
          6809,
          6531,
          6368,
          6314,
          6189,
          6168,
          6082,
          6032,
          5957,
          5955,
          5898,
          5847,
          5754,
          5649,
          5581,
          5570,
          5424,
          5349,
          5348,
          5327,
          5182,
          5095,
          4353,
          4290,
          4223,
          3880,
          3543,
          3420,
          3217,
          3176,
          3131,
          3082,
          3026,
          3026,
          3023,
          3019,
          3018,
          3002,
          2973,
          2951,
          2926,
          2895,
          2848,
          2844,
          2831,
          2818,
          2715,
          2627,
          2622,
          2457,
          2420,
          2334,
          2088,
          2027,
          2010,
          1953,
          1844,
          1841,
          1761,
          1745,
          1731,
          1731,
          1702,
          1673,
          1659,
          1648,
          1622,
          1615,
          1579,
          1558,
          1546,
          1533,
          1528,
          1510,
          1509,
          1489,
          1479,
          1450,
          1444,
          1435,
          1423,
          1347,
          1340,
          1309,
          1159,
          1155,
          1148,
          1144,
          1086,
          1066,
          1033,
          1032,
          961,
          926,
          917,
          908,
          908,
          796,
          770,
          769,
          738,
          683,
          640,
          623,
          614,
          522,
          501,
          494,
          478,
          237,
          214,
          36,
          35,
          32,
          30,
          30,
          30,
          30,
          28,
          28,
          27,
          27,
          27,
          26,
          25,
          25,
          23,
          23,
          22,
          22,
          21,
          21,
          21,
          21,
          20,
          20,
          19,
          18,
          18,
          17,
          17,
          17,
          17,
          16,
          15,
          15,
          15,
          14,
          14,
          13,
          12,
          12,
          12,
          12,
          12,
          11,
          11,
          11,
          11,
          9,
          9,
          9,
          9,
          9,
          8,
          8,
          8,
          8,
          7,
          7,
          7,
          7,
          6,
          6,
          6,
          6,
          5,
          5,
          5,
          5,
          5,
          5,
          5
         ],
         "yaxis": "y"
        },
        {
         "hovertemplate": "Name=Robert<br>Year=%{x}<br>Count=%{y}<extra></extra>",
         "legendgroup": "Robert",
         "line": {
          "color": "#ab63fa",
          "dash": "solid"
         },
         "marker": {
          "symbol": "circle"
         },
         "mode": "lines",
         "name": "Robert",
         "showlegend": true,
         "type": "scattergl",
         "x": [
          1956,
          1955,
          1957,
          1963,
          1954,
          1964,
          1953,
          1958,
          1962,
          1961,
          1952,
          1959,
          1960,
          1965,
          1947,
          1951,
          1950,
          1969,
          1949,
          1966,
          1948,
          1968,
          1970,
          1967,
          1946,
          1945,
          1943,
          1944,
          1971,
          1942,
          1972,
          1981,
          1989,
          1986,
          1985,
          1982,
          1988,
          1990,
          1983,
          1987,
          1984,
          1973,
          1980,
          1979,
          1974,
          1975,
          1941,
          1976,
          1977,
          1978,
          1991,
          1940,
          1938,
          1937,
          1992,
          1939,
          1993,
          1924,
          1936,
          1925,
          1927,
          1926,
          1994,
          1930,
          1929,
          1931,
          1928,
          1932,
          1935,
          1923,
          1995,
          1934,
          1933,
          1922,
          1996,
          1921,
          1920,
          1998,
          1997,
          1999,
          2000,
          2001,
          1919,
          2003,
          2002,
          1918,
          2004,
          2005,
          2006,
          2007,
          1917,
          2008,
          2009,
          1916,
          2010,
          1915,
          2012,
          2011,
          2014,
          2013,
          2015,
          2016,
          2017,
          1914,
          2018,
          2019,
          2021,
          1913,
          2020,
          2022,
          2023,
          1912,
          1911,
          1910,
          1970,
          1968,
          1974,
          1969,
          1967,
          1978,
          1972,
          1971,
          1980,
          1990,
          1979,
          1982,
          1983,
          1966,
          1987,
          1965,
          1962,
          1960,
          1961,
          1984,
          1993,
          1964,
          1976,
          1989,
          1975,
          1977,
          1973,
          1981,
          1957,
          1963,
          1959,
          1985,
          1988,
          1992,
          1986,
          1953,
          1955,
          1929,
          1956,
          1991,
          1954,
          1994,
          1949,
          1958,
          1928,
          1932,
          1950,
          1947,
          1946,
          1944,
          1940,
          1995,
          1943,
          1942,
          1945,
          1952,
          1931,
          1927,
          1930,
          1934,
          1948,
          1941,
          1933,
          1935,
          1924,
          1951,
          1925,
          1922,
          1939,
          1926,
          1997,
          1996,
          1937
         ],
         "xaxis": "x",
         "y": [
          7095,
          6896,
          6844,
          6828,
          6818,
          6817,
          6752,
          6707,
          6687,
          6625,
          6574,
          6508,
          6426,
          6242,
          6180,
          6167,
          6036,
          6022,
          5956,
          5890,
          5888,
          5888,
          5665,
          5577,
          5521,
          4975,
          4659,
          4631,
          4615,
          4019,
          3969,
          3734,
          3731,
          3730,
          3699,
          3659,
          3639,
          3591,
          3579,
          3556,
          3524,
          3492,
          3478,
          3458,
          3452,
          3439,
          3375,
          3365,
          3363,
          3309,
          3241,
          3120,
          2928,
          2885,
          2872,
          2856,
          2668,
          2584,
          2546,
          2508,
          2490,
          2485,
          2472,
          2461,
          2424,
          2416,
          2385,
          2308,
          2262,
          2259,
          2257,
          2198,
          2135,
          2114,
          2060,
          1875,
          1821,
          1795,
          1750,
          1672,
          1528,
          1433,
          1347,
          1337,
          1322,
          1269,
          1212,
          1167,
          1121,
          1054,
          1036,
          1001,
          930,
          903,
          854,
          840,
          811,
          806,
          787,
          773,
          753,
          660,
          626,
          602,
          572,
          524,
          475,
          462,
          426,
          408,
          397,
          350,
          153,
          141,
          48,
          40,
          39,
          36,
          33,
          32,
          32,
          30,
          30,
          29,
          29,
          29,
          28,
          28,
          28,
          28,
          28,
          27,
          26,
          25,
          25,
          25,
          23,
          23,
          23,
          22,
          22,
          22,
          22,
          21,
          21,
          20,
          19,
          19,
          18,
          16,
          16,
          16,
          16,
          16,
          16,
          15,
          14,
          14,
          14,
          13,
          13,
          13,
          13,
          11,
          10,
          9,
          9,
          9,
          9,
          8,
          8,
          8,
          8,
          8,
          8,
          7,
          7,
          7,
          7,
          6,
          6,
          6,
          6,
          6,
          6,
          5,
          5
         ],
         "yaxis": "y"
        },
        {
         "hovertemplate": "Name=Jessica<br>Year=%{x}<br>Count=%{y}<extra></extra>",
         "legendgroup": "Jessica",
         "line": {
          "color": "#FFA15A",
          "dash": "solid"
         },
         "marker": {
          "symbol": "circle"
         },
         "mode": "lines",
         "name": "Jessica",
         "showlegend": true,
         "type": "scattergl",
         "x": [
          1991,
          1987,
          1990,
          1989,
          1988,
          1992,
          1986,
          1993,
          1985,
          1994,
          1984,
          1995,
          1983,
          1982,
          1996,
          1981,
          1997,
          1980,
          1998,
          1979,
          1999,
          2000,
          1978,
          2001,
          1977,
          2002,
          1976,
          2003,
          2004,
          2005,
          1975,
          2006,
          1974,
          2007,
          2008,
          1973,
          2009,
          1972,
          2010,
          1971,
          1970,
          2011,
          2012,
          2013,
          2014,
          1969,
          2015,
          2016,
          2017,
          1968,
          1967,
          2018,
          1965,
          2019,
          1966,
          1964,
          1963,
          2020,
          1962,
          2021,
          2022,
          2023,
          1961,
          1960,
          1958,
          1957,
          1956,
          1954,
          1952,
          1953,
          1959,
          1949,
          1987,
          1991,
          1947,
          1993,
          1992,
          1951,
          1955,
          1948,
          1985,
          1989,
          1950,
          1988,
          1986,
          1990,
          1994,
          1946,
          1984,
          1983,
          1982,
          1995,
          1997,
          1981,
          1980,
          1944,
          1996,
          1979,
          1975,
          1939,
          1945,
          1940,
          1977,
          1942,
          2000,
          1998,
          1978,
          1938,
          2001,
          1941,
          1943,
          1974,
          1937
         ],
         "xaxis": "x",
         "y": [
          6951,
          6847,
          6633,
          6541,
          6495,
          6343,
          5965,
          5552,
          5536,
          5308,
          5009,
          4622,
          4508,
          4252,
          3839,
          3744,
          3218,
          2928,
          2847,
          2542,
          2511,
          2485,
          2418,
          2244,
          2227,
          2006,
          1794,
          1762,
          1710,
          1422,
          1300,
          1264,
          1129,
          1028,
          853,
          783,
          720,
          699,
          633,
          591,
          550,
          524,
          481,
          421,
          362,
          355,
          339,
          300,
          273,
          273,
          233,
          214,
          214,
          212,
          206,
          170,
          168,
          162,
          120,
          107,
          97,
          96,
          85,
          82,
          57,
          57,
          55,
          53,
          52,
          52,
          51,
          51,
          46,
          45,
          44,
          44,
          42,
          42,
          42,
          42,
          41,
          39,
          37,
          37,
          36,
          36,
          34,
          30,
          26,
          25,
          25,
          21,
          17,
          16,
          12,
          12,
          11,
          11,
          10,
          9,
          8,
          7,
          7,
          7,
          7,
          7,
          6,
          6,
          6,
          5,
          5,
          5,
          5
         ],
         "yaxis": "y"
        },
        {
         "hovertemplate": "Name=Linda<br>Year=%{x}<br>Count=%{y}<extra></extra>",
         "legendgroup": "Linda",
         "line": {
          "color": "#19d3f3",
          "dash": "solid"
         },
         "marker": {
          "symbol": "circle"
         },
         "mode": "lines",
         "name": "Linda",
         "showlegend": true,
         "type": "scattergl",
         "x": [
          1947,
          1948,
          1949,
          1950,
          1951,
          1952,
          1953,
          1954,
          1946,
          1955,
          1956,
          1957,
          1945,
          1959,
          1958,
          1944,
          1960,
          1943,
          1961,
          1962,
          1942,
          1963,
          1941,
          1964,
          1965,
          1940,
          1966,
          1967,
          1968,
          1969,
          1939,
          1970,
          1971,
          1983,
          1982,
          1984,
          1938,
          1985,
          1972,
          1987,
          1989,
          1981,
          1986,
          1980,
          1988,
          1991,
          1992,
          1974,
          1993,
          1990,
          1978,
          1973,
          1975,
          1976,
          1979,
          1977,
          1995,
          1994,
          1937,
          1997,
          1996,
          1998,
          2000,
          1999,
          2002,
          2001,
          2005,
          2007,
          2008,
          1936,
          2006,
          2003,
          2004,
          2014,
          2011,
          2012,
          2016,
          2009,
          2010,
          1934,
          2017,
          2015,
          1935,
          2013,
          2018,
          1932,
          2019,
          1928,
          1933,
          2020,
          2021,
          1929,
          1926,
          2023,
          2022,
          1931,
          1925,
          1924,
          1930,
          1923,
          1927,
          1948,
          1920,
          1945,
          1947,
          1921,
          1915,
          1942,
          1949,
          1950,
          1918,
          1917,
          1916,
          1943,
          1946,
          1958,
          1959,
          1941,
          1961,
          1922,
          1956,
          1962,
          1983,
          1960,
          1951,
          1953,
          1913,
          1964,
          1963,
          1952,
          1994,
          1986,
          1954,
          1919,
          1957,
          1914,
          1912,
          1989,
          1990,
          1992,
          1991,
          1944,
          1980,
          1966,
          1965
         ],
         "xaxis": "x",
         "y": [
          6759,
          6604,
          6272,
          5388,
          4884,
          4775,
          4452,
          4155,
          3777,
          3751,
          3690,
          3550,
          3191,
          3102,
          3102,
          3003,
          2883,
          2816,
          2742,
          2485,
          2461,
          2218,
          1930,
          1860,
          1654,
          1568,
          1222,
          1058,
          985,
          875,
          847,
          706,
          575,
          549,
          535,
          524,
          517,
          511,
          503,
          496,
          483,
          479,
          472,
          456,
          450,
          445,
          445,
          421,
          410,
          409,
          403,
          394,
          391,
          390,
          383,
          342,
          327,
          317,
          310,
          258,
          241,
          199,
          184,
          174,
          164,
          159,
          152,
          152,
          143,
          141,
          137,
          137,
          134,
          101,
          96,
          96,
          95,
          93,
          89,
          84,
          83,
          83,
          82,
          78,
          75,
          62,
          58,
          51,
          48,
          42,
          41,
          41,
          40,
          40,
          38,
          34,
          31,
          31,
          31,
          31,
          28,
          17,
          17,
          15,
          14,
          14,
          14,
          13,
          12,
          12,
          12,
          12,
          12,
          11,
          10,
          10,
          10,
          9,
          9,
          9,
          9,
          8,
          8,
          8,
          7,
          7,
          7,
          7,
          7,
          6,
          6,
          6,
          6,
          6,
          6,
          6,
          6,
          6,
          5,
          5,
          5,
          5,
          5,
          5,
          5
         ],
         "yaxis": "y"
        },
        {
         "hovertemplate": "Name=Christopher<br>Year=%{x}<br>Count=%{y}<extra></extra>",
         "legendgroup": "Christopher",
         "line": {
          "color": "#FF6692",
          "dash": "solid"
         },
         "marker": {
          "symbol": "circle"
         },
         "mode": "lines",
         "name": "Christopher",
         "showlegend": true,
         "type": "scattergl",
         "x": [
          1985,
          1990,
          1987,
          1989,
          1984,
          1988,
          1986,
          1983,
          1982,
          1991,
          1992,
          1981,
          1980,
          1979,
          1993,
          1994,
          1995,
          1978,
          1972,
          1977,
          1996,
          1974,
          1976,
          1975,
          1997,
          1971,
          1970,
          1973,
          1998,
          2000,
          1999,
          1969,
          2001,
          2007,
          2002,
          2006,
          1968,
          2003,
          2004,
          1967,
          2008,
          2005,
          1966,
          2009,
          1965,
          2010,
          1964,
          1963,
          2011,
          2012,
          1962,
          1961,
          1960,
          2013,
          2014,
          1959,
          2015,
          2016,
          1958,
          2017,
          1957,
          2018,
          1956,
          1955,
          2019,
          1952,
          1951,
          1953,
          2020,
          1954,
          2021,
          2022,
          1950,
          2023,
          1949,
          1948,
          1947,
          1946,
          1945,
          1944,
          1943,
          1942,
          1990,
          1987,
          1985,
          1988,
          1982,
          1941,
          1986,
          1989,
          1983,
          1980,
          1984,
          1940,
          1992,
          1993,
          1978,
          1991,
          1977,
          1975,
          1971,
          1981,
          1995,
          1979,
          1974,
          1994,
          1972,
          1969,
          1973,
          1939,
          1970,
          1976,
          1938,
          1996,
          1998,
          1930,
          1937,
          1968,
          1967,
          1925,
          1999,
          1923,
          1931,
          1934,
          1935,
          1936,
          2001,
          2005,
          1933,
          2000,
          1958,
          2003,
          1966,
          1963,
          1947,
          1924,
          1961,
          1928,
          1921,
          1951,
          1920,
          1926,
          1965,
          1918,
          1922,
          2006,
          1964,
          1916,
          1915,
          1962,
          1997,
          2002,
          1927,
          1956,
          1960,
          1946,
          1945
         ],
         "xaxis": "x",
         "y": [
          6722,
          6619,
          6515,
          6488,
          6486,
          6465,
          6453,
          6351,
          6067,
          5765,
          5235,
          5177,
          4782,
          4717,
          4670,
          4267,
          4098,
          4065,
          4017,
          3955,
          3945,
          3767,
          3760,
          3727,
          3723,
          3709,
          3600,
          3533,
          3387,
          3336,
          3252,
          3231,
          3035,
          2980,
          2904,
          2874,
          2840,
          2777,
          2771,
          2668,
          2609,
          2597,
          2551,
          2396,
          2311,
          2034,
          1901,
          1818,
          1781,
          1732,
          1720,
          1678,
          1526,
          1510,
          1436,
          1311,
          1293,
          1255,
          1104,
          1085,
          1062,
          927,
          924,
          922,
          887,
          849,
          812,
          798,
          763,
          746,
          746,
          714,
          698,
          597,
          578,
          441,
          309,
          213,
          158,
          118,
          105,
          86,
          52,
          51,
          49,
          48,
          47,
          46,
          42,
          40,
          40,
          37,
          37,
          35,
          33,
          33,
          31,
          30,
          30,
          30,
          28,
          27,
          25,
          25,
          25,
          25,
          24,
          24,
          24,
          22,
          21,
          21,
          20,
          17,
          15,
          15,
          15,
          13,
          12,
          12,
          12,
          11,
          11,
          11,
          10,
          10,
          9,
          9,
          9,
          8,
          8,
          8,
          8,
          8,
          8,
          8,
          7,
          7,
          7,
          7,
          7,
          7,
          7,
          6,
          6,
          6,
          6,
          6,
          6,
          6,
          6,
          6,
          5,
          5,
          5,
          5,
          5
         ],
         "yaxis": "y"
        },
        {
         "hovertemplate": "Name=Jennifer<br>Year=%{x}<br>Count=%{y}<extra></extra>",
         "legendgroup": "Jennifer",
         "line": {
          "color": "#B6E880",
          "dash": "solid"
         },
         "marker": {
          "symbol": "circle"
         },
         "mode": "lines",
         "name": "Jennifer",
         "showlegend": true,
         "type": "scattergl",
         "x": [
          1972,
          1983,
          1982,
          1974,
          1973,
          1981,
          1980,
          1976,
          1977,
          1984,
          1979,
          1971,
          1975,
          1978,
          1985,
          1970,
          1986,
          1987,
          1988,
          1990,
          1991,
          1989,
          1969,
          1992,
          1993,
          1994,
          1968,
          1997,
          1995,
          1999,
          1998,
          1996,
          2000,
          2001,
          2002,
          1966,
          1967,
          2003,
          1965,
          1964,
          2004,
          1963,
          2005,
          1962,
          1961,
          2006,
          2007,
          1960,
          2008,
          1958,
          1959,
          2009,
          1957,
          2010,
          1956,
          2011,
          1955,
          2012,
          1954,
          1953,
          2013,
          1952,
          2014,
          1951,
          1950,
          2015,
          2016,
          1949,
          2017,
          2018,
          1947,
          1948,
          1946,
          2019,
          2020,
          2022,
          1945,
          2021,
          2023,
          1944,
          1943,
          1991,
          1989,
          1983,
          1984,
          1990,
          1980,
          1978,
          1993,
          1992,
          1941,
          1987,
          1995,
          1988,
          1942,
          1971,
          1975,
          1973,
          1986,
          1996,
          1985,
          1981,
          1982,
          1994,
          1972,
          1974,
          1997,
          1977,
          1976,
          1940,
          1999,
          1970,
          1998,
          2000,
          1969,
          1979,
          1961,
          2001,
          2002,
          1939,
          1954,
          1967,
          1934,
          1938,
          1965
         ],
         "xaxis": "x",
         "y": [
          6065,
          5831,
          5813,
          5673,
          5649,
          5628,
          5612,
          5569,
          5543,
          5521,
          5461,
          5456,
          5323,
          5295,
          4965,
          4696,
          4306,
          4285,
          3875,
          3610,
          3579,
          3529,
          3477,
          3382,
          3003,
          2940,
          2908,
          2817,
          2696,
          2675,
          2561,
          2529,
          2265,
          2027,
          1987,
          1919,
          1902,
          1699,
          1649,
          1516,
          1485,
          1385,
          1297,
          1256,
          1174,
          1144,
          1035,
          869,
          808,
          739,
          707,
          641,
          635,
          515,
          509,
          474,
          440,
          421,
          412,
          384,
          354,
          350,
          286,
          284,
          247,
          243,
          239,
          233,
          226,
          168,
          163,
          159,
          147,
          145,
          141,
          115,
          99,
          91,
          88,
          80,
          30,
          30,
          29,
          29,
          27,
          27,
          25,
          24,
          24,
          24,
          24,
          23,
          23,
          22,
          22,
          20,
          19,
          19,
          19,
          18,
          18,
          18,
          18,
          17,
          16,
          16,
          15,
          15,
          13,
          13,
          12,
          11,
          10,
          10,
          9,
          9,
          8,
          8,
          7,
          6,
          5,
          5,
          5,
          5,
          5
         ],
         "yaxis": "y"
        },
        {
         "hovertemplate": "Name=Daniel<br>Year=%{x}<br>Count=%{y}<extra></extra>",
         "legendgroup": "Daniel",
         "line": {
          "color": "#FF97FF",
          "dash": "solid"
         },
         "marker": {
          "symbol": "circle"
         },
         "mode": "lines",
         "name": "Daniel",
         "showlegend": true,
         "type": "scattergl",
         "x": [
          1990,
          1989,
          1991,
          1985,
          1986,
          1987,
          1988,
          1992,
          1993,
          1994,
          1984,
          1995,
          1983,
          1996,
          1982,
          1997,
          1999,
          2000,
          1981,
          1998,
          2004,
          2001,
          1980,
          2002,
          2003,
          2005,
          2007,
          2006,
          2008,
          1979,
          1978,
          2009,
          1977,
          1976,
          2010,
          1974,
          2011,
          1975,
          1973,
          2012,
          1963,
          1957,
          1956,
          1965,
          1961,
          1955,
          2013,
          1969,
          1970,
          2014,
          1960,
          1968,
          1966,
          1962,
          1964,
          1972,
          1958,
          1967,
          2015,
          1971,
          1959,
          1954,
          2016,
          1953,
          2017,
          1952,
          2018,
          1951,
          2019,
          1950,
          1949,
          2020,
          2021,
          2022,
          1948,
          2023,
          1947,
          1946,
          1945,
          1944,
          1943,
          1942,
          1941,
          1940,
          1939,
          1938,
          1937,
          1934,
          1936,
          1927,
          1930,
          1932,
          1935,
          1928,
          1931,
          1929,
          1925,
          1926,
          1933,
          1924,
          1922,
          1921,
          1923,
          1920,
          1918,
          1919,
          1917,
          1916,
          1915,
          1993,
          1992,
          1990,
          1991,
          1987,
          1913,
          1989,
          1986,
          1985,
          1994,
          1988,
          1977,
          1914,
          1982,
          1984,
          1983,
          1980,
          1995,
          1912,
          1979,
          1975,
          1981,
          1996,
          1972,
          1968,
          1997,
          1969,
          1976,
          1978,
          1973,
          1911,
          1998,
          1974,
          1971,
          2001,
          1999,
          2000,
          1967,
          2003,
          1962,
          1910,
          1959,
          1964,
          1970,
          1966,
          1965,
          1960,
          1961,
          2005,
          2004,
          1958,
          2008
         ],
         "xaxis": "x",
         "y": [
          5771,
          5607,
          5477,
          5458,
          5433,
          5409,
          5406,
          5364,
          5229,
          5116,
          5023,
          5007,
          4750,
          4705,
          4597,
          4453,
          4354,
          4342,
          4334,
          4318,
          4170,
          4165,
          4148,
          4136,
          4033,
          3915,
          3870,
          3830,
          3756,
          3553,
          3432,
          3395,
          3329,
          3161,
          3138,
          2912,
          2910,
          2889,
          2751,
          2689,
          2686,
          2646,
          2643,
          2639,
          2621,
          2609,
          2604,
          2595,
          2576,
          2565,
          2542,
          2542,
          2531,
          2530,
          2513,
          2501,
          2499,
          2482,
          2476,
          2426,
          2368,
          2336,
          2306,
          2265,
          2098,
          2088,
          2001,
          1818,
          1748,
          1693,
          1495,
          1485,
          1436,
          1394,
          1366,
          1220,
          1099,
          994,
          737,
          668,
          609,
          529,
          392,
          353,
          303,
          298,
          260,
          229,
          227,
          218,
          212,
          205,
          203,
          200,
          196,
          194,
          193,
          182,
          172,
          155,
          143,
          129,
          125,
          100,
          96,
          90,
          82,
          80,
          66,
          56,
          53,
          52,
          52,
          51,
          50,
          48,
          48,
          48,
          48,
          46,
          45,
          43,
          40,
          38,
          37,
          36,
          35,
          34,
          27,
          24,
          24,
          23,
          23,
          21,
          21,
          20,
          20,
          19,
          19,
          18,
          18,
          17,
          16,
          16,
          15,
          15,
          12,
          12,
          12,
          11,
          10,
          10,
          9,
          9,
          8,
          8,
          8,
          8,
          8,
          6,
          5
         ],
         "yaxis": "y"
        },
        {
         "hovertemplate": "Name=Mark<br>Year=%{x}<br>Count=%{y}<extra></extra>",
         "legendgroup": "Mark",
         "line": {
          "color": "#FECB52",
          "dash": "solid"
         },
         "marker": {
          "symbol": "circle"
         },
         "mode": "lines",
         "name": "Mark",
         "showlegend": true,
         "type": "scattergl",
         "x": [
          1960,
          1961,
          1959,
          1962,
          1957,
          1963,
          1958,
          1956,
          1964,
          1955,
          1965,
          1954,
          1966,
          1968,
          1967,
          1969,
          1953,
          1970,
          1952,
          1971,
          1951,
          1972,
          1973,
          1974,
          1950,
          1975,
          1949,
          1976,
          1989,
          1984,
          1985,
          1983,
          1988,
          1980,
          1977,
          1982,
          1987,
          1986,
          1978,
          1981,
          1979,
          1990,
          1991,
          1992,
          1993,
          1948,
          1994,
          1996,
          1995,
          1997,
          1999,
          1998,
          1947,
          2000,
          2001,
          2002,
          2003,
          2004,
          1946,
          2005,
          2006,
          2007,
          2008,
          2009,
          2011,
          1945,
          2016,
          2014,
          2013,
          2010,
          2012,
          2015,
          2017,
          1944,
          2018,
          2020,
          2019,
          1943,
          2023,
          2022,
          2021,
          1942,
          1941,
          1940,
          1937,
          1938,
          1939,
          1935,
          1931,
          1924,
          1933,
          1925,
          1932,
          1936,
          1934,
          1930,
          1927,
          1928,
          1929,
          1921,
          1922,
          1926,
          1919,
          1917,
          1923,
          1918,
          1960,
          1969,
          1968,
          1965,
          1915,
          1977,
          1970,
          1963,
          1988,
          1967,
          1974,
          1989,
          1971,
          1973,
          1978,
          1983,
          1958,
          1920,
          1961,
          1914,
          1964,
          1966,
          1913,
          1976,
          1980,
          1972,
          1986,
          1912,
          1916,
          1956,
          1981,
          1959,
          1957,
          1985,
          1982,
          1984,
          1979,
          1955,
          1962,
          1994,
          1993,
          1987,
          1953,
          1975
         ],
         "xaxis": "x",
         "y": [
          5540,
          5513,
          5301,
          5097,
          4856,
          4837,
          4787,
          4630,
          4133,
          4106,
          3595,
          3515,
          3302,
          3261,
          3252,
          2990,
          2878,
          2804,
          2444,
          2081,
          2038,
          1804,
          1794,
          1650,
          1584,
          1466,
          1397,
          1388,
          1385,
          1382,
          1366,
          1362,
          1360,
          1354,
          1327,
          1327,
          1321,
          1321,
          1320,
          1301,
          1282,
          1261,
          1180,
          1069,
          1068,
          1042,
          965,
          932,
          884,
          872,
          840,
          819,
          764,
          715,
          654,
          547,
          547,
          536,
          498,
          490,
          460,
          386,
          376,
          332,
          328,
          327,
          317,
          312,
          309,
          307,
          305,
          289,
          256,
          241,
          241,
          212,
          211,
          187,
          176,
          174,
          158,
          157,
          108,
          74,
          50,
          43,
          41,
          35,
          34,
          33,
          33,
          30,
          30,
          30,
          27,
          27,
          27,
          26,
          25,
          24,
          24,
          22,
          22,
          21,
          18,
          18,
          17,
          17,
          15,
          15,
          15,
          15,
          15,
          14,
          14,
          14,
          14,
          13,
          13,
          13,
          13,
          13,
          13,
          13,
          12,
          12,
          12,
          11,
          11,
          10,
          10,
          10,
          9,
          9,
          9,
          9,
          9,
          9,
          9,
          8,
          7,
          7,
          7,
          7,
          6,
          6,
          5,
          5,
          5,
          5
         ],
         "yaxis": "y"
        }
       ],
       "layout": {
        "autosize": false,
        "font": {
         "size": 18
        },
        "height": 400,
        "legend": {
         "title": {
          "text": "Name"
         },
         "tracegroupgap": 0
        },
        "template": {
         "data": {
          "bar": [
           {
            "error_x": {
             "color": "#2a3f5f"
            },
            "error_y": {
             "color": "#2a3f5f"
            },
            "marker": {
             "line": {
              "color": "#E5ECF6",
              "width": 0.5
             },
             "pattern": {
              "fillmode": "overlay",
              "size": 10,
              "solidity": 0.2
             }
            },
            "type": "bar"
           }
          ],
          "barpolar": [
           {
            "marker": {
             "line": {
              "color": "#E5ECF6",
              "width": 0.5
             },
             "pattern": {
              "fillmode": "overlay",
              "size": 10,
              "solidity": 0.2
             }
            },
            "type": "barpolar"
           }
          ],
          "carpet": [
           {
            "aaxis": {
             "endlinecolor": "#2a3f5f",
             "gridcolor": "white",
             "linecolor": "white",
             "minorgridcolor": "white",
             "startlinecolor": "#2a3f5f"
            },
            "baxis": {
             "endlinecolor": "#2a3f5f",
             "gridcolor": "white",
             "linecolor": "white",
             "minorgridcolor": "white",
             "startlinecolor": "#2a3f5f"
            },
            "type": "carpet"
           }
          ],
          "choropleth": [
           {
            "colorbar": {
             "outlinewidth": 0,
             "ticks": ""
            },
            "type": "choropleth"
           }
          ],
          "contour": [
           {
            "colorbar": {
             "outlinewidth": 0,
             "ticks": ""
            },
            "colorscale": [
             [
              0,
              "#0d0887"
             ],
             [
              0.1111111111111111,
              "#46039f"
             ],
             [
              0.2222222222222222,
              "#7201a8"
             ],
             [
              0.3333333333333333,
              "#9c179e"
             ],
             [
              0.4444444444444444,
              "#bd3786"
             ],
             [
              0.5555555555555556,
              "#d8576b"
             ],
             [
              0.6666666666666666,
              "#ed7953"
             ],
             [
              0.7777777777777778,
              "#fb9f3a"
             ],
             [
              0.8888888888888888,
              "#fdca26"
             ],
             [
              1,
              "#f0f921"
             ]
            ],
            "type": "contour"
           }
          ],
          "contourcarpet": [
           {
            "colorbar": {
             "outlinewidth": 0,
             "ticks": ""
            },
            "type": "contourcarpet"
           }
          ],
          "heatmap": [
           {
            "colorbar": {
             "outlinewidth": 0,
             "ticks": ""
            },
            "colorscale": [
             [
              0,
              "#0d0887"
             ],
             [
              0.1111111111111111,
              "#46039f"
             ],
             [
              0.2222222222222222,
              "#7201a8"
             ],
             [
              0.3333333333333333,
              "#9c179e"
             ],
             [
              0.4444444444444444,
              "#bd3786"
             ],
             [
              0.5555555555555556,
              "#d8576b"
             ],
             [
              0.6666666666666666,
              "#ed7953"
             ],
             [
              0.7777777777777778,
              "#fb9f3a"
             ],
             [
              0.8888888888888888,
              "#fdca26"
             ],
             [
              1,
              "#f0f921"
             ]
            ],
            "type": "heatmap"
           }
          ],
          "heatmapgl": [
           {
            "colorbar": {
             "outlinewidth": 0,
             "ticks": ""
            },
            "colorscale": [
             [
              0,
              "#0d0887"
             ],
             [
              0.1111111111111111,
              "#46039f"
             ],
             [
              0.2222222222222222,
              "#7201a8"
             ],
             [
              0.3333333333333333,
              "#9c179e"
             ],
             [
              0.4444444444444444,
              "#bd3786"
             ],
             [
              0.5555555555555556,
              "#d8576b"
             ],
             [
              0.6666666666666666,
              "#ed7953"
             ],
             [
              0.7777777777777778,
              "#fb9f3a"
             ],
             [
              0.8888888888888888,
              "#fdca26"
             ],
             [
              1,
              "#f0f921"
             ]
            ],
            "type": "heatmapgl"
           }
          ],
          "histogram": [
           {
            "marker": {
             "pattern": {
              "fillmode": "overlay",
              "size": 10,
              "solidity": 0.2
             }
            },
            "type": "histogram"
           }
          ],
          "histogram2d": [
           {
            "colorbar": {
             "outlinewidth": 0,
             "ticks": ""
            },
            "colorscale": [
             [
              0,
              "#0d0887"
             ],
             [
              0.1111111111111111,
              "#46039f"
             ],
             [
              0.2222222222222222,
              "#7201a8"
             ],
             [
              0.3333333333333333,
              "#9c179e"
             ],
             [
              0.4444444444444444,
              "#bd3786"
             ],
             [
              0.5555555555555556,
              "#d8576b"
             ],
             [
              0.6666666666666666,
              "#ed7953"
             ],
             [
              0.7777777777777778,
              "#fb9f3a"
             ],
             [
              0.8888888888888888,
              "#fdca26"
             ],
             [
              1,
              "#f0f921"
             ]
            ],
            "type": "histogram2d"
           }
          ],
          "histogram2dcontour": [
           {
            "colorbar": {
             "outlinewidth": 0,
             "ticks": ""
            },
            "colorscale": [
             [
              0,
              "#0d0887"
             ],
             [
              0.1111111111111111,
              "#46039f"
             ],
             [
              0.2222222222222222,
              "#7201a8"
             ],
             [
              0.3333333333333333,
              "#9c179e"
             ],
             [
              0.4444444444444444,
              "#bd3786"
             ],
             [
              0.5555555555555556,
              "#d8576b"
             ],
             [
              0.6666666666666666,
              "#ed7953"
             ],
             [
              0.7777777777777778,
              "#fb9f3a"
             ],
             [
              0.8888888888888888,
              "#fdca26"
             ],
             [
              1,
              "#f0f921"
             ]
            ],
            "type": "histogram2dcontour"
           }
          ],
          "mesh3d": [
           {
            "colorbar": {
             "outlinewidth": 0,
             "ticks": ""
            },
            "type": "mesh3d"
           }
          ],
          "parcoords": [
           {
            "line": {
             "colorbar": {
              "outlinewidth": 0,
              "ticks": ""
             }
            },
            "type": "parcoords"
           }
          ],
          "pie": [
           {
            "automargin": true,
            "type": "pie"
           }
          ],
          "scatter": [
           {
            "fillpattern": {
             "fillmode": "overlay",
             "size": 10,
             "solidity": 0.2
            },
            "type": "scatter"
           }
          ],
          "scatter3d": [
           {
            "line": {
             "colorbar": {
              "outlinewidth": 0,
              "ticks": ""
             }
            },
            "marker": {
             "colorbar": {
              "outlinewidth": 0,
              "ticks": ""
             }
            },
            "type": "scatter3d"
           }
          ],
          "scattercarpet": [
           {
            "marker": {
             "colorbar": {
              "outlinewidth": 0,
              "ticks": ""
             }
            },
            "type": "scattercarpet"
           }
          ],
          "scattergeo": [
           {
            "marker": {
             "colorbar": {
              "outlinewidth": 0,
              "ticks": ""
             }
            },
            "type": "scattergeo"
           }
          ],
          "scattergl": [
           {
            "marker": {
             "colorbar": {
              "outlinewidth": 0,
              "ticks": ""
             }
            },
            "type": "scattergl"
           }
          ],
          "scattermapbox": [
           {
            "marker": {
             "colorbar": {
              "outlinewidth": 0,
              "ticks": ""
             }
            },
            "type": "scattermapbox"
           }
          ],
          "scatterpolar": [
           {
            "marker": {
             "colorbar": {
              "outlinewidth": 0,
              "ticks": ""
             }
            },
            "type": "scatterpolar"
           }
          ],
          "scatterpolargl": [
           {
            "marker": {
             "colorbar": {
              "outlinewidth": 0,
              "ticks": ""
             }
            },
            "type": "scatterpolargl"
           }
          ],
          "scatterternary": [
           {
            "marker": {
             "colorbar": {
              "outlinewidth": 0,
              "ticks": ""
             }
            },
            "type": "scatterternary"
           }
          ],
          "surface": [
           {
            "colorbar": {
             "outlinewidth": 0,
             "ticks": ""
            },
            "colorscale": [
             [
              0,
              "#0d0887"
             ],
             [
              0.1111111111111111,
              "#46039f"
             ],
             [
              0.2222222222222222,
              "#7201a8"
             ],
             [
              0.3333333333333333,
              "#9c179e"
             ],
             [
              0.4444444444444444,
              "#bd3786"
             ],
             [
              0.5555555555555556,
              "#d8576b"
             ],
             [
              0.6666666666666666,
              "#ed7953"
             ],
             [
              0.7777777777777778,
              "#fb9f3a"
             ],
             [
              0.8888888888888888,
              "#fdca26"
             ],
             [
              1,
              "#f0f921"
             ]
            ],
            "type": "surface"
           }
          ],
          "table": [
           {
            "cells": {
             "fill": {
              "color": "#EBF0F8"
             },
             "line": {
              "color": "white"
             }
            },
            "header": {
             "fill": {
              "color": "#C8D4E3"
             },
             "line": {
              "color": "white"
             }
            },
            "type": "table"
           }
          ]
         },
         "layout": {
          "annotationdefaults": {
           "arrowcolor": "#2a3f5f",
           "arrowhead": 0,
           "arrowwidth": 1
          },
          "autotypenumbers": "strict",
          "coloraxis": {
           "colorbar": {
            "outlinewidth": 0,
            "ticks": ""
           }
          },
          "colorscale": {
           "diverging": [
            [
             0,
             "#8e0152"
            ],
            [
             0.1,
             "#c51b7d"
            ],
            [
             0.2,
             "#de77ae"
            ],
            [
             0.3,
             "#f1b6da"
            ],
            [
             0.4,
             "#fde0ef"
            ],
            [
             0.5,
             "#f7f7f7"
            ],
            [
             0.6,
             "#e6f5d0"
            ],
            [
             0.7,
             "#b8e186"
            ],
            [
             0.8,
             "#7fbc41"
            ],
            [
             0.9,
             "#4d9221"
            ],
            [
             1,
             "#276419"
            ]
           ],
           "sequential": [
            [
             0,
             "#0d0887"
            ],
            [
             0.1111111111111111,
             "#46039f"
            ],
            [
             0.2222222222222222,
             "#7201a8"
            ],
            [
             0.3333333333333333,
             "#9c179e"
            ],
            [
             0.4444444444444444,
             "#bd3786"
            ],
            [
             0.5555555555555556,
             "#d8576b"
            ],
            [
             0.6666666666666666,
             "#ed7953"
            ],
            [
             0.7777777777777778,
             "#fb9f3a"
            ],
            [
             0.8888888888888888,
             "#fdca26"
            ],
            [
             1,
             "#f0f921"
            ]
           ],
           "sequentialminus": [
            [
             0,
             "#0d0887"
            ],
            [
             0.1111111111111111,
             "#46039f"
            ],
            [
             0.2222222222222222,
             "#7201a8"
            ],
            [
             0.3333333333333333,
             "#9c179e"
            ],
            [
             0.4444444444444444,
             "#bd3786"
            ],
            [
             0.5555555555555556,
             "#d8576b"
            ],
            [
             0.6666666666666666,
             "#ed7953"
            ],
            [
             0.7777777777777778,
             "#fb9f3a"
            ],
            [
             0.8888888888888888,
             "#fdca26"
            ],
            [
             1,
             "#f0f921"
            ]
           ]
          },
          "colorway": [
           "#636efa",
           "#EF553B",
           "#00cc96",
           "#ab63fa",
           "#FFA15A",
           "#19d3f3",
           "#FF6692",
           "#B6E880",
           "#FF97FF",
           "#FECB52"
          ],
          "font": {
           "color": "#2a3f5f"
          },
          "geo": {
           "bgcolor": "white",
           "lakecolor": "white",
           "landcolor": "#E5ECF6",
           "showlakes": true,
           "showland": true,
           "subunitcolor": "white"
          },
          "hoverlabel": {
           "align": "left"
          },
          "hovermode": "closest",
          "mapbox": {
           "style": "light"
          },
          "paper_bgcolor": "white",
          "plot_bgcolor": "#E5ECF6",
          "polar": {
           "angularaxis": {
            "gridcolor": "white",
            "linecolor": "white",
            "ticks": ""
           },
           "bgcolor": "#E5ECF6",
           "radialaxis": {
            "gridcolor": "white",
            "linecolor": "white",
            "ticks": ""
           }
          },
          "scene": {
           "xaxis": {
            "backgroundcolor": "#E5ECF6",
            "gridcolor": "white",
            "gridwidth": 2,
            "linecolor": "white",
            "showbackground": true,
            "ticks": "",
            "zerolinecolor": "white"
           },
           "yaxis": {
            "backgroundcolor": "#E5ECF6",
            "gridcolor": "white",
            "gridwidth": 2,
            "linecolor": "white",
            "showbackground": true,
            "ticks": "",
            "zerolinecolor": "white"
           },
           "zaxis": {
            "backgroundcolor": "#E5ECF6",
            "gridcolor": "white",
            "gridwidth": 2,
            "linecolor": "white",
            "showbackground": true,
            "ticks": "",
            "zerolinecolor": "white"
           }
          },
          "shapedefaults": {
           "line": {
            "color": "#2a3f5f"
           }
          },
          "ternary": {
           "aaxis": {
            "gridcolor": "white",
            "linecolor": "white",
            "ticks": ""
           },
           "baxis": {
            "gridcolor": "white",
            "linecolor": "white",
            "ticks": ""
           },
           "bgcolor": "#E5ECF6",
           "caxis": {
            "gridcolor": "white",
            "linecolor": "white",
            "ticks": ""
           }
          },
          "title": {
           "x": 0.05
          },
          "xaxis": {
           "automargin": true,
           "gridcolor": "white",
           "linecolor": "white",
           "ticks": "",
           "title": {
            "standoff": 15
           },
           "zerolinecolor": "white",
           "zerolinewidth": 2
          },
          "yaxis": {
           "automargin": true,
           "gridcolor": "white",
           "linecolor": "white",
           "ticks": "",
           "title": {
            "standoff": 15
           },
           "zerolinecolor": "white",
           "zerolinewidth": 2
          }
         }
        },
        "title": {
         "text": "Popularity for: ('Michael', 'David', 'John', 'Robert', 'Jessica', 'Linda', 'Christopher', 'Jennifer', 'Daniel', 'Mark')"
        },
        "width": 1000,
        "xaxis": {
         "anchor": "y",
         "domain": [
          0,
          1
         ],
         "title": {
          "text": "Year"
         }
        },
        "yaxis": {
         "anchor": "x",
         "domain": [
          0,
          1
         ],
         "title": {
          "text": "Count"
         }
        }
       }
      },
      "text/html": [
       "<div>                            <div id=\"287c5268-55dc-4c85-b265-0310349f38d4\" class=\"plotly-graph-div\" style=\"height:400px; width:1000px;\"></div>            <script type=\"text/javascript\">                require([\"plotly\"], function(Plotly) {                    window.PLOTLYENV=window.PLOTLYENV || {};                                    if (document.getElementById(\"287c5268-55dc-4c85-b265-0310349f38d4\")) {                    Plotly.newPlot(                        \"287c5268-55dc-4c85-b265-0310349f38d4\",                        [{\"hovertemplate\":\"Name=Michael\\u003cbr\\u003eYear=%{x}\\u003cbr\\u003eCount=%{y}\\u003cextra\\u003e\\u003c\\u002fextra\\u003e\",\"legendgroup\":\"Michael\",\"line\":{\"color\":\"#636efa\",\"dash\":\"solid\"},\"marker\":{\"symbol\":\"circle\"},\"mode\":\"lines\",\"name\":\"Michael\",\"showlegend\":true,\"x\":[1957,1956,1990,1969,1970,1967,1954,1968,1964,1961,1962,1955,1989,1953,1965,1963,1988,1966,1958,1991,1984,1959,1987,1983,1960,1986,1985,1982,1981,1952,1980,1971,1992,1979,1978,1972,1977,1975,1951,1976,1974,1973,1993,1950,1949,1994,1995,1947,1948,1996,1997,1946,1998,1999,2000,2001,2002,1945,2003,2004,1944,2005,2006,2007,2008,1943,2009,2011,2010,2012,2014,2013,1942,2015,2016,2017,1941,2018,2019,1940,2021,2020,2022,2023,1939,1938,1937,1936,1935,1934,1933,1932,1930,1931,1929,1928,1986,1927,1983,1925,1990,1926,1988,1989,1978,1985,1977,1979,1923,1922,1972,1974,1987,1991,1969,1981,1992,1980,1976,1971,1984,1921,1994,1920,1967,1919,1968,1993,1973,1975,1963,1924,1965,1962,1982,1915,1970,1961,1966,1964,1918,1914,1916,1960,1917,1955,1996,1954,1942,1946,1998,1913,1959,1912,1958,1953,1945,1943,1957,1944,1947,1995,1949,1951,1999,1950,1952,2000,1956,1948,1997,1910,2001,1940,2004,2002,1911,2003,2006,1939,1941,2007,1938,2015],\"xaxis\":\"x\",\"y\":[8263,8257,8247,8244,8197,8133,8082,8080,7983,7927,7879,7869,7857,7851,7837,7824,7761,7686,7627,7576,7480,7462,7453,7397,7389,7263,7216,7161,7151,7062,6905,6824,6637,6586,6489,6345,6318,6216,6192,6181,6060,5877,5847,5533,5364,5098,4784,4782,4772,4353,4312,4166,4132,3759,3572,3295,3237,3202,3109,2873,2796,2775,2724,2555,2521,2418,2349,2108,2102,2012,2007,1983,1959,1873,1778,1524,1379,1359,1238,1124,1089,1079,1046,943,920,701,541,380,276,215,162,140,109,106,93,86,74,73,70,69,68,67,66,65,64,64,63,62,59,58,57,56,55,55,55,55,54,53,53,52,52,52,52,48,48,47,47,46,45,45,45,45,44,43,42,42,39,38,36,36,35,35,33,32,32,28,27,25,25,25,24,24,23,23,23,23,22,22,21,20,20,20,20,19,19,18,18,17,15,15,13,13,12,12,10,10,10,9,9,9,8,7,7,5],\"yaxis\":\"y\",\"type\":\"scattergl\"},{\"hovertemplate\":\"Name=David\\u003cbr\\u003eYear=%{x}\\u003cbr\\u003eCount=%{y}\\u003cextra\\u003e\\u003c\\u002fextra\\u003e\",\"legendgroup\":\"David\",\"line\":{\"color\":\"#EF553B\",\"dash\":\"solid\"},\"marker\":{\"symbol\":\"circle\"},\"mode\":\"lines\",\"name\":\"David\",\"showlegend\":true,\"x\":[1961,1962,1960,1959,1963,1964,1957,1958,1955,1956,1967,1965,1966,1969,1968,1954,1953,1970,1952,1989,1990,1987,1986,1985,1971,1988,1982,1984,1980,1983,1951,1981,1979,1991,1950,1992,1972,1978,1949,1977,1993,1976,1974,1973,1975,1948,1947,1994,1995,1996,1997,1999,1998,2003,2001,1946,2000,2005,2004,2002,2006,2007,2008,1945,2009,1944,1943,2010,1942,2011,2012,2013,2014,2015,1941,2016,2017,1940,2018,1939,2019,1938,2020,1937,2021,2022,2023,1936,1935,1933,1934,1930,1931,1932,1929,1928,1927,1926,1925,1924,1923,1922,1921,1920,1918,1919,1917,1916,1915,1914,1913,1912,1988,1977,1987,1985,1970,1979,1980,1986,1968,1989,1990,1974,1978,1964,1967,1969,1992,1982,1971,1963,1991,1993,1984,1965,1994,1983,1962,1966,1961,1976,1981,1959,1972,1973,1995,1911,1960,1975,1910,1996,1958,2002,1955,1956,1957,1949,1952,1998,1954,2000,2001,1942,1997,1944,1953,2003,2005,1951,1946,1947,1948,1943,1950,1945,2007,1999,2004],\"xaxis\":\"x\",\"y\":[8118,7950,7916,7622,7603,7535,7470,7459,7385,7116,6931,6817,6758,6565,6481,6474,6384,6374,5848,5354,5348,5304,5298,5255,5242,5158,5128,5115,5084,5001,4944,4938,4877,4857,4853,4842,4632,4580,4506,4425,4407,4348,4346,4174,4139,4121,4062,4061,4031,4001,3732,3484,3477,3354,3346,3312,3280,3274,3267,3194,3158,3123,2917,2824,2624,2590,2504,2424,2304,2303,2152,2049,2027,1949,1771,1717,1564,1554,1455,1397,1256,1195,1165,1140,1066,1036,928,834,709,657,647,638,637,631,616,525,493,433,430,424,366,314,270,251,197,194,156,136,130,121,63,56,49,47,44,42,42,42,40,40,39,38,38,38,37,36,36,35,33,33,32,32,32,31,31,30,30,30,30,30,28,28,28,27,24,24,23,22,21,20,19,18,15,14,14,13,13,12,10,10,10,10,9,9,9,8,8,8,8,7,7,7,7,6,6,6,5,5,5],\"yaxis\":\"y\",\"type\":\"scattergl\"},{\"hovertemplate\":\"Name=John\\u003cbr\\u003eYear=%{x}\\u003cbr\\u003eCount=%{y}\\u003cextra\\u003e\\u003c\\u002fextra\\u003e\",\"legendgroup\":\"John\",\"line\":{\"color\":\"#00cc96\",\"dash\":\"solid\"},\"marker\":{\"symbol\":\"circle\"},\"mode\":\"lines\",\"name\":\"John\",\"showlegend\":true,\"x\":[1964,1963,1961,1962,1960,1965,1957,1956,1959,1958,1955,1954,1953,1952,1947,1966,1967,1951,1968,1948,1949,1950,1969,1970,1946,1945,1971,1944,1943,1972,1942,1981,1973,1982,1984,1983,1985,1980,1979,1974,1987,1989,1988,1978,1990,1986,1975,1976,1977,1991,1941,1992,1993,1940,1994,1995,1939,1938,1996,1937,1997,1999,1936,1924,1998,1925,1923,2000,1926,1932,1927,2001,1930,1931,1935,1929,1928,1922,1921,1934,1933,2003,2002,2004,2005,2006,1920,1919,2007,1918,2008,1916,1917,1915,2009,2010,2014,2013,2011,2012,2017,2015,1914,2016,2018,2019,2020,1913,2021,1912,2022,2023,1910,1911,1966,1968,1967,1969,1965,1970,1977,1980,1964,1963,1961,1986,1982,1962,1960,1984,1990,1971,1983,1988,1949,1974,1985,1978,1987,1972,1989,1973,1981,1954,1975,1979,1994,1956,1959,1976,1991,1992,1993,1957,1927,1947,1929,1958,1952,1955,1930,1924,1943,1939,1950,1928,1931,1933,1995,1923,1941,1932,1942,1938,1937,1944,1936,1953,1935,1921,2005,1997,1948,1940,1945,2004],\"xaxis\":\"x\",\"y\":[7321,7036,6842,6809,6531,6368,6314,6189,6168,6082,6032,5957,5955,5898,5847,5754,5649,5581,5570,5424,5349,5348,5327,5182,5095,4353,4290,4223,3880,3543,3420,3217,3176,3131,3082,3026,3026,3023,3019,3018,3002,2973,2951,2926,2895,2848,2844,2831,2818,2715,2627,2622,2457,2420,2334,2088,2027,2010,1953,1844,1841,1761,1745,1731,1731,1702,1673,1659,1648,1622,1615,1579,1558,1546,1533,1528,1510,1509,1489,1479,1450,1444,1435,1423,1347,1340,1309,1159,1155,1148,1144,1086,1066,1033,1032,961,926,917,908,908,796,770,769,738,683,640,623,614,522,501,494,478,237,214,36,35,32,30,30,30,30,28,28,27,27,27,26,25,25,23,23,22,22,21,21,21,21,20,20,19,18,18,17,17,17,17,16,15,15,15,14,14,13,12,12,12,12,12,11,11,11,11,9,9,9,9,9,8,8,8,8,7,7,7,7,6,6,6,6,5,5,5,5,5,5,5],\"yaxis\":\"y\",\"type\":\"scattergl\"},{\"hovertemplate\":\"Name=Robert\\u003cbr\\u003eYear=%{x}\\u003cbr\\u003eCount=%{y}\\u003cextra\\u003e\\u003c\\u002fextra\\u003e\",\"legendgroup\":\"Robert\",\"line\":{\"color\":\"#ab63fa\",\"dash\":\"solid\"},\"marker\":{\"symbol\":\"circle\"},\"mode\":\"lines\",\"name\":\"Robert\",\"showlegend\":true,\"x\":[1956,1955,1957,1963,1954,1964,1953,1958,1962,1961,1952,1959,1960,1965,1947,1951,1950,1969,1949,1966,1948,1968,1970,1967,1946,1945,1943,1944,1971,1942,1972,1981,1989,1986,1985,1982,1988,1990,1983,1987,1984,1973,1980,1979,1974,1975,1941,1976,1977,1978,1991,1940,1938,1937,1992,1939,1993,1924,1936,1925,1927,1926,1994,1930,1929,1931,1928,1932,1935,1923,1995,1934,1933,1922,1996,1921,1920,1998,1997,1999,2000,2001,1919,2003,2002,1918,2004,2005,2006,2007,1917,2008,2009,1916,2010,1915,2012,2011,2014,2013,2015,2016,2017,1914,2018,2019,2021,1913,2020,2022,2023,1912,1911,1910,1970,1968,1974,1969,1967,1978,1972,1971,1980,1990,1979,1982,1983,1966,1987,1965,1962,1960,1961,1984,1993,1964,1976,1989,1975,1977,1973,1981,1957,1963,1959,1985,1988,1992,1986,1953,1955,1929,1956,1991,1954,1994,1949,1958,1928,1932,1950,1947,1946,1944,1940,1995,1943,1942,1945,1952,1931,1927,1930,1934,1948,1941,1933,1935,1924,1951,1925,1922,1939,1926,1997,1996,1937],\"xaxis\":\"x\",\"y\":[7095,6896,6844,6828,6818,6817,6752,6707,6687,6625,6574,6508,6426,6242,6180,6167,6036,6022,5956,5890,5888,5888,5665,5577,5521,4975,4659,4631,4615,4019,3969,3734,3731,3730,3699,3659,3639,3591,3579,3556,3524,3492,3478,3458,3452,3439,3375,3365,3363,3309,3241,3120,2928,2885,2872,2856,2668,2584,2546,2508,2490,2485,2472,2461,2424,2416,2385,2308,2262,2259,2257,2198,2135,2114,2060,1875,1821,1795,1750,1672,1528,1433,1347,1337,1322,1269,1212,1167,1121,1054,1036,1001,930,903,854,840,811,806,787,773,753,660,626,602,572,524,475,462,426,408,397,350,153,141,48,40,39,36,33,32,32,30,30,29,29,29,28,28,28,28,28,27,26,25,25,25,23,23,23,22,22,22,22,21,21,20,19,19,18,16,16,16,16,16,16,15,14,14,14,13,13,13,13,11,10,9,9,9,9,8,8,8,8,8,8,7,7,7,7,6,6,6,6,6,6,5,5],\"yaxis\":\"y\",\"type\":\"scattergl\"},{\"hovertemplate\":\"Name=Jessica\\u003cbr\\u003eYear=%{x}\\u003cbr\\u003eCount=%{y}\\u003cextra\\u003e\\u003c\\u002fextra\\u003e\",\"legendgroup\":\"Jessica\",\"line\":{\"color\":\"#FFA15A\",\"dash\":\"solid\"},\"marker\":{\"symbol\":\"circle\"},\"mode\":\"lines\",\"name\":\"Jessica\",\"showlegend\":true,\"x\":[1991,1987,1990,1989,1988,1992,1986,1993,1985,1994,1984,1995,1983,1982,1996,1981,1997,1980,1998,1979,1999,2000,1978,2001,1977,2002,1976,2003,2004,2005,1975,2006,1974,2007,2008,1973,2009,1972,2010,1971,1970,2011,2012,2013,2014,1969,2015,2016,2017,1968,1967,2018,1965,2019,1966,1964,1963,2020,1962,2021,2022,2023,1961,1960,1958,1957,1956,1954,1952,1953,1959,1949,1987,1991,1947,1993,1992,1951,1955,1948,1985,1989,1950,1988,1986,1990,1994,1946,1984,1983,1982,1995,1997,1981,1980,1944,1996,1979,1975,1939,1945,1940,1977,1942,2000,1998,1978,1938,2001,1941,1943,1974,1937],\"xaxis\":\"x\",\"y\":[6951,6847,6633,6541,6495,6343,5965,5552,5536,5308,5009,4622,4508,4252,3839,3744,3218,2928,2847,2542,2511,2485,2418,2244,2227,2006,1794,1762,1710,1422,1300,1264,1129,1028,853,783,720,699,633,591,550,524,481,421,362,355,339,300,273,273,233,214,214,212,206,170,168,162,120,107,97,96,85,82,57,57,55,53,52,52,51,51,46,45,44,44,42,42,42,42,41,39,37,37,36,36,34,30,26,25,25,21,17,16,12,12,11,11,10,9,8,7,7,7,7,7,6,6,6,5,5,5,5],\"yaxis\":\"y\",\"type\":\"scattergl\"},{\"hovertemplate\":\"Name=Linda\\u003cbr\\u003eYear=%{x}\\u003cbr\\u003eCount=%{y}\\u003cextra\\u003e\\u003c\\u002fextra\\u003e\",\"legendgroup\":\"Linda\",\"line\":{\"color\":\"#19d3f3\",\"dash\":\"solid\"},\"marker\":{\"symbol\":\"circle\"},\"mode\":\"lines\",\"name\":\"Linda\",\"showlegend\":true,\"x\":[1947,1948,1949,1950,1951,1952,1953,1954,1946,1955,1956,1957,1945,1959,1958,1944,1960,1943,1961,1962,1942,1963,1941,1964,1965,1940,1966,1967,1968,1969,1939,1970,1971,1983,1982,1984,1938,1985,1972,1987,1989,1981,1986,1980,1988,1991,1992,1974,1993,1990,1978,1973,1975,1976,1979,1977,1995,1994,1937,1997,1996,1998,2000,1999,2002,2001,2005,2007,2008,1936,2006,2003,2004,2014,2011,2012,2016,2009,2010,1934,2017,2015,1935,2013,2018,1932,2019,1928,1933,2020,2021,1929,1926,2023,2022,1931,1925,1924,1930,1923,1927,1948,1920,1945,1947,1921,1915,1942,1949,1950,1918,1917,1916,1943,1946,1958,1959,1941,1961,1922,1956,1962,1983,1960,1951,1953,1913,1964,1963,1952,1994,1986,1954,1919,1957,1914,1912,1989,1990,1992,1991,1944,1980,1966,1965],\"xaxis\":\"x\",\"y\":[6759,6604,6272,5388,4884,4775,4452,4155,3777,3751,3690,3550,3191,3102,3102,3003,2883,2816,2742,2485,2461,2218,1930,1860,1654,1568,1222,1058,985,875,847,706,575,549,535,524,517,511,503,496,483,479,472,456,450,445,445,421,410,409,403,394,391,390,383,342,327,317,310,258,241,199,184,174,164,159,152,152,143,141,137,137,134,101,96,96,95,93,89,84,83,83,82,78,75,62,58,51,48,42,41,41,40,40,38,34,31,31,31,31,28,17,17,15,14,14,14,13,12,12,12,12,12,11,10,10,10,9,9,9,9,8,8,8,7,7,7,7,7,6,6,6,6,6,6,6,6,6,5,5,5,5,5,5,5],\"yaxis\":\"y\",\"type\":\"scattergl\"},{\"hovertemplate\":\"Name=Christopher\\u003cbr\\u003eYear=%{x}\\u003cbr\\u003eCount=%{y}\\u003cextra\\u003e\\u003c\\u002fextra\\u003e\",\"legendgroup\":\"Christopher\",\"line\":{\"color\":\"#FF6692\",\"dash\":\"solid\"},\"marker\":{\"symbol\":\"circle\"},\"mode\":\"lines\",\"name\":\"Christopher\",\"showlegend\":true,\"x\":[1985,1990,1987,1989,1984,1988,1986,1983,1982,1991,1992,1981,1980,1979,1993,1994,1995,1978,1972,1977,1996,1974,1976,1975,1997,1971,1970,1973,1998,2000,1999,1969,2001,2007,2002,2006,1968,2003,2004,1967,2008,2005,1966,2009,1965,2010,1964,1963,2011,2012,1962,1961,1960,2013,2014,1959,2015,2016,1958,2017,1957,2018,1956,1955,2019,1952,1951,1953,2020,1954,2021,2022,1950,2023,1949,1948,1947,1946,1945,1944,1943,1942,1990,1987,1985,1988,1982,1941,1986,1989,1983,1980,1984,1940,1992,1993,1978,1991,1977,1975,1971,1981,1995,1979,1974,1994,1972,1969,1973,1939,1970,1976,1938,1996,1998,1930,1937,1968,1967,1925,1999,1923,1931,1934,1935,1936,2001,2005,1933,2000,1958,2003,1966,1963,1947,1924,1961,1928,1921,1951,1920,1926,1965,1918,1922,2006,1964,1916,1915,1962,1997,2002,1927,1956,1960,1946,1945],\"xaxis\":\"x\",\"y\":[6722,6619,6515,6488,6486,6465,6453,6351,6067,5765,5235,5177,4782,4717,4670,4267,4098,4065,4017,3955,3945,3767,3760,3727,3723,3709,3600,3533,3387,3336,3252,3231,3035,2980,2904,2874,2840,2777,2771,2668,2609,2597,2551,2396,2311,2034,1901,1818,1781,1732,1720,1678,1526,1510,1436,1311,1293,1255,1104,1085,1062,927,924,922,887,849,812,798,763,746,746,714,698,597,578,441,309,213,158,118,105,86,52,51,49,48,47,46,42,40,40,37,37,35,33,33,31,30,30,30,28,27,25,25,25,25,24,24,24,22,21,21,20,17,15,15,15,13,12,12,12,11,11,11,10,10,9,9,9,8,8,8,8,8,8,8,7,7,7,7,7,7,7,6,6,6,6,6,6,6,6,6,5,5,5,5,5],\"yaxis\":\"y\",\"type\":\"scattergl\"},{\"hovertemplate\":\"Name=Jennifer\\u003cbr\\u003eYear=%{x}\\u003cbr\\u003eCount=%{y}\\u003cextra\\u003e\\u003c\\u002fextra\\u003e\",\"legendgroup\":\"Jennifer\",\"line\":{\"color\":\"#B6E880\",\"dash\":\"solid\"},\"marker\":{\"symbol\":\"circle\"},\"mode\":\"lines\",\"name\":\"Jennifer\",\"showlegend\":true,\"x\":[1972,1983,1982,1974,1973,1981,1980,1976,1977,1984,1979,1971,1975,1978,1985,1970,1986,1987,1988,1990,1991,1989,1969,1992,1993,1994,1968,1997,1995,1999,1998,1996,2000,2001,2002,1966,1967,2003,1965,1964,2004,1963,2005,1962,1961,2006,2007,1960,2008,1958,1959,2009,1957,2010,1956,2011,1955,2012,1954,1953,2013,1952,2014,1951,1950,2015,2016,1949,2017,2018,1947,1948,1946,2019,2020,2022,1945,2021,2023,1944,1943,1991,1989,1983,1984,1990,1980,1978,1993,1992,1941,1987,1995,1988,1942,1971,1975,1973,1986,1996,1985,1981,1982,1994,1972,1974,1997,1977,1976,1940,1999,1970,1998,2000,1969,1979,1961,2001,2002,1939,1954,1967,1934,1938,1965],\"xaxis\":\"x\",\"y\":[6065,5831,5813,5673,5649,5628,5612,5569,5543,5521,5461,5456,5323,5295,4965,4696,4306,4285,3875,3610,3579,3529,3477,3382,3003,2940,2908,2817,2696,2675,2561,2529,2265,2027,1987,1919,1902,1699,1649,1516,1485,1385,1297,1256,1174,1144,1035,869,808,739,707,641,635,515,509,474,440,421,412,384,354,350,286,284,247,243,239,233,226,168,163,159,147,145,141,115,99,91,88,80,30,30,29,29,27,27,25,24,24,24,24,23,23,22,22,20,19,19,19,18,18,18,18,17,16,16,15,15,13,13,12,11,10,10,9,9,8,8,7,6,5,5,5,5,5],\"yaxis\":\"y\",\"type\":\"scattergl\"},{\"hovertemplate\":\"Name=Daniel\\u003cbr\\u003eYear=%{x}\\u003cbr\\u003eCount=%{y}\\u003cextra\\u003e\\u003c\\u002fextra\\u003e\",\"legendgroup\":\"Daniel\",\"line\":{\"color\":\"#FF97FF\",\"dash\":\"solid\"},\"marker\":{\"symbol\":\"circle\"},\"mode\":\"lines\",\"name\":\"Daniel\",\"showlegend\":true,\"x\":[1990,1989,1991,1985,1986,1987,1988,1992,1993,1994,1984,1995,1983,1996,1982,1997,1999,2000,1981,1998,2004,2001,1980,2002,2003,2005,2007,2006,2008,1979,1978,2009,1977,1976,2010,1974,2011,1975,1973,2012,1963,1957,1956,1965,1961,1955,2013,1969,1970,2014,1960,1968,1966,1962,1964,1972,1958,1967,2015,1971,1959,1954,2016,1953,2017,1952,2018,1951,2019,1950,1949,2020,2021,2022,1948,2023,1947,1946,1945,1944,1943,1942,1941,1940,1939,1938,1937,1934,1936,1927,1930,1932,1935,1928,1931,1929,1925,1926,1933,1924,1922,1921,1923,1920,1918,1919,1917,1916,1915,1993,1992,1990,1991,1987,1913,1989,1986,1985,1994,1988,1977,1914,1982,1984,1983,1980,1995,1912,1979,1975,1981,1996,1972,1968,1997,1969,1976,1978,1973,1911,1998,1974,1971,2001,1999,2000,1967,2003,1962,1910,1959,1964,1970,1966,1965,1960,1961,2005,2004,1958,2008],\"xaxis\":\"x\",\"y\":[5771,5607,5477,5458,5433,5409,5406,5364,5229,5116,5023,5007,4750,4705,4597,4453,4354,4342,4334,4318,4170,4165,4148,4136,4033,3915,3870,3830,3756,3553,3432,3395,3329,3161,3138,2912,2910,2889,2751,2689,2686,2646,2643,2639,2621,2609,2604,2595,2576,2565,2542,2542,2531,2530,2513,2501,2499,2482,2476,2426,2368,2336,2306,2265,2098,2088,2001,1818,1748,1693,1495,1485,1436,1394,1366,1220,1099,994,737,668,609,529,392,353,303,298,260,229,227,218,212,205,203,200,196,194,193,182,172,155,143,129,125,100,96,90,82,80,66,56,53,52,52,51,50,48,48,48,48,46,45,43,40,38,37,36,35,34,27,24,24,23,23,21,21,20,20,19,19,18,18,17,16,16,15,15,12,12,12,11,10,10,9,9,8,8,8,8,8,6,5],\"yaxis\":\"y\",\"type\":\"scattergl\"},{\"hovertemplate\":\"Name=Mark\\u003cbr\\u003eYear=%{x}\\u003cbr\\u003eCount=%{y}\\u003cextra\\u003e\\u003c\\u002fextra\\u003e\",\"legendgroup\":\"Mark\",\"line\":{\"color\":\"#FECB52\",\"dash\":\"solid\"},\"marker\":{\"symbol\":\"circle\"},\"mode\":\"lines\",\"name\":\"Mark\",\"showlegend\":true,\"x\":[1960,1961,1959,1962,1957,1963,1958,1956,1964,1955,1965,1954,1966,1968,1967,1969,1953,1970,1952,1971,1951,1972,1973,1974,1950,1975,1949,1976,1989,1984,1985,1983,1988,1980,1977,1982,1987,1986,1978,1981,1979,1990,1991,1992,1993,1948,1994,1996,1995,1997,1999,1998,1947,2000,2001,2002,2003,2004,1946,2005,2006,2007,2008,2009,2011,1945,2016,2014,2013,2010,2012,2015,2017,1944,2018,2020,2019,1943,2023,2022,2021,1942,1941,1940,1937,1938,1939,1935,1931,1924,1933,1925,1932,1936,1934,1930,1927,1928,1929,1921,1922,1926,1919,1917,1923,1918,1960,1969,1968,1965,1915,1977,1970,1963,1988,1967,1974,1989,1971,1973,1978,1983,1958,1920,1961,1914,1964,1966,1913,1976,1980,1972,1986,1912,1916,1956,1981,1959,1957,1985,1982,1984,1979,1955,1962,1994,1993,1987,1953,1975],\"xaxis\":\"x\",\"y\":[5540,5513,5301,5097,4856,4837,4787,4630,4133,4106,3595,3515,3302,3261,3252,2990,2878,2804,2444,2081,2038,1804,1794,1650,1584,1466,1397,1388,1385,1382,1366,1362,1360,1354,1327,1327,1321,1321,1320,1301,1282,1261,1180,1069,1068,1042,965,932,884,872,840,819,764,715,654,547,547,536,498,490,460,386,376,332,328,327,317,312,309,307,305,289,256,241,241,212,211,187,176,174,158,157,108,74,50,43,41,35,34,33,33,30,30,30,27,27,27,26,25,24,24,22,22,21,18,18,17,17,15,15,15,15,15,14,14,14,14,13,13,13,13,13,13,13,12,12,12,11,11,10,10,10,9,9,9,9,9,9,9,8,7,7,7,7,6,6,5,5,5,5],\"yaxis\":\"y\",\"type\":\"scattergl\"}],                        {\"template\":{\"data\":{\"histogram2dcontour\":[{\"type\":\"histogram2dcontour\",\"colorbar\":{\"outlinewidth\":0,\"ticks\":\"\"},\"colorscale\":[[0.0,\"#0d0887\"],[0.1111111111111111,\"#46039f\"],[0.2222222222222222,\"#7201a8\"],[0.3333333333333333,\"#9c179e\"],[0.4444444444444444,\"#bd3786\"],[0.5555555555555556,\"#d8576b\"],[0.6666666666666666,\"#ed7953\"],[0.7777777777777778,\"#fb9f3a\"],[0.8888888888888888,\"#fdca26\"],[1.0,\"#f0f921\"]]}],\"choropleth\":[{\"type\":\"choropleth\",\"colorbar\":{\"outlinewidth\":0,\"ticks\":\"\"}}],\"histogram2d\":[{\"type\":\"histogram2d\",\"colorbar\":{\"outlinewidth\":0,\"ticks\":\"\"},\"colorscale\":[[0.0,\"#0d0887\"],[0.1111111111111111,\"#46039f\"],[0.2222222222222222,\"#7201a8\"],[0.3333333333333333,\"#9c179e\"],[0.4444444444444444,\"#bd3786\"],[0.5555555555555556,\"#d8576b\"],[0.6666666666666666,\"#ed7953\"],[0.7777777777777778,\"#fb9f3a\"],[0.8888888888888888,\"#fdca26\"],[1.0,\"#f0f921\"]]}],\"heatmap\":[{\"type\":\"heatmap\",\"colorbar\":{\"outlinewidth\":0,\"ticks\":\"\"},\"colorscale\":[[0.0,\"#0d0887\"],[0.1111111111111111,\"#46039f\"],[0.2222222222222222,\"#7201a8\"],[0.3333333333333333,\"#9c179e\"],[0.4444444444444444,\"#bd3786\"],[0.5555555555555556,\"#d8576b\"],[0.6666666666666666,\"#ed7953\"],[0.7777777777777778,\"#fb9f3a\"],[0.8888888888888888,\"#fdca26\"],[1.0,\"#f0f921\"]]}],\"heatmapgl\":[{\"type\":\"heatmapgl\",\"colorbar\":{\"outlinewidth\":0,\"ticks\":\"\"},\"colorscale\":[[0.0,\"#0d0887\"],[0.1111111111111111,\"#46039f\"],[0.2222222222222222,\"#7201a8\"],[0.3333333333333333,\"#9c179e\"],[0.4444444444444444,\"#bd3786\"],[0.5555555555555556,\"#d8576b\"],[0.6666666666666666,\"#ed7953\"],[0.7777777777777778,\"#fb9f3a\"],[0.8888888888888888,\"#fdca26\"],[1.0,\"#f0f921\"]]}],\"contourcarpet\":[{\"type\":\"contourcarpet\",\"colorbar\":{\"outlinewidth\":0,\"ticks\":\"\"}}],\"contour\":[{\"type\":\"contour\",\"colorbar\":{\"outlinewidth\":0,\"ticks\":\"\"},\"colorscale\":[[0.0,\"#0d0887\"],[0.1111111111111111,\"#46039f\"],[0.2222222222222222,\"#7201a8\"],[0.3333333333333333,\"#9c179e\"],[0.4444444444444444,\"#bd3786\"],[0.5555555555555556,\"#d8576b\"],[0.6666666666666666,\"#ed7953\"],[0.7777777777777778,\"#fb9f3a\"],[0.8888888888888888,\"#fdca26\"],[1.0,\"#f0f921\"]]}],\"surface\":[{\"type\":\"surface\",\"colorbar\":{\"outlinewidth\":0,\"ticks\":\"\"},\"colorscale\":[[0.0,\"#0d0887\"],[0.1111111111111111,\"#46039f\"],[0.2222222222222222,\"#7201a8\"],[0.3333333333333333,\"#9c179e\"],[0.4444444444444444,\"#bd3786\"],[0.5555555555555556,\"#d8576b\"],[0.6666666666666666,\"#ed7953\"],[0.7777777777777778,\"#fb9f3a\"],[0.8888888888888888,\"#fdca26\"],[1.0,\"#f0f921\"]]}],\"mesh3d\":[{\"type\":\"mesh3d\",\"colorbar\":{\"outlinewidth\":0,\"ticks\":\"\"}}],\"scatter\":[{\"fillpattern\":{\"fillmode\":\"overlay\",\"size\":10,\"solidity\":0.2},\"type\":\"scatter\"}],\"parcoords\":[{\"type\":\"parcoords\",\"line\":{\"colorbar\":{\"outlinewidth\":0,\"ticks\":\"\"}}}],\"scatterpolargl\":[{\"type\":\"scatterpolargl\",\"marker\":{\"colorbar\":{\"outlinewidth\":0,\"ticks\":\"\"}}}],\"bar\":[{\"error_x\":{\"color\":\"#2a3f5f\"},\"error_y\":{\"color\":\"#2a3f5f\"},\"marker\":{\"line\":{\"color\":\"#E5ECF6\",\"width\":0.5},\"pattern\":{\"fillmode\":\"overlay\",\"size\":10,\"solidity\":0.2}},\"type\":\"bar\"}],\"scattergeo\":[{\"type\":\"scattergeo\",\"marker\":{\"colorbar\":{\"outlinewidth\":0,\"ticks\":\"\"}}}],\"scatterpolar\":[{\"type\":\"scatterpolar\",\"marker\":{\"colorbar\":{\"outlinewidth\":0,\"ticks\":\"\"}}}],\"histogram\":[{\"marker\":{\"pattern\":{\"fillmode\":\"overlay\",\"size\":10,\"solidity\":0.2}},\"type\":\"histogram\"}],\"scattergl\":[{\"type\":\"scattergl\",\"marker\":{\"colorbar\":{\"outlinewidth\":0,\"ticks\":\"\"}}}],\"scatter3d\":[{\"type\":\"scatter3d\",\"line\":{\"colorbar\":{\"outlinewidth\":0,\"ticks\":\"\"}},\"marker\":{\"colorbar\":{\"outlinewidth\":0,\"ticks\":\"\"}}}],\"scattermapbox\":[{\"type\":\"scattermapbox\",\"marker\":{\"colorbar\":{\"outlinewidth\":0,\"ticks\":\"\"}}}],\"scatterternary\":[{\"type\":\"scatterternary\",\"marker\":{\"colorbar\":{\"outlinewidth\":0,\"ticks\":\"\"}}}],\"scattercarpet\":[{\"type\":\"scattercarpet\",\"marker\":{\"colorbar\":{\"outlinewidth\":0,\"ticks\":\"\"}}}],\"carpet\":[{\"aaxis\":{\"endlinecolor\":\"#2a3f5f\",\"gridcolor\":\"white\",\"linecolor\":\"white\",\"minorgridcolor\":\"white\",\"startlinecolor\":\"#2a3f5f\"},\"baxis\":{\"endlinecolor\":\"#2a3f5f\",\"gridcolor\":\"white\",\"linecolor\":\"white\",\"minorgridcolor\":\"white\",\"startlinecolor\":\"#2a3f5f\"},\"type\":\"carpet\"}],\"table\":[{\"cells\":{\"fill\":{\"color\":\"#EBF0F8\"},\"line\":{\"color\":\"white\"}},\"header\":{\"fill\":{\"color\":\"#C8D4E3\"},\"line\":{\"color\":\"white\"}},\"type\":\"table\"}],\"barpolar\":[{\"marker\":{\"line\":{\"color\":\"#E5ECF6\",\"width\":0.5},\"pattern\":{\"fillmode\":\"overlay\",\"size\":10,\"solidity\":0.2}},\"type\":\"barpolar\"}],\"pie\":[{\"automargin\":true,\"type\":\"pie\"}]},\"layout\":{\"autotypenumbers\":\"strict\",\"colorway\":[\"#636efa\",\"#EF553B\",\"#00cc96\",\"#ab63fa\",\"#FFA15A\",\"#19d3f3\",\"#FF6692\",\"#B6E880\",\"#FF97FF\",\"#FECB52\"],\"font\":{\"color\":\"#2a3f5f\"},\"hovermode\":\"closest\",\"hoverlabel\":{\"align\":\"left\"},\"paper_bgcolor\":\"white\",\"plot_bgcolor\":\"#E5ECF6\",\"polar\":{\"bgcolor\":\"#E5ECF6\",\"angularaxis\":{\"gridcolor\":\"white\",\"linecolor\":\"white\",\"ticks\":\"\"},\"radialaxis\":{\"gridcolor\":\"white\",\"linecolor\":\"white\",\"ticks\":\"\"}},\"ternary\":{\"bgcolor\":\"#E5ECF6\",\"aaxis\":{\"gridcolor\":\"white\",\"linecolor\":\"white\",\"ticks\":\"\"},\"baxis\":{\"gridcolor\":\"white\",\"linecolor\":\"white\",\"ticks\":\"\"},\"caxis\":{\"gridcolor\":\"white\",\"linecolor\":\"white\",\"ticks\":\"\"}},\"coloraxis\":{\"colorbar\":{\"outlinewidth\":0,\"ticks\":\"\"}},\"colorscale\":{\"sequential\":[[0.0,\"#0d0887\"],[0.1111111111111111,\"#46039f\"],[0.2222222222222222,\"#7201a8\"],[0.3333333333333333,\"#9c179e\"],[0.4444444444444444,\"#bd3786\"],[0.5555555555555556,\"#d8576b\"],[0.6666666666666666,\"#ed7953\"],[0.7777777777777778,\"#fb9f3a\"],[0.8888888888888888,\"#fdca26\"],[1.0,\"#f0f921\"]],\"sequentialminus\":[[0.0,\"#0d0887\"],[0.1111111111111111,\"#46039f\"],[0.2222222222222222,\"#7201a8\"],[0.3333333333333333,\"#9c179e\"],[0.4444444444444444,\"#bd3786\"],[0.5555555555555556,\"#d8576b\"],[0.6666666666666666,\"#ed7953\"],[0.7777777777777778,\"#fb9f3a\"],[0.8888888888888888,\"#fdca26\"],[1.0,\"#f0f921\"]],\"diverging\":[[0,\"#8e0152\"],[0.1,\"#c51b7d\"],[0.2,\"#de77ae\"],[0.3,\"#f1b6da\"],[0.4,\"#fde0ef\"],[0.5,\"#f7f7f7\"],[0.6,\"#e6f5d0\"],[0.7,\"#b8e186\"],[0.8,\"#7fbc41\"],[0.9,\"#4d9221\"],[1,\"#276419\"]]},\"xaxis\":{\"gridcolor\":\"white\",\"linecolor\":\"white\",\"ticks\":\"\",\"title\":{\"standoff\":15},\"zerolinecolor\":\"white\",\"automargin\":true,\"zerolinewidth\":2},\"yaxis\":{\"gridcolor\":\"white\",\"linecolor\":\"white\",\"ticks\":\"\",\"title\":{\"standoff\":15},\"zerolinecolor\":\"white\",\"automargin\":true,\"zerolinewidth\":2},\"scene\":{\"xaxis\":{\"backgroundcolor\":\"#E5ECF6\",\"gridcolor\":\"white\",\"linecolor\":\"white\",\"showbackground\":true,\"ticks\":\"\",\"zerolinecolor\":\"white\",\"gridwidth\":2},\"yaxis\":{\"backgroundcolor\":\"#E5ECF6\",\"gridcolor\":\"white\",\"linecolor\":\"white\",\"showbackground\":true,\"ticks\":\"\",\"zerolinecolor\":\"white\",\"gridwidth\":2},\"zaxis\":{\"backgroundcolor\":\"#E5ECF6\",\"gridcolor\":\"white\",\"linecolor\":\"white\",\"showbackground\":true,\"ticks\":\"\",\"zerolinecolor\":\"white\",\"gridwidth\":2}},\"shapedefaults\":{\"line\":{\"color\":\"#2a3f5f\"}},\"annotationdefaults\":{\"arrowcolor\":\"#2a3f5f\",\"arrowhead\":0,\"arrowwidth\":1},\"geo\":{\"bgcolor\":\"white\",\"landcolor\":\"#E5ECF6\",\"subunitcolor\":\"white\",\"showland\":true,\"showlakes\":true,\"lakecolor\":\"white\"},\"title\":{\"x\":0.05},\"mapbox\":{\"style\":\"light\"}}},\"xaxis\":{\"anchor\":\"y\",\"domain\":[0.0,1.0],\"title\":{\"text\":\"Year\"}},\"yaxis\":{\"anchor\":\"x\",\"domain\":[0.0,1.0],\"title\":{\"text\":\"Count\"}},\"legend\":{\"title\":{\"text\":\"Name\"},\"tracegroupgap\":0},\"title\":{\"text\":\"Popularity for: ('Michael', 'David', 'John', 'Robert', 'Jessica', 'Linda', 'Christopher', 'Jennifer', 'Daniel', 'Mark')\"},\"font\":{\"size\":18},\"autosize\":false,\"width\":1000,\"height\":400},                        {\"responsive\": true}                    ).then(function(){\n",
       "                            \n",
       "var gd = document.getElementById('287c5268-55dc-4c85-b265-0310349f38d4');\n",
       "var x = new MutationObserver(function (mutations, observer) {{\n",
       "        var display = window.getComputedStyle(gd).display;\n",
       "        if (!display || display === 'none') {{\n",
       "            console.log([gd, 'removed!']);\n",
       "            Plotly.purge(gd);\n",
       "            observer.disconnect();\n",
       "        }}\n",
       "}});\n",
       "\n",
       "// Listen for the removal of the full notebook cells\n",
       "var notebookContainer = gd.closest('#notebook-container');\n",
       "if (notebookContainer) {{\n",
       "    x.observe(notebookContainer, {childList: true});\n",
       "}}\n",
       "\n",
       "// Listen for the clearing of the current output cell\n",
       "var outputEl = gd.closest('.output');\n",
       "if (outputEl) {{\n",
       "    x.observe(outputEl, {childList: true});\n",
       "}}\n",
       "\n",
       "                        })                };                });            </script>        </div>"
      ]
     },
     "metadata": {},
     "output_type": "display_data"
    }
   ],
   "source": [
    "plot_name(*top10)"
   ]
  },
  {
   "cell_type": "markdown",
   "metadata": {
    "id": "xpTKbYENikKw"
   },
   "source": [
    "For fun, try plotting your name or your friends' names."
   ]
  },
  {
   "cell_type": "code",
   "execution_count": null,
   "metadata": {
    "id": "5jaHesdevO4R"
   },
   "outputs": [],
   "source": []
  }
 ],
 "metadata": {
  "colab": {
   "provenance": []
  },
  "kernelspec": {
   "display_name": "Python 3",
   "language": "python",
   "name": "python3"
  },
  "language_info": {
   "codemirror_mode": {
    "name": "ipython",
    "version": 3
   },
   "file_extension": ".py",
   "mimetype": "text/x-python",
   "name": "python",
   "nbconvert_exporter": "python",
   "pygments_lexer": "ipython3",
   "version": "3.8.8"
  }
 },
 "nbformat": 4,
 "nbformat_minor": 1
}
