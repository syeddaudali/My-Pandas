{
 "cells": [
  {
   "cell_type": "code",
   "execution_count": 48,
   "metadata": {
    "id": "c_eVXa9OPtvB"
   },
   "outputs": [],
   "source": [
    "import pandas as pd # A general purpose Python library for data analysis\n",
    "import numpy as np # A library for scientific computing in Python (e.g., provides high-performance multi-dimensional array objects and operations)\n",
    "\n",
    "import matplotlib.pyplot as plt # a plotting library for Python and NumPy (readily customizable)\n",
    "import seaborn as sns # Another plotting library for Python (fewer syntax, excellent default themes, behind the scenes, it uses matplotlib)\n",
    "import time"
   ]
  },
  {
   "cell_type": "markdown",
   "metadata": {
    "id": "PSdsojacPtvD"
   },
   "source": [
    "## Knowledge Stream Summer 2023\n",
    "\n",
    "In this notebook, we will learn about the key data structures provided by the Pandas library: **Data Frames, Series, and Indices**.\n",
    "\n",
    "In addition, we will learn about the following operations:\n",
    "* How to access data contained in these structures?\n",
    "* How to read files (e.g., csv, xlsx, sql) to create these structures?\n",
    "* How to carry out different data manipulation tasks using these structures?\n",
    "\n",
    "`Dataset`: US elections with information about candidates, their party, votes won, year of election and the result."
   ]
  },
  {
   "cell_type": "markdown",
   "metadata": {
    "id": "sufDZrcePtvF"
   },
   "source": [
    "## Reading in Data Frames from Files"
   ]
  },
  {
   "cell_type": "markdown",
   "metadata": {
    "id": "SKvAs5UMPtvG"
   },
   "source": [
    "Pandas has a number of useful file reading tools. You can see them enumerated by typing **\"pd.re\"** and pressing `tab`. We'll be using **read_csv** today. Note that these file reading functions do all the *data parsing* for you, which is very useful."
   ]
  },
  {
   "cell_type": "markdown",
   "metadata": {
    "id": "wAchNI6BPtvG"
   },
   "source": [
    "Before loading a file into a dataframe, let's first take a look at the **elections.csv** file"
   ]
  },
  {
   "cell_type": "code",
   "execution_count": 49,
   "metadata": {
    "id": "vQruwj5rPtvG",
    "scrolled": true
   },
   "outputs": [],
   "source": [
    "df=pd.read_csv(\"elections.csv\")\n"
   ]
  },
  {
   "cell_type": "markdown",
   "metadata": {
    "id": "DFG0R-hvPtvH"
   },
   "source": [
    "We can use the **head command** to show only a few rows of a dataframe."
   ]
  },
  {
   "cell_type": "markdown",
   "metadata": {
    "id": "bHoeuiciPtvH"
   },
   "source": [
    "# heading\n",
    "## heading2"
   ]
  },
  {
   "cell_type": "code",
   "execution_count": 50,
   "metadata": {
    "id": "ft8isrsOPtvI"
   },
   "outputs": [
    {
     "data": {
      "text/html": [
       "<div>\n",
       "<style scoped>\n",
       "    .dataframe tbody tr th:only-of-type {\n",
       "        vertical-align: middle;\n",
       "    }\n",
       "\n",
       "    .dataframe tbody tr th {\n",
       "        vertical-align: top;\n",
       "    }\n",
       "\n",
       "    .dataframe thead th {\n",
       "        text-align: right;\n",
       "    }\n",
       "</style>\n",
       "<table border=\"1\" class=\"dataframe\">\n",
       "  <thead>\n",
       "    <tr style=\"text-align: right;\">\n",
       "      <th></th>\n",
       "      <th>Year</th>\n",
       "      <th>Candidate</th>\n",
       "      <th>Party</th>\n",
       "      <th>Popular vote</th>\n",
       "      <th>Result</th>\n",
       "      <th>%</th>\n",
       "    </tr>\n",
       "  </thead>\n",
       "  <tbody>\n",
       "    <tr>\n",
       "      <th>0</th>\n",
       "      <td>1824</td>\n",
       "      <td>Andrew Jackson</td>\n",
       "      <td>Democratic-Republican</td>\n",
       "      <td>151271</td>\n",
       "      <td>loss</td>\n",
       "      <td>57.210122</td>\n",
       "    </tr>\n",
       "    <tr>\n",
       "      <th>1</th>\n",
       "      <td>1824</td>\n",
       "      <td>John Quincy Adams</td>\n",
       "      <td>Democratic-Republican</td>\n",
       "      <td>113142</td>\n",
       "      <td>win</td>\n",
       "      <td>42.789878</td>\n",
       "    </tr>\n",
       "  </tbody>\n",
       "</table>\n",
       "</div>"
      ],
      "text/plain": [
       "   Year          Candidate                  Party  Popular vote Result  \\\n",
       "0  1824     Andrew Jackson  Democratic-Republican        151271   loss   \n",
       "1  1824  John Quincy Adams  Democratic-Republican        113142    win   \n",
       "\n",
       "           %  \n",
       "0  57.210122  \n",
       "1  42.789878  "
      ]
     },
     "execution_count": 50,
     "metadata": {},
     "output_type": "execute_result"
    }
   ],
   "source": [
    "# Answer Here\n",
    "df.head(2)"
   ]
  },
  {
   "cell_type": "markdown",
   "metadata": {
    "id": "k2hQ-7gCPtvI"
   },
   "source": [
    "There is also a **tail command**."
   ]
  },
  {
   "cell_type": "code",
   "execution_count": 51,
   "metadata": {
    "id": "Hd90_fIZPtvI"
   },
   "outputs": [
    {
     "data": {
      "text/html": [
       "<div>\n",
       "<style scoped>\n",
       "    .dataframe tbody tr th:only-of-type {\n",
       "        vertical-align: middle;\n",
       "    }\n",
       "\n",
       "    .dataframe tbody tr th {\n",
       "        vertical-align: top;\n",
       "    }\n",
       "\n",
       "    .dataframe thead th {\n",
       "        text-align: right;\n",
       "    }\n",
       "</style>\n",
       "<table border=\"1\" class=\"dataframe\">\n",
       "  <thead>\n",
       "    <tr style=\"text-align: right;\">\n",
       "      <th></th>\n",
       "      <th>Year</th>\n",
       "      <th>Candidate</th>\n",
       "      <th>Party</th>\n",
       "      <th>Popular vote</th>\n",
       "      <th>Result</th>\n",
       "      <th>%</th>\n",
       "    </tr>\n",
       "  </thead>\n",
       "  <tbody>\n",
       "    <tr>\n",
       "      <th>180</th>\n",
       "      <td>2020</td>\n",
       "      <td>Jo Jorgensen</td>\n",
       "      <td>Libertarian</td>\n",
       "      <td>1865724</td>\n",
       "      <td>loss</td>\n",
       "      <td>1.177979</td>\n",
       "    </tr>\n",
       "    <tr>\n",
       "      <th>181</th>\n",
       "      <td>2020</td>\n",
       "      <td>Howard Hawkins</td>\n",
       "      <td>Green</td>\n",
       "      <td>405035</td>\n",
       "      <td>loss</td>\n",
       "      <td>0.255731</td>\n",
       "    </tr>\n",
       "  </tbody>\n",
       "</table>\n",
       "</div>"
      ],
      "text/plain": [
       "     Year       Candidate        Party  Popular vote Result         %\n",
       "180  2020    Jo Jorgensen  Libertarian       1865724   loss  1.177979\n",
       "181  2020  Howard Hawkins        Green        405035   loss  0.255731"
      ]
     },
     "execution_count": 51,
     "metadata": {},
     "output_type": "execute_result"
    }
   ],
   "source": [
    "#Answer Here\n",
    "df.tail(2)"
   ]
  },
  {
   "cell_type": "markdown",
   "metadata": {
    "id": "rts8fQn7PtvI"
   },
   "source": [
    "The `read_csv` command lets us specify a **column to use an index**. For example, we could have used __Year__ as the index."
   ]
  },
  {
   "cell_type": "code",
   "execution_count": 52,
   "metadata": {
    "id": "r3-biPiJPtvI"
   },
   "outputs": [
    {
     "data": {
      "text/html": [
       "<div>\n",
       "<style scoped>\n",
       "    .dataframe tbody tr th:only-of-type {\n",
       "        vertical-align: middle;\n",
       "    }\n",
       "\n",
       "    .dataframe tbody tr th {\n",
       "        vertical-align: top;\n",
       "    }\n",
       "\n",
       "    .dataframe thead th {\n",
       "        text-align: right;\n",
       "    }\n",
       "</style>\n",
       "<table border=\"1\" class=\"dataframe\">\n",
       "  <thead>\n",
       "    <tr style=\"text-align: right;\">\n",
       "      <th></th>\n",
       "      <th>Candidate</th>\n",
       "      <th>Party</th>\n",
       "      <th>Popular vote</th>\n",
       "      <th>Result</th>\n",
       "      <th>%</th>\n",
       "    </tr>\n",
       "    <tr>\n",
       "      <th>Year</th>\n",
       "      <th></th>\n",
       "      <th></th>\n",
       "      <th></th>\n",
       "      <th></th>\n",
       "      <th></th>\n",
       "    </tr>\n",
       "  </thead>\n",
       "  <tbody>\n",
       "    <tr>\n",
       "      <th>1824</th>\n",
       "      <td>Andrew Jackson</td>\n",
       "      <td>Democratic-Republican</td>\n",
       "      <td>151271</td>\n",
       "      <td>loss</td>\n",
       "      <td>57.210122</td>\n",
       "    </tr>\n",
       "  </tbody>\n",
       "</table>\n",
       "</div>"
      ],
      "text/plain": [
       "           Candidate                  Party  Popular vote Result          %\n",
       "Year                                                                       \n",
       "1824  Andrew Jackson  Democratic-Republican        151271   loss  57.210122"
      ]
     },
     "execution_count": 52,
     "metadata": {},
     "output_type": "execute_result"
    }
   ],
   "source": [
    "#Answer Here\n",
    "df=pd.read_csv(\"elections.csv\",index_col=\"Year\")\n",
    "df.head(1)"
   ]
  },
  {
   "cell_type": "markdown",
   "metadata": {
    "id": "zWtY3hv5R9B5"
   },
   "source": [
    "Alternately, we could have used the **set_index** commmand on the dataframe."
   ]
  },
  {
   "cell_type": "code",
   "execution_count": 20,
   "metadata": {
    "id": "-u_BJi6ZPtvJ"
   },
   "outputs": [
    {
     "data": {
      "text/html": [
       "<div>\n",
       "<style scoped>\n",
       "    .dataframe tbody tr th:only-of-type {\n",
       "        vertical-align: middle;\n",
       "    }\n",
       "\n",
       "    .dataframe tbody tr th {\n",
       "        vertical-align: top;\n",
       "    }\n",
       "\n",
       "    .dataframe thead th {\n",
       "        text-align: right;\n",
       "    }\n",
       "</style>\n",
       "<table border=\"1\" class=\"dataframe\">\n",
       "  <thead>\n",
       "    <tr style=\"text-align: right;\">\n",
       "      <th></th>\n",
       "      <th>Candidate</th>\n",
       "      <th>Party</th>\n",
       "      <th>Popular vote</th>\n",
       "      <th>Result</th>\n",
       "      <th>%</th>\n",
       "    </tr>\n",
       "    <tr>\n",
       "      <th>Year</th>\n",
       "      <th></th>\n",
       "      <th></th>\n",
       "      <th></th>\n",
       "      <th></th>\n",
       "      <th></th>\n",
       "    </tr>\n",
       "  </thead>\n",
       "  <tbody>\n",
       "    <tr>\n",
       "      <th>1824</th>\n",
       "      <td>Andrew Jackson</td>\n",
       "      <td>Democratic-Republican</td>\n",
       "      <td>151271</td>\n",
       "      <td>loss</td>\n",
       "      <td>57.210122</td>\n",
       "    </tr>\n",
       "  </tbody>\n",
       "</table>\n",
       "</div>"
      ],
      "text/plain": [
       "           Candidate                  Party  Popular vote Result          %\n",
       "Year                                                                       \n",
       "1824  Andrew Jackson  Democratic-Republican        151271   loss  57.210122"
      ]
     },
     "execution_count": 20,
     "metadata": {},
     "output_type": "execute_result"
    }
   ],
   "source": [
    "#Answer Here\n",
    "df.set_index(\"Year\").head(1)"
   ]
  },
  {
   "cell_type": "markdown",
   "metadata": {
    "id": "kOpP3gBYPtvJ"
   },
   "source": [
    "# Caution:\n",
    "The **set_index command** (along with all other data frame methods) **does not modify the dataframe**, i.e., the original \"elections\" is untouched. Note: There is a flag called \"inplace\" which does modify the calling dataframe (e.g., `elections.set_index(\"Party\",inplace=True)`)."
   ]
  },
  {
   "cell_type": "markdown",
   "metadata": {
    "id": "HYFFeZwRPtvJ"
   },
   "source": [
    "## Duplicate Columns?\n",
    "By contast, column names MUST be unique. For example, if we try to read in a file for which column names are not unique, Pandas will automatically any duplicates. Load duplicate_columns.csv"
   ]
  },
  {
   "cell_type": "code",
   "execution_count": 53,
   "metadata": {
    "id": "4VSBA-Y4PtvJ"
   },
   "outputs": [
    {
     "data": {
      "text/plain": [
       "Index(['Candidate', 'Party', 'Popular vote', 'Result', '%'], dtype='object')"
      ]
     },
     "execution_count": 53,
     "metadata": {},
     "output_type": "execute_result"
    }
   ],
   "source": [
    "#Answer Here\n",
    "df.columns"
   ]
  },
  {
   "cell_type": "markdown",
   "metadata": {
    "id": "fUjSXLNhPtvK"
   },
   "source": [
    "## The [ ] Operator & Indexing"
   ]
  },
  {
   "cell_type": "markdown",
   "metadata": {
    "id": "_y0PM7R9PtvK"
   },
   "source": [
    "The DataFrame class has an indexing operator **[ ]** (also known as the 'brack' operator) that lets you do a variety of different things. If your provide a String to the **[ ]** operator, you get back a ***Series*** corresponding to the requested label.\n",
    "\n",
    "1.Use **[ ]** to display different columns\n",
    "\n",
    "2.Use List retrive multiple columns"
   ]
  },
  {
   "cell_type": "code",
   "execution_count": 54,
   "metadata": {
    "id": "MpSUIkiHPtvK"
   },
   "outputs": [
    {
     "data": {
      "text/plain": [
       "Year\n",
       "1824    57.210122\n",
       "Name: %, dtype: float64"
      ]
     },
     "execution_count": 54,
     "metadata": {},
     "output_type": "execute_result"
    }
   ],
   "source": [
    "# Answer Here\n",
    "df[\"%\"].head(1)"
   ]
  },
  {
   "cell_type": "markdown",
   "metadata": {
    "id": "DopcbfEpPtvK"
   },
   "source": [
    "The **[ ]** operator also accepts a list of strings. In this case, you get back a **DataFrame** corresponding to the requested strings."
   ]
  },
  {
   "cell_type": "code",
   "execution_count": 55,
   "metadata": {
    "id": "lX4YozsZPtvK",
    "scrolled": true
   },
   "outputs": [
    {
     "data": {
      "text/html": [
       "<div>\n",
       "<style scoped>\n",
       "    .dataframe tbody tr th:only-of-type {\n",
       "        vertical-align: middle;\n",
       "    }\n",
       "\n",
       "    .dataframe tbody tr th {\n",
       "        vertical-align: top;\n",
       "    }\n",
       "\n",
       "    .dataframe thead th {\n",
       "        text-align: right;\n",
       "    }\n",
       "</style>\n",
       "<table border=\"1\" class=\"dataframe\">\n",
       "  <thead>\n",
       "    <tr style=\"text-align: right;\">\n",
       "      <th></th>\n",
       "      <th>Party</th>\n",
       "      <th>%</th>\n",
       "    </tr>\n",
       "    <tr>\n",
       "      <th>Year</th>\n",
       "      <th></th>\n",
       "      <th></th>\n",
       "    </tr>\n",
       "  </thead>\n",
       "  <tbody>\n",
       "    <tr>\n",
       "      <th>1824</th>\n",
       "      <td>Democratic-Republican</td>\n",
       "      <td>57.210122</td>\n",
       "    </tr>\n",
       "    <tr>\n",
       "      <th>1824</th>\n",
       "      <td>Democratic-Republican</td>\n",
       "      <td>42.789878</td>\n",
       "    </tr>\n",
       "  </tbody>\n",
       "</table>\n",
       "</div>"
      ],
      "text/plain": [
       "                      Party          %\n",
       "Year                                  \n",
       "1824  Democratic-Republican  57.210122\n",
       "1824  Democratic-Republican  42.789878"
      ]
     },
     "execution_count": 55,
     "metadata": {},
     "output_type": "execute_result"
    }
   ],
   "source": [
    "# Answer Here\n",
    "df[[\"Party\",\"%\"]].head(2)"
   ]
  },
  {
   "cell_type": "markdown",
   "metadata": {
    "id": "7pv2JkjRPtvK"
   },
   "source": [
    "A list of one label also returns a DataFrame. This can be handy if you want your results as a DataFrame, not a series."
   ]
  },
  {
   "cell_type": "markdown",
   "metadata": {
    "id": "XqKnvINoPtvL"
   },
   "source": [
    "Note that we can also use the **to_frame** method to turn a Series into a DataFrame.\n",
    "\n",
    "Extract one col name \"Candidates\" from DataFrame it will be a series. Convert series into a DataFrame."
   ]
  },
  {
   "cell_type": "code",
   "execution_count": 56,
   "metadata": {
    "id": "XUOtNoVnPtvL"
   },
   "outputs": [
    {
     "data": {
      "text/plain": [
       "Year\n",
       "1824    Andrew Jackson\n",
       "Name: Candidate, dtype: object"
      ]
     },
     "execution_count": 56,
     "metadata": {},
     "output_type": "execute_result"
    }
   ],
   "source": [
    "# Answer Here\n",
    "dff=df[\"Candidate\"].head(1)\n",
    "dff"
   ]
  },
  {
   "cell_type": "code",
   "execution_count": 57,
   "metadata": {
    "id": "HdHWFzzSPtvL"
   },
   "outputs": [
    {
     "data": {
      "text/html": [
       "<div>\n",
       "<style scoped>\n",
       "    .dataframe tbody tr th:only-of-type {\n",
       "        vertical-align: middle;\n",
       "    }\n",
       "\n",
       "    .dataframe tbody tr th {\n",
       "        vertical-align: top;\n",
       "    }\n",
       "\n",
       "    .dataframe thead th {\n",
       "        text-align: right;\n",
       "    }\n",
       "</style>\n",
       "<table border=\"1\" class=\"dataframe\">\n",
       "  <thead>\n",
       "    <tr style=\"text-align: right;\">\n",
       "      <th></th>\n",
       "      <th>Candidate</th>\n",
       "    </tr>\n",
       "    <tr>\n",
       "      <th>Year</th>\n",
       "      <th></th>\n",
       "    </tr>\n",
       "  </thead>\n",
       "  <tbody>\n",
       "    <tr>\n",
       "      <th>1824</th>\n",
       "      <td>Andrew Jackson</td>\n",
       "    </tr>\n",
       "  </tbody>\n",
       "</table>\n",
       "</div>"
      ],
      "text/plain": [
       "           Candidate\n",
       "Year                \n",
       "1824  Andrew Jackson"
      ]
     },
     "execution_count": 57,
     "metadata": {},
     "output_type": "execute_result"
    }
   ],
   "source": [
    "# Answer Here\n",
    "dfff=pd.DataFrame(dff)\n",
    "dfff"
   ]
  },
  {
   "cell_type": "markdown",
   "metadata": {
    "id": "8l2IdtBwPtvL"
   },
   "source": [
    "### Row Indexing\n",
    "\n",
    "The `[]` operator also accepts numerical slices as arguments. In this case, we are indexing by row, not column!\n",
    "\n",
    "Extract few rows from DataFrame"
   ]
  },
  {
   "cell_type": "code",
   "execution_count": 58,
   "metadata": {
    "id": "VrZMcM5rPtvL",
    "scrolled": true
   },
   "outputs": [
    {
     "data": {
      "text/html": [
       "<div>\n",
       "<style scoped>\n",
       "    .dataframe tbody tr th:only-of-type {\n",
       "        vertical-align: middle;\n",
       "    }\n",
       "\n",
       "    .dataframe tbody tr th {\n",
       "        vertical-align: top;\n",
       "    }\n",
       "\n",
       "    .dataframe thead th {\n",
       "        text-align: right;\n",
       "    }\n",
       "</style>\n",
       "<table border=\"1\" class=\"dataframe\">\n",
       "  <thead>\n",
       "    <tr style=\"text-align: right;\">\n",
       "      <th></th>\n",
       "      <th>Candidate</th>\n",
       "      <th>Party</th>\n",
       "      <th>Popular vote</th>\n",
       "      <th>Result</th>\n",
       "      <th>%</th>\n",
       "    </tr>\n",
       "    <tr>\n",
       "      <th>Year</th>\n",
       "      <th></th>\n",
       "      <th></th>\n",
       "      <th></th>\n",
       "      <th></th>\n",
       "      <th></th>\n",
       "    </tr>\n",
       "  </thead>\n",
       "  <tbody>\n",
       "    <tr>\n",
       "      <th>1832</th>\n",
       "      <td>Andrew Jackson</td>\n",
       "      <td>Democratic</td>\n",
       "      <td>702735</td>\n",
       "      <td>win</td>\n",
       "      <td>54.574789</td>\n",
       "    </tr>\n",
       "    <tr>\n",
       "      <th>1832</th>\n",
       "      <td>Henry Clay</td>\n",
       "      <td>National Republican</td>\n",
       "      <td>484205</td>\n",
       "      <td>loss</td>\n",
       "      <td>37.603628</td>\n",
       "    </tr>\n",
       "    <tr>\n",
       "      <th>1832</th>\n",
       "      <td>William Wirt</td>\n",
       "      <td>Anti-Masonic</td>\n",
       "      <td>100715</td>\n",
       "      <td>loss</td>\n",
       "      <td>7.821583</td>\n",
       "    </tr>\n",
       "  </tbody>\n",
       "</table>\n",
       "</div>"
      ],
      "text/plain": [
       "           Candidate                Party  Popular vote Result          %\n",
       "Year                                                                     \n",
       "1832  Andrew Jackson           Democratic        702735    win  54.574789\n",
       "1832      Henry Clay  National Republican        484205   loss  37.603628\n",
       "1832    William Wirt         Anti-Masonic        100715   loss   7.821583"
      ]
     },
     "execution_count": 58,
     "metadata": {},
     "output_type": "execute_result"
    }
   ],
   "source": [
    "# Answer Here\n",
    "df[4:7]"
   ]
  },
  {
   "cell_type": "markdown",
   "metadata": {
    "id": "BbzS6oI4PtvN"
   },
   "source": [
    "If you provide a single argument to the `[]` operator, it tries to use it as a name. This is true even if the argument passed to **[ ]** is an integer."
   ]
  },
  {
   "cell_type": "code",
   "execution_count": 59,
   "metadata": {
    "id": "tw51ccpUPtvN"
   },
   "outputs": [
    {
     "data": {
      "text/plain": [
       "Year\n",
       "1824    57.210122\n",
       "Name: %, dtype: float64"
      ]
     },
     "execution_count": 59,
     "metadata": {},
     "output_type": "execute_result"
    }
   ],
   "source": [
    "#elections[0] #this does not work, try uncommenting this to see it fail in action, woo\n",
    "df[\"%\"].head(1)"
   ]
  },
  {
   "cell_type": "markdown",
   "metadata": {
    "id": "EJsBn7uKPtvN"
   },
   "source": [
    "The following cells allow you to **test your understanding**. Let's go over the summary of what we have learnt (see slides).\n",
    "\n",
    "# Creating DataFrames\n",
    "Create DataFrame using List and Columns name."
   ]
  },
  {
   "cell_type": "code",
   "execution_count": 60,
   "metadata": {
    "id": "yA1NsyftUQYi"
   },
   "outputs": [
    {
     "data": {
      "text/html": [
       "<div>\n",
       "<style scoped>\n",
       "    .dataframe tbody tr th:only-of-type {\n",
       "        vertical-align: middle;\n",
       "    }\n",
       "\n",
       "    .dataframe tbody tr th {\n",
       "        vertical-align: top;\n",
       "    }\n",
       "\n",
       "    .dataframe thead th {\n",
       "        text-align: right;\n",
       "    }\n",
       "</style>\n",
       "<table border=\"1\" class=\"dataframe\">\n",
       "  <thead>\n",
       "    <tr style=\"text-align: right;\">\n",
       "      <th></th>\n",
       "      <th>Name</th>\n",
       "      <th>AG NO</th>\n",
       "      <th>Degree</th>\n",
       "    </tr>\n",
       "  </thead>\n",
       "  <tbody>\n",
       "    <tr>\n",
       "      <th>0</th>\n",
       "      <td>Daud</td>\n",
       "      <td>6529</td>\n",
       "      <td>BSSE</td>\n",
       "    </tr>\n",
       "    <tr>\n",
       "      <th>1</th>\n",
       "      <td>Wasif</td>\n",
       "      <td>6552</td>\n",
       "      <td>BSCS</td>\n",
       "    </tr>\n",
       "    <tr>\n",
       "      <th>2</th>\n",
       "      <td>Tayyab</td>\n",
       "      <td>7860</td>\n",
       "      <td>BSIT</td>\n",
       "    </tr>\n",
       "  </tbody>\n",
       "</table>\n",
       "</div>"
      ],
      "text/plain": [
       "     Name  AG NO Degree\n",
       "0    Daud   6529   BSSE\n",
       "1   Wasif   6552   BSCS\n",
       "2  Tayyab   7860   BSIT"
      ]
     },
     "execution_count": 60,
     "metadata": {},
     "output_type": "execute_result"
    }
   ],
   "source": [
    "# Answer Here\n",
    "df1=pd.DataFrame([[\"Daud\",6529,\"BSSE\"],[\"Wasif\",6552,\"BSCS\"],[\"Tayyab\",7860,\"BSIT\"]],columns=[\"Name\",\"AG NO\",\"Degree\"])\n",
    "df1"
   ]
  },
  {
   "cell_type": "markdown",
   "metadata": {
    "id": "De8I7tdRhSCc"
   },
   "source": [
    "Creating DataFrames using **Dictionary**."
   ]
  },
  {
   "cell_type": "code",
   "execution_count": 131,
   "metadata": {
    "id": "YLidbVoJPtvN"
   },
   "outputs": [
    {
     "data": {
      "text/html": [
       "<div>\n",
       "<style scoped>\n",
       "    .dataframe tbody tr th:only-of-type {\n",
       "        vertical-align: middle;\n",
       "    }\n",
       "\n",
       "    .dataframe tbody tr th {\n",
       "        vertical-align: top;\n",
       "    }\n",
       "\n",
       "    .dataframe thead th {\n",
       "        text-align: right;\n",
       "    }\n",
       "</style>\n",
       "<table border=\"1\" class=\"dataframe\">\n",
       "  <thead>\n",
       "    <tr style=\"text-align: right;\">\n",
       "      <th></th>\n",
       "      <th>Name</th>\n",
       "      <th>AG NO</th>\n",
       "      <th>Degree</th>\n",
       "    </tr>\n",
       "  </thead>\n",
       "  <tbody>\n",
       "    <tr>\n",
       "      <th>0</th>\n",
       "      <td>Daud</td>\n",
       "      <td>Wasif</td>\n",
       "      <td>Tayyab</td>\n",
       "    </tr>\n",
       "    <tr>\n",
       "      <th>1</th>\n",
       "      <td>6529</td>\n",
       "      <td>6552</td>\n",
       "      <td>7860</td>\n",
       "    </tr>\n",
       "    <tr>\n",
       "      <th>2</th>\n",
       "      <td>BSSE</td>\n",
       "      <td>BSCS</td>\n",
       "      <td>BSIT</td>\n",
       "    </tr>\n",
       "  </tbody>\n",
       "</table>\n",
       "</div>"
      ],
      "text/plain": [
       "   Name  AG NO  Degree\n",
       "0  Daud  Wasif  Tayyab\n",
       "1  6529   6552    7860\n",
       "2  BSSE   BSCS    BSIT"
      ]
     },
     "execution_count": 131,
     "metadata": {},
     "output_type": "execute_result"
    }
   ],
   "source": [
    "# Answer Here\n",
    "dic=pd.DataFrame({\"Name\":[\"Daud\",6529,\"BSSE\"],\"AG NO\":[\"Wasif\",6552,\"BSCS\"],\"Degree\":[\"Tayyab\",7860,\"BSIT\"]})\n",
    "dic"
   ]
  },
  {
   "cell_type": "markdown",
   "metadata": {
    "id": "GsX8jyA3PtvO"
   },
   "source": [
    "## Filtering via Boolean Array Selection"
   ]
  },
  {
   "cell_type": "markdown",
   "metadata": {
    "id": "RXDjTannPtvO"
   },
   "source": [
    "The `[]` operator also supports array of booleans as an input. In this case, the array must be exactly as long as the number of rows. The result is a **filtered version of the data frame**, where **only rows corresponding to True appear**."
   ]
  },
  {
   "cell_type": "code",
   "execution_count": 62,
   "metadata": {
    "id": "pD79oglhPtvP"
   },
   "outputs": [
    {
     "data": {
      "text/html": [
       "<div>\n",
       "<style scoped>\n",
       "    .dataframe tbody tr th:only-of-type {\n",
       "        vertical-align: middle;\n",
       "    }\n",
       "\n",
       "    .dataframe tbody tr th {\n",
       "        vertical-align: top;\n",
       "    }\n",
       "\n",
       "    .dataframe thead th {\n",
       "        text-align: right;\n",
       "    }\n",
       "</style>\n",
       "<table border=\"1\" class=\"dataframe\">\n",
       "  <thead>\n",
       "    <tr style=\"text-align: right;\">\n",
       "      <th></th>\n",
       "      <th>Year</th>\n",
       "      <th>Candidate</th>\n",
       "      <th>Party</th>\n",
       "      <th>Popular vote</th>\n",
       "      <th>Result</th>\n",
       "      <th>%</th>\n",
       "    </tr>\n",
       "  </thead>\n",
       "  <tbody>\n",
       "    <tr>\n",
       "      <th>7</th>\n",
       "      <td>1836</td>\n",
       "      <td>Hugh Lawson White</td>\n",
       "      <td>Whig</td>\n",
       "      <td>146109</td>\n",
       "      <td>loss</td>\n",
       "      <td>10.005985</td>\n",
       "    </tr>\n",
       "    <tr>\n",
       "      <th>10</th>\n",
       "      <td>1840</td>\n",
       "      <td>Martin Van Buren</td>\n",
       "      <td>Democratic</td>\n",
       "      <td>1128854</td>\n",
       "      <td>loss</td>\n",
       "      <td>46.948787</td>\n",
       "    </tr>\n",
       "    <tr>\n",
       "      <th>14</th>\n",
       "      <td>1848</td>\n",
       "      <td>Lewis Cass</td>\n",
       "      <td>Democratic</td>\n",
       "      <td>1223460</td>\n",
       "      <td>loss</td>\n",
       "      <td>42.552229</td>\n",
       "    </tr>\n",
       "    <tr>\n",
       "      <th>21</th>\n",
       "      <td>1856</td>\n",
       "      <td>John C. Frémont</td>\n",
       "      <td>Republican</td>\n",
       "      <td>1342345</td>\n",
       "      <td>loss</td>\n",
       "      <td>33.139919</td>\n",
       "    </tr>\n",
       "  </tbody>\n",
       "</table>\n",
       "</div>"
      ],
      "text/plain": [
       "    Year          Candidate       Party  Popular vote Result          %\n",
       "7   1836  Hugh Lawson White        Whig        146109   loss  10.005985\n",
       "10  1840   Martin Van Buren  Democratic       1128854   loss  46.948787\n",
       "14  1848         Lewis Cass  Democratic       1223460   loss  42.552229\n",
       "21  1856    John C. Frémont  Republican       1342345   loss  33.139919"
      ]
     },
     "execution_count": 62,
     "metadata": {},
     "output_type": "execute_result"
    }
   ],
   "source": [
    "elections=pd.read_csv(\"elections.csv\")\n",
    "df=elections.head(23)\n",
    "\n",
    "elect= [False, False, False, False, False,\n",
    "          False, False, True, False, False,\n",
    "          True, False, False, False, True,\n",
    "          False, False, False, False, False,\n",
    "          False, True, False]\n",
    "\n",
    "df[elect]\n"
   ]
  },
  {
   "cell_type": "markdown",
   "metadata": {
    "id": "0lo-osU2PtvP"
   },
   "source": [
    "One very common task in Data Science is **filtering**. Boolean Array Selection is one way to achieve this in Pandas. We start by observing that **logical operators** like the equality operator can be applied to **Pandas Series data** to generate a **Boolean Array**.\n",
    "\n",
    "Compare the 'Result' column to the String 'win' and Show results"
   ]
  },
  {
   "cell_type": "code",
   "execution_count": 129,
   "metadata": {
    "id": "Or9NKO2kPtvP"
   },
   "outputs": [
    {
     "data": {
      "text/plain": [
       "0      False\n",
       "1       True\n",
       "2       True\n",
       "3      False\n",
       "4       True\n",
       "       ...  \n",
       "177    False\n",
       "178     True\n",
       "179    False\n",
       "180    False\n",
       "181    False\n",
       "Name: Result, Length: 182, dtype: bool"
      ]
     },
     "execution_count": 129,
     "metadata": {},
     "output_type": "execute_result"
    }
   ],
   "source": [
    "#Answer Here\n",
    "elections[\"Result\"]==\"win\""
   ]
  },
  {
   "cell_type": "markdown",
   "metadata": {
    "id": "bFEH7w974G63"
   },
   "source": [
    "Compare the 'Party' column to the String 'Democratic' and Show results"
   ]
  },
  {
   "cell_type": "code",
   "execution_count": 130,
   "metadata": {
    "id": "BeyIZ48fPtvP"
   },
   "outputs": [
    {
     "data": {
      "text/plain": [
       "0      False\n",
       "1      False\n",
       "2       True\n",
       "3      False\n",
       "4       True\n",
       "       ...  \n",
       "177    False\n",
       "178     True\n",
       "179    False\n",
       "180    False\n",
       "181    False\n",
       "Name: Party, Length: 182, dtype: bool"
      ]
     },
     "execution_count": 130,
     "metadata": {},
     "output_type": "execute_result"
    }
   ],
   "source": [
    "#Answer Here\n",
    "elections[\"Party\"]==\"Democratic\""
   ]
  },
  {
   "cell_type": "markdown",
   "metadata": {
    "id": "TiRu5S1FPtvP"
   },
   "source": [
    "The output of the logical operator applied to the Series is **another Series with the same name and index, but of datatype boolean**."
   ]
  },
  {
   "cell_type": "markdown",
   "metadata": {
    "id": "Avt0U9UBPtvQ"
   },
   "source": [
    "These boolean Series can be used as an argument to the `[]` operator.\n",
    "\n",
    "Creates  DataFrame of all election winners since 1980."
   ]
  },
  {
   "cell_type": "code",
   "execution_count": 65,
   "metadata": {
    "id": "UTzXe5syPtvQ"
   },
   "outputs": [
    {
     "data": {
      "text/html": [
       "<div>\n",
       "<style scoped>\n",
       "    .dataframe tbody tr th:only-of-type {\n",
       "        vertical-align: middle;\n",
       "    }\n",
       "\n",
       "    .dataframe tbody tr th {\n",
       "        vertical-align: top;\n",
       "    }\n",
       "\n",
       "    .dataframe thead th {\n",
       "        text-align: right;\n",
       "    }\n",
       "</style>\n",
       "<table border=\"1\" class=\"dataframe\">\n",
       "  <thead>\n",
       "    <tr style=\"text-align: right;\">\n",
       "      <th></th>\n",
       "      <th>Year</th>\n",
       "      <th>Candidate</th>\n",
       "      <th>Party</th>\n",
       "      <th>Popular vote</th>\n",
       "      <th>Result</th>\n",
       "      <th>%</th>\n",
       "    </tr>\n",
       "  </thead>\n",
       "  <tbody>\n",
       "    <tr>\n",
       "      <th>1</th>\n",
       "      <td>1824</td>\n",
       "      <td>John Quincy Adams</td>\n",
       "      <td>Democratic-Republican</td>\n",
       "      <td>113142</td>\n",
       "      <td>win</td>\n",
       "      <td>42.789878</td>\n",
       "    </tr>\n",
       "    <tr>\n",
       "      <th>2</th>\n",
       "      <td>1828</td>\n",
       "      <td>Andrew Jackson</td>\n",
       "      <td>Democratic</td>\n",
       "      <td>642806</td>\n",
       "      <td>win</td>\n",
       "      <td>56.203927</td>\n",
       "    </tr>\n",
       "  </tbody>\n",
       "</table>\n",
       "</div>"
      ],
      "text/plain": [
       "   Year          Candidate                  Party  Popular vote Result  \\\n",
       "1  1824  John Quincy Adams  Democratic-Republican        113142    win   \n",
       "2  1828     Andrew Jackson             Democratic        642806    win   \n",
       "\n",
       "           %  \n",
       "1  42.789878  \n",
       "2  56.203927  "
      ]
     },
     "execution_count": 65,
     "metadata": {},
     "output_type": "execute_result"
    }
   ],
   "source": [
    "#Answer Here\n",
    "elections[(elections[\"Result\"]==\"win\") & (elections[\"Year\"]<=1980) ].head(2)\n"
   ]
  },
  {
   "cell_type": "markdown",
   "metadata": {
    "id": "EEv5yYEhPtvQ"
   },
   "source": [
    "Above, we've assigned the result of the logical operator to a new variable called `iswin`. This is uncommon. Usually, the series is created and used on the same line. Such code is a little tricky to read at first, but you'll get used to it quickly.\n",
    "\n",
    "Show all 'win' results between 1980 to 2000"
   ]
  },
  {
   "cell_type": "code",
   "execution_count": 66,
   "metadata": {
    "id": "BBFYJwLwPtvQ"
   },
   "outputs": [
    {
     "data": {
      "text/html": [
       "<div>\n",
       "<style scoped>\n",
       "    .dataframe tbody tr th:only-of-type {\n",
       "        vertical-align: middle;\n",
       "    }\n",
       "\n",
       "    .dataframe tbody tr th {\n",
       "        vertical-align: top;\n",
       "    }\n",
       "\n",
       "    .dataframe thead th {\n",
       "        text-align: right;\n",
       "    }\n",
       "</style>\n",
       "<table border=\"1\" class=\"dataframe\">\n",
       "  <thead>\n",
       "    <tr style=\"text-align: right;\">\n",
       "      <th></th>\n",
       "      <th>Year</th>\n",
       "      <th>Candidate</th>\n",
       "      <th>Party</th>\n",
       "      <th>Popular vote</th>\n",
       "      <th>Result</th>\n",
       "      <th>%</th>\n",
       "    </tr>\n",
       "  </thead>\n",
       "  <tbody>\n",
       "    <tr>\n",
       "      <th>131</th>\n",
       "      <td>1980</td>\n",
       "      <td>Ronald Reagan</td>\n",
       "      <td>Republican</td>\n",
       "      <td>43903230</td>\n",
       "      <td>win</td>\n",
       "      <td>50.897944</td>\n",
       "    </tr>\n",
       "  </tbody>\n",
       "</table>\n",
       "</div>"
      ],
      "text/plain": [
       "     Year      Candidate       Party  Popular vote Result          %\n",
       "131  1980  Ronald Reagan  Republican      43903230    win  50.897944"
      ]
     },
     "execution_count": 66,
     "metadata": {},
     "output_type": "execute_result"
    }
   ],
   "source": [
    "#Answer Here\n",
    "elections[(elections[\"Result\"]==\"win\") & (elections[\"Year\"]>=1980) & (elections[\"Year\"]<=2000) ].head(1)"
   ]
  },
  {
   "cell_type": "code",
   "execution_count": null,
   "metadata": {},
   "outputs": [],
   "source": []
  },
  {
   "cell_type": "code",
   "execution_count": null,
   "metadata": {},
   "outputs": [],
   "source": []
  },
  {
   "cell_type": "markdown",
   "metadata": {
    "id": "_NW4uODP5C7M"
   },
   "source": [
    "Show all 'Loss' results of Independent party"
   ]
  },
  {
   "cell_type": "code",
   "execution_count": 69,
   "metadata": {
    "id": "SucI5W7yPtvQ"
   },
   "outputs": [
    {
     "data": {
      "text/html": [
       "<div>\n",
       "<style scoped>\n",
       "    .dataframe tbody tr th:only-of-type {\n",
       "        vertical-align: middle;\n",
       "    }\n",
       "\n",
       "    .dataframe tbody tr th {\n",
       "        vertical-align: top;\n",
       "    }\n",
       "\n",
       "    .dataframe thead th {\n",
       "        text-align: right;\n",
       "    }\n",
       "</style>\n",
       "<table border=\"1\" class=\"dataframe\">\n",
       "  <thead>\n",
       "    <tr style=\"text-align: right;\">\n",
       "      <th></th>\n",
       "      <th>Year</th>\n",
       "      <th>Candidate</th>\n",
       "      <th>Party</th>\n",
       "      <th>Popular vote</th>\n",
       "      <th>Result</th>\n",
       "      <th>%</th>\n",
       "    </tr>\n",
       "  </thead>\n",
       "  <tbody>\n",
       "    <tr>\n",
       "      <th>121</th>\n",
       "      <td>1976</td>\n",
       "      <td>Eugene McCarthy</td>\n",
       "      <td>Independent</td>\n",
       "      <td>740460</td>\n",
       "      <td>loss</td>\n",
       "      <td>0.911649</td>\n",
       "    </tr>\n",
       "    <tr>\n",
       "      <th>130</th>\n",
       "      <td>1980</td>\n",
       "      <td>John B. Anderson</td>\n",
       "      <td>Independent</td>\n",
       "      <td>5719850</td>\n",
       "      <td>loss</td>\n",
       "      <td>6.631143</td>\n",
       "    </tr>\n",
       "    <tr>\n",
       "      <th>143</th>\n",
       "      <td>1992</td>\n",
       "      <td>Ross Perot</td>\n",
       "      <td>Independent</td>\n",
       "      <td>19743821</td>\n",
       "      <td>loss</td>\n",
       "      <td>18.956298</td>\n",
       "    </tr>\n",
       "    <tr>\n",
       "      <th>161</th>\n",
       "      <td>2004</td>\n",
       "      <td>Ralph Nader</td>\n",
       "      <td>Independent</td>\n",
       "      <td>465151</td>\n",
       "      <td>loss</td>\n",
       "      <td>0.380663</td>\n",
       "    </tr>\n",
       "    <tr>\n",
       "      <th>167</th>\n",
       "      <td>2008</td>\n",
       "      <td>Ralph Nader</td>\n",
       "      <td>Independent</td>\n",
       "      <td>739034</td>\n",
       "      <td>loss</td>\n",
       "      <td>0.563842</td>\n",
       "    </tr>\n",
       "    <tr>\n",
       "      <th>174</th>\n",
       "      <td>2016</td>\n",
       "      <td>Evan McMullin</td>\n",
       "      <td>Independent</td>\n",
       "      <td>732273</td>\n",
       "      <td>loss</td>\n",
       "      <td>0.539546</td>\n",
       "    </tr>\n",
       "  </tbody>\n",
       "</table>\n",
       "</div>"
      ],
      "text/plain": [
       "     Year         Candidate        Party  Popular vote Result          %\n",
       "121  1976   Eugene McCarthy  Independent        740460   loss   0.911649\n",
       "130  1980  John B. Anderson  Independent       5719850   loss   6.631143\n",
       "143  1992        Ross Perot  Independent      19743821   loss  18.956298\n",
       "161  2004       Ralph Nader  Independent        465151   loss   0.380663\n",
       "167  2008       Ralph Nader  Independent        739034   loss   0.563842\n",
       "174  2016     Evan McMullin  Independent        732273   loss   0.539546"
      ]
     },
     "execution_count": 69,
     "metadata": {},
     "output_type": "execute_result"
    }
   ],
   "source": [
    "# Answer Here\n",
    "elections[(elections[\"Result\"]==\"loss\") & (elections[\"Party\"]==\"Independent\")]"
   ]
  },
  {
   "cell_type": "markdown",
   "metadata": {
    "id": "wr9tNNT_PtvQ"
   },
   "source": [
    "We can select multiple criteria by creating multiple boolean Series and combining them using the `&` operator.\n",
    "\n",
    "Show results of win with percentage less than 50%"
   ]
  },
  {
   "cell_type": "code",
   "execution_count": 72,
   "metadata": {
    "id": "7VygVujvPtvQ",
    "scrolled": true
   },
   "outputs": [
    {
     "data": {
      "text/html": [
       "<div>\n",
       "<style scoped>\n",
       "    .dataframe tbody tr th:only-of-type {\n",
       "        vertical-align: middle;\n",
       "    }\n",
       "\n",
       "    .dataframe tbody tr th {\n",
       "        vertical-align: top;\n",
       "    }\n",
       "\n",
       "    .dataframe thead th {\n",
       "        text-align: right;\n",
       "    }\n",
       "</style>\n",
       "<table border=\"1\" class=\"dataframe\">\n",
       "  <thead>\n",
       "    <tr style=\"text-align: right;\">\n",
       "      <th></th>\n",
       "      <th>Year</th>\n",
       "      <th>Candidate</th>\n",
       "      <th>Party</th>\n",
       "      <th>Popular vote</th>\n",
       "      <th>Result</th>\n",
       "      <th>%</th>\n",
       "    </tr>\n",
       "  </thead>\n",
       "  <tbody>\n",
       "    <tr>\n",
       "      <th>1</th>\n",
       "      <td>1824</td>\n",
       "      <td>John Quincy Adams</td>\n",
       "      <td>Democratic-Republican</td>\n",
       "      <td>113142</td>\n",
       "      <td>win</td>\n",
       "      <td>42.789878</td>\n",
       "    </tr>\n",
       "    <tr>\n",
       "      <th>3</th>\n",
       "      <td>1828</td>\n",
       "      <td>John Quincy Adams</td>\n",
       "      <td>National Republican</td>\n",
       "      <td>500897</td>\n",
       "      <td>loss</td>\n",
       "      <td>43.796073</td>\n",
       "    </tr>\n",
       "  </tbody>\n",
       "</table>\n",
       "</div>"
      ],
      "text/plain": [
       "   Year          Candidate                  Party  Popular vote Result  \\\n",
       "1  1824  John Quincy Adams  Democratic-Republican        113142    win   \n",
       "3  1828  John Quincy Adams    National Republican        500897   loss   \n",
       "\n",
       "           %  \n",
       "1  42.789878  \n",
       "3  43.796073  "
      ]
     },
     "execution_count": 72,
     "metadata": {},
     "output_type": "execute_result"
    }
   ],
   "source": [
    "# Answer Here\n",
    "elections[elections[\"%\"]<=50].head(2)"
   ]
  },
  {
   "cell_type": "markdown",
   "metadata": {
    "id": "ToedM6lA6Bp7"
   },
   "source": [
    "Show all 'win' results between 1980 to 2000"
   ]
  },
  {
   "cell_type": "code",
   "execution_count": 75,
   "metadata": {
    "id": "RfqDKcii6Dcs"
   },
   "outputs": [
    {
     "data": {
      "text/html": [
       "<div>\n",
       "<style scoped>\n",
       "    .dataframe tbody tr th:only-of-type {\n",
       "        vertical-align: middle;\n",
       "    }\n",
       "\n",
       "    .dataframe tbody tr th {\n",
       "        vertical-align: top;\n",
       "    }\n",
       "\n",
       "    .dataframe thead th {\n",
       "        text-align: right;\n",
       "    }\n",
       "</style>\n",
       "<table border=\"1\" class=\"dataframe\">\n",
       "  <thead>\n",
       "    <tr style=\"text-align: right;\">\n",
       "      <th></th>\n",
       "      <th>Year</th>\n",
       "      <th>Candidate</th>\n",
       "      <th>Party</th>\n",
       "      <th>Popular vote</th>\n",
       "      <th>Result</th>\n",
       "      <th>%</th>\n",
       "    </tr>\n",
       "  </thead>\n",
       "  <tbody>\n",
       "    <tr>\n",
       "      <th>132</th>\n",
       "      <td>1984</td>\n",
       "      <td>David Bergland</td>\n",
       "      <td>Libertarian</td>\n",
       "      <td>228111</td>\n",
       "      <td>loss</td>\n",
       "      <td>0.247245</td>\n",
       "    </tr>\n",
       "    <tr>\n",
       "      <th>133</th>\n",
       "      <td>1984</td>\n",
       "      <td>Ronald Reagan</td>\n",
       "      <td>Republican</td>\n",
       "      <td>54455472</td>\n",
       "      <td>win</td>\n",
       "      <td>59.023326</td>\n",
       "    </tr>\n",
       "  </tbody>\n",
       "</table>\n",
       "</div>"
      ],
      "text/plain": [
       "     Year       Candidate        Party  Popular vote Result          %\n",
       "132  1984  David Bergland  Libertarian        228111   loss   0.247245\n",
       "133  1984   Ronald Reagan   Republican      54455472    win  59.023326"
      ]
     },
     "execution_count": 75,
     "metadata": {},
     "output_type": "execute_result"
    }
   ],
   "source": [
    "# Answer Here\n",
    "elections[(elections[\"Year\"]>1980) & (elections[\"Year\"]<=2000)].head(2)"
   ]
  },
  {
   "cell_type": "markdown",
   "metadata": {
    "id": "pkonOW2pPtvR"
   },
   "source": [
    "## Loc and iLoc"
   ]
  },
  {
   "cell_type": "markdown",
   "metadata": {
    "id": "hSiAy9KD5eJk"
   },
   "source": [
    "Show 5 enteries from start"
   ]
  },
  {
   "cell_type": "code",
   "execution_count": 76,
   "metadata": {
    "id": "OIwnpgEM6HeI"
   },
   "outputs": [
    {
     "data": {
      "text/html": [
       "<div>\n",
       "<style scoped>\n",
       "    .dataframe tbody tr th:only-of-type {\n",
       "        vertical-align: middle;\n",
       "    }\n",
       "\n",
       "    .dataframe tbody tr th {\n",
       "        vertical-align: top;\n",
       "    }\n",
       "\n",
       "    .dataframe thead th {\n",
       "        text-align: right;\n",
       "    }\n",
       "</style>\n",
       "<table border=\"1\" class=\"dataframe\">\n",
       "  <thead>\n",
       "    <tr style=\"text-align: right;\">\n",
       "      <th></th>\n",
       "      <th>Year</th>\n",
       "      <th>Candidate</th>\n",
       "      <th>Party</th>\n",
       "      <th>Popular vote</th>\n",
       "      <th>Result</th>\n",
       "      <th>%</th>\n",
       "    </tr>\n",
       "  </thead>\n",
       "  <tbody>\n",
       "    <tr>\n",
       "      <th>0</th>\n",
       "      <td>1824</td>\n",
       "      <td>Andrew Jackson</td>\n",
       "      <td>Democratic-Republican</td>\n",
       "      <td>151271</td>\n",
       "      <td>loss</td>\n",
       "      <td>57.210122</td>\n",
       "    </tr>\n",
       "    <tr>\n",
       "      <th>1</th>\n",
       "      <td>1824</td>\n",
       "      <td>John Quincy Adams</td>\n",
       "      <td>Democratic-Republican</td>\n",
       "      <td>113142</td>\n",
       "      <td>win</td>\n",
       "      <td>42.789878</td>\n",
       "    </tr>\n",
       "    <tr>\n",
       "      <th>2</th>\n",
       "      <td>1828</td>\n",
       "      <td>Andrew Jackson</td>\n",
       "      <td>Democratic</td>\n",
       "      <td>642806</td>\n",
       "      <td>win</td>\n",
       "      <td>56.203927</td>\n",
       "    </tr>\n",
       "    <tr>\n",
       "      <th>3</th>\n",
       "      <td>1828</td>\n",
       "      <td>John Quincy Adams</td>\n",
       "      <td>National Republican</td>\n",
       "      <td>500897</td>\n",
       "      <td>loss</td>\n",
       "      <td>43.796073</td>\n",
       "    </tr>\n",
       "    <tr>\n",
       "      <th>4</th>\n",
       "      <td>1832</td>\n",
       "      <td>Andrew Jackson</td>\n",
       "      <td>Democratic</td>\n",
       "      <td>702735</td>\n",
       "      <td>win</td>\n",
       "      <td>54.574789</td>\n",
       "    </tr>\n",
       "  </tbody>\n",
       "</table>\n",
       "</div>"
      ],
      "text/plain": [
       "   Year          Candidate                  Party  Popular vote Result  \\\n",
       "0  1824     Andrew Jackson  Democratic-Republican        151271   loss   \n",
       "1  1824  John Quincy Adams  Democratic-Republican        113142    win   \n",
       "2  1828     Andrew Jackson             Democratic        642806    win   \n",
       "3  1828  John Quincy Adams    National Republican        500897   loss   \n",
       "4  1832     Andrew Jackson             Democratic        702735    win   \n",
       "\n",
       "           %  \n",
       "0  57.210122  \n",
       "1  42.789878  \n",
       "2  56.203927  \n",
       "3  43.796073  \n",
       "4  54.574789  "
      ]
     },
     "execution_count": 76,
     "metadata": {},
     "output_type": "execute_result"
    }
   ],
   "source": [
    "# Answer Here\n",
    "df.loc[:4]"
   ]
  },
  {
   "cell_type": "markdown",
   "metadata": {
    "id": "XHhLGedmPtvR"
   },
   "source": [
    "You can provide `.loc` a list of row labels [0-5] and column labels ['Candidate','Party', 'Year'] as input to return a dataframe"
   ]
  },
  {
   "cell_type": "code",
   "execution_count": 77,
   "metadata": {
    "id": "XUZe4G0WPtvR"
   },
   "outputs": [
    {
     "data": {
      "text/html": [
       "<div>\n",
       "<style scoped>\n",
       "    .dataframe tbody tr th:only-of-type {\n",
       "        vertical-align: middle;\n",
       "    }\n",
       "\n",
       "    .dataframe tbody tr th {\n",
       "        vertical-align: top;\n",
       "    }\n",
       "\n",
       "    .dataframe thead th {\n",
       "        text-align: right;\n",
       "    }\n",
       "</style>\n",
       "<table border=\"1\" class=\"dataframe\">\n",
       "  <thead>\n",
       "    <tr style=\"text-align: right;\">\n",
       "      <th></th>\n",
       "      <th>Candidate</th>\n",
       "      <th>Party</th>\n",
       "      <th>Year</th>\n",
       "    </tr>\n",
       "  </thead>\n",
       "  <tbody>\n",
       "    <tr>\n",
       "      <th>0</th>\n",
       "      <td>Andrew Jackson</td>\n",
       "      <td>Democratic-Republican</td>\n",
       "      <td>1824</td>\n",
       "    </tr>\n",
       "    <tr>\n",
       "      <th>1</th>\n",
       "      <td>John Quincy Adams</td>\n",
       "      <td>Democratic-Republican</td>\n",
       "      <td>1824</td>\n",
       "    </tr>\n",
       "    <tr>\n",
       "      <th>2</th>\n",
       "      <td>Andrew Jackson</td>\n",
       "      <td>Democratic</td>\n",
       "      <td>1828</td>\n",
       "    </tr>\n",
       "    <tr>\n",
       "      <th>3</th>\n",
       "      <td>John Quincy Adams</td>\n",
       "      <td>National Republican</td>\n",
       "      <td>1828</td>\n",
       "    </tr>\n",
       "    <tr>\n",
       "      <th>4</th>\n",
       "      <td>Andrew Jackson</td>\n",
       "      <td>Democratic</td>\n",
       "      <td>1832</td>\n",
       "    </tr>\n",
       "  </tbody>\n",
       "</table>\n",
       "</div>"
      ],
      "text/plain": [
       "           Candidate                  Party  Year\n",
       "0     Andrew Jackson  Democratic-Republican  1824\n",
       "1  John Quincy Adams  Democratic-Republican  1824\n",
       "2     Andrew Jackson             Democratic  1828\n",
       "3  John Quincy Adams    National Republican  1828\n",
       "4     Andrew Jackson             Democratic  1832"
      ]
     },
     "execution_count": 77,
     "metadata": {},
     "output_type": "execute_result"
    }
   ],
   "source": [
    "#Answer Here\n",
    "df.loc[:4,['Candidate','Party', 'Year']]"
   ]
  },
  {
   "cell_type": "markdown",
   "metadata": {
    "id": "Tw5Er1BCPtvR"
   },
   "source": [
    "Loc also supports **slicing** (for all types, including numeric and string labels!). Note that the slicing for loc is **inclusive**, even for numeric slices.\n",
    "\n",
    "Use Slicing on Rows and Columns"
   ]
  },
  {
   "cell_type": "code",
   "execution_count": 81,
   "metadata": {
    "id": "SXI38aagPtvR",
    "scrolled": true
   },
   "outputs": [
    {
     "data": {
      "text/html": [
       "<div>\n",
       "<style scoped>\n",
       "    .dataframe tbody tr th:only-of-type {\n",
       "        vertical-align: middle;\n",
       "    }\n",
       "\n",
       "    .dataframe tbody tr th {\n",
       "        vertical-align: top;\n",
       "    }\n",
       "\n",
       "    .dataframe thead th {\n",
       "        text-align: right;\n",
       "    }\n",
       "</style>\n",
       "<table border=\"1\" class=\"dataframe\">\n",
       "  <thead>\n",
       "    <tr style=\"text-align: right;\">\n",
       "      <th></th>\n",
       "      <th>Candidate</th>\n",
       "      <th>Party</th>\n",
       "      <th>Popular vote</th>\n",
       "      <th>Result</th>\n",
       "    </tr>\n",
       "  </thead>\n",
       "  <tbody>\n",
       "    <tr>\n",
       "      <th>2</th>\n",
       "      <td>Andrew Jackson</td>\n",
       "      <td>Democratic</td>\n",
       "      <td>642806</td>\n",
       "      <td>win</td>\n",
       "    </tr>\n",
       "    <tr>\n",
       "      <th>3</th>\n",
       "      <td>John Quincy Adams</td>\n",
       "      <td>National Republican</td>\n",
       "      <td>500897</td>\n",
       "      <td>loss</td>\n",
       "    </tr>\n",
       "    <tr>\n",
       "      <th>4</th>\n",
       "      <td>Andrew Jackson</td>\n",
       "      <td>Democratic</td>\n",
       "      <td>702735</td>\n",
       "      <td>win</td>\n",
       "    </tr>\n",
       "    <tr>\n",
       "      <th>5</th>\n",
       "      <td>Henry Clay</td>\n",
       "      <td>National Republican</td>\n",
       "      <td>484205</td>\n",
       "      <td>loss</td>\n",
       "    </tr>\n",
       "    <tr>\n",
       "      <th>6</th>\n",
       "      <td>William Wirt</td>\n",
       "      <td>Anti-Masonic</td>\n",
       "      <td>100715</td>\n",
       "      <td>loss</td>\n",
       "    </tr>\n",
       "  </tbody>\n",
       "</table>\n",
       "</div>"
      ],
      "text/plain": [
       "           Candidate                Party  Popular vote Result\n",
       "2     Andrew Jackson           Democratic        642806    win\n",
       "3  John Quincy Adams  National Republican        500897   loss\n",
       "4     Andrew Jackson           Democratic        702735    win\n",
       "5         Henry Clay  National Republican        484205   loss\n",
       "6       William Wirt         Anti-Masonic        100715   loss"
      ]
     },
     "execution_count": 81,
     "metadata": {},
     "output_type": "execute_result"
    }
   ],
   "source": [
    "# Answer Here\n",
    "df.loc[2:6,\"Candidate\":\"Result\"]"
   ]
  },
  {
   "cell_type": "markdown",
   "metadata": {
    "id": "pM5KD0kPPtvR"
   },
   "source": [
    "If we provide only a **single label** for the column argument, we get back a **Series**."
   ]
  },
  {
   "cell_type": "code",
   "execution_count": 87,
   "metadata": {
    "id": "Ps6PUX9_PtvS"
   },
   "outputs": [
    {
     "data": {
      "text/plain": [
       "0     Democratic-Republican\n",
       "1     Democratic-Republican\n",
       "2                Democratic\n",
       "3       National Republican\n",
       "4                Democratic\n",
       "5       National Republican\n",
       "6              Anti-Masonic\n",
       "7                      Whig\n",
       "8                Democratic\n",
       "9                      Whig\n",
       "10               Democratic\n",
       "11                     Whig\n",
       "12                     Whig\n",
       "13               Democratic\n",
       "14               Democratic\n",
       "15                Free Soil\n",
       "16                     Whig\n",
       "17               Democratic\n",
       "18                Free Soil\n",
       "19                     Whig\n",
       "20               Democratic\n",
       "21               Republican\n",
       "22                 American\n",
       "Name: Party, dtype: object"
      ]
     },
     "execution_count": 87,
     "metadata": {},
     "output_type": "execute_result"
    }
   ],
   "source": [
    "# Answer Here\n",
    "df.loc[:,\"Party\"]"
   ]
  },
  {
   "cell_type": "markdown",
   "metadata": {
    "id": "z8qglbBwPtvS"
   },
   "source": [
    "If we want a data frame instead and don't want to use to_frame, we can provide a **list** containing the column name."
   ]
  },
  {
   "cell_type": "code",
   "execution_count": 88,
   "metadata": {
    "id": "I9JqZBVMPtvS",
    "scrolled": true
   },
   "outputs": [
    {
     "data": {
      "text/html": [
       "<div>\n",
       "<style scoped>\n",
       "    .dataframe tbody tr th:only-of-type {\n",
       "        vertical-align: middle;\n",
       "    }\n",
       "\n",
       "    .dataframe tbody tr th {\n",
       "        vertical-align: top;\n",
       "    }\n",
       "\n",
       "    .dataframe thead th {\n",
       "        text-align: right;\n",
       "    }\n",
       "</style>\n",
       "<table border=\"1\" class=\"dataframe\">\n",
       "  <thead>\n",
       "    <tr style=\"text-align: right;\">\n",
       "      <th></th>\n",
       "      <th>Party</th>\n",
       "    </tr>\n",
       "  </thead>\n",
       "  <tbody>\n",
       "    <tr>\n",
       "      <th>0</th>\n",
       "      <td>Democratic-Republican</td>\n",
       "    </tr>\n",
       "    <tr>\n",
       "      <th>1</th>\n",
       "      <td>Democratic-Republican</td>\n",
       "    </tr>\n",
       "    <tr>\n",
       "      <th>2</th>\n",
       "      <td>Democratic</td>\n",
       "    </tr>\n",
       "    <tr>\n",
       "      <th>3</th>\n",
       "      <td>National Republican</td>\n",
       "    </tr>\n",
       "    <tr>\n",
       "      <th>4</th>\n",
       "      <td>Democratic</td>\n",
       "    </tr>\n",
       "    <tr>\n",
       "      <th>5</th>\n",
       "      <td>National Republican</td>\n",
       "    </tr>\n",
       "    <tr>\n",
       "      <th>6</th>\n",
       "      <td>Anti-Masonic</td>\n",
       "    </tr>\n",
       "    <tr>\n",
       "      <th>7</th>\n",
       "      <td>Whig</td>\n",
       "    </tr>\n",
       "    <tr>\n",
       "      <th>8</th>\n",
       "      <td>Democratic</td>\n",
       "    </tr>\n",
       "    <tr>\n",
       "      <th>9</th>\n",
       "      <td>Whig</td>\n",
       "    </tr>\n",
       "    <tr>\n",
       "      <th>10</th>\n",
       "      <td>Democratic</td>\n",
       "    </tr>\n",
       "    <tr>\n",
       "      <th>11</th>\n",
       "      <td>Whig</td>\n",
       "    </tr>\n",
       "    <tr>\n",
       "      <th>12</th>\n",
       "      <td>Whig</td>\n",
       "    </tr>\n",
       "    <tr>\n",
       "      <th>13</th>\n",
       "      <td>Democratic</td>\n",
       "    </tr>\n",
       "    <tr>\n",
       "      <th>14</th>\n",
       "      <td>Democratic</td>\n",
       "    </tr>\n",
       "    <tr>\n",
       "      <th>15</th>\n",
       "      <td>Free Soil</td>\n",
       "    </tr>\n",
       "    <tr>\n",
       "      <th>16</th>\n",
       "      <td>Whig</td>\n",
       "    </tr>\n",
       "    <tr>\n",
       "      <th>17</th>\n",
       "      <td>Democratic</td>\n",
       "    </tr>\n",
       "    <tr>\n",
       "      <th>18</th>\n",
       "      <td>Free Soil</td>\n",
       "    </tr>\n",
       "    <tr>\n",
       "      <th>19</th>\n",
       "      <td>Whig</td>\n",
       "    </tr>\n",
       "    <tr>\n",
       "      <th>20</th>\n",
       "      <td>Democratic</td>\n",
       "    </tr>\n",
       "    <tr>\n",
       "      <th>21</th>\n",
       "      <td>Republican</td>\n",
       "    </tr>\n",
       "    <tr>\n",
       "      <th>22</th>\n",
       "      <td>American</td>\n",
       "    </tr>\n",
       "  </tbody>\n",
       "</table>\n",
       "</div>"
      ],
      "text/plain": [
       "                    Party\n",
       "0   Democratic-Republican\n",
       "1   Democratic-Republican\n",
       "2              Democratic\n",
       "3     National Republican\n",
       "4              Democratic\n",
       "5     National Republican\n",
       "6            Anti-Masonic\n",
       "7                    Whig\n",
       "8              Democratic\n",
       "9                    Whig\n",
       "10             Democratic\n",
       "11                   Whig\n",
       "12                   Whig\n",
       "13             Democratic\n",
       "14             Democratic\n",
       "15              Free Soil\n",
       "16                   Whig\n",
       "17             Democratic\n",
       "18              Free Soil\n",
       "19                   Whig\n",
       "20             Democratic\n",
       "21             Republican\n",
       "22               American"
      ]
     },
     "execution_count": 88,
     "metadata": {},
     "output_type": "execute_result"
    }
   ],
   "source": [
    "# Answer Here\n",
    "df.loc[:,[\"Party\"]]"
   ]
  },
  {
   "cell_type": "markdown",
   "metadata": {
    "id": "QighByBIPtvS"
   },
   "source": [
    "If we give only one row but many column labels, we'll get back a **Series** corresponding to a row of the table. This new Series has a neat index, where **each entry is the name of the column** that the data came from."
   ]
  },
  {
   "cell_type": "code",
   "execution_count": 90,
   "metadata": {
    "id": "5XT8-_bpPtvS"
   },
   "outputs": [
    {
     "data": {
      "text/plain": [
       "Party            Democratic\n",
       "%                 56.203927\n",
       "Candidate    Andrew Jackson\n",
       "Name: 2, dtype: object"
      ]
     },
     "execution_count": 90,
     "metadata": {},
     "output_type": "execute_result"
    }
   ],
   "source": [
    "# Answer Here\n",
    "df.loc[2,[\"Party\",\"%\",\"Candidate\"]]"
   ]
  },
  {
   "cell_type": "code",
   "execution_count": null,
   "metadata": {
    "id": "hcdTlR8uPtvS"
   },
   "outputs": [],
   "source": [
    "# Answer Here"
   ]
  },
  {
   "cell_type": "markdown",
   "metadata": {
    "id": "oB0GTCT5PtvS"
   },
   "source": [
    "If we omit the column argument altogether, the **default behavior is to retrieve all columns**."
   ]
  },
  {
   "cell_type": "code",
   "execution_count": 91,
   "metadata": {
    "id": "cewKbmCYPtvT"
   },
   "outputs": [
    {
     "data": {
      "text/plain": [
       "Year                           1828\n",
       "Candidate         John Quincy Adams\n",
       "Party           National Republican\n",
       "Popular vote                 500897\n",
       "Result                         loss\n",
       "%                         43.796073\n",
       "Name: 3, dtype: object"
      ]
     },
     "execution_count": 91,
     "metadata": {},
     "output_type": "execute_result"
    }
   ],
   "source": [
    "# Answer Here\n",
    "df.loc[3]"
   ]
  },
  {
   "cell_type": "markdown",
   "metadata": {
    "id": "GIuYoSqH7TYj"
   },
   "source": [
    "Specify Rows and Columns as List to retrive specific enteries"
   ]
  },
  {
   "cell_type": "code",
   "execution_count": 92,
   "metadata": {
    "id": "roAnjNt2PtvT",
    "scrolled": true
   },
   "outputs": [
    {
     "data": {
      "text/html": [
       "<div>\n",
       "<style scoped>\n",
       "    .dataframe tbody tr th:only-of-type {\n",
       "        vertical-align: middle;\n",
       "    }\n",
       "\n",
       "    .dataframe tbody tr th {\n",
       "        vertical-align: top;\n",
       "    }\n",
       "\n",
       "    .dataframe thead th {\n",
       "        text-align: right;\n",
       "    }\n",
       "</style>\n",
       "<table border=\"1\" class=\"dataframe\">\n",
       "  <thead>\n",
       "    <tr style=\"text-align: right;\">\n",
       "      <th></th>\n",
       "      <th>Party</th>\n",
       "      <th>Candidate</th>\n",
       "      <th>%</th>\n",
       "    </tr>\n",
       "  </thead>\n",
       "  <tbody>\n",
       "    <tr>\n",
       "      <th>2</th>\n",
       "      <td>Democratic</td>\n",
       "      <td>Andrew Jackson</td>\n",
       "      <td>56.203927</td>\n",
       "    </tr>\n",
       "    <tr>\n",
       "      <th>4</th>\n",
       "      <td>Democratic</td>\n",
       "      <td>Andrew Jackson</td>\n",
       "      <td>54.574789</td>\n",
       "    </tr>\n",
       "    <tr>\n",
       "      <th>6</th>\n",
       "      <td>Anti-Masonic</td>\n",
       "      <td>William Wirt</td>\n",
       "      <td>7.821583</td>\n",
       "    </tr>\n",
       "  </tbody>\n",
       "</table>\n",
       "</div>"
      ],
      "text/plain": [
       "          Party       Candidate          %\n",
       "2    Democratic  Andrew Jackson  56.203927\n",
       "4    Democratic  Andrew Jackson  54.574789\n",
       "6  Anti-Masonic    William Wirt   7.821583"
      ]
     },
     "execution_count": 92,
     "metadata": {},
     "output_type": "execute_result"
    }
   ],
   "source": [
    "# Answer Here\n",
    "df.loc[[2,4,6],[\"Party\",\"Candidate\",\"%\"]]"
   ]
  },
  {
   "cell_type": "markdown",
   "metadata": {
    "id": "C7Bfwc6gPtvT"
   },
   "source": [
    "Boolean Series are also boolean arrays, so we can use the Boolean Array Selection from earlier using loc as well."
   ]
  },
  {
   "cell_type": "code",
   "execution_count": 96,
   "metadata": {
    "id": "Ub9I30OxPtvT"
   },
   "outputs": [
    {
     "data": {
      "text/html": [
       "<div>\n",
       "<style scoped>\n",
       "    .dataframe tbody tr th:only-of-type {\n",
       "        vertical-align: middle;\n",
       "    }\n",
       "\n",
       "    .dataframe tbody tr th {\n",
       "        vertical-align: top;\n",
       "    }\n",
       "\n",
       "    .dataframe thead th {\n",
       "        text-align: right;\n",
       "    }\n",
       "</style>\n",
       "<table border=\"1\" class=\"dataframe\">\n",
       "  <thead>\n",
       "    <tr style=\"text-align: right;\">\n",
       "      <th></th>\n",
       "      <th>Year</th>\n",
       "      <th>Candidate</th>\n",
       "      <th>Party</th>\n",
       "      <th>Popular vote</th>\n",
       "      <th>Result</th>\n",
       "      <th>%</th>\n",
       "    </tr>\n",
       "  </thead>\n",
       "  <tbody>\n",
       "    <tr>\n",
       "      <th>0</th>\n",
       "      <td>1824</td>\n",
       "      <td>Andrew Jackson</td>\n",
       "      <td>Democratic-Republican</td>\n",
       "      <td>151271</td>\n",
       "      <td>loss</td>\n",
       "      <td>57.210122</td>\n",
       "    </tr>\n",
       "    <tr>\n",
       "      <th>1</th>\n",
       "      <td>1824</td>\n",
       "      <td>John Quincy Adams</td>\n",
       "      <td>Democratic-Republican</td>\n",
       "      <td>113142</td>\n",
       "      <td>win</td>\n",
       "      <td>42.789878</td>\n",
       "    </tr>\n",
       "    <tr>\n",
       "      <th>2</th>\n",
       "      <td>1828</td>\n",
       "      <td>Andrew Jackson</td>\n",
       "      <td>Democratic</td>\n",
       "      <td>642806</td>\n",
       "      <td>win</td>\n",
       "      <td>56.203927</td>\n",
       "    </tr>\n",
       "    <tr>\n",
       "      <th>3</th>\n",
       "      <td>1828</td>\n",
       "      <td>John Quincy Adams</td>\n",
       "      <td>National Republican</td>\n",
       "      <td>500897</td>\n",
       "      <td>loss</td>\n",
       "      <td>43.796073</td>\n",
       "    </tr>\n",
       "    <tr>\n",
       "      <th>4</th>\n",
       "      <td>1832</td>\n",
       "      <td>Andrew Jackson</td>\n",
       "      <td>Democratic</td>\n",
       "      <td>702735</td>\n",
       "      <td>win</td>\n",
       "      <td>54.574789</td>\n",
       "    </tr>\n",
       "    <tr>\n",
       "      <th>5</th>\n",
       "      <td>1832</td>\n",
       "      <td>Henry Clay</td>\n",
       "      <td>National Republican</td>\n",
       "      <td>484205</td>\n",
       "      <td>loss</td>\n",
       "      <td>37.603628</td>\n",
       "    </tr>\n",
       "    <tr>\n",
       "      <th>6</th>\n",
       "      <td>1832</td>\n",
       "      <td>William Wirt</td>\n",
       "      <td>Anti-Masonic</td>\n",
       "      <td>100715</td>\n",
       "      <td>loss</td>\n",
       "      <td>7.821583</td>\n",
       "    </tr>\n",
       "    <tr>\n",
       "      <th>7</th>\n",
       "      <td>1836</td>\n",
       "      <td>Hugh Lawson White</td>\n",
       "      <td>Whig</td>\n",
       "      <td>146109</td>\n",
       "      <td>loss</td>\n",
       "      <td>10.005985</td>\n",
       "    </tr>\n",
       "    <tr>\n",
       "      <th>8</th>\n",
       "      <td>1836</td>\n",
       "      <td>Martin Van Buren</td>\n",
       "      <td>Democratic</td>\n",
       "      <td>763291</td>\n",
       "      <td>win</td>\n",
       "      <td>52.272472</td>\n",
       "    </tr>\n",
       "    <tr>\n",
       "      <th>9</th>\n",
       "      <td>1836</td>\n",
       "      <td>William Henry Harrison</td>\n",
       "      <td>Whig</td>\n",
       "      <td>550816</td>\n",
       "      <td>loss</td>\n",
       "      <td>37.721543</td>\n",
       "    </tr>\n",
       "    <tr>\n",
       "      <th>10</th>\n",
       "      <td>1840</td>\n",
       "      <td>Martin Van Buren</td>\n",
       "      <td>Democratic</td>\n",
       "      <td>1128854</td>\n",
       "      <td>loss</td>\n",
       "      <td>46.948787</td>\n",
       "    </tr>\n",
       "    <tr>\n",
       "      <th>11</th>\n",
       "      <td>1840</td>\n",
       "      <td>William Henry Harrison</td>\n",
       "      <td>Whig</td>\n",
       "      <td>1275583</td>\n",
       "      <td>win</td>\n",
       "      <td>53.051213</td>\n",
       "    </tr>\n",
       "    <tr>\n",
       "      <th>12</th>\n",
       "      <td>1844</td>\n",
       "      <td>Henry Clay</td>\n",
       "      <td>Whig</td>\n",
       "      <td>1300004</td>\n",
       "      <td>loss</td>\n",
       "      <td>49.250523</td>\n",
       "    </tr>\n",
       "    <tr>\n",
       "      <th>13</th>\n",
       "      <td>1844</td>\n",
       "      <td>James Polk</td>\n",
       "      <td>Democratic</td>\n",
       "      <td>1339570</td>\n",
       "      <td>win</td>\n",
       "      <td>50.749477</td>\n",
       "    </tr>\n",
       "    <tr>\n",
       "      <th>14</th>\n",
       "      <td>1848</td>\n",
       "      <td>Lewis Cass</td>\n",
       "      <td>Democratic</td>\n",
       "      <td>1223460</td>\n",
       "      <td>loss</td>\n",
       "      <td>42.552229</td>\n",
       "    </tr>\n",
       "    <tr>\n",
       "      <th>15</th>\n",
       "      <td>1848</td>\n",
       "      <td>Martin Van Buren</td>\n",
       "      <td>Free Soil</td>\n",
       "      <td>291501</td>\n",
       "      <td>loss</td>\n",
       "      <td>10.138474</td>\n",
       "    </tr>\n",
       "    <tr>\n",
       "      <th>16</th>\n",
       "      <td>1848</td>\n",
       "      <td>Zachary Taylor</td>\n",
       "      <td>Whig</td>\n",
       "      <td>1360235</td>\n",
       "      <td>win</td>\n",
       "      <td>47.309296</td>\n",
       "    </tr>\n",
       "    <tr>\n",
       "      <th>17</th>\n",
       "      <td>1852</td>\n",
       "      <td>Franklin Pierce</td>\n",
       "      <td>Democratic</td>\n",
       "      <td>1605943</td>\n",
       "      <td>win</td>\n",
       "      <td>51.013168</td>\n",
       "    </tr>\n",
       "    <tr>\n",
       "      <th>18</th>\n",
       "      <td>1852</td>\n",
       "      <td>John P. Hale</td>\n",
       "      <td>Free Soil</td>\n",
       "      <td>155210</td>\n",
       "      <td>loss</td>\n",
       "      <td>4.930283</td>\n",
       "    </tr>\n",
       "    <tr>\n",
       "      <th>19</th>\n",
       "      <td>1852</td>\n",
       "      <td>Winfield Scott</td>\n",
       "      <td>Whig</td>\n",
       "      <td>1386942</td>\n",
       "      <td>loss</td>\n",
       "      <td>44.056548</td>\n",
       "    </tr>\n",
       "    <tr>\n",
       "      <th>20</th>\n",
       "      <td>1856</td>\n",
       "      <td>James Buchanan</td>\n",
       "      <td>Democratic</td>\n",
       "      <td>1835140</td>\n",
       "      <td>win</td>\n",
       "      <td>45.306080</td>\n",
       "    </tr>\n",
       "    <tr>\n",
       "      <th>21</th>\n",
       "      <td>1856</td>\n",
       "      <td>John C. Frémont</td>\n",
       "      <td>Republican</td>\n",
       "      <td>1342345</td>\n",
       "      <td>loss</td>\n",
       "      <td>33.139919</td>\n",
       "    </tr>\n",
       "    <tr>\n",
       "      <th>22</th>\n",
       "      <td>1856</td>\n",
       "      <td>Millard Fillmore</td>\n",
       "      <td>American</td>\n",
       "      <td>873053</td>\n",
       "      <td>loss</td>\n",
       "      <td>21.554001</td>\n",
       "    </tr>\n",
       "  </tbody>\n",
       "</table>\n",
       "</div>"
      ],
      "text/plain": [
       "    Year               Candidate                  Party  Popular vote Result  \\\n",
       "0   1824          Andrew Jackson  Democratic-Republican        151271   loss   \n",
       "1   1824       John Quincy Adams  Democratic-Republican        113142    win   \n",
       "2   1828          Andrew Jackson             Democratic        642806    win   \n",
       "3   1828       John Quincy Adams    National Republican        500897   loss   \n",
       "4   1832          Andrew Jackson             Democratic        702735    win   \n",
       "5   1832              Henry Clay    National Republican        484205   loss   \n",
       "6   1832            William Wirt           Anti-Masonic        100715   loss   \n",
       "7   1836       Hugh Lawson White                   Whig        146109   loss   \n",
       "8   1836        Martin Van Buren             Democratic        763291    win   \n",
       "9   1836  William Henry Harrison                   Whig        550816   loss   \n",
       "10  1840        Martin Van Buren             Democratic       1128854   loss   \n",
       "11  1840  William Henry Harrison                   Whig       1275583    win   \n",
       "12  1844              Henry Clay                   Whig       1300004   loss   \n",
       "13  1844              James Polk             Democratic       1339570    win   \n",
       "14  1848              Lewis Cass             Democratic       1223460   loss   \n",
       "15  1848        Martin Van Buren              Free Soil        291501   loss   \n",
       "16  1848          Zachary Taylor                   Whig       1360235    win   \n",
       "17  1852         Franklin Pierce             Democratic       1605943    win   \n",
       "18  1852            John P. Hale              Free Soil        155210   loss   \n",
       "19  1852          Winfield Scott                   Whig       1386942   loss   \n",
       "20  1856          James Buchanan             Democratic       1835140    win   \n",
       "21  1856         John C. Frémont             Republican       1342345   loss   \n",
       "22  1856        Millard Fillmore               American        873053   loss   \n",
       "\n",
       "            %  \n",
       "0   57.210122  \n",
       "1   42.789878  \n",
       "2   56.203927  \n",
       "3   43.796073  \n",
       "4   54.574789  \n",
       "5   37.603628  \n",
       "6    7.821583  \n",
       "7   10.005985  \n",
       "8   52.272472  \n",
       "9   37.721543  \n",
       "10  46.948787  \n",
       "11  53.051213  \n",
       "12  49.250523  \n",
       "13  50.749477  \n",
       "14  42.552229  \n",
       "15  10.138474  \n",
       "16  47.309296  \n",
       "17  51.013168  \n",
       "18   4.930283  \n",
       "19  44.056548  \n",
       "20  45.306080  \n",
       "21  33.139919  \n",
       "22  21.554001  "
      ]
     },
     "execution_count": 96,
     "metadata": {},
     "output_type": "execute_result"
    }
   ],
   "source": [
    "# Answer Here\n",
    "oi=elections[\"Party\"]\n",
    "df.loc[:]"
   ]
  },
  {
   "cell_type": "markdown",
   "metadata": {
    "id": "533WKwGXPtvT"
   },
   "source": [
    "## String-labeled Rows\n",
    "\n",
    "Let's do a quick example using data with string-labeled rows instead of integer labeled rows, just to make sure we're really understanding loc.\n",
    "\n",
    "Use mottos.csv file"
   ]
  },
  {
   "cell_type": "code",
   "execution_count": 97,
   "metadata": {
    "id": "-y7r7wfBPtvT"
   },
   "outputs": [
    {
     "data": {
      "text/html": [
       "<div>\n",
       "<style scoped>\n",
       "    .dataframe tbody tr th:only-of-type {\n",
       "        vertical-align: middle;\n",
       "    }\n",
       "\n",
       "    .dataframe tbody tr th {\n",
       "        vertical-align: top;\n",
       "    }\n",
       "\n",
       "    .dataframe thead th {\n",
       "        text-align: right;\n",
       "    }\n",
       "</style>\n",
       "<table border=\"1\" class=\"dataframe\">\n",
       "  <thead>\n",
       "    <tr style=\"text-align: right;\">\n",
       "      <th></th>\n",
       "      <th>State</th>\n",
       "      <th>Motto</th>\n",
       "      <th>Translation</th>\n",
       "      <th>Language</th>\n",
       "      <th>Date Adopted</th>\n",
       "    </tr>\n",
       "  </thead>\n",
       "  <tbody>\n",
       "    <tr>\n",
       "      <th>0</th>\n",
       "      <td>Alabama</td>\n",
       "      <td>Audemus jura nostra defendere</td>\n",
       "      <td>We dare defend our rights!</td>\n",
       "      <td>Latin</td>\n",
       "      <td>1923</td>\n",
       "    </tr>\n",
       "    <tr>\n",
       "      <th>1</th>\n",
       "      <td>Alaska</td>\n",
       "      <td>North to the future</td>\n",
       "      <td>—</td>\n",
       "      <td>English</td>\n",
       "      <td>1967</td>\n",
       "    </tr>\n",
       "    <tr>\n",
       "      <th>2</th>\n",
       "      <td>Arizona</td>\n",
       "      <td>Ditat Deus</td>\n",
       "      <td>God enriches</td>\n",
       "      <td>Latin</td>\n",
       "      <td>1863</td>\n",
       "    </tr>\n",
       "  </tbody>\n",
       "</table>\n",
       "</div>"
      ],
      "text/plain": [
       "     State                          Motto                 Translation  \\\n",
       "0  Alabama  Audemus jura nostra defendere  We dare defend our rights!   \n",
       "1   Alaska            North to the future                           —   \n",
       "2  Arizona                     Ditat Deus                God enriches   \n",
       "\n",
       "  Language Date Adopted  \n",
       "0    Latin         1923  \n",
       "1  English         1967  \n",
       "2    Latin         1863  "
      ]
     },
     "execution_count": 97,
     "metadata": {},
     "output_type": "execute_result"
    }
   ],
   "source": [
    "# Answer Here\n",
    "df1=pd.read_csv(\"mottos.csv\")\n",
    "df1.head(3)"
   ]
  },
  {
   "cell_type": "markdown",
   "metadata": {
    "id": "8E1olDerPtvT"
   },
   "source": [
    "Extract slice, can be specified using slice notation, even if the rows have string labels instead of integer labels."
   ]
  },
  {
   "cell_type": "markdown",
   "metadata": {
    "id": "9meAs22VPtvU"
   },
   "source": [
    "### iloc"
   ]
  },
  {
   "cell_type": "markdown",
   "metadata": {
    "id": "Kgz9kKXLPtvU"
   },
   "source": [
    "loc's cousin iloc is very similar, but is used to access based on numerical position instead of label. For example, to access to the top 3 rows and top 3 columns of a table, we can use [0:3, 0:3]. 'iloc' slicing is **exclusive**, just like standard Python slicing of numerical values.\n",
    "\n",
    "Use iloc to extract first 3 rows and columns from elections DataFrame"
   ]
  },
  {
   "cell_type": "code",
   "execution_count": 98,
   "metadata": {
    "id": "TveQUq2oPtvU"
   },
   "outputs": [
    {
     "data": {
      "text/html": [
       "<div>\n",
       "<style scoped>\n",
       "    .dataframe tbody tr th:only-of-type {\n",
       "        vertical-align: middle;\n",
       "    }\n",
       "\n",
       "    .dataframe tbody tr th {\n",
       "        vertical-align: top;\n",
       "    }\n",
       "\n",
       "    .dataframe thead th {\n",
       "        text-align: right;\n",
       "    }\n",
       "</style>\n",
       "<table border=\"1\" class=\"dataframe\">\n",
       "  <thead>\n",
       "    <tr style=\"text-align: right;\">\n",
       "      <th></th>\n",
       "      <th>Year</th>\n",
       "      <th>Candidate</th>\n",
       "      <th>Party</th>\n",
       "    </tr>\n",
       "  </thead>\n",
       "  <tbody>\n",
       "    <tr>\n",
       "      <th>0</th>\n",
       "      <td>1824</td>\n",
       "      <td>Andrew Jackson</td>\n",
       "      <td>Democratic-Republican</td>\n",
       "    </tr>\n",
       "    <tr>\n",
       "      <th>1</th>\n",
       "      <td>1824</td>\n",
       "      <td>John Quincy Adams</td>\n",
       "      <td>Democratic-Republican</td>\n",
       "    </tr>\n",
       "    <tr>\n",
       "      <th>2</th>\n",
       "      <td>1828</td>\n",
       "      <td>Andrew Jackson</td>\n",
       "      <td>Democratic</td>\n",
       "    </tr>\n",
       "  </tbody>\n",
       "</table>\n",
       "</div>"
      ],
      "text/plain": [
       "   Year          Candidate                  Party\n",
       "0  1824     Andrew Jackson  Democratic-Republican\n",
       "1  1824  John Quincy Adams  Democratic-Republican\n",
       "2  1828     Andrew Jackson             Democratic"
      ]
     },
     "execution_count": 98,
     "metadata": {},
     "output_type": "execute_result"
    }
   ],
   "source": [
    "#Answer Here\n",
    "df.iloc[:3,:3]"
   ]
  },
  {
   "cell_type": "markdown",
   "metadata": {
    "id": "d75cITKiPtvV"
   },
   "source": [
    "We will use both `loc` and `iloc` in the course. `loc` is generally preferred for a number of reasons, for example:\n",
    "\n",
    "1. It is harder to make mistakes since you have to literally write out what you want to get.\n",
    "2. Code is easier to read, because the reader doesn't have to know e.g., what column #17 represents.\n",
    "3. It is robust against permutations of the data, e.g. the social security administration switches the order of two columns.\n",
    "\n",
    "However, iloc is sometimes more convenient. We'll provide examples of when iloc is the superior choice."
   ]
  },
  {
   "cell_type": "markdown",
   "metadata": {
    "id": "Sj-li9oQPtvV"
   },
   "source": [
    "## Handy Properties and Utility Functions for Series and DataFrames"
   ]
  },
  {
   "cell_type": "markdown",
   "metadata": {
    "id": "2D6yrBvcPtvV"
   },
   "source": [
    "The head, shape, size, and describe methods can be used to quickly get a good sense of the data we're working with. For example:"
   ]
  },
  {
   "cell_type": "code",
   "execution_count": 101,
   "metadata": {
    "id": "I2c3ON6BPtvV"
   },
   "outputs": [],
   "source": [
    "mottos = pd.read_csv(\"mottos.csv\")"
   ]
  },
  {
   "cell_type": "code",
   "execution_count": 105,
   "metadata": {
    "id": "3lj5YSbzPtvV"
   },
   "outputs": [
    {
     "data": {
      "text/html": [
       "<div>\n",
       "<style scoped>\n",
       "    .dataframe tbody tr th:only-of-type {\n",
       "        vertical-align: middle;\n",
       "    }\n",
       "\n",
       "    .dataframe tbody tr th {\n",
       "        vertical-align: top;\n",
       "    }\n",
       "\n",
       "    .dataframe thead th {\n",
       "        text-align: right;\n",
       "    }\n",
       "</style>\n",
       "<table border=\"1\" class=\"dataframe\">\n",
       "  <thead>\n",
       "    <tr style=\"text-align: right;\">\n",
       "      <th></th>\n",
       "      <th>State</th>\n",
       "      <th>Motto</th>\n",
       "      <th>Translation</th>\n",
       "      <th>Language</th>\n",
       "      <th>Date Adopted</th>\n",
       "    </tr>\n",
       "  </thead>\n",
       "  <tbody>\n",
       "    <tr>\n",
       "      <th>0</th>\n",
       "      <td>Alabama</td>\n",
       "      <td>Audemus jura nostra defendere</td>\n",
       "      <td>We dare defend our rights!</td>\n",
       "      <td>Latin</td>\n",
       "      <td>1923</td>\n",
       "    </tr>\n",
       "    <tr>\n",
       "      <th>1</th>\n",
       "      <td>Alaska</td>\n",
       "      <td>North to the future</td>\n",
       "      <td>—</td>\n",
       "      <td>English</td>\n",
       "      <td>1967</td>\n",
       "    </tr>\n",
       "  </tbody>\n",
       "</table>\n",
       "</div>"
      ],
      "text/plain": [
       "     State                          Motto                 Translation  \\\n",
       "0  Alabama  Audemus jura nostra defendere  We dare defend our rights!   \n",
       "1   Alaska            North to the future                           —   \n",
       "\n",
       "  Language Date Adopted  \n",
       "0    Latin         1923  \n",
       "1  English         1967  "
      ]
     },
     "execution_count": 105,
     "metadata": {},
     "output_type": "execute_result"
    }
   ],
   "source": [
    "# Answer Here\n",
    "mottos.head(2)"
   ]
  },
  {
   "cell_type": "markdown",
   "metadata": {
    "id": "bQSKGPxTroVf"
   },
   "source": [
    "Size of DataFrame"
   ]
  },
  {
   "cell_type": "code",
   "execution_count": 103,
   "metadata": {
    "id": "iGVtW1YEPtvV"
   },
   "outputs": [
    {
     "data": {
      "text/plain": [
       "250"
      ]
     },
     "execution_count": 103,
     "metadata": {},
     "output_type": "execute_result"
    }
   ],
   "source": [
    "# Answer Here\n",
    "mottos.size"
   ]
  },
  {
   "cell_type": "markdown",
   "metadata": {
    "id": "PB4R3k_6PtvW"
   },
   "source": [
    "The fact that the size is 250 means our data file is relatively small, with only 250 total entries.\n",
    "\n",
    "Shape of DataFrame"
   ]
  },
  {
   "cell_type": "code",
   "execution_count": 104,
   "metadata": {
    "id": "dBaU7nMNPtvW"
   },
   "outputs": [
    {
     "data": {
      "text/plain": [
       "(50, 5)"
      ]
     },
     "execution_count": 104,
     "metadata": {},
     "output_type": "execute_result"
    }
   ],
   "source": [
    "# Answer Here\n",
    "mottos.shape"
   ]
  },
  {
   "cell_type": "markdown",
   "metadata": {
    "id": "NevFNt3_PtvW"
   },
   "source": [
    "Use describe function and extract the meaningful information from DataFrame"
   ]
  },
  {
   "cell_type": "code",
   "execution_count": 107,
   "metadata": {
    "id": "7T7Xg4wePtvW"
   },
   "outputs": [
    {
     "data": {
      "text/html": [
       "<div>\n",
       "<style scoped>\n",
       "    .dataframe tbody tr th:only-of-type {\n",
       "        vertical-align: middle;\n",
       "    }\n",
       "\n",
       "    .dataframe tbody tr th {\n",
       "        vertical-align: top;\n",
       "    }\n",
       "\n",
       "    .dataframe thead th {\n",
       "        text-align: right;\n",
       "    }\n",
       "</style>\n",
       "<table border=\"1\" class=\"dataframe\">\n",
       "  <thead>\n",
       "    <tr style=\"text-align: right;\">\n",
       "      <th></th>\n",
       "      <th>State</th>\n",
       "      <th>Motto</th>\n",
       "      <th>Translation</th>\n",
       "      <th>Language</th>\n",
       "      <th>Date Adopted</th>\n",
       "    </tr>\n",
       "  </thead>\n",
       "  <tbody>\n",
       "    <tr>\n",
       "      <th>count</th>\n",
       "      <td>50</td>\n",
       "      <td>50</td>\n",
       "      <td>49</td>\n",
       "      <td>50</td>\n",
       "      <td>50</td>\n",
       "    </tr>\n",
       "    <tr>\n",
       "      <th>unique</th>\n",
       "      <td>50</td>\n",
       "      <td>50</td>\n",
       "      <td>30</td>\n",
       "      <td>8</td>\n",
       "      <td>47</td>\n",
       "    </tr>\n",
       "    <tr>\n",
       "      <th>top</th>\n",
       "      <td>Alabama</td>\n",
       "      <td>Audemus jura nostra defendere</td>\n",
       "      <td>—</td>\n",
       "      <td>Latin</td>\n",
       "      <td>1893</td>\n",
       "    </tr>\n",
       "    <tr>\n",
       "      <th>freq</th>\n",
       "      <td>1</td>\n",
       "      <td>1</td>\n",
       "      <td>20</td>\n",
       "      <td>23</td>\n",
       "      <td>2</td>\n",
       "    </tr>\n",
       "  </tbody>\n",
       "</table>\n",
       "</div>"
      ],
      "text/plain": [
       "          State                          Motto Translation Language  \\\n",
       "count        50                             50          49       50   \n",
       "unique       50                             50          30        8   \n",
       "top     Alabama  Audemus jura nostra defendere           —    Latin   \n",
       "freq          1                              1          20       23   \n",
       "\n",
       "       Date Adopted  \n",
       "count            50  \n",
       "unique           47  \n",
       "top            1893  \n",
       "freq              2  "
      ]
     },
     "execution_count": 107,
     "metadata": {},
     "output_type": "execute_result"
    }
   ],
   "source": [
    "# Answer Here\n",
    "mottos.describe()"
   ]
  },
  {
   "cell_type": "markdown",
   "metadata": {
    "id": "jEAxyt57PtvW"
   },
   "source": [
    "Above, we see a quick summary of all the data. For example, the most common language for mottos is Latin, which covers 23 different states. Does anything else seem surprising?"
   ]
  },
  {
   "cell_type": "markdown",
   "metadata": {
    "id": "5Sz84ZcoPtvX"
   },
   "source": [
    "We can get a direct reference to the index using .index."
   ]
  },
  {
   "cell_type": "code",
   "execution_count": 127,
   "metadata": {
    "id": "Oc8PNHQSPtvX"
   },
   "outputs": [
    {
     "data": {
      "text/plain": [
       "RangeIndex(start=0, stop=50, step=1)"
      ]
     },
     "execution_count": 127,
     "metadata": {},
     "output_type": "execute_result"
    }
   ],
   "source": [
    "# Answer Here\n",
    "mottos.index"
   ]
  },
  {
   "cell_type": "code",
   "execution_count": 111,
   "metadata": {
    "id": "fHrsk46BPtvX"
   },
   "outputs": [
    {
     "data": {
      "text/html": [
       "<div>\n",
       "<style scoped>\n",
       "    .dataframe tbody tr th:only-of-type {\n",
       "        vertical-align: middle;\n",
       "    }\n",
       "\n",
       "    .dataframe tbody tr th {\n",
       "        vertical-align: top;\n",
       "    }\n",
       "\n",
       "    .dataframe thead th {\n",
       "        text-align: right;\n",
       "    }\n",
       "</style>\n",
       "<table border=\"1\" class=\"dataframe\">\n",
       "  <thead>\n",
       "    <tr style=\"text-align: right;\">\n",
       "      <th></th>\n",
       "      <th>State</th>\n",
       "      <th>Motto</th>\n",
       "      <th>Translation</th>\n",
       "      <th>Language</th>\n",
       "      <th>Date Adopted</th>\n",
       "    </tr>\n",
       "  </thead>\n",
       "  <tbody>\n",
       "    <tr>\n",
       "      <th>0</th>\n",
       "      <td>Alabama</td>\n",
       "      <td>Audemus jura nostra defendere</td>\n",
       "      <td>We dare defend our rights!</td>\n",
       "      <td>Latin</td>\n",
       "      <td>1923</td>\n",
       "    </tr>\n",
       "    <tr>\n",
       "      <th>1</th>\n",
       "      <td>Alaska</td>\n",
       "      <td>North to the future</td>\n",
       "      <td>—</td>\n",
       "      <td>English</td>\n",
       "      <td>1967</td>\n",
       "    </tr>\n",
       "  </tbody>\n",
       "</table>\n",
       "</div>"
      ],
      "text/plain": [
       "     State                          Motto                 Translation  \\\n",
       "0  Alabama  Audemus jura nostra defendere  We dare defend our rights!   \n",
       "1   Alaska            North to the future                           —   \n",
       "\n",
       "  Language Date Adopted  \n",
       "0    Latin         1923  \n",
       "1  English         1967  "
      ]
     },
     "execution_count": 111,
     "metadata": {},
     "output_type": "execute_result"
    }
   ],
   "source": [
    "mottos.head(2)"
   ]
  },
  {
   "cell_type": "markdown",
   "metadata": {
    "id": "IZRgHL-cPtvX"
   },
   "source": [
    "It turns out the columns also have an Index. We can access this index by using `.columns`."
   ]
  },
  {
   "cell_type": "code",
   "execution_count": 112,
   "metadata": {
    "colab": {
     "base_uri": "https://localhost:8080/"
    },
    "id": "b3uXufYwPtvX",
    "outputId": "c97a8be0-cdf1-4ace-da34-8ed493a72928"
   },
   "outputs": [
    {
     "data": {
      "text/plain": [
       "Index(['State', 'Motto', 'Translation', 'Language', 'Date Adopted'], dtype='object')"
      ]
     },
     "execution_count": 112,
     "metadata": {},
     "output_type": "execute_result"
    }
   ],
   "source": [
    "# Answer Here\n",
    "mottos.columns"
   ]
  },
  {
   "cell_type": "markdown",
   "metadata": {
    "id": "vfqTqtXjPtvY"
   },
   "source": [
    "## Sorting and Value Counts\n",
    "\n",
    "There are also a ton of useful utility methods we can use with Data Frames and Series. For example, we can create a copy of a data frame sorted by a specific column using `sort_values`."
   ]
  },
  {
   "cell_type": "code",
   "execution_count": 120,
   "metadata": {
    "id": "ioH43WI_PtvY"
   },
   "outputs": [
    {
     "data": {
      "text/html": [
       "<div>\n",
       "<style scoped>\n",
       "    .dataframe tbody tr th:only-of-type {\n",
       "        vertical-align: middle;\n",
       "    }\n",
       "\n",
       "    .dataframe tbody tr th {\n",
       "        vertical-align: top;\n",
       "    }\n",
       "\n",
       "    .dataframe thead th {\n",
       "        text-align: right;\n",
       "    }\n",
       "</style>\n",
       "<table border=\"1\" class=\"dataframe\">\n",
       "  <thead>\n",
       "    <tr style=\"text-align: right;\">\n",
       "      <th></th>\n",
       "      <th>State</th>\n",
       "      <th>Motto</th>\n",
       "      <th>Translation</th>\n",
       "      <th>Language</th>\n",
       "      <th>Date Adopted</th>\n",
       "    </tr>\n",
       "  </thead>\n",
       "  <tbody>\n",
       "    <tr>\n",
       "      <th>46</th>\n",
       "      <td>Washington</td>\n",
       "      <td>Al-ki or Alki</td>\n",
       "      <td>By and by</td>\n",
       "      <td>Chinook Jargon</td>\n",
       "      <td>—</td>\n",
       "    </tr>\n",
       "    <tr>\n",
       "      <th>49</th>\n",
       "      <td>Wyoming</td>\n",
       "      <td>Equal Rights</td>\n",
       "      <td>—</td>\n",
       "      <td>English</td>\n",
       "      <td>1893</td>\n",
       "    </tr>\n",
       "  </tbody>\n",
       "</table>\n",
       "</div>"
      ],
      "text/plain": [
       "         State          Motto Translation        Language Date Adopted\n",
       "46  Washington  Al-ki or Alki   By and by  Chinook Jargon            —\n",
       "49     Wyoming   Equal Rights           —         English         1893"
      ]
     },
     "execution_count": 120,
     "metadata": {},
     "output_type": "execute_result"
    }
   ],
   "source": [
    "# Answer Here\n",
    "mottos.sort_values(by=[\"Language\"]).head(2)"
   ]
  },
  {
   "cell_type": "markdown",
   "metadata": {
    "id": "LwW2YK8gPtvY"
   },
   "source": [
    "As mentioned before, all Data Frame methods return a copy and do **not** modify the original data structure, unless you set inplace to True."
   ]
  },
  {
   "cell_type": "markdown",
   "metadata": {
    "id": "tMqlf3Q8PtvY"
   },
   "source": [
    "If we want to sort in reverse order, we can set `ascending=False`."
   ]
  },
  {
   "cell_type": "code",
   "execution_count": 121,
   "metadata": {
    "id": "-Cx7vHzKPtvY"
   },
   "outputs": [
    {
     "data": {
      "text/html": [
       "<div>\n",
       "<style scoped>\n",
       "    .dataframe tbody tr th:only-of-type {\n",
       "        vertical-align: middle;\n",
       "    }\n",
       "\n",
       "    .dataframe tbody tr th {\n",
       "        vertical-align: top;\n",
       "    }\n",
       "\n",
       "    .dataframe thead th {\n",
       "        text-align: right;\n",
       "    }\n",
       "</style>\n",
       "<table border=\"1\" class=\"dataframe\">\n",
       "  <thead>\n",
       "    <tr style=\"text-align: right;\">\n",
       "      <th></th>\n",
       "      <th>Year</th>\n",
       "      <th>Candidate</th>\n",
       "      <th>Party</th>\n",
       "      <th>Popular vote</th>\n",
       "      <th>Result</th>\n",
       "      <th>%</th>\n",
       "    </tr>\n",
       "  </thead>\n",
       "  <tbody>\n",
       "    <tr>\n",
       "      <th>114</th>\n",
       "      <td>1964</td>\n",
       "      <td>Lyndon Johnson</td>\n",
       "      <td>Democratic</td>\n",
       "      <td>43127041</td>\n",
       "      <td>win</td>\n",
       "      <td>61.344703</td>\n",
       "    </tr>\n",
       "    <tr>\n",
       "      <th>91</th>\n",
       "      <td>1936</td>\n",
       "      <td>Franklin Roosevelt</td>\n",
       "      <td>Democratic</td>\n",
       "      <td>27752648</td>\n",
       "      <td>win</td>\n",
       "      <td>60.978107</td>\n",
       "    </tr>\n",
       "    <tr>\n",
       "      <th>120</th>\n",
       "      <td>1972</td>\n",
       "      <td>Richard Nixon</td>\n",
       "      <td>Republican</td>\n",
       "      <td>47168710</td>\n",
       "      <td>win</td>\n",
       "      <td>60.907806</td>\n",
       "    </tr>\n",
       "    <tr>\n",
       "      <th>79</th>\n",
       "      <td>1920</td>\n",
       "      <td>Warren Harding</td>\n",
       "      <td>Republican</td>\n",
       "      <td>16144093</td>\n",
       "      <td>win</td>\n",
       "      <td>60.574501</td>\n",
       "    </tr>\n",
       "    <tr>\n",
       "      <th>133</th>\n",
       "      <td>1984</td>\n",
       "      <td>Ronald Reagan</td>\n",
       "      <td>Republican</td>\n",
       "      <td>54455472</td>\n",
       "      <td>win</td>\n",
       "      <td>59.023326</td>\n",
       "    </tr>\n",
       "    <tr>\n",
       "      <th>...</th>\n",
       "      <td>...</td>\n",
       "      <td>...</td>\n",
       "      <td>...</td>\n",
       "      <td>...</td>\n",
       "      <td>...</td>\n",
       "      <td>...</td>\n",
       "    </tr>\n",
       "    <tr>\n",
       "      <th>165</th>\n",
       "      <td>2008</td>\n",
       "      <td>Cynthia McKinney</td>\n",
       "      <td>Green</td>\n",
       "      <td>161797</td>\n",
       "      <td>loss</td>\n",
       "      <td>0.123442</td>\n",
       "    </tr>\n",
       "    <tr>\n",
       "      <th>148</th>\n",
       "      <td>1996</td>\n",
       "      <td>John Hagelin</td>\n",
       "      <td>Natural Law</td>\n",
       "      <td>113670</td>\n",
       "      <td>loss</td>\n",
       "      <td>0.118219</td>\n",
       "    </tr>\n",
       "    <tr>\n",
       "      <th>160</th>\n",
       "      <td>2004</td>\n",
       "      <td>Michael Peroutka</td>\n",
       "      <td>Constitution</td>\n",
       "      <td>143630</td>\n",
       "      <td>loss</td>\n",
       "      <td>0.117542</td>\n",
       "    </tr>\n",
       "    <tr>\n",
       "      <th>141</th>\n",
       "      <td>1992</td>\n",
       "      <td>Bo Gritz</td>\n",
       "      <td>Populist</td>\n",
       "      <td>106152</td>\n",
       "      <td>loss</td>\n",
       "      <td>0.101918</td>\n",
       "    </tr>\n",
       "    <tr>\n",
       "      <th>156</th>\n",
       "      <td>2004</td>\n",
       "      <td>David Cobb</td>\n",
       "      <td>Green</td>\n",
       "      <td>119859</td>\n",
       "      <td>loss</td>\n",
       "      <td>0.098088</td>\n",
       "    </tr>\n",
       "  </tbody>\n",
       "</table>\n",
       "<p>182 rows × 6 columns</p>\n",
       "</div>"
      ],
      "text/plain": [
       "     Year           Candidate         Party  Popular vote Result          %\n",
       "114  1964      Lyndon Johnson    Democratic      43127041    win  61.344703\n",
       "91   1936  Franklin Roosevelt    Democratic      27752648    win  60.978107\n",
       "120  1972       Richard Nixon    Republican      47168710    win  60.907806\n",
       "79   1920      Warren Harding    Republican      16144093    win  60.574501\n",
       "133  1984       Ronald Reagan    Republican      54455472    win  59.023326\n",
       "..    ...                 ...           ...           ...    ...        ...\n",
       "165  2008    Cynthia McKinney         Green        161797   loss   0.123442\n",
       "148  1996        John Hagelin   Natural Law        113670   loss   0.118219\n",
       "160  2004    Michael Peroutka  Constitution        143630   loss   0.117542\n",
       "141  1992            Bo Gritz      Populist        106152   loss   0.101918\n",
       "156  2004          David Cobb         Green        119859   loss   0.098088\n",
       "\n",
       "[182 rows x 6 columns]"
      ]
     },
     "execution_count": 121,
     "metadata": {},
     "output_type": "execute_result"
    }
   ],
   "source": [
    "elections.sort_values('%', ascending=False)"
   ]
  },
  {
   "cell_type": "markdown",
   "metadata": {
    "id": "l88QC8yvPtvZ"
   },
   "source": [
    "We can also use `sort_values` on Series objects."
   ]
  },
  {
   "cell_type": "code",
   "execution_count": 122,
   "metadata": {
    "id": "4wTi414QPtva"
   },
   "outputs": [
    {
     "data": {
      "text/plain": [
       "46    Chinook Jargon\n",
       "49           English\n",
       "29           English\n",
       "28           English\n",
       "27           English\n",
       "26           English\n",
       "48           English\n",
       "37           English\n",
       "38           English\n",
       "40           English\n",
       "17           English\n",
       "34           English\n",
       "42           English\n",
       "14           English\n",
       "41           English\n",
       "12           English\n",
       "1            English\n",
       "13           English\n",
       "8            English\n",
       "7            English\n",
       "9            English\n",
       "43           English\n",
       "22            French\n",
       "4              Greek\n",
       "10          Hawaiian\n",
       "19           Italian\n",
       "39             Latin\n",
       "44             Latin\n",
       "36             Latin\n",
       "45             Latin\n",
       "47             Latin\n",
       "35             Latin\n",
       "33             Latin\n",
       "0              Latin\n",
       "31             Latin\n",
       "30             Latin\n",
       "23             Latin\n",
       "21             Latin\n",
       "20             Latin\n",
       "18             Latin\n",
       "16             Latin\n",
       "15             Latin\n",
       "11             Latin\n",
       "6              Latin\n",
       "5              Latin\n",
       "3              Latin\n",
       "2              Latin\n",
       "32             Latin\n",
       "24             Latin\n",
       "25           Spanish\n",
       "Name: Language, dtype: object"
      ]
     },
     "execution_count": 122,
     "metadata": {},
     "output_type": "execute_result"
    }
   ],
   "source": [
    "mottos['Language'].sort_values().head(50)"
   ]
  },
  {
   "cell_type": "markdown",
   "metadata": {
    "id": "8_4EHw_lPtvb"
   },
   "source": [
    "For Series, the `value_counts` method is often quite handy."
   ]
  },
  {
   "cell_type": "code",
   "execution_count": 123,
   "metadata": {
    "id": "qO1Uxnw3Ptvb"
   },
   "outputs": [
    {
     "data": {
      "text/plain": [
       "Language\n",
       "Latin             23\n",
       "English           21\n",
       "Greek              1\n",
       "Hawaiian           1\n",
       "Italian            1\n",
       "French             1\n",
       "Spanish            1\n",
       "Chinook Jargon     1\n",
       "Name: count, dtype: int64"
      ]
     },
     "execution_count": 123,
     "metadata": {},
     "output_type": "execute_result"
    }
   ],
   "source": [
    "mottos['Language'].value_counts()"
   ]
  },
  {
   "cell_type": "markdown",
   "metadata": {
    "id": "l1fAovTpPtvb"
   },
   "source": [
    "Also commonly used is the `unique` method, which returns **all unique values** as a numpy array."
   ]
  },
  {
   "cell_type": "code",
   "execution_count": 124,
   "metadata": {
    "id": "_ToE_vqVPtvb"
   },
   "outputs": [
    {
     "data": {
      "text/plain": [
       "array(['Latin', 'English', 'Greek', 'Hawaiian', 'Italian', 'French',\n",
       "       'Spanish', 'Chinook Jargon'], dtype=object)"
      ]
     },
     "execution_count": 124,
     "metadata": {},
     "output_type": "execute_result"
    }
   ],
   "source": [
    "mottos['Language'].unique()"
   ]
  },
  {
   "cell_type": "code",
   "execution_count": 126,
   "metadata": {
    "colab": {
     "base_uri": "https://localhost:8080/"
    },
    "id": "HAYgnI5ZPtvb",
    "outputId": "fe2327f2-b209-45fe-dc98-b866fe139dd9"
   },
   "outputs": [
    {
     "data": {
      "text/plain": [
       "5"
      ]
     },
     "execution_count": 126,
     "metadata": {},
     "output_type": "execute_result"
    }
   ],
   "source": [
    "def fiba(n):\n",
    "    if n < 2:\n",
    "        return n\n",
    "    else:\n",
    "        return fiba(n-1) + fiba(n-2)\n",
    "\n",
    "\n",
    "\n",
    "fiba(5)"
   ]
  },
  {
   "cell_type": "markdown",
   "metadata": {
    "id": "nyvmtSviPtvc"
   },
   "source": [
    "# Thank you!"
   ]
  }
 ],
 "metadata": {
  "colab": {
   "provenance": []
  },
  "kernelspec": {
   "display_name": "Python 3",
   "language": "python",
   "name": "python3"
  },
  "language_info": {
   "codemirror_mode": {
    "name": "ipython",
    "version": 3
   },
   "file_extension": ".py",
   "mimetype": "text/x-python",
   "name": "python",
   "nbconvert_exporter": "python",
   "pygments_lexer": "ipython3",
   "version": "3.8.8"
  },
  "vscode": {
   "interpreter": {
    "hash": "7a3d88c904243d2c3f246166597f86d1c0a39f3d97496d1fe394945d0c6d436d"
   }
  }
 },
 "nbformat": 4,
 "nbformat_minor": 1
}
